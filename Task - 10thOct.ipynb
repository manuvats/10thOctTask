{
 "cells": [
  {
   "cell_type": "code",
   "execution_count": 55,
   "id": "2ff46742",
   "metadata": {},
   "outputs": [],
   "source": [
    "#Importing Necessary Libraries\n",
    "import pandas as pd \n",
    "import numpy as np \n",
    "from sklearn.preprocessing import StandardScaler \n",
    "from sklearn.linear_model  import Ridge,Lasso,RidgeCV, LassoCV, ElasticNet, ElasticNetCV, LogisticRegression\n",
    "from sklearn.model_selection import train_test_split, GridSearchCV\n",
    "from sklearn.impute import KNNImputer\n",
    "from statsmodels.stats.outliers_influence import variance_inflation_factor \n",
    "from sklearn.metrics import roc_curve, roc_auc_score, multilabel_confusion_matrix, classification_report\n",
    "from sklearn.neighbors import KNeighborsClassifier\n",
    "from sklearn.tree import DecisionTreeClassifier\n",
    "import matplotlib.pyplot as plt\n",
    "from pandas_profiling import ProfileReport\n",
    "import seaborn as sns\n",
    "import glob\n",
    "import os.path"
   ]
  },
  {
   "cell_type": "code",
   "execution_count": 2,
   "id": "b2da6af3",
   "metadata": {},
   "outputs": [],
   "source": [
    "#Function to merge all the files into single dataframe\n",
    "def data_gather(filepath):\n",
    "    all_files = glob.glob(filepath, recursive = True) #glob function to open all files in the given directory and its sub-directories\n",
    "\n",
    "    li = []\n",
    "    \n",
    "    ext = [\".ini\", \".txt\"]\n",
    "    for filename in all_files:\n",
    "        if not filename.endswith(tuple(ext)):\n",
    "            df = pd.read_csv(filename, names = ['Time', 'Acc_frontal_axis', 'Acc_vertical_axis', 'Acc_lateral_axis', 'Antenna_ID', 'RSSI', 'Phase', 'Frequency', 'Activity'])\n",
    "            df['room'] = os.path.basename(os.path.dirname(filename)) #labeling the target variable with the sub-directory name\n",
    "            df['gender'] = filename[-5] #getting Gender from the 5th character from last of the filename (last 4 characters will be '.csv')\n",
    "            li.append(df)\n",
    "    \n",
    "    fdf = pd.concat(li, axis=0, ignore_index=True) #concatenating all files into a single dataframe\n",
    "    fdf = fdf.replace(to_replace =[\"S1_Dataset\"], value =\"1\") #S1 dataset has data of room 1\n",
    "    fdf = fdf.replace(to_replace =[\"S2_Dataset\"], value =\"2\") #S2 dataset has data of room 2\n",
    "    fdf = fdf.replace(to_replace =[\"M\"], value =\"1\") #Denoting Male gender as 1\n",
    "    fdf = fdf.replace(to_replace =[\"F\"], value =\"0\") #Denoting Femal gender as 0; String values are not accepted by Decision trees\n",
    "    return fdf"
   ]
  },
  {
   "cell_type": "code",
   "execution_count": 3,
   "id": "4b84877b",
   "metadata": {},
   "outputs": [],
   "source": [
    "#Reading data\n",
    "fdf = data_gather(r\"C:\\Users\\Manu\\Documents\\ineuron\\Machine Learning\\Datasets_Healthy_Older_People\\**\\*.csv\")"
   ]
  },
  {
   "cell_type": "markdown",
   "id": "db6796df",
   "metadata": {},
   "source": [
    "### EDA"
   ]
  },
  {
   "cell_type": "code",
   "execution_count": 43,
   "id": "fb09ae2f",
   "metadata": {},
   "outputs": [
    {
     "data": {
      "application/vnd.jupyter.widget-view+json": {
       "model_id": "e0560b119dd54d599cf901bab00a9188",
       "version_major": 2,
       "version_minor": 0
      },
      "text/plain": [
       "Summarize dataset:   0%|          | 0/29 [00:00<?, ?it/s]"
      ]
     },
     "metadata": {},
     "output_type": "display_data"
    },
    {
     "data": {
      "application/vnd.jupyter.widget-view+json": {
       "model_id": "5c90b5e84ed94938bbf810db6d100aa2",
       "version_major": 2,
       "version_minor": 0
      },
      "text/plain": [
       "Generate report structure:   0%|          | 0/1 [00:00<?, ?it/s]"
      ]
     },
     "metadata": {},
     "output_type": "display_data"
    },
    {
     "data": {
      "application/vnd.jupyter.widget-view+json": {
       "model_id": "",
       "version_major": 2,
       "version_minor": 0
      },
      "text/plain": [
       "Render widgets:   0%|          | 0/1 [00:00<?, ?it/s]"
      ]
     },
     "metadata": {},
     "output_type": "display_data"
    },
    {
     "data": {
      "application/vnd.jupyter.widget-view+json": {
       "model_id": "4c2a51a63c9349ce990e523bab4b326f",
       "version_major": 2,
       "version_minor": 0
      },
      "text/plain": [
       "VBox(children=(Tab(children=(Tab(children=(GridBox(children=(VBox(children=(GridspecLayout(children=(HTML(valu…"
      ]
     },
     "metadata": {},
     "output_type": "display_data"
    }
   ],
   "source": [
    "profile = ProfileReport(fdf)\n",
    "profile.to_widgets()"
   ]
  },
  {
   "cell_type": "markdown",
   "id": "87dc002a",
   "metadata": {},
   "source": [
    "### Replacing zeros with nans to impute"
   ]
  },
  {
   "cell_type": "code",
   "execution_count": 6,
   "id": "ca408608",
   "metadata": {},
   "outputs": [],
   "source": [
    "# There are many zeros in Time column. Logically time can't be 0 for any activity. So we replace 0 with NaNs for imputation\n",
    "fdf['Time'] = fdf['Time'].replace({'0':np.nan, 0:np.nan})"
   ]
  },
  {
   "cell_type": "markdown",
   "id": "6b5c20fe",
   "metadata": {},
   "source": [
    "### Assigning separate dataframe for Decision Trees"
   ]
  },
  {
   "cell_type": "code",
   "execution_count": 7,
   "id": "a35d6e10",
   "metadata": {},
   "outputs": [],
   "source": [
    "#Decision Trees don't need missing value imputation, outlier removal, multicollinearity treatment and normalization. \n",
    "#So we will copy the dataframe into a separate variable for Decision Trees. We will not perform any of the above operations on this dataframe. \n",
    "fdf_DT = fdf"
   ]
  },
  {
   "cell_type": "markdown",
   "id": "bc283d9a",
   "metadata": {},
   "source": [
    "### Treating Outliers"
   ]
  },
  {
   "cell_type": "code",
   "execution_count": 9,
   "id": "0e0d1976",
   "metadata": {
    "scrolled": false
   },
   "outputs": [
    {
     "data": {
      "text/plain": [
       "<AxesSubplot:>"
      ]
     },
     "execution_count": 9,
     "metadata": {},
     "output_type": "execute_result"
    },
    {
     "data": {
      "image/png": "[encoded data removed]",
      "text/plain": [
       "<Figure size 1440x360 with 1 Axes>"
      ]
     },
     "metadata": {
      "needs_background": "light"
     },
     "output_type": "display_data"
    }
   ],
   "source": [
    "#Boxplots\n",
    "fig ,ax  = plt.subplots(figsize = (20,5))\n",
    "sns.boxplot(data = fdf.drop(columns=['Time', 'Frequency']) , ax = ax)"
   ]
  },
  {
   "cell_type": "code",
   "execution_count": 8,
   "id": "961afafc",
   "metadata": {},
   "outputs": [],
   "source": [
    "#Function to replace outliers with NaNs\n",
    "def outlier_removal(data, uq, lq):\n",
    "        def outlier_limits(col):\n",
    "            Q3, Q1 = np.nanpercentile(col, [uq,lq])\n",
    "            IQR= Q3-Q1\n",
    "            UL= Q3+1.5*IQR\n",
    "            LL= Q1-1.5*IQR\n",
    "            return UL, LL\n",
    "\n",
    "        outlier =[]\n",
    "        for column in data.columns:\n",
    "            if data[column].dtype != 'int64':\n",
    "                UL, LL= outlier_limits(data[column])\n",
    "                #for x in data[column]:\n",
    "                    #if ((x> UL) or (x<LL)):\n",
    "                        #outlier.append(x)\n",
    "                data[column]= np.where((data[column] > UL) | (data[column] < LL), np.nan, data[column])\n",
    "\n",
    "        return data"
   ]
  },
  {
   "cell_type": "code",
   "execution_count": 9,
   "id": "bc9a6add",
   "metadata": {},
   "outputs": [
    {
     "name": "stderr",
     "output_type": "stream",
     "text": [
      "NumExpr defaulting to 4 threads.\n"
     ]
    }
   ],
   "source": [
    "df.iloc[:,1:7] = outlier_removal(fdf.iloc[:,1:7], 75, 20)"
   ]
  },
  {
   "cell_type": "code",
   "execution_count": 150,
   "id": "0505f50c",
   "metadata": {},
   "outputs": [
    {
     "data": {
      "text/html": [
       "<div><div id=9886b948-8dad-47a3-83f8-43016cf009ae style=\"display:none; background-color:#9D6CFF; color:white; width:200px; height:30px; padding-left:5px; border-radius:4px; flex-direction:row; justify-content:space-around; align-items:center;\" onmouseover=\"this.style.backgroundColor='#BA9BF8'\" onmouseout=\"this.style.backgroundColor='#9D6CFF'\" onclick=\"window.commands?.execute('create-mitosheet-from-dataframe-output');\">Open in Mito</div> <script> if (window.commands.hasCommand('create-mitosheet-from-dataframe-output')) document.getElementById('9886b948-8dad-47a3-83f8-43016cf009ae').style.display = 'flex' </script> <table border=\"1\" class=\"dataframe\">\n",
       "  <thead>\n",
       "    <tr style=\"text-align: right;\">\n",
       "      <th></th>\n",
       "      <th>Time</th>\n",
       "      <th>Acc_frontal_axis</th>\n",
       "      <th>Acc_vertical_axis</th>\n",
       "      <th>Acc_lateral_axis</th>\n",
       "      <th>Antenna_ID</th>\n",
       "      <th>RSSI</th>\n",
       "      <th>Phase</th>\n",
       "      <th>Frequency</th>\n",
       "      <th>Activity</th>\n",
       "      <th>room</th>\n",
       "      <th>gender</th>\n",
       "    </tr>\n",
       "  </thead>\n",
       "  <tbody>\n",
       "    <tr>\n",
       "      <th>0</th>\n",
       "      <td>NaN</td>\n",
       "      <td>0.27203</td>\n",
       "      <td>1.00820</td>\n",
       "      <td>-0.082102</td>\n",
       "      <td>1</td>\n",
       "      <td>-63.5</td>\n",
       "      <td>2.4252</td>\n",
       "      <td>924.25</td>\n",
       "      <td>1</td>\n",
       "      <td>R1</td>\n",
       "      <td>M</td>\n",
       "    </tr>\n",
       "    <tr>\n",
       "      <th>1</th>\n",
       "      <td>0.50</td>\n",
       "      <td>0.27203</td>\n",
       "      <td>1.00820</td>\n",
       "      <td>-0.082102</td>\n",
       "      <td>1</td>\n",
       "      <td>-63.0</td>\n",
       "      <td>4.7369</td>\n",
       "      <td>921.75</td>\n",
       "      <td>1</td>\n",
       "      <td>R1</td>\n",
       "      <td>M</td>\n",
       "    </tr>\n",
       "    <tr>\n",
       "      <th>2</th>\n",
       "      <td>1.50</td>\n",
       "      <td>0.44791</td>\n",
       "      <td>0.91636</td>\n",
       "      <td>-0.013684</td>\n",
       "      <td>1</td>\n",
       "      <td>-63.5</td>\n",
       "      <td>3.0311</td>\n",
       "      <td>923.75</td>\n",
       "      <td>1</td>\n",
       "      <td>R1</td>\n",
       "      <td>M</td>\n",
       "    </tr>\n",
       "    <tr>\n",
       "      <th>3</th>\n",
       "      <td>1.75</td>\n",
       "      <td>0.44791</td>\n",
       "      <td>0.91636</td>\n",
       "      <td>-0.013684</td>\n",
       "      <td>1</td>\n",
       "      <td>-63.0</td>\n",
       "      <td>2.0371</td>\n",
       "      <td>921.25</td>\n",
       "      <td>1</td>\n",
       "      <td>R1</td>\n",
       "      <td>M</td>\n",
       "    </tr>\n",
       "    <tr>\n",
       "      <th>4</th>\n",
       "      <td>2.50</td>\n",
       "      <td>0.34238</td>\n",
       "      <td>0.96229</td>\n",
       "      <td>-0.059296</td>\n",
       "      <td>1</td>\n",
       "      <td>-63.5</td>\n",
       "      <td>5.8920</td>\n",
       "      <td>920.25</td>\n",
       "      <td>1</td>\n",
       "      <td>R1</td>\n",
       "      <td>M</td>\n",
       "    </tr>\n",
       "  </tbody>\n",
       "</table></div>"
      ],
      "text/plain": [
       "   Time  Acc_frontal_axis  Acc_vertical_axis  Acc_lateral_axis  Antenna_ID  \\\n",
       "0   NaN           0.27203            1.00820         -0.082102           1   \n",
       "1  0.50           0.27203            1.00820         -0.082102           1   \n",
       "2  1.50           0.44791            0.91636         -0.013684           1   \n",
       "3  1.75           0.44791            0.91636         -0.013684           1   \n",
       "4  2.50           0.34238            0.96229         -0.059296           1   \n",
       "\n",
       "   RSSI   Phase  Frequency  Activity room gender  \n",
       "0 -63.5  2.4252     924.25         1   R1      M  \n",
       "1 -63.0  4.7369     921.75         1   R1      M  \n",
       "2 -63.5  3.0311     923.75         1   R1      M  \n",
       "3 -63.0  2.0371     921.25         1   R1      M  \n",
       "4 -63.5  5.8920     920.25         1   R1      M  "
      ]
     },
     "execution_count": 150,
     "metadata": {},
     "output_type": "execute_result"
    }
   ],
   "source": [
    "fdf.head()"
   ]
  },
  {
   "cell_type": "markdown",
   "id": "284a2848",
   "metadata": {},
   "source": [
    "### Imputing NaNs/missing values"
   ]
  },
  {
   "cell_type": "code",
   "execution_count": 10,
   "id": "cce2fb36",
   "metadata": {},
   "outputs": [],
   "source": [
    "# Using Knn imputer to impute missing values instead of using mean, mode, median, etc.\n",
    "imputer = KNNImputer()\n",
    "fdf.loc[:, ~fdf.columns.isin(['Antenna_ID', 'room', 'gender', 'Activity'])] = imputer.fit_transform(fdf.loc[:, ~fdf.columns.isin(['Antenna_ID', 'room', 'gender', 'Activity'])])"
   ]
  },
  {
   "cell_type": "code",
   "execution_count": 152,
   "id": "d607b85d",
   "metadata": {},
   "outputs": [
    {
     "data": {
      "text/plain": [
       "<AxesSubplot:>"
      ]
     },
     "execution_count": 152,
     "metadata": {},
     "output_type": "execute_result"
    },
    {
     "data": {
      "image/png": "[encoded data removed]",
      "text/plain": [
       "<Figure size 1440x720 with 1 Axes>"
      ]
     },
     "metadata": {
      "needs_background": "light"
     },
     "output_type": "display_data"
    }
   ],
   "source": [
    "#Boxplots after imputation\n",
    "fig ,ax  = plt.subplots(figsize = (20,10))\n",
    "sns.boxplot(data = fdf.drop(columns=['Time', 'Frequency', 'RSSI']) , ax = ax)"
   ]
  },
  {
   "cell_type": "markdown",
   "id": "880ca99a",
   "metadata": {},
   "source": [
    "### Rearranging columns"
   ]
  },
  {
   "cell_type": "code",
   "execution_count": 12,
   "id": "b7b652bf",
   "metadata": {
    "scrolled": false
   },
   "outputs": [],
   "source": [
    "#Function to keep categorical variables adjacent to each other. This makes slicing and dicing data easy.\n",
    "def rearrange(data, colindex1, colindex2):\n",
    "    cols = data.columns.tolist()\n",
    "    a,b = cols[colindex1], cols[colindex2]\n",
    "    cols[colindex1]=b\n",
    "    cols[colindex2]=a\n",
    "    data=data[cols]\n",
    "    return data"
   ]
  },
  {
   "cell_type": "code",
   "execution_count": 13,
   "id": "f8a3d981",
   "metadata": {},
   "outputs": [],
   "source": [
    "fdf = rearrange(fdf, 4, 7)"
   ]
  },
  {
   "cell_type": "code",
   "execution_count": 14,
   "id": "fea1993e",
   "metadata": {},
   "outputs": [
    {
     "data": {
      "text/html": [
       "<div><div id=3363e8b2-fe69-4fd2-ac44-82a5b489c2d1 style=\"display:none; background-color:#9D6CFF; color:white; width:200px; height:30px; padding-left:5px; border-radius:4px; flex-direction:row; justify-content:space-around; align-items:center;\" onmouseover=\"this.style.backgroundColor='#BA9BF8'\" onmouseout=\"this.style.backgroundColor='#9D6CFF'\" onclick=\"window.commands?.execute('create-mitosheet-from-dataframe-output');\">Open in Mito</div> <script> if (window.commands.hasCommand('create-mitosheet-from-dataframe-output')) document.getElementById('3363e8b2-fe69-4fd2-ac44-82a5b489c2d1').style.display = 'flex' </script> <table border=\"1\" class=\"dataframe\">\n",
       "  <thead>\n",
       "    <tr style=\"text-align: right;\">\n",
       "      <th></th>\n",
       "      <th>Time</th>\n",
       "      <th>Acc_frontal_axis</th>\n",
       "      <th>Acc_vertical_axis</th>\n",
       "      <th>Acc_lateral_axis</th>\n",
       "      <th>Frequency</th>\n",
       "      <th>RSSI</th>\n",
       "      <th>Phase</th>\n",
       "      <th>Antenna_ID</th>\n",
       "      <th>Activity</th>\n",
       "      <th>room</th>\n",
       "      <th>gender</th>\n",
       "    </tr>\n",
       "  </thead>\n",
       "  <tbody>\n",
       "    <tr>\n",
       "      <th>0</th>\n",
       "      <td>0.075</td>\n",
       "      <td>0.27203</td>\n",
       "      <td>1.00820</td>\n",
       "      <td>-0.082102</td>\n",
       "      <td>924.25</td>\n",
       "      <td>-63.5</td>\n",
       "      <td>2.4252</td>\n",
       "      <td>1</td>\n",
       "      <td>1</td>\n",
       "      <td>1</td>\n",
       "      <td>1</td>\n",
       "    </tr>\n",
       "    <tr>\n",
       "      <th>1</th>\n",
       "      <td>0.500</td>\n",
       "      <td>0.27203</td>\n",
       "      <td>1.00820</td>\n",
       "      <td>-0.082102</td>\n",
       "      <td>921.75</td>\n",
       "      <td>-63.0</td>\n",
       "      <td>4.7369</td>\n",
       "      <td>1</td>\n",
       "      <td>1</td>\n",
       "      <td>1</td>\n",
       "      <td>1</td>\n",
       "    </tr>\n",
       "    <tr>\n",
       "      <th>2</th>\n",
       "      <td>1.500</td>\n",
       "      <td>0.44791</td>\n",
       "      <td>0.91636</td>\n",
       "      <td>-0.013684</td>\n",
       "      <td>923.75</td>\n",
       "      <td>-63.5</td>\n",
       "      <td>3.0311</td>\n",
       "      <td>1</td>\n",
       "      <td>1</td>\n",
       "      <td>1</td>\n",
       "      <td>1</td>\n",
       "    </tr>\n",
       "    <tr>\n",
       "      <th>3</th>\n",
       "      <td>1.750</td>\n",
       "      <td>0.44791</td>\n",
       "      <td>0.91636</td>\n",
       "      <td>-0.013684</td>\n",
       "      <td>921.25</td>\n",
       "      <td>-63.0</td>\n",
       "      <td>2.0371</td>\n",
       "      <td>1</td>\n",
       "      <td>1</td>\n",
       "      <td>1</td>\n",
       "      <td>1</td>\n",
       "    </tr>\n",
       "    <tr>\n",
       "      <th>4</th>\n",
       "      <td>2.500</td>\n",
       "      <td>0.34238</td>\n",
       "      <td>0.96229</td>\n",
       "      <td>-0.059296</td>\n",
       "      <td>920.25</td>\n",
       "      <td>-63.5</td>\n",
       "      <td>5.8920</td>\n",
       "      <td>1</td>\n",
       "      <td>1</td>\n",
       "      <td>1</td>\n",
       "      <td>1</td>\n",
       "    </tr>\n",
       "  </tbody>\n",
       "</table></div>"
      ],
      "text/plain": [
       "    Time  Acc_frontal_axis  Acc_vertical_axis  Acc_lateral_axis  Frequency  \\\n",
       "0  0.075           0.27203            1.00820         -0.082102     924.25   \n",
       "1  0.500           0.27203            1.00820         -0.082102     921.75   \n",
       "2  1.500           0.44791            0.91636         -0.013684     923.75   \n",
       "3  1.750           0.44791            0.91636         -0.013684     921.25   \n",
       "4  2.500           0.34238            0.96229         -0.059296     920.25   \n",
       "\n",
       "   RSSI   Phase  Antenna_ID  Activity room gender  \n",
       "0 -63.5  2.4252           1         1    1      1  \n",
       "1 -63.0  4.7369           1         1    1      1  \n",
       "2 -63.5  3.0311           1         1    1      1  \n",
       "3 -63.0  2.0371           1         1    1      1  \n",
       "4 -63.5  5.8920           1         1    1      1  "
      ]
     },
     "execution_count": 14,
     "metadata": {},
     "output_type": "execute_result"
    }
   ],
   "source": [
    "fdf.head()"
   ]
  },
  {
   "cell_type": "markdown",
   "id": "6d714096",
   "metadata": {},
   "source": [
    "### One hot encoding"
   ]
  },
  {
   "cell_type": "code",
   "execution_count": 9,
   "id": "c6f446cd",
   "metadata": {},
   "outputs": [
    {
     "name": "stdout",
     "output_type": "stream",
     "text": [
      "['R1' 'R2']\n",
      "[1 4 3 2]\n",
      "['M' 'F']\n"
     ]
    }
   ],
   "source": [
    "#Number of categories in each categorical column\n",
    "print(fdf['room'].unique())\n",
    "print(fdf['Antenna_ID'].unique())\n",
    "print(fdf['gender'].unique())"
   ]
  },
  {
   "cell_type": "code",
   "execution_count": 15,
   "id": "78ac44dc",
   "metadata": {},
   "outputs": [],
   "source": [
    "#Dummy variable creation for KNN, SVC and Logistic regression models\n",
    "fdf = pd.get_dummies(fdf, columns = ['Antenna_ID', 'room', 'gender'])"
   ]
  },
  {
   "cell_type": "markdown",
   "id": "a6b14499",
   "metadata": {},
   "source": [
    "### Creating independent and dependent variables"
   ]
  },
  {
   "cell_type": "code",
   "execution_count": 16,
   "id": "ba0ac500",
   "metadata": {},
   "outputs": [],
   "source": [
    "y = fdf['Activity']\n",
    "x = fdf.drop(columns=['Activity'])"
   ]
  },
  {
   "cell_type": "markdown",
   "id": "049474cc",
   "metadata": {},
   "source": [
    "### Treating Multicollinearity"
   ]
  },
  {
   "cell_type": "code",
   "execution_count": 14,
   "id": "6e3dd6a2",
   "metadata": {},
   "outputs": [],
   "source": [
    "def vif_score(x):\n",
    "    temp = x.iloc[:,0:7]\n",
    "    scaler = StandardScaler()\n",
    "    arr = scaler.fit_transform(temp)\n",
    "    return pd.DataFrame([[temp.columns[i], variance_inflation_factor(arr,i)] for i in range(arr.shape[1])], columns=[\"FEATURE\", \"VIF_SCORE\"])"
   ]
  },
  {
   "cell_type": "code",
   "execution_count": 15,
   "id": "5cbc5bb3",
   "metadata": {
    "scrolled": true
   },
   "outputs": [
    {
     "data": {
      "text/html": [
       "<div><div id=7d7edc12-e56d-49bc-a4bd-6ab689856f4e style=\"display:none; background-color:#9D6CFF; color:white; width:200px; height:30px; padding-left:5px; border-radius:4px; flex-direction:row; justify-content:space-around; align-items:center;\" onmouseover=\"this.style.backgroundColor='#BA9BF8'\" onmouseout=\"this.style.backgroundColor='#9D6CFF'\" onclick=\"window.commands?.execute('create-mitosheet-from-dataframe-output');\">Open in Mito</div> <script> if (window.commands.hasCommand('create-mitosheet-from-dataframe-output')) document.getElementById('7d7edc12-e56d-49bc-a4bd-6ab689856f4e').style.display = 'flex' </script> <table border=\"1\" class=\"dataframe\">\n",
       "  <thead>\n",
       "    <tr style=\"text-align: right;\">\n",
       "      <th></th>\n",
       "      <th>FEATURE</th>\n",
       "      <th>VIF_SCORE</th>\n",
       "    </tr>\n",
       "  </thead>\n",
       "  <tbody>\n",
       "    <tr>\n",
       "      <th>0</th>\n",
       "      <td>Time</td>\n",
       "      <td>1.237714</td>\n",
       "    </tr>\n",
       "    <tr>\n",
       "      <th>1</th>\n",
       "      <td>Acc_frontal_axis</td>\n",
       "      <td>4.353273</td>\n",
       "    </tr>\n",
       "    <tr>\n",
       "      <th>2</th>\n",
       "      <td>Acc_vertical_axis</td>\n",
       "      <td>3.875909</td>\n",
       "    </tr>\n",
       "    <tr>\n",
       "      <th>3</th>\n",
       "      <td>Acc_lateral_axis</td>\n",
       "      <td>2.125789</td>\n",
       "    </tr>\n",
       "    <tr>\n",
       "      <th>4</th>\n",
       "      <td>Frequency</td>\n",
       "      <td>1.048328</td>\n",
       "    </tr>\n",
       "    <tr>\n",
       "      <th>5</th>\n",
       "      <td>RSSI</td>\n",
       "      <td>1.069617</td>\n",
       "    </tr>\n",
       "    <tr>\n",
       "      <th>6</th>\n",
       "      <td>Phase</td>\n",
       "      <td>1.008050</td>\n",
       "    </tr>\n",
       "  </tbody>\n",
       "</table></div>"
      ],
      "text/plain": [
       "             FEATURE  VIF_SCORE\n",
       "0               Time   1.237714\n",
       "1   Acc_frontal_axis   4.353273\n",
       "2  Acc_vertical_axis   3.875909\n",
       "3   Acc_lateral_axis   2.125789\n",
       "4          Frequency   1.048328\n",
       "5               RSSI   1.069617\n",
       "6              Phase   1.008050"
      ]
     },
     "execution_count": 15,
     "metadata": {},
     "output_type": "execute_result"
    }
   ],
   "source": [
    "vif_score(x.iloc[:,0:7])"
   ]
  },
  {
   "cell_type": "markdown",
   "id": "e1328598",
   "metadata": {},
   "source": [
    "All VIF values are well under limit, i.e. 10. So we don't need to remove any variables."
   ]
  },
  {
   "cell_type": "markdown",
   "id": "11d4146b",
   "metadata": {},
   "source": [
    "### Normalizing Data"
   ]
  },
  {
   "cell_type": "code",
   "execution_count": 17,
   "id": "1f889b96",
   "metadata": {},
   "outputs": [],
   "source": [
    "scaler = StandardScaler()\n",
    "x.iloc[:,0:7]= pd.DataFrame(scaler.fit_transform(x.iloc[:,0:7]))"
   ]
  },
  {
   "cell_type": "code",
   "execution_count": 14,
   "id": "e94a212a",
   "metadata": {},
   "outputs": [
    {
     "data": {
      "text/html": [
       "<div><div id=bd8666b3-939b-4c08-ba5d-007deafa4d84 style=\"display:none; background-color:#9D6CFF; color:white; width:200px; height:30px; padding-left:5px; border-radius:4px; flex-direction:row; justify-content:space-around; align-items:center;\" onmouseover=\"this.style.backgroundColor='#BA9BF8'\" onmouseout=\"this.style.backgroundColor='#9D6CFF'\" onclick=\"window.commands?.execute('create-mitosheet-from-dataframe-output');\">Open in Mito</div> <script> if (window.commands.hasCommand('create-mitosheet-from-dataframe-output')) document.getElementById('bd8666b3-939b-4c08-ba5d-007deafa4d84').style.display = 'flex' </script> <table border=\"1\" class=\"dataframe\">\n",
       "  <thead>\n",
       "    <tr style=\"text-align: right;\">\n",
       "      <th></th>\n",
       "      <th>Time</th>\n",
       "      <th>Acc_frontal_axis</th>\n",
       "      <th>Acc_vertical_axis</th>\n",
       "      <th>Acc_lateral_axis</th>\n",
       "      <th>Frequency</th>\n",
       "      <th>RSSI</th>\n",
       "      <th>Phase</th>\n",
       "      <th>Antenna_ID_1</th>\n",
       "      <th>Antenna_ID_2</th>\n",
       "      <th>Antenna_ID_3</th>\n",
       "      <th>Antenna_ID_4</th>\n",
       "      <th>room_R1</th>\n",
       "      <th>room_R2</th>\n",
       "      <th>gender_F</th>\n",
       "      <th>gender_M</th>\n",
       "    </tr>\n",
       "  </thead>\n",
       "  <tbody>\n",
       "    <tr>\n",
       "      <th>0</th>\n",
       "      <td>-1.162289</td>\n",
       "      <td>-1.092933</td>\n",
       "      <td>1.582195</td>\n",
       "      <td>0.308923</td>\n",
       "      <td>0.940671</td>\n",
       "      <td>-1.012185</td>\n",
       "      <td>-0.335471</td>\n",
       "      <td>1</td>\n",
       "      <td>0</td>\n",
       "      <td>0</td>\n",
       "      <td>0</td>\n",
       "      <td>1</td>\n",
       "      <td>0</td>\n",
       "      <td>0</td>\n",
       "      <td>1</td>\n",
       "    </tr>\n",
       "    <tr>\n",
       "      <th>1</th>\n",
       "      <td>-1.160638</td>\n",
       "      <td>-1.092933</td>\n",
       "      <td>1.582195</td>\n",
       "      <td>0.308923</td>\n",
       "      <td>-0.548237</td>\n",
       "      <td>-0.914133</td>\n",
       "      <td>0.723852</td>\n",
       "      <td>1</td>\n",
       "      <td>0</td>\n",
       "      <td>0</td>\n",
       "      <td>0</td>\n",
       "      <td>1</td>\n",
       "      <td>0</td>\n",
       "      <td>0</td>\n",
       "      <td>1</td>\n",
       "    </tr>\n",
       "    <tr>\n",
       "      <th>2</th>\n",
       "      <td>-1.156754</td>\n",
       "      <td>-0.658213</td>\n",
       "      <td>1.363027</td>\n",
       "      <td>0.465051</td>\n",
       "      <td>0.642890</td>\n",
       "      <td>-1.012185</td>\n",
       "      <td>-0.057821</td>\n",
       "      <td>1</td>\n",
       "      <td>0</td>\n",
       "      <td>0</td>\n",
       "      <td>0</td>\n",
       "      <td>1</td>\n",
       "      <td>0</td>\n",
       "      <td>0</td>\n",
       "      <td>1</td>\n",
       "    </tr>\n",
       "    <tr>\n",
       "      <th>3</th>\n",
       "      <td>-1.155783</td>\n",
       "      <td>-0.658213</td>\n",
       "      <td>1.363027</td>\n",
       "      <td>0.465051</td>\n",
       "      <td>-0.846019</td>\n",
       "      <td>-0.914133</td>\n",
       "      <td>-0.513315</td>\n",
       "      <td>1</td>\n",
       "      <td>0</td>\n",
       "      <td>0</td>\n",
       "      <td>0</td>\n",
       "      <td>1</td>\n",
       "      <td>0</td>\n",
       "      <td>0</td>\n",
       "      <td>1</td>\n",
       "    </tr>\n",
       "    <tr>\n",
       "      <th>4</th>\n",
       "      <td>-1.152869</td>\n",
       "      <td>-0.919050</td>\n",
       "      <td>1.472635</td>\n",
       "      <td>0.360966</td>\n",
       "      <td>-1.441583</td>\n",
       "      <td>-1.012185</td>\n",
       "      <td>1.253170</td>\n",
       "      <td>1</td>\n",
       "      <td>0</td>\n",
       "      <td>0</td>\n",
       "      <td>0</td>\n",
       "      <td>1</td>\n",
       "      <td>0</td>\n",
       "      <td>0</td>\n",
       "      <td>1</td>\n",
       "    </tr>\n",
       "  </tbody>\n",
       "</table></div>"
      ],
      "text/plain": [
       "       Time  Acc_frontal_axis  Acc_vertical_axis  Acc_lateral_axis  Frequency  \\\n",
       "0 -1.162289         -1.092933           1.582195          0.308923   0.940671   \n",
       "1 -1.160638         -1.092933           1.582195          0.308923  -0.548237   \n",
       "2 -1.156754         -0.658213           1.363027          0.465051   0.642890   \n",
       "3 -1.155783         -0.658213           1.363027          0.465051  -0.846019   \n",
       "4 -1.152869         -0.919050           1.472635          0.360966  -1.441583   \n",
       "\n",
       "       RSSI     Phase  Antenna_ID_1  Antenna_ID_2  Antenna_ID_3  Antenna_ID_4  \\\n",
       "0 -1.012185 -0.335471             1             0             0             0   \n",
       "1 -0.914133  0.723852             1             0             0             0   \n",
       "2 -1.012185 -0.057821             1             0             0             0   \n",
       "3 -0.914133 -0.513315             1             0             0             0   \n",
       "4 -1.012185  1.253170             1             0             0             0   \n",
       "\n",
       "   room_R1  room_R2  gender_F  gender_M  \n",
       "0        1        0         0         1  \n",
       "1        1        0         0         1  \n",
       "2        1        0         0         1  \n",
       "3        1        0         0         1  \n",
       "4        1        0         0         1  "
      ]
     },
     "execution_count": 14,
     "metadata": {},
     "output_type": "execute_result"
    }
   ],
   "source": [
    "x.head()"
   ]
  },
  {
   "cell_type": "markdown",
   "id": "7a97c6e1",
   "metadata": {},
   "source": [
    "### Splitting data into train and test"
   ]
  },
  {
   "cell_type": "code",
   "execution_count": 18,
   "id": "355287fd",
   "metadata": {},
   "outputs": [],
   "source": [
    "x_train, x_test, y_train, y_test = train_test_split(x, y, test_size = .20 , random_state = 144)"
   ]
  },
  {
   "cell_type": "markdown",
   "id": "a7bff038",
   "metadata": {},
   "source": [
    "### Logistic Regression"
   ]
  },
  {
   "cell_type": "markdown",
   "id": "4bc5538b",
   "metadata": {},
   "source": [
    "We will use __Saga__ solver with __Elasticnet__ regularization to get the best results. Also, as it is a multi-class dataset, we will use multi-class = __multinomial__"
   ]
  },
  {
   "cell_type": "code",
   "execution_count": 46,
   "id": "9da319e3",
   "metadata": {},
   "outputs": [],
   "source": [
    "lr_model = LogisticRegression(multi_class = 'multinomial')"
   ]
  },
  {
   "cell_type": "code",
   "execution_count": 47,
   "id": "1d983542",
   "metadata": {},
   "outputs": [
    {
     "name": "stderr",
     "output_type": "stream",
     "text": [
      "C:\\Users\\Manu\\anaconda3\\lib\\site-packages\\sklearn\\linear_model\\_logistic.py:814: ConvergenceWarning: lbfgs failed to converge (status=1):\n",
      "STOP: TOTAL NO. of ITERATIONS REACHED LIMIT.\n",
      "\n",
      "Increase the number of iterations (max_iter) or scale the data as shown in:\n",
      "    https://scikit-learn.org/stable/modules/preprocessing.html\n",
      "Please also refer to the documentation for alternative solver options:\n",
      "    https://scikit-learn.org/stable/modules/linear_model.html#logistic-regression\n",
      "  n_iter_i = _check_optimize_result(\n"
     ]
    },
    {
     "data": {
      "text/plain": [
       "LogisticRegression(multi_class='multinomial')"
      ]
     },
     "execution_count": 47,
     "metadata": {},
     "output_type": "execute_result"
    }
   ],
   "source": [
    "lr_model.fit(x_train, y_train)"
   ]
  },
  {
   "cell_type": "code",
   "execution_count": 48,
   "id": "01796c4f",
   "metadata": {},
   "outputs": [
    {
     "data": {
      "text/plain": [
       "0.9576733661653135"
      ]
     },
     "execution_count": 48,
     "metadata": {},
     "output_type": "execute_result"
    }
   ],
   "source": [
    "lr_model.score(x_test, y_test)"
   ]
  },
  {
   "cell_type": "code",
   "execution_count": 17,
   "id": "c42a6bfa",
   "metadata": {},
   "outputs": [],
   "source": [
    "# Grid Search CV to find the best parameters for some hyperparameters\n",
    "lr_grid_param = {\"class_weight\":['balanced',None],\n",
    "             \"warm_start\":[True, False],\n",
    "             \"l1_ratio\" : list(np.arange(0.0, 0.5, 0.1))\n",
    "             }"
   ]
  },
  {
   "cell_type": "code",
   "execution_count": 18,
   "id": "acf24095",
   "metadata": {},
   "outputs": [],
   "source": [
    "lr_grid = GridSearchCV(estimator=lr_model, param_grid=lr_grid_param , cv = 5 , n_jobs=-1)"
   ]
  },
  {
   "cell_type": "code",
   "execution_count": 19,
   "id": "c2a8a703",
   "metadata": {
    "scrolled": true
   },
   "outputs": [
    {
     "name": "stderr",
     "output_type": "stream",
     "text": [
      "C:\\Users\\Manu\\anaconda3\\lib\\site-packages\\sklearn\\linear_model\\_sag.py:352: ConvergenceWarning: The max_iter was reached which means the coef_ did not converge\n",
      "  warnings.warn(\n"
     ]
    },
    {
     "data": {
      "text/plain": [
       "GridSearchCV(cv=5,\n",
       "             estimator=LogisticRegression(multi_class='multinomial',\n",
       "                                          penalty='elasticnet', solver='saga'),\n",
       "             n_jobs=-1,\n",
       "             param_grid={'class_weight': ['balanced', None],\n",
       "                         'l1_ratio': [0.0, 0.1, 0.2, 0.30000000000000004, 0.4],\n",
       "                         'warm_start': [True, False]})"
      ]
     },
     "execution_count": 19,
     "metadata": {},
     "output_type": "execute_result"
    }
   ],
   "source": [
    "lr_grid.fit(x_train, y_train)"
   ]
  },
  {
   "cell_type": "code",
   "execution_count": 32,
   "id": "eec3199e",
   "metadata": {},
   "outputs": [
    {
     "data": {
      "text/plain": [
       "{'class_weight': None, 'l1_ratio': 0.1, 'warm_start': True}"
      ]
     },
     "execution_count": 32,
     "metadata": {},
     "output_type": "execute_result"
    }
   ],
   "source": [
    "lr_grid.best_params_"
   ]
  },
  {
   "cell_type": "code",
   "execution_count": 49,
   "id": "2bb97310",
   "metadata": {},
   "outputs": [],
   "source": [
    "#After getting the best parameters from the GridSearch CV, we will use them to build the model. \n",
    "lr_best = LogisticRegression(penalty = 'elasticnet', l1_ratio = 0.1, solver='saga', warm_start = True, multi_class = 'multinomial')"
   ]
  },
  {
   "cell_type": "code",
   "execution_count": 50,
   "id": "a69f682b",
   "metadata": {},
   "outputs": [
    {
     "name": "stderr",
     "output_type": "stream",
     "text": [
      "C:\\Users\\Manu\\anaconda3\\lib\\site-packages\\sklearn\\linear_model\\_sag.py:352: ConvergenceWarning: The max_iter was reached which means the coef_ did not converge\n",
      "  warnings.warn(\n"
     ]
    },
    {
     "data": {
      "text/plain": [
       "LogisticRegression(l1_ratio=0.1, multi_class='multinomial',\n",
       "                   penalty='elasticnet', solver='saga', warm_start=True)"
      ]
     },
     "execution_count": 50,
     "metadata": {},
     "output_type": "execute_result"
    }
   ],
   "source": [
    "lr_best.fit(x_train, y_train)"
   ]
  },
  {
   "cell_type": "code",
   "execution_count": 51,
   "id": "d2e5657f",
   "metadata": {},
   "outputs": [
    {
     "data": {
      "text/plain": [
       "0.9576733661653135"
      ]
     },
     "execution_count": 51,
     "metadata": {},
     "output_type": "execute_result"
    }
   ],
   "source": [
    "lr_best.score(x_test,y_test)"
   ]
  },
  {
   "cell_type": "markdown",
   "id": "e70ae817",
   "metadata": {},
   "source": [
    "_We haven't got any improvement in the model. Hence we can use default parameters for model creation._ "
   ]
  },
  {
   "cell_type": "code",
   "execution_count": 52,
   "id": "8231ab87",
   "metadata": {},
   "outputs": [],
   "source": [
    "#Predicting the y-values on test dataset\n",
    "y_pred = lr_best.predict(x_test)"
   ]
  },
  {
   "cell_type": "markdown",
   "id": "f49fed51",
   "metadata": {},
   "source": [
    "### Confusion matrix and classification report"
   ]
  },
  {
   "cell_type": "code",
   "execution_count": 53,
   "id": "d1beabac",
   "metadata": {},
   "outputs": [
    {
     "data": {
      "text/plain": [
       "array([[[11393,   352],\n",
       "        [  152,  3129]],\n",
       "\n",
       "       [[13898,   180],\n",
       "        [  136,   812]],\n",
       "\n",
       "       [[ 4654,    39],\n",
       "        [   10, 10323]],\n",
       "\n",
       "       [[14497,    65],\n",
       "        [  338,   126]]], dtype=int64)"
      ]
     },
     "execution_count": 53,
     "metadata": {},
     "output_type": "execute_result"
    }
   ],
   "source": [
    "#Creating multi-class confusion matrix\n",
    "mcm = multilabel_confusion_matrix(y_test, y_pred)\n",
    "mcm"
   ]
  },
  {
   "cell_type": "code",
   "execution_count": 25,
   "id": "7ebba1e6",
   "metadata": {},
   "outputs": [
    {
     "name": "stdout",
     "output_type": "stream",
     "text": [
      "              precision    recall  f1-score   support\n",
      "\n",
      "           1       0.90      0.95      0.93      3281\n",
      "           2       0.82      0.86      0.84       948\n",
      "           3       1.00      1.00      1.00     10333\n",
      "           4       0.66      0.27      0.38       464\n",
      "\n",
      "    accuracy                           0.96     15026\n",
      "   macro avg       0.84      0.77      0.79     15026\n",
      "weighted avg       0.95      0.96      0.95     15026\n",
      "\n"
     ]
    }
   ],
   "source": [
    "print(classification_report(y_test, y_pred))"
   ]
  },
  {
   "cell_type": "code",
   "execution_count": 65,
   "id": "f30d6048",
   "metadata": {
    "scrolled": true
   },
   "outputs": [
    {
     "data": {
      "image/png": "[encoded data removed]",
      "text/plain": [
       "<Figure size 360x288 with 2 Axes>"
      ]
     },
     "metadata": {
      "needs_background": "light"
     },
     "output_type": "display_data"
    }
   ],
   "source": [
    "cm = confusion_matrix(y_test, y_pred)\n",
    "# Creating a dataframe for a array-formatted Confusion matrix,so it will be easy for plotting.\n",
    "cm_fdf = pd.DataFrame(cm,\n",
    "                     index = [1,2,3,4], \n",
    "                     columns = [1,2,3,4])\n",
    "#Plotting the confusion matrix\n",
    "plt.figure(figsize=(5,4))\n",
    "sns.heatmap(cm_fdf, annot=True)\n",
    "plt.title('Confusion Matrix')\n",
    "plt.ylabel('Actal Values')\n",
    "plt.xlabel('Predicted Values')\n",
    "plt.show()"
   ]
  },
  {
   "cell_type": "markdown",
   "id": "afeabf60",
   "metadata": {},
   "source": [
    "### SVM Kernel Classification"
   ]
  },
  {
   "cell_type": "code",
   "execution_count": 58,
   "id": "c382a93a",
   "metadata": {},
   "outputs": [],
   "source": [
    "from sklearn.svm import SVC"
   ]
  },
  {
   "cell_type": "code",
   "execution_count": 59,
   "id": "c5289ed6",
   "metadata": {},
   "outputs": [
    {
     "data": {
      "text/plain": [
       "SVC()"
      ]
     },
     "execution_count": 59,
     "metadata": {},
     "output_type": "execute_result"
    }
   ],
   "source": [
    "#Creating a model with default parameters\n",
    "svc= SVC()\n",
    "svc.fit(x_train,y_train)"
   ]
  },
  {
   "cell_type": "code",
   "execution_count": 23,
   "id": "9565157b",
   "metadata": {},
   "outputs": [
    {
     "data": {
      "text/plain": [
       "0.9798349527485691"
      ]
     },
     "execution_count": 23,
     "metadata": {},
     "output_type": "execute_result"
    }
   ],
   "source": [
    "svc.score(x_test,y_test)"
   ]
  },
  {
   "cell_type": "code",
   "execution_count": 20,
   "id": "7bf2a66e",
   "metadata": {
    "scrolled": true
   },
   "outputs": [
    {
     "name": "stdout",
     "output_type": "stream",
     "text": [
      "Fitting 5 folds for each of 4 candidates, totalling 20 fits\n",
      "[CV 1/5] END .C=0.1, gamma=0.001, kernel=linear;, score=0.961 total time=  13.5s\n",
      "[CV 2/5] END .C=0.1, gamma=0.001, kernel=linear;, score=0.960 total time=  12.6s\n",
      "[CV 3/5] END .C=0.1, gamma=0.001, kernel=linear;, score=0.962 total time=  12.8s\n",
      "[CV 4/5] END .C=0.1, gamma=0.001, kernel=linear;, score=0.961 total time=  12.8s\n",
      "[CV 5/5] END .C=0.1, gamma=0.001, kernel=linear;, score=0.959 total time=  14.1s\n",
      "[CV 1/5] END ...C=0.1, gamma=0.001, kernel=poly;, score=0.685 total time= 2.1min\n",
      "[CV 2/5] END ...C=0.1, gamma=0.001, kernel=poly;, score=0.685 total time= 2.2min\n",
      "[CV 3/5] END ...C=0.1, gamma=0.001, kernel=poly;, score=0.685 total time= 2.5min\n",
      "[CV 4/5] END ...C=0.1, gamma=0.001, kernel=poly;, score=0.685 total time= 2.4min\n",
      "[CV 5/5] END ...C=0.1, gamma=0.001, kernel=poly;, score=0.685 total time= 2.4min\n",
      "[CV 1/5] END ....C=0.1, gamma=0.001, kernel=rbf;, score=0.897 total time= 2.5min\n",
      "[CV 2/5] END ....C=0.1, gamma=0.001, kernel=rbf;, score=0.896 total time= 2.4min\n",
      "[CV 3/5] END ....C=0.1, gamma=0.001, kernel=rbf;, score=0.897 total time= 2.4min\n",
      "[CV 4/5] END ....C=0.1, gamma=0.001, kernel=rbf;, score=0.897 total time= 2.4min\n",
      "[CV 5/5] END ....C=0.1, gamma=0.001, kernel=rbf;, score=0.898 total time= 2.5min\n",
      "[CV 1/5] END C=0.1, gamma=0.001, kernel=sigmoid;, score=0.896 total time= 2.6min\n",
      "[CV 2/5] END C=0.1, gamma=0.001, kernel=sigmoid;, score=0.895 total time= 2.5min\n",
      "[CV 3/5] END C=0.1, gamma=0.001, kernel=sigmoid;, score=0.896 total time= 2.5min\n",
      "[CV 4/5] END C=0.1, gamma=0.001, kernel=sigmoid;, score=0.896 total time= 2.6min\n",
      "[CV 5/5] END C=0.1, gamma=0.001, kernel=sigmoid;, score=0.896 total time= 2.3min\n"
     ]
    },
    {
     "data": {
      "text/plain": [
       "GridSearchCV(estimator=SVC(),\n",
       "             param_grid={'C': [0.1], 'gamma': [0.001],\n",
       "                         'kernel': ['linear', 'poly', 'rbf', 'sigmoid']},\n",
       "             verbose=3)"
      ]
     },
     "execution_count": 20,
     "metadata": {},
     "output_type": "execute_result"
    }
   ],
   "source": [
    "# GridSearch CV to search best parameters for SVC\n",
    "svc_param ={\"kernel\":['linear', 'poly', 'rbf', 'sigmoid' ],\n",
    "        'C':[0.1],\n",
    "        'gamma':[.001]\n",
    "    } \n",
    "svm_grid = GridSearchCV(svc, param_grid = svc_param , verbose=3)\n",
    "svm_grid.fit(x_train,y_train)"
   ]
  },
  {
   "cell_type": "code",
   "execution_count": 22,
   "id": "eb11d9cb",
   "metadata": {},
   "outputs": [
    {
     "data": {
      "text/plain": [
       "{'C': 0.1, 'gamma': 0.001, 'kernel': 'linear'}"
      ]
     },
     "execution_count": 22,
     "metadata": {},
     "output_type": "execute_result"
    }
   ],
   "source": [
    "#Best parameters for SVC model obtained from GridSearch CV\n",
    "svm_grid.best_params_"
   ]
  },
  {
   "cell_type": "code",
   "execution_count": 60,
   "id": "78ad63de",
   "metadata": {},
   "outputs": [],
   "source": [
    "#Using best parameters for another SVC model\n",
    "svc_best = SVC(kernel = 'linear', C = 0.1, gamma = 0.001, decision_function_shape = 'ovo')"
   ]
  },
  {
   "cell_type": "code",
   "execution_count": 61,
   "id": "77c74fcf",
   "metadata": {},
   "outputs": [
    {
     "data": {
      "text/plain": [
       "SVC(C=0.1, decision_function_shape='ovo', gamma=0.001, kernel='linear')"
      ]
     },
     "execution_count": 61,
     "metadata": {},
     "output_type": "execute_result"
    }
   ],
   "source": [
    "svc_best.fit(x_train, y_train)"
   ]
  },
  {
   "cell_type": "code",
   "execution_count": 62,
   "id": "867f0bb1",
   "metadata": {
    "scrolled": false
   },
   "outputs": [
    {
     "data": {
      "text/plain": [
       "0.9611340343404765"
      ]
     },
     "execution_count": 62,
     "metadata": {},
     "output_type": "execute_result"
    }
   ],
   "source": [
    "svc_best.score(x_test, y_test)"
   ]
  },
  {
   "cell_type": "markdown",
   "id": "ac5f641d",
   "metadata": {},
   "source": [
    "_The model score after using best parameters is lesser than using default parameters. Hence we will use default parameters._"
   ]
  },
  {
   "cell_type": "code",
   "execution_count": 63,
   "id": "5e3615b5",
   "metadata": {},
   "outputs": [],
   "source": [
    "#Predicting the y-values on test dataset\n",
    "y_pred_svc = svc.predict(x_test)"
   ]
  },
  {
   "cell_type": "code",
   "execution_count": 64,
   "id": "84f9f356",
   "metadata": {
    "scrolled": false
   },
   "outputs": [
    {
     "data": {
      "text/plain": [
       "array([[[11542,   203],\n",
       "        [   34,  3247]],\n",
       "\n",
       "       [[14013,    65],\n",
       "        [    5,   943]],\n",
       "\n",
       "       [[ 4664,    29],\n",
       "        [   10, 10323]],\n",
       "\n",
       "       [[14556,     6],\n",
       "        [  254,   210]]], dtype=int64)"
      ]
     },
     "execution_count": 64,
     "metadata": {},
     "output_type": "execute_result"
    }
   ],
   "source": [
    "#Creating a multi-class confusion matrix\n",
    "mcm = multilabel_confusion_matrix(y_test, y_pred_svc)\n",
    "mcm"
   ]
  },
  {
   "cell_type": "markdown",
   "id": "b4c10086",
   "metadata": {},
   "source": [
    "Here each 4*4 matrix is for each category in the Activity column."
   ]
  },
  {
   "cell_type": "code",
   "execution_count": 26,
   "id": "dff28d1a",
   "metadata": {},
   "outputs": [
    {
     "name": "stdout",
     "output_type": "stream",
     "text": [
      "              precision    recall  f1-score   support\n",
      "\n",
      "           1       0.94      0.99      0.96      3281\n",
      "           2       0.94      0.99      0.96       948\n",
      "           3       1.00      1.00      1.00     10333\n",
      "           4       0.97      0.45      0.62       464\n",
      "\n",
      "    accuracy                           0.98     15026\n",
      "   macro avg       0.96      0.86      0.89     15026\n",
      "weighted avg       0.98      0.98      0.98     15026\n",
      "\n"
     ]
    }
   ],
   "source": [
    "print(classification_report(y_test, y_pred_svc))"
   ]
  },
  {
   "cell_type": "markdown",
   "id": "487c2973",
   "metadata": {},
   "source": [
    "### K-Nearest Neighbours"
   ]
  },
  {
   "cell_type": "code",
   "execution_count": 68,
   "id": "3c597a70",
   "metadata": {},
   "outputs": [],
   "source": [
    "#KNN model with default parameters\n",
    "knn = KNeighborsClassifier()"
   ]
  },
  {
   "cell_type": "code",
   "execution_count": 28,
   "id": "0866ef97",
   "metadata": {},
   "outputs": [
    {
     "data": {
      "text/plain": [
       "KNeighborsClassifier()"
      ]
     },
     "execution_count": 28,
     "metadata": {},
     "output_type": "execute_result"
    }
   ],
   "source": [
    "knn.fit(x_train,y_train)"
   ]
  },
  {
   "cell_type": "code",
   "execution_count": 29,
   "id": "932dd9ae",
   "metadata": {},
   "outputs": [
    {
     "name": "stderr",
     "output_type": "stream",
     "text": [
      "C:\\Users\\Manu\\anaconda3\\lib\\site-packages\\sklearn\\base.py:441: UserWarning: X does not have valid feature names, but KNeighborsClassifier was fitted with feature names\n",
      "  warnings.warn(\n"
     ]
    },
    {
     "data": {
      "text/plain": [
       "0.9852256089444962"
      ]
     },
     "execution_count": 29,
     "metadata": {},
     "output_type": "execute_result"
    }
   ],
   "source": [
    "knn.score(x_test, y_test)"
   ]
  },
  {
   "cell_type": "code",
   "execution_count": 69,
   "id": "76463f8f",
   "metadata": {},
   "outputs": [],
   "source": [
    "#GridSearch CV for hyperparameter tuning\n",
    "knn_param  = {\n",
    "    'n_neighbors':[3,9,15,21],\n",
    "    'algorithm' : ['auto', 'ball_tree', 'kd_tree', 'brute'],\n",
    "    'leaf_size' : [10 , 20 , 30 , 40, 50],\n",
    "    'p' : [1,2],\n",
    "    'weights' : ['uniform', 'distance']    \n",
    "}"
   ]
  },
  {
   "cell_type": "code",
   "execution_count": 72,
   "id": "5248ca89",
   "metadata": {},
   "outputs": [],
   "source": [
    "knn_grid = GridSearchCV(knn, param_grid=knn_param )"
   ]
  },
  {
   "cell_type": "code",
   "execution_count": 74,
   "id": "ca0d7542",
   "metadata": {
    "scrolled": true
   },
   "outputs": [
    {
     "name": "stderr",
     "output_type": "stream",
     "text": [
      "C:\\Users\\Manu\\anaconda3\\lib\\site-packages\\sklearn\\base.py:441: UserWarning: X does not have valid feature names, but KNeighborsClassifier was fitted with feature names\n",
      "  warnings.warn(\n",
      "C:\\Users\\Manu\\anaconda3\\lib\\site-packages\\sklearn\\base.py:441: UserWarning: X does not have valid feature names, but KNeighborsClassifier was fitted with feature names\n",
      "  warnings.warn(\n",
      "C:\\Users\\Manu\\anaconda3\\lib\\site-packages\\sklearn\\base.py:441: UserWarning: X does not have valid feature names, but KNeighborsClassifier was fitted with feature names\n",
      "  warnings.warn(\n",
      "C:\\Users\\Manu\\anaconda3\\lib\\site-packages\\sklearn\\base.py:441: UserWarning: X does not have valid feature names, but KNeighborsClassifier was fitted with feature names\n",
      "  warnings.warn(\n",
      "C:\\Users\\Manu\\anaconda3\\lib\\site-packages\\sklearn\\base.py:441: UserWarning: X does not have valid feature names, but KNeighborsClassifier was fitted with feature names\n",
      "  warnings.warn(\n",
      "C:\\Users\\Manu\\anaconda3\\lib\\site-packages\\sklearn\\base.py:441: UserWarning: X does not have valid feature names, but KNeighborsClassifier was fitted with feature names\n",
      "  warnings.warn(\n",
      "C:\\Users\\Manu\\anaconda3\\lib\\site-packages\\sklearn\\base.py:441: UserWarning: X does not have valid feature names, but KNeighborsClassifier was fitted with feature names\n",
      "  warnings.warn(\n",
      "C:\\Users\\Manu\\anaconda3\\lib\\site-packages\\sklearn\\base.py:441: UserWarning: X does not have valid feature names, but KNeighborsClassifier was fitted with feature names\n",
      "  warnings.warn(\n",
      "C:\\Users\\Manu\\anaconda3\\lib\\site-packages\\sklearn\\base.py:441: UserWarning: X does not have valid feature names, but KNeighborsClassifier was fitted with feature names\n",
      "  warnings.warn(\n",
      "C:\\Users\\Manu\\anaconda3\\lib\\site-packages\\sklearn\\base.py:441: UserWarning: X does not have valid feature names, but KNeighborsClassifier was fitted with feature names\n",
      "  warnings.warn(\n",
      "C:\\Users\\Manu\\anaconda3\\lib\\site-packages\\sklearn\\base.py:441: UserWarning: X does not have valid feature names, but KNeighborsClassifier was fitted with feature names\n",
      "  warnings.warn(\n",
      "C:\\Users\\Manu\\anaconda3\\lib\\site-packages\\sklearn\\base.py:441: UserWarning: X does not have valid feature names, but KNeighborsClassifier was fitted with feature names\n",
      "  warnings.warn(\n",
      "C:\\Users\\Manu\\anaconda3\\lib\\site-packages\\sklearn\\base.py:441: UserWarning: X does not have valid feature names, but KNeighborsClassifier was fitted with feature names\n",
      "  warnings.warn(\n",
      "C:\\Users\\Manu\\anaconda3\\lib\\site-packages\\sklearn\\base.py:441: UserWarning: X does not have valid feature names, but KNeighborsClassifier was fitted with feature names\n",
      "  warnings.warn(\n",
      "C:\\Users\\Manu\\anaconda3\\lib\\site-packages\\sklearn\\base.py:441: UserWarning: X does not have valid feature names, but KNeighborsClassifier was fitted with feature names\n",
      "  warnings.warn(\n",
      "C:\\Users\\Manu\\anaconda3\\lib\\site-packages\\sklearn\\base.py:441: UserWarning: X does not have valid feature names, but KNeighborsClassifier was fitted with feature names\n",
      "  warnings.warn(\n",
      "C:\\Users\\Manu\\anaconda3\\lib\\site-packages\\sklearn\\base.py:441: UserWarning: X does not have valid feature names, but KNeighborsClassifier was fitted with feature names\n",
      "  warnings.warn(\n",
      "C:\\Users\\Manu\\anaconda3\\lib\\site-packages\\sklearn\\base.py:441: UserWarning: X does not have valid feature names, but KNeighborsClassifier was fitted with feature names\n",
      "  warnings.warn(\n",
      "C:\\Users\\Manu\\anaconda3\\lib\\site-packages\\sklearn\\base.py:441: UserWarning: X does not have valid feature names, but KNeighborsClassifier was fitted with feature names\n",
      "  warnings.warn(\n",
      "C:\\Users\\Manu\\anaconda3\\lib\\site-packages\\sklearn\\base.py:441: UserWarning: X does not have valid feature names, but KNeighborsClassifier was fitted with feature names\n",
      "  warnings.warn(\n",
      "C:\\Users\\Manu\\anaconda3\\lib\\site-packages\\sklearn\\base.py:441: UserWarning: X does not have valid feature names, but KNeighborsClassifier was fitted with feature names\n",
      "  warnings.warn(\n",
      "C:\\Users\\Manu\\anaconda3\\lib\\site-packages\\sklearn\\base.py:441: UserWarning: X does not have valid feature names, but KNeighborsClassifier was fitted with feature names\n",
      "  warnings.warn(\n",
      "C:\\Users\\Manu\\anaconda3\\lib\\site-packages\\sklearn\\base.py:441: UserWarning: X does not have valid feature names, but KNeighborsClassifier was fitted with feature names\n",
      "  warnings.warn(\n",
      "C:\\Users\\Manu\\anaconda3\\lib\\site-packages\\sklearn\\base.py:441: UserWarning: X does not have valid feature names, but KNeighborsClassifier was fitted with feature names\n",
      "  warnings.warn(\n",
      "C:\\Users\\Manu\\anaconda3\\lib\\site-packages\\sklearn\\base.py:441: UserWarning: X does not have valid feature names, but KNeighborsClassifier was fitted with feature names\n",
      "  warnings.warn(\n",
      "C:\\Users\\Manu\\anaconda3\\lib\\site-packages\\sklearn\\base.py:441: UserWarning: X does not have valid feature names, but KNeighborsClassifier was fitted with feature names\n",
      "  warnings.warn(\n",
      "C:\\Users\\Manu\\anaconda3\\lib\\site-packages\\sklearn\\base.py:441: UserWarning: X does not have valid feature names, but KNeighborsClassifier was fitted with feature names\n",
      "  warnings.warn(\n",
      "C:\\Users\\Manu\\anaconda3\\lib\\site-packages\\sklearn\\base.py:441: UserWarning: X does not have valid feature names, but KNeighborsClassifier was fitted with feature names\n",
      "  warnings.warn(\n",
      "C:\\Users\\Manu\\anaconda3\\lib\\site-packages\\sklearn\\base.py:441: UserWarning: X does not have valid feature names, but KNeighborsClassifier was fitted with feature names\n",
      "  warnings.warn(\n",
      "C:\\Users\\Manu\\anaconda3\\lib\\site-packages\\sklearn\\base.py:441: UserWarning: X does not have valid feature names, but KNeighborsClassifier was fitted with feature names\n",
      "  warnings.warn(\n",
      "C:\\Users\\Manu\\anaconda3\\lib\\site-packages\\sklearn\\base.py:441: UserWarning: X does not have valid feature names, but KNeighborsClassifier was fitted with feature names\n",
      "  warnings.warn(\n",
      "C:\\Users\\Manu\\anaconda3\\lib\\site-packages\\sklearn\\base.py:441: UserWarning: X does not have valid feature names, but KNeighborsClassifier was fitted with feature names\n",
      "  warnings.warn(\n",
      "C:\\Users\\Manu\\anaconda3\\lib\\site-packages\\sklearn\\base.py:441: UserWarning: X does not have valid feature names, but KNeighborsClassifier was fitted with feature names\n",
      "  warnings.warn(\n",
      "C:\\Users\\Manu\\anaconda3\\lib\\site-packages\\sklearn\\base.py:441: UserWarning: X does not have valid feature names, but KNeighborsClassifier was fitted with feature names\n",
      "  warnings.warn(\n",
      "C:\\Users\\Manu\\anaconda3\\lib\\site-packages\\sklearn\\base.py:441: UserWarning: X does not have valid feature names, but KNeighborsClassifier was fitted with feature names\n",
      "  warnings.warn(\n",
      "C:\\Users\\Manu\\anaconda3\\lib\\site-packages\\sklearn\\base.py:441: UserWarning: X does not have valid feature names, but KNeighborsClassifier was fitted with feature names\n",
      "  warnings.warn(\n",
      "C:\\Users\\Manu\\anaconda3\\lib\\site-packages\\sklearn\\base.py:441: UserWarning: X does not have valid feature names, but KNeighborsClassifier was fitted with feature names\n",
      "  warnings.warn(\n",
      "C:\\Users\\Manu\\anaconda3\\lib\\site-packages\\sklearn\\base.py:441: UserWarning: X does not have valid feature names, but KNeighborsClassifier was fitted with feature names\n",
      "  warnings.warn(\n",
      "C:\\Users\\Manu\\anaconda3\\lib\\site-packages\\sklearn\\base.py:441: UserWarning: X does not have valid feature names, but KNeighborsClassifier was fitted with feature names\n",
      "  warnings.warn(\n",
      "C:\\Users\\Manu\\anaconda3\\lib\\site-packages\\sklearn\\base.py:441: UserWarning: X does not have valid feature names, but KNeighborsClassifier was fitted with feature names\n",
      "  warnings.warn(\n",
      "C:\\Users\\Manu\\anaconda3\\lib\\site-packages\\sklearn\\base.py:441: UserWarning: X does not have valid feature names, but KNeighborsClassifier was fitted with feature names\n",
      "  warnings.warn(\n",
      "C:\\Users\\Manu\\anaconda3\\lib\\site-packages\\sklearn\\base.py:441: UserWarning: X does not have valid feature names, but KNeighborsClassifier was fitted with feature names\n",
      "  warnings.warn(\n",
      "C:\\Users\\Manu\\anaconda3\\lib\\site-packages\\sklearn\\base.py:441: UserWarning: X does not have valid feature names, but KNeighborsClassifier was fitted with feature names\n",
      "  warnings.warn(\n",
      "C:\\Users\\Manu\\anaconda3\\lib\\site-packages\\sklearn\\base.py:441: UserWarning: X does not have valid feature names, but KNeighborsClassifier was fitted with feature names\n",
      "  warnings.warn(\n",
      "C:\\Users\\Manu\\anaconda3\\lib\\site-packages\\sklearn\\base.py:441: UserWarning: X does not have valid feature names, but KNeighborsClassifier was fitted with feature names\n",
      "  warnings.warn(\n"
     ]
    },
    {
     "name": "stderr",
     "output_type": "stream",
     "text": [
      "C:\\Users\\Manu\\anaconda3\\lib\\site-packages\\sklearn\\base.py:441: UserWarning: X does not have valid feature names, but KNeighborsClassifier was fitted with feature names\n",
      "  warnings.warn(\n",
      "C:\\Users\\Manu\\anaconda3\\lib\\site-packages\\sklearn\\base.py:441: UserWarning: X does not have valid feature names, but KNeighborsClassifier was fitted with feature names\n",
      "  warnings.warn(\n",
      "C:\\Users\\Manu\\anaconda3\\lib\\site-packages\\sklearn\\base.py:441: UserWarning: X does not have valid feature names, but KNeighborsClassifier was fitted with feature names\n",
      "  warnings.warn(\n",
      "C:\\Users\\Manu\\anaconda3\\lib\\site-packages\\sklearn\\base.py:441: UserWarning: X does not have valid feature names, but KNeighborsClassifier was fitted with feature names\n",
      "  warnings.warn(\n",
      "C:\\Users\\Manu\\anaconda3\\lib\\site-packages\\sklearn\\base.py:441: UserWarning: X does not have valid feature names, but KNeighborsClassifier was fitted with feature names\n",
      "  warnings.warn(\n",
      "C:\\Users\\Manu\\anaconda3\\lib\\site-packages\\sklearn\\base.py:441: UserWarning: X does not have valid feature names, but KNeighborsClassifier was fitted with feature names\n",
      "  warnings.warn(\n",
      "C:\\Users\\Manu\\anaconda3\\lib\\site-packages\\sklearn\\base.py:441: UserWarning: X does not have valid feature names, but KNeighborsClassifier was fitted with feature names\n",
      "  warnings.warn(\n",
      "C:\\Users\\Manu\\anaconda3\\lib\\site-packages\\sklearn\\base.py:441: UserWarning: X does not have valid feature names, but KNeighborsClassifier was fitted with feature names\n",
      "  warnings.warn(\n",
      "C:\\Users\\Manu\\anaconda3\\lib\\site-packages\\sklearn\\base.py:441: UserWarning: X does not have valid feature names, but KNeighborsClassifier was fitted with feature names\n",
      "  warnings.warn(\n",
      "C:\\Users\\Manu\\anaconda3\\lib\\site-packages\\sklearn\\base.py:441: UserWarning: X does not have valid feature names, but KNeighborsClassifier was fitted with feature names\n",
      "  warnings.warn(\n",
      "C:\\Users\\Manu\\anaconda3\\lib\\site-packages\\sklearn\\base.py:441: UserWarning: X does not have valid feature names, but KNeighborsClassifier was fitted with feature names\n",
      "  warnings.warn(\n",
      "C:\\Users\\Manu\\anaconda3\\lib\\site-packages\\sklearn\\base.py:441: UserWarning: X does not have valid feature names, but KNeighborsClassifier was fitted with feature names\n",
      "  warnings.warn(\n",
      "C:\\Users\\Manu\\anaconda3\\lib\\site-packages\\sklearn\\base.py:441: UserWarning: X does not have valid feature names, but KNeighborsClassifier was fitted with feature names\n",
      "  warnings.warn(\n",
      "C:\\Users\\Manu\\anaconda3\\lib\\site-packages\\sklearn\\base.py:441: UserWarning: X does not have valid feature names, but KNeighborsClassifier was fitted with feature names\n",
      "  warnings.warn(\n",
      "C:\\Users\\Manu\\anaconda3\\lib\\site-packages\\sklearn\\base.py:441: UserWarning: X does not have valid feature names, but KNeighborsClassifier was fitted with feature names\n",
      "  warnings.warn(\n",
      "C:\\Users\\Manu\\anaconda3\\lib\\site-packages\\sklearn\\base.py:441: UserWarning: X does not have valid feature names, but KNeighborsClassifier was fitted with feature names\n",
      "  warnings.warn(\n",
      "C:\\Users\\Manu\\anaconda3\\lib\\site-packages\\sklearn\\base.py:441: UserWarning: X does not have valid feature names, but KNeighborsClassifier was fitted with feature names\n",
      "  warnings.warn(\n",
      "C:\\Users\\Manu\\anaconda3\\lib\\site-packages\\sklearn\\base.py:441: UserWarning: X does not have valid feature names, but KNeighborsClassifier was fitted with feature names\n",
      "  warnings.warn(\n",
      "C:\\Users\\Manu\\anaconda3\\lib\\site-packages\\sklearn\\base.py:441: UserWarning: X does not have valid feature names, but KNeighborsClassifier was fitted with feature names\n",
      "  warnings.warn(\n",
      "C:\\Users\\Manu\\anaconda3\\lib\\site-packages\\sklearn\\base.py:441: UserWarning: X does not have valid feature names, but KNeighborsClassifier was fitted with feature names\n",
      "  warnings.warn(\n",
      "C:\\Users\\Manu\\anaconda3\\lib\\site-packages\\sklearn\\base.py:441: UserWarning: X does not have valid feature names, but KNeighborsClassifier was fitted with feature names\n",
      "  warnings.warn(\n",
      "C:\\Users\\Manu\\anaconda3\\lib\\site-packages\\sklearn\\base.py:441: UserWarning: X does not have valid feature names, but KNeighborsClassifier was fitted with feature names\n",
      "  warnings.warn(\n",
      "C:\\Users\\Manu\\anaconda3\\lib\\site-packages\\sklearn\\base.py:441: UserWarning: X does not have valid feature names, but KNeighborsClassifier was fitted with feature names\n",
      "  warnings.warn(\n",
      "C:\\Users\\Manu\\anaconda3\\lib\\site-packages\\sklearn\\base.py:441: UserWarning: X does not have valid feature names, but KNeighborsClassifier was fitted with feature names\n",
      "  warnings.warn(\n",
      "C:\\Users\\Manu\\anaconda3\\lib\\site-packages\\sklearn\\base.py:441: UserWarning: X does not have valid feature names, but KNeighborsClassifier was fitted with feature names\n",
      "  warnings.warn(\n",
      "C:\\Users\\Manu\\anaconda3\\lib\\site-packages\\sklearn\\base.py:441: UserWarning: X does not have valid feature names, but KNeighborsClassifier was fitted with feature names\n",
      "  warnings.warn(\n",
      "C:\\Users\\Manu\\anaconda3\\lib\\site-packages\\sklearn\\base.py:441: UserWarning: X does not have valid feature names, but KNeighborsClassifier was fitted with feature names\n",
      "  warnings.warn(\n",
      "C:\\Users\\Manu\\anaconda3\\lib\\site-packages\\sklearn\\base.py:441: UserWarning: X does not have valid feature names, but KNeighborsClassifier was fitted with feature names\n",
      "  warnings.warn(\n",
      "C:\\Users\\Manu\\anaconda3\\lib\\site-packages\\sklearn\\base.py:441: UserWarning: X does not have valid feature names, but KNeighborsClassifier was fitted with feature names\n",
      "  warnings.warn(\n",
      "C:\\Users\\Manu\\anaconda3\\lib\\site-packages\\sklearn\\base.py:441: UserWarning: X does not have valid feature names, but KNeighborsClassifier was fitted with feature names\n",
      "  warnings.warn(\n",
      "C:\\Users\\Manu\\anaconda3\\lib\\site-packages\\sklearn\\base.py:441: UserWarning: X does not have valid feature names, but KNeighborsClassifier was fitted with feature names\n",
      "  warnings.warn(\n",
      "C:\\Users\\Manu\\anaconda3\\lib\\site-packages\\sklearn\\base.py:441: UserWarning: X does not have valid feature names, but KNeighborsClassifier was fitted with feature names\n",
      "  warnings.warn(\n",
      "C:\\Users\\Manu\\anaconda3\\lib\\site-packages\\sklearn\\base.py:441: UserWarning: X does not have valid feature names, but KNeighborsClassifier was fitted with feature names\n",
      "  warnings.warn(\n",
      "C:\\Users\\Manu\\anaconda3\\lib\\site-packages\\sklearn\\base.py:441: UserWarning: X does not have valid feature names, but KNeighborsClassifier was fitted with feature names\n",
      "  warnings.warn(\n",
      "C:\\Users\\Manu\\anaconda3\\lib\\site-packages\\sklearn\\base.py:441: UserWarning: X does not have valid feature names, but KNeighborsClassifier was fitted with feature names\n",
      "  warnings.warn(\n",
      "C:\\Users\\Manu\\anaconda3\\lib\\site-packages\\sklearn\\base.py:441: UserWarning: X does not have valid feature names, but KNeighborsClassifier was fitted with feature names\n",
      "  warnings.warn(\n",
      "C:\\Users\\Manu\\anaconda3\\lib\\site-packages\\sklearn\\base.py:441: UserWarning: X does not have valid feature names, but KNeighborsClassifier was fitted with feature names\n",
      "  warnings.warn(\n",
      "C:\\Users\\Manu\\anaconda3\\lib\\site-packages\\sklearn\\base.py:441: UserWarning: X does not have valid feature names, but KNeighborsClassifier was fitted with feature names\n",
      "  warnings.warn(\n",
      "C:\\Users\\Manu\\anaconda3\\lib\\site-packages\\sklearn\\base.py:441: UserWarning: X does not have valid feature names, but KNeighborsClassifier was fitted with feature names\n",
      "  warnings.warn(\n",
      "C:\\Users\\Manu\\anaconda3\\lib\\site-packages\\sklearn\\base.py:441: UserWarning: X does not have valid feature names, but KNeighborsClassifier was fitted with feature names\n",
      "  warnings.warn(\n",
      "C:\\Users\\Manu\\anaconda3\\lib\\site-packages\\sklearn\\base.py:441: UserWarning: X does not have valid feature names, but KNeighborsClassifier was fitted with feature names\n",
      "  warnings.warn(\n",
      "C:\\Users\\Manu\\anaconda3\\lib\\site-packages\\sklearn\\base.py:441: UserWarning: X does not have valid feature names, but KNeighborsClassifier was fitted with feature names\n",
      "  warnings.warn(\n",
      "C:\\Users\\Manu\\anaconda3\\lib\\site-packages\\sklearn\\base.py:441: UserWarning: X does not have valid feature names, but KNeighborsClassifier was fitted with feature names\n",
      "  warnings.warn(\n",
      "C:\\Users\\Manu\\anaconda3\\lib\\site-packages\\sklearn\\base.py:441: UserWarning: X does not have valid feature names, but KNeighborsClassifier was fitted with feature names\n",
      "  warnings.warn(\n",
      "C:\\Users\\Manu\\anaconda3\\lib\\site-packages\\sklearn\\base.py:441: UserWarning: X does not have valid feature names, but KNeighborsClassifier was fitted with feature names\n",
      "  warnings.warn(\n"
     ]
    },
    {
     "name": "stderr",
     "output_type": "stream",
     "text": [
      "C:\\Users\\Manu\\anaconda3\\lib\\site-packages\\sklearn\\base.py:441: UserWarning: X does not have valid feature names, but KNeighborsClassifier was fitted with feature names\n",
      "  warnings.warn(\n",
      "C:\\Users\\Manu\\anaconda3\\lib\\site-packages\\sklearn\\base.py:441: UserWarning: X does not have valid feature names, but KNeighborsClassifier was fitted with feature names\n",
      "  warnings.warn(\n",
      "C:\\Users\\Manu\\anaconda3\\lib\\site-packages\\sklearn\\base.py:441: UserWarning: X does not have valid feature names, but KNeighborsClassifier was fitted with feature names\n",
      "  warnings.warn(\n",
      "C:\\Users\\Manu\\anaconda3\\lib\\site-packages\\sklearn\\base.py:441: UserWarning: X does not have valid feature names, but KNeighborsClassifier was fitted with feature names\n",
      "  warnings.warn(\n",
      "C:\\Users\\Manu\\anaconda3\\lib\\site-packages\\sklearn\\base.py:441: UserWarning: X does not have valid feature names, but KNeighborsClassifier was fitted with feature names\n",
      "  warnings.warn(\n",
      "C:\\Users\\Manu\\anaconda3\\lib\\site-packages\\sklearn\\base.py:441: UserWarning: X does not have valid feature names, but KNeighborsClassifier was fitted with feature names\n",
      "  warnings.warn(\n",
      "C:\\Users\\Manu\\anaconda3\\lib\\site-packages\\sklearn\\base.py:441: UserWarning: X does not have valid feature names, but KNeighborsClassifier was fitted with feature names\n",
      "  warnings.warn(\n",
      "C:\\Users\\Manu\\anaconda3\\lib\\site-packages\\sklearn\\base.py:441: UserWarning: X does not have valid feature names, but KNeighborsClassifier was fitted with feature names\n",
      "  warnings.warn(\n",
      "C:\\Users\\Manu\\anaconda3\\lib\\site-packages\\sklearn\\base.py:441: UserWarning: X does not have valid feature names, but KNeighborsClassifier was fitted with feature names\n",
      "  warnings.warn(\n",
      "C:\\Users\\Manu\\anaconda3\\lib\\site-packages\\sklearn\\base.py:441: UserWarning: X does not have valid feature names, but KNeighborsClassifier was fitted with feature names\n",
      "  warnings.warn(\n",
      "C:\\Users\\Manu\\anaconda3\\lib\\site-packages\\sklearn\\base.py:441: UserWarning: X does not have valid feature names, but KNeighborsClassifier was fitted with feature names\n",
      "  warnings.warn(\n",
      "C:\\Users\\Manu\\anaconda3\\lib\\site-packages\\sklearn\\base.py:441: UserWarning: X does not have valid feature names, but KNeighborsClassifier was fitted with feature names\n",
      "  warnings.warn(\n",
      "C:\\Users\\Manu\\anaconda3\\lib\\site-packages\\sklearn\\base.py:441: UserWarning: X does not have valid feature names, but KNeighborsClassifier was fitted with feature names\n",
      "  warnings.warn(\n",
      "C:\\Users\\Manu\\anaconda3\\lib\\site-packages\\sklearn\\base.py:441: UserWarning: X does not have valid feature names, but KNeighborsClassifier was fitted with feature names\n",
      "  warnings.warn(\n",
      "C:\\Users\\Manu\\anaconda3\\lib\\site-packages\\sklearn\\base.py:441: UserWarning: X does not have valid feature names, but KNeighborsClassifier was fitted with feature names\n",
      "  warnings.warn(\n",
      "C:\\Users\\Manu\\anaconda3\\lib\\site-packages\\sklearn\\base.py:441: UserWarning: X does not have valid feature names, but KNeighborsClassifier was fitted with feature names\n",
      "  warnings.warn(\n",
      "C:\\Users\\Manu\\anaconda3\\lib\\site-packages\\sklearn\\base.py:441: UserWarning: X does not have valid feature names, but KNeighborsClassifier was fitted with feature names\n",
      "  warnings.warn(\n",
      "C:\\Users\\Manu\\anaconda3\\lib\\site-packages\\sklearn\\base.py:441: UserWarning: X does not have valid feature names, but KNeighborsClassifier was fitted with feature names\n",
      "  warnings.warn(\n",
      "C:\\Users\\Manu\\anaconda3\\lib\\site-packages\\sklearn\\base.py:441: UserWarning: X does not have valid feature names, but KNeighborsClassifier was fitted with feature names\n",
      "  warnings.warn(\n",
      "C:\\Users\\Manu\\anaconda3\\lib\\site-packages\\sklearn\\base.py:441: UserWarning: X does not have valid feature names, but KNeighborsClassifier was fitted with feature names\n",
      "  warnings.warn(\n",
      "C:\\Users\\Manu\\anaconda3\\lib\\site-packages\\sklearn\\base.py:441: UserWarning: X does not have valid feature names, but KNeighborsClassifier was fitted with feature names\n",
      "  warnings.warn(\n",
      "C:\\Users\\Manu\\anaconda3\\lib\\site-packages\\sklearn\\base.py:441: UserWarning: X does not have valid feature names, but KNeighborsClassifier was fitted with feature names\n",
      "  warnings.warn(\n",
      "C:\\Users\\Manu\\anaconda3\\lib\\site-packages\\sklearn\\base.py:441: UserWarning: X does not have valid feature names, but KNeighborsClassifier was fitted with feature names\n",
      "  warnings.warn(\n",
      "C:\\Users\\Manu\\anaconda3\\lib\\site-packages\\sklearn\\base.py:441: UserWarning: X does not have valid feature names, but KNeighborsClassifier was fitted with feature names\n",
      "  warnings.warn(\n",
      "C:\\Users\\Manu\\anaconda3\\lib\\site-packages\\sklearn\\base.py:441: UserWarning: X does not have valid feature names, but KNeighborsClassifier was fitted with feature names\n",
      "  warnings.warn(\n",
      "C:\\Users\\Manu\\anaconda3\\lib\\site-packages\\sklearn\\base.py:441: UserWarning: X does not have valid feature names, but KNeighborsClassifier was fitted with feature names\n",
      "  warnings.warn(\n",
      "C:\\Users\\Manu\\anaconda3\\lib\\site-packages\\sklearn\\base.py:441: UserWarning: X does not have valid feature names, but KNeighborsClassifier was fitted with feature names\n",
      "  warnings.warn(\n",
      "C:\\Users\\Manu\\anaconda3\\lib\\site-packages\\sklearn\\base.py:441: UserWarning: X does not have valid feature names, but KNeighborsClassifier was fitted with feature names\n",
      "  warnings.warn(\n",
      "C:\\Users\\Manu\\anaconda3\\lib\\site-packages\\sklearn\\base.py:441: UserWarning: X does not have valid feature names, but KNeighborsClassifier was fitted with feature names\n",
      "  warnings.warn(\n",
      "C:\\Users\\Manu\\anaconda3\\lib\\site-packages\\sklearn\\base.py:441: UserWarning: X does not have valid feature names, but KNeighborsClassifier was fitted with feature names\n",
      "  warnings.warn(\n",
      "C:\\Users\\Manu\\anaconda3\\lib\\site-packages\\sklearn\\base.py:441: UserWarning: X does not have valid feature names, but KNeighborsClassifier was fitted with feature names\n",
      "  warnings.warn(\n",
      "C:\\Users\\Manu\\anaconda3\\lib\\site-packages\\sklearn\\base.py:441: UserWarning: X does not have valid feature names, but KNeighborsClassifier was fitted with feature names\n",
      "  warnings.warn(\n",
      "C:\\Users\\Manu\\anaconda3\\lib\\site-packages\\sklearn\\base.py:441: UserWarning: X does not have valid feature names, but KNeighborsClassifier was fitted with feature names\n",
      "  warnings.warn(\n",
      "C:\\Users\\Manu\\anaconda3\\lib\\site-packages\\sklearn\\base.py:441: UserWarning: X does not have valid feature names, but KNeighborsClassifier was fitted with feature names\n",
      "  warnings.warn(\n",
      "C:\\Users\\Manu\\anaconda3\\lib\\site-packages\\sklearn\\base.py:441: UserWarning: X does not have valid feature names, but KNeighborsClassifier was fitted with feature names\n",
      "  warnings.warn(\n",
      "C:\\Users\\Manu\\anaconda3\\lib\\site-packages\\sklearn\\base.py:441: UserWarning: X does not have valid feature names, but KNeighborsClassifier was fitted with feature names\n",
      "  warnings.warn(\n",
      "C:\\Users\\Manu\\anaconda3\\lib\\site-packages\\sklearn\\base.py:441: UserWarning: X does not have valid feature names, but KNeighborsClassifier was fitted with feature names\n",
      "  warnings.warn(\n",
      "C:\\Users\\Manu\\anaconda3\\lib\\site-packages\\sklearn\\base.py:441: UserWarning: X does not have valid feature names, but KNeighborsClassifier was fitted with feature names\n",
      "  warnings.warn(\n",
      "C:\\Users\\Manu\\anaconda3\\lib\\site-packages\\sklearn\\base.py:441: UserWarning: X does not have valid feature names, but KNeighborsClassifier was fitted with feature names\n",
      "  warnings.warn(\n",
      "C:\\Users\\Manu\\anaconda3\\lib\\site-packages\\sklearn\\base.py:441: UserWarning: X does not have valid feature names, but KNeighborsClassifier was fitted with feature names\n",
      "  warnings.warn(\n",
      "C:\\Users\\Manu\\anaconda3\\lib\\site-packages\\sklearn\\base.py:441: UserWarning: X does not have valid feature names, but KNeighborsClassifier was fitted with feature names\n",
      "  warnings.warn(\n",
      "C:\\Users\\Manu\\anaconda3\\lib\\site-packages\\sklearn\\base.py:441: UserWarning: X does not have valid feature names, but KNeighborsClassifier was fitted with feature names\n",
      "  warnings.warn(\n",
      "C:\\Users\\Manu\\anaconda3\\lib\\site-packages\\sklearn\\base.py:441: UserWarning: X does not have valid feature names, but KNeighborsClassifier was fitted with feature names\n",
      "  warnings.warn(\n",
      "C:\\Users\\Manu\\anaconda3\\lib\\site-packages\\sklearn\\base.py:441: UserWarning: X does not have valid feature names, but KNeighborsClassifier was fitted with feature names\n",
      "  warnings.warn(\n",
      "C:\\Users\\Manu\\anaconda3\\lib\\site-packages\\sklearn\\base.py:441: UserWarning: X does not have valid feature names, but KNeighborsClassifier was fitted with feature names\n",
      "  warnings.warn(\n"
     ]
    },
    {
     "name": "stderr",
     "output_type": "stream",
     "text": [
      "C:\\Users\\Manu\\anaconda3\\lib\\site-packages\\sklearn\\base.py:441: UserWarning: X does not have valid feature names, but KNeighborsClassifier was fitted with feature names\n",
      "  warnings.warn(\n",
      "C:\\Users\\Manu\\anaconda3\\lib\\site-packages\\sklearn\\base.py:441: UserWarning: X does not have valid feature names, but KNeighborsClassifier was fitted with feature names\n",
      "  warnings.warn(\n",
      "C:\\Users\\Manu\\anaconda3\\lib\\site-packages\\sklearn\\base.py:441: UserWarning: X does not have valid feature names, but KNeighborsClassifier was fitted with feature names\n",
      "  warnings.warn(\n",
      "C:\\Users\\Manu\\anaconda3\\lib\\site-packages\\sklearn\\base.py:441: UserWarning: X does not have valid feature names, but KNeighborsClassifier was fitted with feature names\n",
      "  warnings.warn(\n",
      "C:\\Users\\Manu\\anaconda3\\lib\\site-packages\\sklearn\\base.py:441: UserWarning: X does not have valid feature names, but KNeighborsClassifier was fitted with feature names\n",
      "  warnings.warn(\n",
      "C:\\Users\\Manu\\anaconda3\\lib\\site-packages\\sklearn\\base.py:441: UserWarning: X does not have valid feature names, but KNeighborsClassifier was fitted with feature names\n",
      "  warnings.warn(\n",
      "C:\\Users\\Manu\\anaconda3\\lib\\site-packages\\sklearn\\base.py:441: UserWarning: X does not have valid feature names, but KNeighborsClassifier was fitted with feature names\n",
      "  warnings.warn(\n",
      "C:\\Users\\Manu\\anaconda3\\lib\\site-packages\\sklearn\\base.py:441: UserWarning: X does not have valid feature names, but KNeighborsClassifier was fitted with feature names\n",
      "  warnings.warn(\n",
      "C:\\Users\\Manu\\anaconda3\\lib\\site-packages\\sklearn\\base.py:441: UserWarning: X does not have valid feature names, but KNeighborsClassifier was fitted with feature names\n",
      "  warnings.warn(\n",
      "C:\\Users\\Manu\\anaconda3\\lib\\site-packages\\sklearn\\base.py:441: UserWarning: X does not have valid feature names, but KNeighborsClassifier was fitted with feature names\n",
      "  warnings.warn(\n",
      "C:\\Users\\Manu\\anaconda3\\lib\\site-packages\\sklearn\\base.py:441: UserWarning: X does not have valid feature names, but KNeighborsClassifier was fitted with feature names\n",
      "  warnings.warn(\n",
      "C:\\Users\\Manu\\anaconda3\\lib\\site-packages\\sklearn\\base.py:441: UserWarning: X does not have valid feature names, but KNeighborsClassifier was fitted with feature names\n",
      "  warnings.warn(\n",
      "C:\\Users\\Manu\\anaconda3\\lib\\site-packages\\sklearn\\base.py:441: UserWarning: X does not have valid feature names, but KNeighborsClassifier was fitted with feature names\n",
      "  warnings.warn(\n",
      "C:\\Users\\Manu\\anaconda3\\lib\\site-packages\\sklearn\\base.py:441: UserWarning: X does not have valid feature names, but KNeighborsClassifier was fitted with feature names\n",
      "  warnings.warn(\n",
      "C:\\Users\\Manu\\anaconda3\\lib\\site-packages\\sklearn\\base.py:441: UserWarning: X does not have valid feature names, but KNeighborsClassifier was fitted with feature names\n",
      "  warnings.warn(\n",
      "C:\\Users\\Manu\\anaconda3\\lib\\site-packages\\sklearn\\base.py:441: UserWarning: X does not have valid feature names, but KNeighborsClassifier was fitted with feature names\n",
      "  warnings.warn(\n",
      "C:\\Users\\Manu\\anaconda3\\lib\\site-packages\\sklearn\\base.py:441: UserWarning: X does not have valid feature names, but KNeighborsClassifier was fitted with feature names\n",
      "  warnings.warn(\n",
      "C:\\Users\\Manu\\anaconda3\\lib\\site-packages\\sklearn\\base.py:441: UserWarning: X does not have valid feature names, but KNeighborsClassifier was fitted with feature names\n",
      "  warnings.warn(\n",
      "C:\\Users\\Manu\\anaconda3\\lib\\site-packages\\sklearn\\base.py:441: UserWarning: X does not have valid feature names, but KNeighborsClassifier was fitted with feature names\n",
      "  warnings.warn(\n",
      "C:\\Users\\Manu\\anaconda3\\lib\\site-packages\\sklearn\\base.py:441: UserWarning: X does not have valid feature names, but KNeighborsClassifier was fitted with feature names\n",
      "  warnings.warn(\n",
      "C:\\Users\\Manu\\anaconda3\\lib\\site-packages\\sklearn\\base.py:441: UserWarning: X does not have valid feature names, but KNeighborsClassifier was fitted with feature names\n",
      "  warnings.warn(\n",
      "C:\\Users\\Manu\\anaconda3\\lib\\site-packages\\sklearn\\base.py:441: UserWarning: X does not have valid feature names, but KNeighborsClassifier was fitted with feature names\n",
      "  warnings.warn(\n",
      "C:\\Users\\Manu\\anaconda3\\lib\\site-packages\\sklearn\\base.py:441: UserWarning: X does not have valid feature names, but KNeighborsClassifier was fitted with feature names\n",
      "  warnings.warn(\n",
      "C:\\Users\\Manu\\anaconda3\\lib\\site-packages\\sklearn\\base.py:441: UserWarning: X does not have valid feature names, but KNeighborsClassifier was fitted with feature names\n",
      "  warnings.warn(\n",
      "C:\\Users\\Manu\\anaconda3\\lib\\site-packages\\sklearn\\base.py:441: UserWarning: X does not have valid feature names, but KNeighborsClassifier was fitted with feature names\n",
      "  warnings.warn(\n",
      "C:\\Users\\Manu\\anaconda3\\lib\\site-packages\\sklearn\\base.py:441: UserWarning: X does not have valid feature names, but KNeighborsClassifier was fitted with feature names\n",
      "  warnings.warn(\n",
      "C:\\Users\\Manu\\anaconda3\\lib\\site-packages\\sklearn\\base.py:441: UserWarning: X does not have valid feature names, but KNeighborsClassifier was fitted with feature names\n",
      "  warnings.warn(\n",
      "C:\\Users\\Manu\\anaconda3\\lib\\site-packages\\sklearn\\base.py:441: UserWarning: X does not have valid feature names, but KNeighborsClassifier was fitted with feature names\n",
      "  warnings.warn(\n",
      "C:\\Users\\Manu\\anaconda3\\lib\\site-packages\\sklearn\\base.py:441: UserWarning: X does not have valid feature names, but KNeighborsClassifier was fitted with feature names\n",
      "  warnings.warn(\n",
      "C:\\Users\\Manu\\anaconda3\\lib\\site-packages\\sklearn\\base.py:441: UserWarning: X does not have valid feature names, but KNeighborsClassifier was fitted with feature names\n",
      "  warnings.warn(\n",
      "C:\\Users\\Manu\\anaconda3\\lib\\site-packages\\sklearn\\base.py:441: UserWarning: X does not have valid feature names, but KNeighborsClassifier was fitted with feature names\n",
      "  warnings.warn(\n",
      "C:\\Users\\Manu\\anaconda3\\lib\\site-packages\\sklearn\\base.py:441: UserWarning: X does not have valid feature names, but KNeighborsClassifier was fitted with feature names\n",
      "  warnings.warn(\n",
      "C:\\Users\\Manu\\anaconda3\\lib\\site-packages\\sklearn\\base.py:441: UserWarning: X does not have valid feature names, but KNeighborsClassifier was fitted with feature names\n",
      "  warnings.warn(\n",
      "C:\\Users\\Manu\\anaconda3\\lib\\site-packages\\sklearn\\base.py:441: UserWarning: X does not have valid feature names, but KNeighborsClassifier was fitted with feature names\n",
      "  warnings.warn(\n",
      "C:\\Users\\Manu\\anaconda3\\lib\\site-packages\\sklearn\\base.py:441: UserWarning: X does not have valid feature names, but KNeighborsClassifier was fitted with feature names\n",
      "  warnings.warn(\n",
      "C:\\Users\\Manu\\anaconda3\\lib\\site-packages\\sklearn\\base.py:441: UserWarning: X does not have valid feature names, but KNeighborsClassifier was fitted with feature names\n",
      "  warnings.warn(\n",
      "C:\\Users\\Manu\\anaconda3\\lib\\site-packages\\sklearn\\base.py:441: UserWarning: X does not have valid feature names, but KNeighborsClassifier was fitted with feature names\n",
      "  warnings.warn(\n",
      "C:\\Users\\Manu\\anaconda3\\lib\\site-packages\\sklearn\\base.py:441: UserWarning: X does not have valid feature names, but KNeighborsClassifier was fitted with feature names\n",
      "  warnings.warn(\n",
      "C:\\Users\\Manu\\anaconda3\\lib\\site-packages\\sklearn\\base.py:441: UserWarning: X does not have valid feature names, but KNeighborsClassifier was fitted with feature names\n",
      "  warnings.warn(\n",
      "C:\\Users\\Manu\\anaconda3\\lib\\site-packages\\sklearn\\base.py:441: UserWarning: X does not have valid feature names, but KNeighborsClassifier was fitted with feature names\n",
      "  warnings.warn(\n",
      "C:\\Users\\Manu\\anaconda3\\lib\\site-packages\\sklearn\\base.py:441: UserWarning: X does not have valid feature names, but KNeighborsClassifier was fitted with feature names\n",
      "  warnings.warn(\n",
      "C:\\Users\\Manu\\anaconda3\\lib\\site-packages\\sklearn\\base.py:441: UserWarning: X does not have valid feature names, but KNeighborsClassifier was fitted with feature names\n",
      "  warnings.warn(\n",
      "C:\\Users\\Manu\\anaconda3\\lib\\site-packages\\sklearn\\base.py:441: UserWarning: X does not have valid feature names, but KNeighborsClassifier was fitted with feature names\n",
      "  warnings.warn(\n",
      "C:\\Users\\Manu\\anaconda3\\lib\\site-packages\\sklearn\\base.py:441: UserWarning: X does not have valid feature names, but KNeighborsClassifier was fitted with feature names\n",
      "  warnings.warn(\n",
      "C:\\Users\\Manu\\anaconda3\\lib\\site-packages\\sklearn\\base.py:441: UserWarning: X does not have valid feature names, but KNeighborsClassifier was fitted with feature names\n",
      "  warnings.warn(\n"
     ]
    },
    {
     "name": "stderr",
     "output_type": "stream",
     "text": [
      "C:\\Users\\Manu\\anaconda3\\lib\\site-packages\\sklearn\\base.py:441: UserWarning: X does not have valid feature names, but KNeighborsClassifier was fitted with feature names\n",
      "  warnings.warn(\n",
      "C:\\Users\\Manu\\anaconda3\\lib\\site-packages\\sklearn\\base.py:441: UserWarning: X does not have valid feature names, but KNeighborsClassifier was fitted with feature names\n",
      "  warnings.warn(\n",
      "C:\\Users\\Manu\\anaconda3\\lib\\site-packages\\sklearn\\base.py:441: UserWarning: X does not have valid feature names, but KNeighborsClassifier was fitted with feature names\n",
      "  warnings.warn(\n",
      "C:\\Users\\Manu\\anaconda3\\lib\\site-packages\\sklearn\\base.py:441: UserWarning: X does not have valid feature names, but KNeighborsClassifier was fitted with feature names\n",
      "  warnings.warn(\n",
      "C:\\Users\\Manu\\anaconda3\\lib\\site-packages\\sklearn\\base.py:441: UserWarning: X does not have valid feature names, but KNeighborsClassifier was fitted with feature names\n",
      "  warnings.warn(\n",
      "C:\\Users\\Manu\\anaconda3\\lib\\site-packages\\sklearn\\base.py:441: UserWarning: X does not have valid feature names, but KNeighborsClassifier was fitted with feature names\n",
      "  warnings.warn(\n",
      "C:\\Users\\Manu\\anaconda3\\lib\\site-packages\\sklearn\\base.py:441: UserWarning: X does not have valid feature names, but KNeighborsClassifier was fitted with feature names\n",
      "  warnings.warn(\n",
      "C:\\Users\\Manu\\anaconda3\\lib\\site-packages\\sklearn\\base.py:441: UserWarning: X does not have valid feature names, but KNeighborsClassifier was fitted with feature names\n",
      "  warnings.warn(\n",
      "C:\\Users\\Manu\\anaconda3\\lib\\site-packages\\sklearn\\base.py:441: UserWarning: X does not have valid feature names, but KNeighborsClassifier was fitted with feature names\n",
      "  warnings.warn(\n",
      "C:\\Users\\Manu\\anaconda3\\lib\\site-packages\\sklearn\\base.py:441: UserWarning: X does not have valid feature names, but KNeighborsClassifier was fitted with feature names\n",
      "  warnings.warn(\n",
      "C:\\Users\\Manu\\anaconda3\\lib\\site-packages\\sklearn\\base.py:441: UserWarning: X does not have valid feature names, but KNeighborsClassifier was fitted with feature names\n",
      "  warnings.warn(\n",
      "C:\\Users\\Manu\\anaconda3\\lib\\site-packages\\sklearn\\base.py:441: UserWarning: X does not have valid feature names, but KNeighborsClassifier was fitted with feature names\n",
      "  warnings.warn(\n",
      "C:\\Users\\Manu\\anaconda3\\lib\\site-packages\\sklearn\\base.py:441: UserWarning: X does not have valid feature names, but KNeighborsClassifier was fitted with feature names\n",
      "  warnings.warn(\n",
      "C:\\Users\\Manu\\anaconda3\\lib\\site-packages\\sklearn\\base.py:441: UserWarning: X does not have valid feature names, but KNeighborsClassifier was fitted with feature names\n",
      "  warnings.warn(\n",
      "C:\\Users\\Manu\\anaconda3\\lib\\site-packages\\sklearn\\base.py:441: UserWarning: X does not have valid feature names, but KNeighborsClassifier was fitted with feature names\n",
      "  warnings.warn(\n",
      "C:\\Users\\Manu\\anaconda3\\lib\\site-packages\\sklearn\\base.py:441: UserWarning: X does not have valid feature names, but KNeighborsClassifier was fitted with feature names\n",
      "  warnings.warn(\n",
      "C:\\Users\\Manu\\anaconda3\\lib\\site-packages\\sklearn\\base.py:441: UserWarning: X does not have valid feature names, but KNeighborsClassifier was fitted with feature names\n",
      "  warnings.warn(\n",
      "C:\\Users\\Manu\\anaconda3\\lib\\site-packages\\sklearn\\base.py:441: UserWarning: X does not have valid feature names, but KNeighborsClassifier was fitted with feature names\n",
      "  warnings.warn(\n",
      "C:\\Users\\Manu\\anaconda3\\lib\\site-packages\\sklearn\\base.py:441: UserWarning: X does not have valid feature names, but KNeighborsClassifier was fitted with feature names\n",
      "  warnings.warn(\n",
      "C:\\Users\\Manu\\anaconda3\\lib\\site-packages\\sklearn\\base.py:441: UserWarning: X does not have valid feature names, but KNeighborsClassifier was fitted with feature names\n",
      "  warnings.warn(\n",
      "C:\\Users\\Manu\\anaconda3\\lib\\site-packages\\sklearn\\base.py:441: UserWarning: X does not have valid feature names, but KNeighborsClassifier was fitted with feature names\n",
      "  warnings.warn(\n",
      "C:\\Users\\Manu\\anaconda3\\lib\\site-packages\\sklearn\\base.py:441: UserWarning: X does not have valid feature names, but KNeighborsClassifier was fitted with feature names\n",
      "  warnings.warn(\n",
      "C:\\Users\\Manu\\anaconda3\\lib\\site-packages\\sklearn\\base.py:441: UserWarning: X does not have valid feature names, but KNeighborsClassifier was fitted with feature names\n",
      "  warnings.warn(\n",
      "C:\\Users\\Manu\\anaconda3\\lib\\site-packages\\sklearn\\base.py:441: UserWarning: X does not have valid feature names, but KNeighborsClassifier was fitted with feature names\n",
      "  warnings.warn(\n",
      "C:\\Users\\Manu\\anaconda3\\lib\\site-packages\\sklearn\\base.py:441: UserWarning: X does not have valid feature names, but KNeighborsClassifier was fitted with feature names\n",
      "  warnings.warn(\n",
      "C:\\Users\\Manu\\anaconda3\\lib\\site-packages\\sklearn\\base.py:441: UserWarning: X does not have valid feature names, but KNeighborsClassifier was fitted with feature names\n",
      "  warnings.warn(\n",
      "C:\\Users\\Manu\\anaconda3\\lib\\site-packages\\sklearn\\base.py:441: UserWarning: X does not have valid feature names, but KNeighborsClassifier was fitted with feature names\n",
      "  warnings.warn(\n",
      "C:\\Users\\Manu\\anaconda3\\lib\\site-packages\\sklearn\\base.py:441: UserWarning: X does not have valid feature names, but KNeighborsClassifier was fitted with feature names\n",
      "  warnings.warn(\n",
      "C:\\Users\\Manu\\anaconda3\\lib\\site-packages\\sklearn\\base.py:441: UserWarning: X does not have valid feature names, but KNeighborsClassifier was fitted with feature names\n",
      "  warnings.warn(\n",
      "C:\\Users\\Manu\\anaconda3\\lib\\site-packages\\sklearn\\base.py:441: UserWarning: X does not have valid feature names, but KNeighborsClassifier was fitted with feature names\n",
      "  warnings.warn(\n",
      "C:\\Users\\Manu\\anaconda3\\lib\\site-packages\\sklearn\\base.py:441: UserWarning: X does not have valid feature names, but KNeighborsClassifier was fitted with feature names\n",
      "  warnings.warn(\n",
      "C:\\Users\\Manu\\anaconda3\\lib\\site-packages\\sklearn\\base.py:441: UserWarning: X does not have valid feature names, but KNeighborsClassifier was fitted with feature names\n",
      "  warnings.warn(\n",
      "C:\\Users\\Manu\\anaconda3\\lib\\site-packages\\sklearn\\base.py:441: UserWarning: X does not have valid feature names, but KNeighborsClassifier was fitted with feature names\n",
      "  warnings.warn(\n",
      "C:\\Users\\Manu\\anaconda3\\lib\\site-packages\\sklearn\\base.py:441: UserWarning: X does not have valid feature names, but KNeighborsClassifier was fitted with feature names\n",
      "  warnings.warn(\n",
      "C:\\Users\\Manu\\anaconda3\\lib\\site-packages\\sklearn\\base.py:441: UserWarning: X does not have valid feature names, but KNeighborsClassifier was fitted with feature names\n",
      "  warnings.warn(\n",
      "C:\\Users\\Manu\\anaconda3\\lib\\site-packages\\sklearn\\base.py:441: UserWarning: X does not have valid feature names, but KNeighborsClassifier was fitted with feature names\n",
      "  warnings.warn(\n",
      "C:\\Users\\Manu\\anaconda3\\lib\\site-packages\\sklearn\\base.py:441: UserWarning: X does not have valid feature names, but KNeighborsClassifier was fitted with feature names\n",
      "  warnings.warn(\n",
      "C:\\Users\\Manu\\anaconda3\\lib\\site-packages\\sklearn\\base.py:441: UserWarning: X does not have valid feature names, but KNeighborsClassifier was fitted with feature names\n",
      "  warnings.warn(\n",
      "C:\\Users\\Manu\\anaconda3\\lib\\site-packages\\sklearn\\base.py:441: UserWarning: X does not have valid feature names, but KNeighborsClassifier was fitted with feature names\n",
      "  warnings.warn(\n",
      "C:\\Users\\Manu\\anaconda3\\lib\\site-packages\\sklearn\\base.py:441: UserWarning: X does not have valid feature names, but KNeighborsClassifier was fitted with feature names\n",
      "  warnings.warn(\n",
      "C:\\Users\\Manu\\anaconda3\\lib\\site-packages\\sklearn\\base.py:441: UserWarning: X does not have valid feature names, but KNeighborsClassifier was fitted with feature names\n",
      "  warnings.warn(\n",
      "C:\\Users\\Manu\\anaconda3\\lib\\site-packages\\sklearn\\base.py:441: UserWarning: X does not have valid feature names, but KNeighborsClassifier was fitted with feature names\n",
      "  warnings.warn(\n",
      "C:\\Users\\Manu\\anaconda3\\lib\\site-packages\\sklearn\\base.py:441: UserWarning: X does not have valid feature names, but KNeighborsClassifier was fitted with feature names\n",
      "  warnings.warn(\n",
      "C:\\Users\\Manu\\anaconda3\\lib\\site-packages\\sklearn\\base.py:441: UserWarning: X does not have valid feature names, but KNeighborsClassifier was fitted with feature names\n",
      "  warnings.warn(\n",
      "C:\\Users\\Manu\\anaconda3\\lib\\site-packages\\sklearn\\base.py:441: UserWarning: X does not have valid feature names, but KNeighborsClassifier was fitted with feature names\n",
      "  warnings.warn(\n"
     ]
    },
    {
     "name": "stderr",
     "output_type": "stream",
     "text": [
      "C:\\Users\\Manu\\anaconda3\\lib\\site-packages\\sklearn\\base.py:441: UserWarning: X does not have valid feature names, but KNeighborsClassifier was fitted with feature names\n",
      "  warnings.warn(\n",
      "C:\\Users\\Manu\\anaconda3\\lib\\site-packages\\sklearn\\base.py:441: UserWarning: X does not have valid feature names, but KNeighborsClassifier was fitted with feature names\n",
      "  warnings.warn(\n",
      "C:\\Users\\Manu\\anaconda3\\lib\\site-packages\\sklearn\\base.py:441: UserWarning: X does not have valid feature names, but KNeighborsClassifier was fitted with feature names\n",
      "  warnings.warn(\n",
      "C:\\Users\\Manu\\anaconda3\\lib\\site-packages\\sklearn\\base.py:441: UserWarning: X does not have valid feature names, but KNeighborsClassifier was fitted with feature names\n",
      "  warnings.warn(\n",
      "C:\\Users\\Manu\\anaconda3\\lib\\site-packages\\sklearn\\base.py:441: UserWarning: X does not have valid feature names, but KNeighborsClassifier was fitted with feature names\n",
      "  warnings.warn(\n",
      "C:\\Users\\Manu\\anaconda3\\lib\\site-packages\\sklearn\\base.py:441: UserWarning: X does not have valid feature names, but KNeighborsClassifier was fitted with feature names\n",
      "  warnings.warn(\n",
      "C:\\Users\\Manu\\anaconda3\\lib\\site-packages\\sklearn\\base.py:441: UserWarning: X does not have valid feature names, but KNeighborsClassifier was fitted with feature names\n",
      "  warnings.warn(\n",
      "C:\\Users\\Manu\\anaconda3\\lib\\site-packages\\sklearn\\base.py:441: UserWarning: X does not have valid feature names, but KNeighborsClassifier was fitted with feature names\n",
      "  warnings.warn(\n",
      "C:\\Users\\Manu\\anaconda3\\lib\\site-packages\\sklearn\\base.py:441: UserWarning: X does not have valid feature names, but KNeighborsClassifier was fitted with feature names\n",
      "  warnings.warn(\n",
      "C:\\Users\\Manu\\anaconda3\\lib\\site-packages\\sklearn\\base.py:441: UserWarning: X does not have valid feature names, but KNeighborsClassifier was fitted with feature names\n",
      "  warnings.warn(\n",
      "C:\\Users\\Manu\\anaconda3\\lib\\site-packages\\sklearn\\base.py:441: UserWarning: X does not have valid feature names, but KNeighborsClassifier was fitted with feature names\n",
      "  warnings.warn(\n",
      "C:\\Users\\Manu\\anaconda3\\lib\\site-packages\\sklearn\\base.py:441: UserWarning: X does not have valid feature names, but KNeighborsClassifier was fitted with feature names\n",
      "  warnings.warn(\n",
      "C:\\Users\\Manu\\anaconda3\\lib\\site-packages\\sklearn\\base.py:441: UserWarning: X does not have valid feature names, but KNeighborsClassifier was fitted with feature names\n",
      "  warnings.warn(\n",
      "C:\\Users\\Manu\\anaconda3\\lib\\site-packages\\sklearn\\base.py:441: UserWarning: X does not have valid feature names, but KNeighborsClassifier was fitted with feature names\n",
      "  warnings.warn(\n",
      "C:\\Users\\Manu\\anaconda3\\lib\\site-packages\\sklearn\\base.py:441: UserWarning: X does not have valid feature names, but KNeighborsClassifier was fitted with feature names\n",
      "  warnings.warn(\n",
      "C:\\Users\\Manu\\anaconda3\\lib\\site-packages\\sklearn\\base.py:441: UserWarning: X does not have valid feature names, but KNeighborsClassifier was fitted with feature names\n",
      "  warnings.warn(\n",
      "C:\\Users\\Manu\\anaconda3\\lib\\site-packages\\sklearn\\base.py:441: UserWarning: X does not have valid feature names, but KNeighborsClassifier was fitted with feature names\n",
      "  warnings.warn(\n",
      "C:\\Users\\Manu\\anaconda3\\lib\\site-packages\\sklearn\\base.py:441: UserWarning: X does not have valid feature names, but KNeighborsClassifier was fitted with feature names\n",
      "  warnings.warn(\n",
      "C:\\Users\\Manu\\anaconda3\\lib\\site-packages\\sklearn\\base.py:441: UserWarning: X does not have valid feature names, but KNeighborsClassifier was fitted with feature names\n",
      "  warnings.warn(\n",
      "C:\\Users\\Manu\\anaconda3\\lib\\site-packages\\sklearn\\base.py:441: UserWarning: X does not have valid feature names, but KNeighborsClassifier was fitted with feature names\n",
      "  warnings.warn(\n",
      "C:\\Users\\Manu\\anaconda3\\lib\\site-packages\\sklearn\\base.py:441: UserWarning: X does not have valid feature names, but KNeighborsClassifier was fitted with feature names\n",
      "  warnings.warn(\n",
      "C:\\Users\\Manu\\anaconda3\\lib\\site-packages\\sklearn\\base.py:441: UserWarning: X does not have valid feature names, but KNeighborsClassifier was fitted with feature names\n",
      "  warnings.warn(\n",
      "C:\\Users\\Manu\\anaconda3\\lib\\site-packages\\sklearn\\base.py:441: UserWarning: X does not have valid feature names, but KNeighborsClassifier was fitted with feature names\n",
      "  warnings.warn(\n",
      "C:\\Users\\Manu\\anaconda3\\lib\\site-packages\\sklearn\\base.py:441: UserWarning: X does not have valid feature names, but KNeighborsClassifier was fitted with feature names\n",
      "  warnings.warn(\n",
      "C:\\Users\\Manu\\anaconda3\\lib\\site-packages\\sklearn\\base.py:441: UserWarning: X does not have valid feature names, but KNeighborsClassifier was fitted with feature names\n",
      "  warnings.warn(\n",
      "C:\\Users\\Manu\\anaconda3\\lib\\site-packages\\sklearn\\base.py:441: UserWarning: X does not have valid feature names, but KNeighborsClassifier was fitted with feature names\n",
      "  warnings.warn(\n",
      "C:\\Users\\Manu\\anaconda3\\lib\\site-packages\\sklearn\\base.py:441: UserWarning: X does not have valid feature names, but KNeighborsClassifier was fitted with feature names\n",
      "  warnings.warn(\n",
      "C:\\Users\\Manu\\anaconda3\\lib\\site-packages\\sklearn\\base.py:441: UserWarning: X does not have valid feature names, but KNeighborsClassifier was fitted with feature names\n",
      "  warnings.warn(\n",
      "C:\\Users\\Manu\\anaconda3\\lib\\site-packages\\sklearn\\base.py:441: UserWarning: X does not have valid feature names, but KNeighborsClassifier was fitted with feature names\n",
      "  warnings.warn(\n",
      "C:\\Users\\Manu\\anaconda3\\lib\\site-packages\\sklearn\\base.py:441: UserWarning: X does not have valid feature names, but KNeighborsClassifier was fitted with feature names\n",
      "  warnings.warn(\n",
      "C:\\Users\\Manu\\anaconda3\\lib\\site-packages\\sklearn\\base.py:441: UserWarning: X does not have valid feature names, but KNeighborsClassifier was fitted with feature names\n",
      "  warnings.warn(\n",
      "C:\\Users\\Manu\\anaconda3\\lib\\site-packages\\sklearn\\base.py:441: UserWarning: X does not have valid feature names, but KNeighborsClassifier was fitted with feature names\n",
      "  warnings.warn(\n",
      "C:\\Users\\Manu\\anaconda3\\lib\\site-packages\\sklearn\\base.py:441: UserWarning: X does not have valid feature names, but KNeighborsClassifier was fitted with feature names\n",
      "  warnings.warn(\n",
      "C:\\Users\\Manu\\anaconda3\\lib\\site-packages\\sklearn\\base.py:441: UserWarning: X does not have valid feature names, but KNeighborsClassifier was fitted with feature names\n",
      "  warnings.warn(\n",
      "C:\\Users\\Manu\\anaconda3\\lib\\site-packages\\sklearn\\base.py:441: UserWarning: X does not have valid feature names, but KNeighborsClassifier was fitted with feature names\n",
      "  warnings.warn(\n",
      "C:\\Users\\Manu\\anaconda3\\lib\\site-packages\\sklearn\\base.py:441: UserWarning: X does not have valid feature names, but KNeighborsClassifier was fitted with feature names\n",
      "  warnings.warn(\n",
      "C:\\Users\\Manu\\anaconda3\\lib\\site-packages\\sklearn\\base.py:441: UserWarning: X does not have valid feature names, but KNeighborsClassifier was fitted with feature names\n",
      "  warnings.warn(\n",
      "C:\\Users\\Manu\\anaconda3\\lib\\site-packages\\sklearn\\base.py:441: UserWarning: X does not have valid feature names, but KNeighborsClassifier was fitted with feature names\n",
      "  warnings.warn(\n",
      "C:\\Users\\Manu\\anaconda3\\lib\\site-packages\\sklearn\\base.py:441: UserWarning: X does not have valid feature names, but KNeighborsClassifier was fitted with feature names\n",
      "  warnings.warn(\n",
      "C:\\Users\\Manu\\anaconda3\\lib\\site-packages\\sklearn\\base.py:441: UserWarning: X does not have valid feature names, but KNeighborsClassifier was fitted with feature names\n",
      "  warnings.warn(\n",
      "C:\\Users\\Manu\\anaconda3\\lib\\site-packages\\sklearn\\base.py:441: UserWarning: X does not have valid feature names, but KNeighborsClassifier was fitted with feature names\n",
      "  warnings.warn(\n",
      "C:\\Users\\Manu\\anaconda3\\lib\\site-packages\\sklearn\\base.py:441: UserWarning: X does not have valid feature names, but KNeighborsClassifier was fitted with feature names\n",
      "  warnings.warn(\n",
      "C:\\Users\\Manu\\anaconda3\\lib\\site-packages\\sklearn\\base.py:441: UserWarning: X does not have valid feature names, but KNeighborsClassifier was fitted with feature names\n",
      "  warnings.warn(\n",
      "C:\\Users\\Manu\\anaconda3\\lib\\site-packages\\sklearn\\base.py:441: UserWarning: X does not have valid feature names, but KNeighborsClassifier was fitted with feature names\n",
      "  warnings.warn(\n",
      "C:\\Users\\Manu\\anaconda3\\lib\\site-packages\\sklearn\\base.py:441: UserWarning: X does not have valid feature names, but KNeighborsClassifier was fitted with feature names\n",
      "  warnings.warn(\n"
     ]
    },
    {
     "name": "stderr",
     "output_type": "stream",
     "text": [
      "C:\\Users\\Manu\\anaconda3\\lib\\site-packages\\sklearn\\base.py:441: UserWarning: X does not have valid feature names, but KNeighborsClassifier was fitted with feature names\n",
      "  warnings.warn(\n",
      "C:\\Users\\Manu\\anaconda3\\lib\\site-packages\\sklearn\\base.py:441: UserWarning: X does not have valid feature names, but KNeighborsClassifier was fitted with feature names\n",
      "  warnings.warn(\n",
      "C:\\Users\\Manu\\anaconda3\\lib\\site-packages\\sklearn\\base.py:441: UserWarning: X does not have valid feature names, but KNeighborsClassifier was fitted with feature names\n",
      "  warnings.warn(\n",
      "C:\\Users\\Manu\\anaconda3\\lib\\site-packages\\sklearn\\base.py:441: UserWarning: X does not have valid feature names, but KNeighborsClassifier was fitted with feature names\n",
      "  warnings.warn(\n",
      "C:\\Users\\Manu\\anaconda3\\lib\\site-packages\\sklearn\\base.py:441: UserWarning: X does not have valid feature names, but KNeighborsClassifier was fitted with feature names\n",
      "  warnings.warn(\n",
      "C:\\Users\\Manu\\anaconda3\\lib\\site-packages\\sklearn\\base.py:441: UserWarning: X does not have valid feature names, but KNeighborsClassifier was fitted with feature names\n",
      "  warnings.warn(\n",
      "C:\\Users\\Manu\\anaconda3\\lib\\site-packages\\sklearn\\base.py:441: UserWarning: X does not have valid feature names, but KNeighborsClassifier was fitted with feature names\n",
      "  warnings.warn(\n",
      "C:\\Users\\Manu\\anaconda3\\lib\\site-packages\\sklearn\\base.py:441: UserWarning: X does not have valid feature names, but KNeighborsClassifier was fitted with feature names\n",
      "  warnings.warn(\n",
      "C:\\Users\\Manu\\anaconda3\\lib\\site-packages\\sklearn\\base.py:441: UserWarning: X does not have valid feature names, but KNeighborsClassifier was fitted with feature names\n",
      "  warnings.warn(\n",
      "C:\\Users\\Manu\\anaconda3\\lib\\site-packages\\sklearn\\base.py:441: UserWarning: X does not have valid feature names, but KNeighborsClassifier was fitted with feature names\n",
      "  warnings.warn(\n",
      "C:\\Users\\Manu\\anaconda3\\lib\\site-packages\\sklearn\\base.py:441: UserWarning: X does not have valid feature names, but KNeighborsClassifier was fitted with feature names\n",
      "  warnings.warn(\n",
      "C:\\Users\\Manu\\anaconda3\\lib\\site-packages\\sklearn\\base.py:441: UserWarning: X does not have valid feature names, but KNeighborsClassifier was fitted with feature names\n",
      "  warnings.warn(\n",
      "C:\\Users\\Manu\\anaconda3\\lib\\site-packages\\sklearn\\base.py:441: UserWarning: X does not have valid feature names, but KNeighborsClassifier was fitted with feature names\n",
      "  warnings.warn(\n",
      "C:\\Users\\Manu\\anaconda3\\lib\\site-packages\\sklearn\\base.py:441: UserWarning: X does not have valid feature names, but KNeighborsClassifier was fitted with feature names\n",
      "  warnings.warn(\n",
      "C:\\Users\\Manu\\anaconda3\\lib\\site-packages\\sklearn\\base.py:441: UserWarning: X does not have valid feature names, but KNeighborsClassifier was fitted with feature names\n",
      "  warnings.warn(\n",
      "C:\\Users\\Manu\\anaconda3\\lib\\site-packages\\sklearn\\base.py:441: UserWarning: X does not have valid feature names, but KNeighborsClassifier was fitted with feature names\n",
      "  warnings.warn(\n",
      "C:\\Users\\Manu\\anaconda3\\lib\\site-packages\\sklearn\\base.py:441: UserWarning: X does not have valid feature names, but KNeighborsClassifier was fitted with feature names\n",
      "  warnings.warn(\n",
      "C:\\Users\\Manu\\anaconda3\\lib\\site-packages\\sklearn\\base.py:441: UserWarning: X does not have valid feature names, but KNeighborsClassifier was fitted with feature names\n",
      "  warnings.warn(\n",
      "C:\\Users\\Manu\\anaconda3\\lib\\site-packages\\sklearn\\base.py:441: UserWarning: X does not have valid feature names, but KNeighborsClassifier was fitted with feature names\n",
      "  warnings.warn(\n",
      "C:\\Users\\Manu\\anaconda3\\lib\\site-packages\\sklearn\\base.py:441: UserWarning: X does not have valid feature names, but KNeighborsClassifier was fitted with feature names\n",
      "  warnings.warn(\n",
      "C:\\Users\\Manu\\anaconda3\\lib\\site-packages\\sklearn\\base.py:441: UserWarning: X does not have valid feature names, but KNeighborsClassifier was fitted with feature names\n",
      "  warnings.warn(\n",
      "C:\\Users\\Manu\\anaconda3\\lib\\site-packages\\sklearn\\base.py:441: UserWarning: X does not have valid feature names, but KNeighborsClassifier was fitted with feature names\n",
      "  warnings.warn(\n",
      "C:\\Users\\Manu\\anaconda3\\lib\\site-packages\\sklearn\\base.py:441: UserWarning: X does not have valid feature names, but KNeighborsClassifier was fitted with feature names\n",
      "  warnings.warn(\n",
      "C:\\Users\\Manu\\anaconda3\\lib\\site-packages\\sklearn\\base.py:441: UserWarning: X does not have valid feature names, but KNeighborsClassifier was fitted with feature names\n",
      "  warnings.warn(\n",
      "C:\\Users\\Manu\\anaconda3\\lib\\site-packages\\sklearn\\base.py:441: UserWarning: X does not have valid feature names, but KNeighborsClassifier was fitted with feature names\n",
      "  warnings.warn(\n",
      "C:\\Users\\Manu\\anaconda3\\lib\\site-packages\\sklearn\\base.py:441: UserWarning: X does not have valid feature names, but KNeighborsClassifier was fitted with feature names\n",
      "  warnings.warn(\n",
      "C:\\Users\\Manu\\anaconda3\\lib\\site-packages\\sklearn\\base.py:441: UserWarning: X does not have valid feature names, but KNeighborsClassifier was fitted with feature names\n",
      "  warnings.warn(\n",
      "C:\\Users\\Manu\\anaconda3\\lib\\site-packages\\sklearn\\base.py:441: UserWarning: X does not have valid feature names, but KNeighborsClassifier was fitted with feature names\n",
      "  warnings.warn(\n",
      "C:\\Users\\Manu\\anaconda3\\lib\\site-packages\\sklearn\\base.py:441: UserWarning: X does not have valid feature names, but KNeighborsClassifier was fitted with feature names\n",
      "  warnings.warn(\n",
      "C:\\Users\\Manu\\anaconda3\\lib\\site-packages\\sklearn\\base.py:441: UserWarning: X does not have valid feature names, but KNeighborsClassifier was fitted with feature names\n",
      "  warnings.warn(\n",
      "C:\\Users\\Manu\\anaconda3\\lib\\site-packages\\sklearn\\base.py:441: UserWarning: X does not have valid feature names, but KNeighborsClassifier was fitted with feature names\n",
      "  warnings.warn(\n",
      "C:\\Users\\Manu\\anaconda3\\lib\\site-packages\\sklearn\\base.py:441: UserWarning: X does not have valid feature names, but KNeighborsClassifier was fitted with feature names\n",
      "  warnings.warn(\n",
      "C:\\Users\\Manu\\anaconda3\\lib\\site-packages\\sklearn\\base.py:441: UserWarning: X does not have valid feature names, but KNeighborsClassifier was fitted with feature names\n",
      "  warnings.warn(\n",
      "C:\\Users\\Manu\\anaconda3\\lib\\site-packages\\sklearn\\base.py:441: UserWarning: X does not have valid feature names, but KNeighborsClassifier was fitted with feature names\n",
      "  warnings.warn(\n",
      "C:\\Users\\Manu\\anaconda3\\lib\\site-packages\\sklearn\\base.py:441: UserWarning: X does not have valid feature names, but KNeighborsClassifier was fitted with feature names\n",
      "  warnings.warn(\n",
      "C:\\Users\\Manu\\anaconda3\\lib\\site-packages\\sklearn\\base.py:441: UserWarning: X does not have valid feature names, but KNeighborsClassifier was fitted with feature names\n",
      "  warnings.warn(\n",
      "C:\\Users\\Manu\\anaconda3\\lib\\site-packages\\sklearn\\base.py:441: UserWarning: X does not have valid feature names, but KNeighborsClassifier was fitted with feature names\n",
      "  warnings.warn(\n",
      "C:\\Users\\Manu\\anaconda3\\lib\\site-packages\\sklearn\\base.py:441: UserWarning: X does not have valid feature names, but KNeighborsClassifier was fitted with feature names\n",
      "  warnings.warn(\n",
      "C:\\Users\\Manu\\anaconda3\\lib\\site-packages\\sklearn\\base.py:441: UserWarning: X does not have valid feature names, but KNeighborsClassifier was fitted with feature names\n",
      "  warnings.warn(\n",
      "C:\\Users\\Manu\\anaconda3\\lib\\site-packages\\sklearn\\base.py:441: UserWarning: X does not have valid feature names, but KNeighborsClassifier was fitted with feature names\n",
      "  warnings.warn(\n",
      "C:\\Users\\Manu\\anaconda3\\lib\\site-packages\\sklearn\\base.py:441: UserWarning: X does not have valid feature names, but KNeighborsClassifier was fitted with feature names\n",
      "  warnings.warn(\n",
      "C:\\Users\\Manu\\anaconda3\\lib\\site-packages\\sklearn\\base.py:441: UserWarning: X does not have valid feature names, but KNeighborsClassifier was fitted with feature names\n",
      "  warnings.warn(\n",
      "C:\\Users\\Manu\\anaconda3\\lib\\site-packages\\sklearn\\base.py:441: UserWarning: X does not have valid feature names, but KNeighborsClassifier was fitted with feature names\n",
      "  warnings.warn(\n",
      "C:\\Users\\Manu\\anaconda3\\lib\\site-packages\\sklearn\\base.py:441: UserWarning: X does not have valid feature names, but KNeighborsClassifier was fitted with feature names\n",
      "  warnings.warn(\n",
      "C:\\Users\\Manu\\anaconda3\\lib\\site-packages\\sklearn\\base.py:441: UserWarning: X does not have valid feature names, but KNeighborsClassifier was fitted with feature names\n",
      "  warnings.warn(\n"
     ]
    },
    {
     "name": "stderr",
     "output_type": "stream",
     "text": [
      "C:\\Users\\Manu\\anaconda3\\lib\\site-packages\\sklearn\\base.py:441: UserWarning: X does not have valid feature names, but KNeighborsClassifier was fitted with feature names\n",
      "  warnings.warn(\n",
      "C:\\Users\\Manu\\anaconda3\\lib\\site-packages\\sklearn\\base.py:441: UserWarning: X does not have valid feature names, but KNeighborsClassifier was fitted with feature names\n",
      "  warnings.warn(\n",
      "C:\\Users\\Manu\\anaconda3\\lib\\site-packages\\sklearn\\base.py:441: UserWarning: X does not have valid feature names, but KNeighborsClassifier was fitted with feature names\n",
      "  warnings.warn(\n",
      "C:\\Users\\Manu\\anaconda3\\lib\\site-packages\\sklearn\\base.py:441: UserWarning: X does not have valid feature names, but KNeighborsClassifier was fitted with feature names\n",
      "  warnings.warn(\n",
      "C:\\Users\\Manu\\anaconda3\\lib\\site-packages\\sklearn\\base.py:441: UserWarning: X does not have valid feature names, but KNeighborsClassifier was fitted with feature names\n",
      "  warnings.warn(\n",
      "C:\\Users\\Manu\\anaconda3\\lib\\site-packages\\sklearn\\base.py:441: UserWarning: X does not have valid feature names, but KNeighborsClassifier was fitted with feature names\n",
      "  warnings.warn(\n",
      "C:\\Users\\Manu\\anaconda3\\lib\\site-packages\\sklearn\\base.py:441: UserWarning: X does not have valid feature names, but KNeighborsClassifier was fitted with feature names\n",
      "  warnings.warn(\n",
      "C:\\Users\\Manu\\anaconda3\\lib\\site-packages\\sklearn\\base.py:441: UserWarning: X does not have valid feature names, but KNeighborsClassifier was fitted with feature names\n",
      "  warnings.warn(\n",
      "C:\\Users\\Manu\\anaconda3\\lib\\site-packages\\sklearn\\base.py:441: UserWarning: X does not have valid feature names, but KNeighborsClassifier was fitted with feature names\n",
      "  warnings.warn(\n",
      "C:\\Users\\Manu\\anaconda3\\lib\\site-packages\\sklearn\\base.py:441: UserWarning: X does not have valid feature names, but KNeighborsClassifier was fitted with feature names\n",
      "  warnings.warn(\n",
      "C:\\Users\\Manu\\anaconda3\\lib\\site-packages\\sklearn\\base.py:441: UserWarning: X does not have valid feature names, but KNeighborsClassifier was fitted with feature names\n",
      "  warnings.warn(\n",
      "C:\\Users\\Manu\\anaconda3\\lib\\site-packages\\sklearn\\base.py:441: UserWarning: X does not have valid feature names, but KNeighborsClassifier was fitted with feature names\n",
      "  warnings.warn(\n",
      "C:\\Users\\Manu\\anaconda3\\lib\\site-packages\\sklearn\\base.py:441: UserWarning: X does not have valid feature names, but KNeighborsClassifier was fitted with feature names\n",
      "  warnings.warn(\n",
      "C:\\Users\\Manu\\anaconda3\\lib\\site-packages\\sklearn\\base.py:441: UserWarning: X does not have valid feature names, but KNeighborsClassifier was fitted with feature names\n",
      "  warnings.warn(\n",
      "C:\\Users\\Manu\\anaconda3\\lib\\site-packages\\sklearn\\base.py:441: UserWarning: X does not have valid feature names, but KNeighborsClassifier was fitted with feature names\n",
      "  warnings.warn(\n",
      "C:\\Users\\Manu\\anaconda3\\lib\\site-packages\\sklearn\\base.py:441: UserWarning: X does not have valid feature names, but KNeighborsClassifier was fitted with feature names\n",
      "  warnings.warn(\n",
      "C:\\Users\\Manu\\anaconda3\\lib\\site-packages\\sklearn\\base.py:441: UserWarning: X does not have valid feature names, but KNeighborsClassifier was fitted with feature names\n",
      "  warnings.warn(\n",
      "C:\\Users\\Manu\\anaconda3\\lib\\site-packages\\sklearn\\base.py:441: UserWarning: X does not have valid feature names, but KNeighborsClassifier was fitted with feature names\n",
      "  warnings.warn(\n",
      "C:\\Users\\Manu\\anaconda3\\lib\\site-packages\\sklearn\\base.py:441: UserWarning: X does not have valid feature names, but KNeighborsClassifier was fitted with feature names\n",
      "  warnings.warn(\n",
      "C:\\Users\\Manu\\anaconda3\\lib\\site-packages\\sklearn\\base.py:441: UserWarning: X does not have valid feature names, but KNeighborsClassifier was fitted with feature names\n",
      "  warnings.warn(\n",
      "C:\\Users\\Manu\\anaconda3\\lib\\site-packages\\sklearn\\base.py:441: UserWarning: X does not have valid feature names, but KNeighborsClassifier was fitted with feature names\n",
      "  warnings.warn(\n",
      "C:\\Users\\Manu\\anaconda3\\lib\\site-packages\\sklearn\\base.py:441: UserWarning: X does not have valid feature names, but KNeighborsClassifier was fitted with feature names\n",
      "  warnings.warn(\n",
      "C:\\Users\\Manu\\anaconda3\\lib\\site-packages\\sklearn\\base.py:441: UserWarning: X does not have valid feature names, but KNeighborsClassifier was fitted with feature names\n",
      "  warnings.warn(\n",
      "C:\\Users\\Manu\\anaconda3\\lib\\site-packages\\sklearn\\base.py:441: UserWarning: X does not have valid feature names, but KNeighborsClassifier was fitted with feature names\n",
      "  warnings.warn(\n",
      "C:\\Users\\Manu\\anaconda3\\lib\\site-packages\\sklearn\\base.py:441: UserWarning: X does not have valid feature names, but KNeighborsClassifier was fitted with feature names\n",
      "  warnings.warn(\n",
      "C:\\Users\\Manu\\anaconda3\\lib\\site-packages\\sklearn\\base.py:441: UserWarning: X does not have valid feature names, but KNeighborsClassifier was fitted with feature names\n",
      "  warnings.warn(\n",
      "C:\\Users\\Manu\\anaconda3\\lib\\site-packages\\sklearn\\base.py:441: UserWarning: X does not have valid feature names, but KNeighborsClassifier was fitted with feature names\n",
      "  warnings.warn(\n",
      "C:\\Users\\Manu\\anaconda3\\lib\\site-packages\\sklearn\\base.py:441: UserWarning: X does not have valid feature names, but KNeighborsClassifier was fitted with feature names\n",
      "  warnings.warn(\n",
      "C:\\Users\\Manu\\anaconda3\\lib\\site-packages\\sklearn\\base.py:441: UserWarning: X does not have valid feature names, but KNeighborsClassifier was fitted with feature names\n",
      "  warnings.warn(\n",
      "C:\\Users\\Manu\\anaconda3\\lib\\site-packages\\sklearn\\base.py:441: UserWarning: X does not have valid feature names, but KNeighborsClassifier was fitted with feature names\n",
      "  warnings.warn(\n",
      "C:\\Users\\Manu\\anaconda3\\lib\\site-packages\\sklearn\\base.py:441: UserWarning: X does not have valid feature names, but KNeighborsClassifier was fitted with feature names\n",
      "  warnings.warn(\n",
      "C:\\Users\\Manu\\anaconda3\\lib\\site-packages\\sklearn\\base.py:441: UserWarning: X does not have valid feature names, but KNeighborsClassifier was fitted with feature names\n",
      "  warnings.warn(\n",
      "C:\\Users\\Manu\\anaconda3\\lib\\site-packages\\sklearn\\base.py:441: UserWarning: X does not have valid feature names, but KNeighborsClassifier was fitted with feature names\n",
      "  warnings.warn(\n",
      "C:\\Users\\Manu\\anaconda3\\lib\\site-packages\\sklearn\\base.py:441: UserWarning: X does not have valid feature names, but KNeighborsClassifier was fitted with feature names\n",
      "  warnings.warn(\n",
      "C:\\Users\\Manu\\anaconda3\\lib\\site-packages\\sklearn\\base.py:441: UserWarning: X does not have valid feature names, but KNeighborsClassifier was fitted with feature names\n",
      "  warnings.warn(\n",
      "C:\\Users\\Manu\\anaconda3\\lib\\site-packages\\sklearn\\base.py:441: UserWarning: X does not have valid feature names, but KNeighborsClassifier was fitted with feature names\n",
      "  warnings.warn(\n",
      "C:\\Users\\Manu\\anaconda3\\lib\\site-packages\\sklearn\\base.py:441: UserWarning: X does not have valid feature names, but KNeighborsClassifier was fitted with feature names\n",
      "  warnings.warn(\n",
      "C:\\Users\\Manu\\anaconda3\\lib\\site-packages\\sklearn\\base.py:441: UserWarning: X does not have valid feature names, but KNeighborsClassifier was fitted with feature names\n",
      "  warnings.warn(\n",
      "C:\\Users\\Manu\\anaconda3\\lib\\site-packages\\sklearn\\base.py:441: UserWarning: X does not have valid feature names, but KNeighborsClassifier was fitted with feature names\n",
      "  warnings.warn(\n",
      "C:\\Users\\Manu\\anaconda3\\lib\\site-packages\\sklearn\\base.py:441: UserWarning: X does not have valid feature names, but KNeighborsClassifier was fitted with feature names\n",
      "  warnings.warn(\n",
      "C:\\Users\\Manu\\anaconda3\\lib\\site-packages\\sklearn\\base.py:441: UserWarning: X does not have valid feature names, but KNeighborsClassifier was fitted with feature names\n",
      "  warnings.warn(\n",
      "C:\\Users\\Manu\\anaconda3\\lib\\site-packages\\sklearn\\base.py:441: UserWarning: X does not have valid feature names, but KNeighborsClassifier was fitted with feature names\n",
      "  warnings.warn(\n",
      "C:\\Users\\Manu\\anaconda3\\lib\\site-packages\\sklearn\\base.py:441: UserWarning: X does not have valid feature names, but KNeighborsClassifier was fitted with feature names\n",
      "  warnings.warn(\n",
      "C:\\Users\\Manu\\anaconda3\\lib\\site-packages\\sklearn\\base.py:441: UserWarning: X does not have valid feature names, but KNeighborsClassifier was fitted with feature names\n",
      "  warnings.warn(\n",
      "C:\\Users\\Manu\\anaconda3\\lib\\site-packages\\sklearn\\base.py:441: UserWarning: X does not have valid feature names, but KNeighborsClassifier was fitted with feature names\n",
      "  warnings.warn(\n"
     ]
    },
    {
     "name": "stderr",
     "output_type": "stream",
     "text": [
      "C:\\Users\\Manu\\anaconda3\\lib\\site-packages\\sklearn\\base.py:441: UserWarning: X does not have valid feature names, but KNeighborsClassifier was fitted with feature names\n",
      "  warnings.warn(\n",
      "C:\\Users\\Manu\\anaconda3\\lib\\site-packages\\sklearn\\base.py:441: UserWarning: X does not have valid feature names, but KNeighborsClassifier was fitted with feature names\n",
      "  warnings.warn(\n",
      "C:\\Users\\Manu\\anaconda3\\lib\\site-packages\\sklearn\\base.py:441: UserWarning: X does not have valid feature names, but KNeighborsClassifier was fitted with feature names\n",
      "  warnings.warn(\n",
      "C:\\Users\\Manu\\anaconda3\\lib\\site-packages\\sklearn\\base.py:441: UserWarning: X does not have valid feature names, but KNeighborsClassifier was fitted with feature names\n",
      "  warnings.warn(\n",
      "C:\\Users\\Manu\\anaconda3\\lib\\site-packages\\sklearn\\base.py:441: UserWarning: X does not have valid feature names, but KNeighborsClassifier was fitted with feature names\n",
      "  warnings.warn(\n",
      "C:\\Users\\Manu\\anaconda3\\lib\\site-packages\\sklearn\\base.py:441: UserWarning: X does not have valid feature names, but KNeighborsClassifier was fitted with feature names\n",
      "  warnings.warn(\n",
      "C:\\Users\\Manu\\anaconda3\\lib\\site-packages\\sklearn\\base.py:441: UserWarning: X does not have valid feature names, but KNeighborsClassifier was fitted with feature names\n",
      "  warnings.warn(\n",
      "C:\\Users\\Manu\\anaconda3\\lib\\site-packages\\sklearn\\base.py:441: UserWarning: X does not have valid feature names, but KNeighborsClassifier was fitted with feature names\n",
      "  warnings.warn(\n",
      "C:\\Users\\Manu\\anaconda3\\lib\\site-packages\\sklearn\\base.py:441: UserWarning: X does not have valid feature names, but KNeighborsClassifier was fitted with feature names\n",
      "  warnings.warn(\n",
      "C:\\Users\\Manu\\anaconda3\\lib\\site-packages\\sklearn\\base.py:441: UserWarning: X does not have valid feature names, but KNeighborsClassifier was fitted with feature names\n",
      "  warnings.warn(\n",
      "C:\\Users\\Manu\\anaconda3\\lib\\site-packages\\sklearn\\base.py:441: UserWarning: X does not have valid feature names, but KNeighborsClassifier was fitted with feature names\n",
      "  warnings.warn(\n",
      "C:\\Users\\Manu\\anaconda3\\lib\\site-packages\\sklearn\\base.py:441: UserWarning: X does not have valid feature names, but KNeighborsClassifier was fitted with feature names\n",
      "  warnings.warn(\n",
      "C:\\Users\\Manu\\anaconda3\\lib\\site-packages\\sklearn\\base.py:441: UserWarning: X does not have valid feature names, but KNeighborsClassifier was fitted with feature names\n",
      "  warnings.warn(\n",
      "C:\\Users\\Manu\\anaconda3\\lib\\site-packages\\sklearn\\base.py:441: UserWarning: X does not have valid feature names, but KNeighborsClassifier was fitted with feature names\n",
      "  warnings.warn(\n",
      "C:\\Users\\Manu\\anaconda3\\lib\\site-packages\\sklearn\\base.py:441: UserWarning: X does not have valid feature names, but KNeighborsClassifier was fitted with feature names\n",
      "  warnings.warn(\n",
      "C:\\Users\\Manu\\anaconda3\\lib\\site-packages\\sklearn\\base.py:441: UserWarning: X does not have valid feature names, but KNeighborsClassifier was fitted with feature names\n",
      "  warnings.warn(\n",
      "C:\\Users\\Manu\\anaconda3\\lib\\site-packages\\sklearn\\base.py:441: UserWarning: X does not have valid feature names, but KNeighborsClassifier was fitted with feature names\n",
      "  warnings.warn(\n",
      "C:\\Users\\Manu\\anaconda3\\lib\\site-packages\\sklearn\\base.py:441: UserWarning: X does not have valid feature names, but KNeighborsClassifier was fitted with feature names\n",
      "  warnings.warn(\n",
      "C:\\Users\\Manu\\anaconda3\\lib\\site-packages\\sklearn\\base.py:441: UserWarning: X does not have valid feature names, but KNeighborsClassifier was fitted with feature names\n",
      "  warnings.warn(\n",
      "C:\\Users\\Manu\\anaconda3\\lib\\site-packages\\sklearn\\base.py:441: UserWarning: X does not have valid feature names, but KNeighborsClassifier was fitted with feature names\n",
      "  warnings.warn(\n",
      "C:\\Users\\Manu\\anaconda3\\lib\\site-packages\\sklearn\\base.py:441: UserWarning: X does not have valid feature names, but KNeighborsClassifier was fitted with feature names\n",
      "  warnings.warn(\n",
      "C:\\Users\\Manu\\anaconda3\\lib\\site-packages\\sklearn\\base.py:441: UserWarning: X does not have valid feature names, but KNeighborsClassifier was fitted with feature names\n",
      "  warnings.warn(\n",
      "C:\\Users\\Manu\\anaconda3\\lib\\site-packages\\sklearn\\base.py:441: UserWarning: X does not have valid feature names, but KNeighborsClassifier was fitted with feature names\n",
      "  warnings.warn(\n",
      "C:\\Users\\Manu\\anaconda3\\lib\\site-packages\\sklearn\\base.py:441: UserWarning: X does not have valid feature names, but KNeighborsClassifier was fitted with feature names\n",
      "  warnings.warn(\n",
      "C:\\Users\\Manu\\anaconda3\\lib\\site-packages\\sklearn\\base.py:441: UserWarning: X does not have valid feature names, but KNeighborsClassifier was fitted with feature names\n",
      "  warnings.warn(\n",
      "C:\\Users\\Manu\\anaconda3\\lib\\site-packages\\sklearn\\base.py:441: UserWarning: X does not have valid feature names, but KNeighborsClassifier was fitted with feature names\n",
      "  warnings.warn(\n",
      "C:\\Users\\Manu\\anaconda3\\lib\\site-packages\\sklearn\\base.py:441: UserWarning: X does not have valid feature names, but KNeighborsClassifier was fitted with feature names\n",
      "  warnings.warn(\n",
      "C:\\Users\\Manu\\anaconda3\\lib\\site-packages\\sklearn\\base.py:441: UserWarning: X does not have valid feature names, but KNeighborsClassifier was fitted with feature names\n",
      "  warnings.warn(\n",
      "C:\\Users\\Manu\\anaconda3\\lib\\site-packages\\sklearn\\base.py:441: UserWarning: X does not have valid feature names, but KNeighborsClassifier was fitted with feature names\n",
      "  warnings.warn(\n",
      "C:\\Users\\Manu\\anaconda3\\lib\\site-packages\\sklearn\\base.py:441: UserWarning: X does not have valid feature names, but KNeighborsClassifier was fitted with feature names\n",
      "  warnings.warn(\n",
      "C:\\Users\\Manu\\anaconda3\\lib\\site-packages\\sklearn\\base.py:441: UserWarning: X does not have valid feature names, but KNeighborsClassifier was fitted with feature names\n",
      "  warnings.warn(\n",
      "C:\\Users\\Manu\\anaconda3\\lib\\site-packages\\sklearn\\base.py:441: UserWarning: X does not have valid feature names, but KNeighborsClassifier was fitted with feature names\n",
      "  warnings.warn(\n",
      "C:\\Users\\Manu\\anaconda3\\lib\\site-packages\\sklearn\\base.py:441: UserWarning: X does not have valid feature names, but KNeighborsClassifier was fitted with feature names\n",
      "  warnings.warn(\n",
      "C:\\Users\\Manu\\anaconda3\\lib\\site-packages\\sklearn\\base.py:441: UserWarning: X does not have valid feature names, but KNeighborsClassifier was fitted with feature names\n",
      "  warnings.warn(\n",
      "C:\\Users\\Manu\\anaconda3\\lib\\site-packages\\sklearn\\base.py:441: UserWarning: X does not have valid feature names, but KNeighborsClassifier was fitted with feature names\n",
      "  warnings.warn(\n",
      "C:\\Users\\Manu\\anaconda3\\lib\\site-packages\\sklearn\\base.py:441: UserWarning: X does not have valid feature names, but KNeighborsClassifier was fitted with feature names\n",
      "  warnings.warn(\n",
      "C:\\Users\\Manu\\anaconda3\\lib\\site-packages\\sklearn\\base.py:441: UserWarning: X does not have valid feature names, but KNeighborsClassifier was fitted with feature names\n",
      "  warnings.warn(\n",
      "C:\\Users\\Manu\\anaconda3\\lib\\site-packages\\sklearn\\base.py:441: UserWarning: X does not have valid feature names, but KNeighborsClassifier was fitted with feature names\n",
      "  warnings.warn(\n",
      "C:\\Users\\Manu\\anaconda3\\lib\\site-packages\\sklearn\\base.py:441: UserWarning: X does not have valid feature names, but KNeighborsClassifier was fitted with feature names\n",
      "  warnings.warn(\n",
      "C:\\Users\\Manu\\anaconda3\\lib\\site-packages\\sklearn\\base.py:441: UserWarning: X does not have valid feature names, but KNeighborsClassifier was fitted with feature names\n",
      "  warnings.warn(\n",
      "C:\\Users\\Manu\\anaconda3\\lib\\site-packages\\sklearn\\base.py:441: UserWarning: X does not have valid feature names, but KNeighborsClassifier was fitted with feature names\n",
      "  warnings.warn(\n",
      "C:\\Users\\Manu\\anaconda3\\lib\\site-packages\\sklearn\\base.py:441: UserWarning: X does not have valid feature names, but KNeighborsClassifier was fitted with feature names\n",
      "  warnings.warn(\n",
      "C:\\Users\\Manu\\anaconda3\\lib\\site-packages\\sklearn\\base.py:441: UserWarning: X does not have valid feature names, but KNeighborsClassifier was fitted with feature names\n",
      "  warnings.warn(\n",
      "C:\\Users\\Manu\\anaconda3\\lib\\site-packages\\sklearn\\base.py:441: UserWarning: X does not have valid feature names, but KNeighborsClassifier was fitted with feature names\n",
      "  warnings.warn(\n",
      "C:\\Users\\Manu\\anaconda3\\lib\\site-packages\\sklearn\\base.py:441: UserWarning: X does not have valid feature names, but KNeighborsClassifier was fitted with feature names\n",
      "  warnings.warn(\n"
     ]
    },
    {
     "name": "stderr",
     "output_type": "stream",
     "text": [
      "C:\\Users\\Manu\\anaconda3\\lib\\site-packages\\sklearn\\base.py:441: UserWarning: X does not have valid feature names, but KNeighborsClassifier was fitted with feature names\n",
      "  warnings.warn(\n",
      "C:\\Users\\Manu\\anaconda3\\lib\\site-packages\\sklearn\\base.py:441: UserWarning: X does not have valid feature names, but KNeighborsClassifier was fitted with feature names\n",
      "  warnings.warn(\n",
      "C:\\Users\\Manu\\anaconda3\\lib\\site-packages\\sklearn\\base.py:441: UserWarning: X does not have valid feature names, but KNeighborsClassifier was fitted with feature names\n",
      "  warnings.warn(\n",
      "C:\\Users\\Manu\\anaconda3\\lib\\site-packages\\sklearn\\base.py:441: UserWarning: X does not have valid feature names, but KNeighborsClassifier was fitted with feature names\n",
      "  warnings.warn(\n",
      "C:\\Users\\Manu\\anaconda3\\lib\\site-packages\\sklearn\\base.py:441: UserWarning: X does not have valid feature names, but KNeighborsClassifier was fitted with feature names\n",
      "  warnings.warn(\n",
      "C:\\Users\\Manu\\anaconda3\\lib\\site-packages\\sklearn\\base.py:441: UserWarning: X does not have valid feature names, but KNeighborsClassifier was fitted with feature names\n",
      "  warnings.warn(\n",
      "C:\\Users\\Manu\\anaconda3\\lib\\site-packages\\sklearn\\base.py:441: UserWarning: X does not have valid feature names, but KNeighborsClassifier was fitted with feature names\n",
      "  warnings.warn(\n",
      "C:\\Users\\Manu\\anaconda3\\lib\\site-packages\\sklearn\\base.py:441: UserWarning: X does not have valid feature names, but KNeighborsClassifier was fitted with feature names\n",
      "  warnings.warn(\n",
      "C:\\Users\\Manu\\anaconda3\\lib\\site-packages\\sklearn\\base.py:441: UserWarning: X does not have valid feature names, but KNeighborsClassifier was fitted with feature names\n",
      "  warnings.warn(\n",
      "C:\\Users\\Manu\\anaconda3\\lib\\site-packages\\sklearn\\base.py:441: UserWarning: X does not have valid feature names, but KNeighborsClassifier was fitted with feature names\n",
      "  warnings.warn(\n",
      "C:\\Users\\Manu\\anaconda3\\lib\\site-packages\\sklearn\\base.py:441: UserWarning: X does not have valid feature names, but KNeighborsClassifier was fitted with feature names\n",
      "  warnings.warn(\n",
      "C:\\Users\\Manu\\anaconda3\\lib\\site-packages\\sklearn\\base.py:441: UserWarning: X does not have valid feature names, but KNeighborsClassifier was fitted with feature names\n",
      "  warnings.warn(\n",
      "C:\\Users\\Manu\\anaconda3\\lib\\site-packages\\sklearn\\base.py:441: UserWarning: X does not have valid feature names, but KNeighborsClassifier was fitted with feature names\n",
      "  warnings.warn(\n",
      "C:\\Users\\Manu\\anaconda3\\lib\\site-packages\\sklearn\\base.py:441: UserWarning: X does not have valid feature names, but KNeighborsClassifier was fitted with feature names\n",
      "  warnings.warn(\n",
      "C:\\Users\\Manu\\anaconda3\\lib\\site-packages\\sklearn\\base.py:441: UserWarning: X does not have valid feature names, but KNeighborsClassifier was fitted with feature names\n",
      "  warnings.warn(\n",
      "C:\\Users\\Manu\\anaconda3\\lib\\site-packages\\sklearn\\base.py:441: UserWarning: X does not have valid feature names, but KNeighborsClassifier was fitted with feature names\n",
      "  warnings.warn(\n",
      "C:\\Users\\Manu\\anaconda3\\lib\\site-packages\\sklearn\\base.py:441: UserWarning: X does not have valid feature names, but KNeighborsClassifier was fitted with feature names\n",
      "  warnings.warn(\n",
      "C:\\Users\\Manu\\anaconda3\\lib\\site-packages\\sklearn\\base.py:441: UserWarning: X does not have valid feature names, but KNeighborsClassifier was fitted with feature names\n",
      "  warnings.warn(\n",
      "C:\\Users\\Manu\\anaconda3\\lib\\site-packages\\sklearn\\base.py:441: UserWarning: X does not have valid feature names, but KNeighborsClassifier was fitted with feature names\n",
      "  warnings.warn(\n",
      "C:\\Users\\Manu\\anaconda3\\lib\\site-packages\\sklearn\\base.py:441: UserWarning: X does not have valid feature names, but KNeighborsClassifier was fitted with feature names\n",
      "  warnings.warn(\n",
      "C:\\Users\\Manu\\anaconda3\\lib\\site-packages\\sklearn\\base.py:441: UserWarning: X does not have valid feature names, but KNeighborsClassifier was fitted with feature names\n",
      "  warnings.warn(\n"
     ]
    },
    {
     "ename": "KeyboardInterrupt",
     "evalue": "",
     "output_type": "error",
     "traceback": [
      "\u001b[1;31m---------------------------------------------------------------------------\u001b[0m",
      "\u001b[1;31mKeyboardInterrupt\u001b[0m                         Traceback (most recent call last)",
      "\u001b[1;32m<ipython-input-74-f3884c8afeff>\u001b[0m in \u001b[0;36m<module>\u001b[1;34m\u001b[0m\n\u001b[1;32m----> 1\u001b[1;33m \u001b[0mknn_grid\u001b[0m\u001b[1;33m.\u001b[0m\u001b[0mfit\u001b[0m\u001b[1;33m(\u001b[0m\u001b[0mx_train\u001b[0m\u001b[1;33m,\u001b[0m \u001b[0my_train\u001b[0m\u001b[1;33m)\u001b[0m\u001b[1;33m\u001b[0m\u001b[1;33m\u001b[0m\u001b[0m\n\u001b[0m",
      "\u001b[1;32m~\\anaconda3\\lib\\site-packages\\sklearn\\model_selection\\_search.py\u001b[0m in \u001b[0;36mfit\u001b[1;34m(self, X, y, groups, **fit_params)\u001b[0m\n\u001b[0;32m    889\u001b[0m                 \u001b[1;32mreturn\u001b[0m \u001b[0mresults\u001b[0m\u001b[1;33m\u001b[0m\u001b[1;33m\u001b[0m\u001b[0m\n\u001b[0;32m    890\u001b[0m \u001b[1;33m\u001b[0m\u001b[0m\n\u001b[1;32m--> 891\u001b[1;33m             \u001b[0mself\u001b[0m\u001b[1;33m.\u001b[0m\u001b[0m_run_search\u001b[0m\u001b[1;33m(\u001b[0m\u001b[0mevaluate_candidates\u001b[0m\u001b[1;33m)\u001b[0m\u001b[1;33m\u001b[0m\u001b[1;33m\u001b[0m\u001b[0m\n\u001b[0m\u001b[0;32m    892\u001b[0m \u001b[1;33m\u001b[0m\u001b[0m\n\u001b[0;32m    893\u001b[0m             \u001b[1;31m# multimetric is determined here because in the case of a callable\u001b[0m\u001b[1;33m\u001b[0m\u001b[1;33m\u001b[0m\u001b[1;33m\u001b[0m\u001b[0m\n",
      "\u001b[1;32m~\\anaconda3\\lib\\site-packages\\sklearn\\model_selection\\_search.py\u001b[0m in \u001b[0;36m_run_search\u001b[1;34m(self, evaluate_candidates)\u001b[0m\n\u001b[0;32m   1390\u001b[0m     \u001b[1;32mdef\u001b[0m \u001b[0m_run_search\u001b[0m\u001b[1;33m(\u001b[0m\u001b[0mself\u001b[0m\u001b[1;33m,\u001b[0m \u001b[0mevaluate_candidates\u001b[0m\u001b[1;33m)\u001b[0m\u001b[1;33m:\u001b[0m\u001b[1;33m\u001b[0m\u001b[1;33m\u001b[0m\u001b[0m\n\u001b[0;32m   1391\u001b[0m         \u001b[1;34m\"\"\"Search all candidates in param_grid\"\"\"\u001b[0m\u001b[1;33m\u001b[0m\u001b[1;33m\u001b[0m\u001b[0m\n\u001b[1;32m-> 1392\u001b[1;33m         \u001b[0mevaluate_candidates\u001b[0m\u001b[1;33m(\u001b[0m\u001b[0mParameterGrid\u001b[0m\u001b[1;33m(\u001b[0m\u001b[0mself\u001b[0m\u001b[1;33m.\u001b[0m\u001b[0mparam_grid\u001b[0m\u001b[1;33m)\u001b[0m\u001b[1;33m)\u001b[0m\u001b[1;33m\u001b[0m\u001b[1;33m\u001b[0m\u001b[0m\n\u001b[0m\u001b[0;32m   1393\u001b[0m \u001b[1;33m\u001b[0m\u001b[0m\n\u001b[0;32m   1394\u001b[0m \u001b[1;33m\u001b[0m\u001b[0m\n",
      "\u001b[1;32m~\\anaconda3\\lib\\site-packages\\sklearn\\model_selection\\_search.py\u001b[0m in \u001b[0;36mevaluate_candidates\u001b[1;34m(candidate_params, cv, more_results)\u001b[0m\n\u001b[0;32m    836\u001b[0m                     )\n\u001b[0;32m    837\u001b[0m \u001b[1;33m\u001b[0m\u001b[0m\n\u001b[1;32m--> 838\u001b[1;33m                 out = parallel(\n\u001b[0m\u001b[0;32m    839\u001b[0m                     delayed(_fit_and_score)(\n\u001b[0;32m    840\u001b[0m                         \u001b[0mclone\u001b[0m\u001b[1;33m(\u001b[0m\u001b[0mbase_estimator\u001b[0m\u001b[1;33m)\u001b[0m\u001b[1;33m,\u001b[0m\u001b[1;33m\u001b[0m\u001b[1;33m\u001b[0m\u001b[0m\n",
      "\u001b[1;32m~\\anaconda3\\lib\\site-packages\\joblib\\parallel.py\u001b[0m in \u001b[0;36m__call__\u001b[1;34m(self, iterable)\u001b[0m\n\u001b[0;32m   1042\u001b[0m                 \u001b[0mself\u001b[0m\u001b[1;33m.\u001b[0m\u001b[0m_iterating\u001b[0m \u001b[1;33m=\u001b[0m \u001b[0mself\u001b[0m\u001b[1;33m.\u001b[0m\u001b[0m_original_iterator\u001b[0m \u001b[1;32mis\u001b[0m \u001b[1;32mnot\u001b[0m \u001b[1;32mNone\u001b[0m\u001b[1;33m\u001b[0m\u001b[1;33m\u001b[0m\u001b[0m\n\u001b[0;32m   1043\u001b[0m \u001b[1;33m\u001b[0m\u001b[0m\n\u001b[1;32m-> 1044\u001b[1;33m             \u001b[1;32mwhile\u001b[0m \u001b[0mself\u001b[0m\u001b[1;33m.\u001b[0m\u001b[0mdispatch_one_batch\u001b[0m\u001b[1;33m(\u001b[0m\u001b[0miterator\u001b[0m\u001b[1;33m)\u001b[0m\u001b[1;33m:\u001b[0m\u001b[1;33m\u001b[0m\u001b[1;33m\u001b[0m\u001b[0m\n\u001b[0m\u001b[0;32m   1045\u001b[0m                 \u001b[1;32mpass\u001b[0m\u001b[1;33m\u001b[0m\u001b[1;33m\u001b[0m\u001b[0m\n\u001b[0;32m   1046\u001b[0m \u001b[1;33m\u001b[0m\u001b[0m\n",
      "\u001b[1;32m~\\anaconda3\\lib\\site-packages\\joblib\\parallel.py\u001b[0m in \u001b[0;36mdispatch_one_batch\u001b[1;34m(self, iterator)\u001b[0m\n\u001b[0;32m    857\u001b[0m                 \u001b[1;32mreturn\u001b[0m \u001b[1;32mFalse\u001b[0m\u001b[1;33m\u001b[0m\u001b[1;33m\u001b[0m\u001b[0m\n\u001b[0;32m    858\u001b[0m             \u001b[1;32melse\u001b[0m\u001b[1;33m:\u001b[0m\u001b[1;33m\u001b[0m\u001b[1;33m\u001b[0m\u001b[0m\n\u001b[1;32m--> 859\u001b[1;33m                 \u001b[0mself\u001b[0m\u001b[1;33m.\u001b[0m\u001b[0m_dispatch\u001b[0m\u001b[1;33m(\u001b[0m\u001b[0mtasks\u001b[0m\u001b[1;33m)\u001b[0m\u001b[1;33m\u001b[0m\u001b[1;33m\u001b[0m\u001b[0m\n\u001b[0m\u001b[0;32m    860\u001b[0m                 \u001b[1;32mreturn\u001b[0m \u001b[1;32mTrue\u001b[0m\u001b[1;33m\u001b[0m\u001b[1;33m\u001b[0m\u001b[0m\n\u001b[0;32m    861\u001b[0m \u001b[1;33m\u001b[0m\u001b[0m\n",
      "\u001b[1;32m~\\anaconda3\\lib\\site-packages\\joblib\\parallel.py\u001b[0m in \u001b[0;36m_dispatch\u001b[1;34m(self, batch)\u001b[0m\n\u001b[0;32m    775\u001b[0m         \u001b[1;32mwith\u001b[0m \u001b[0mself\u001b[0m\u001b[1;33m.\u001b[0m\u001b[0m_lock\u001b[0m\u001b[1;33m:\u001b[0m\u001b[1;33m\u001b[0m\u001b[1;33m\u001b[0m\u001b[0m\n\u001b[0;32m    776\u001b[0m             \u001b[0mjob_idx\u001b[0m \u001b[1;33m=\u001b[0m \u001b[0mlen\u001b[0m\u001b[1;33m(\u001b[0m\u001b[0mself\u001b[0m\u001b[1;33m.\u001b[0m\u001b[0m_jobs\u001b[0m\u001b[1;33m)\u001b[0m\u001b[1;33m\u001b[0m\u001b[1;33m\u001b[0m\u001b[0m\n\u001b[1;32m--> 777\u001b[1;33m             \u001b[0mjob\u001b[0m \u001b[1;33m=\u001b[0m \u001b[0mself\u001b[0m\u001b[1;33m.\u001b[0m\u001b[0m_backend\u001b[0m\u001b[1;33m.\u001b[0m\u001b[0mapply_async\u001b[0m\u001b[1;33m(\u001b[0m\u001b[0mbatch\u001b[0m\u001b[1;33m,\u001b[0m \u001b[0mcallback\u001b[0m\u001b[1;33m=\u001b[0m\u001b[0mcb\u001b[0m\u001b[1;33m)\u001b[0m\u001b[1;33m\u001b[0m\u001b[1;33m\u001b[0m\u001b[0m\n\u001b[0m\u001b[0;32m    778\u001b[0m             \u001b[1;31m# A job can complete so quickly than its callback is\u001b[0m\u001b[1;33m\u001b[0m\u001b[1;33m\u001b[0m\u001b[1;33m\u001b[0m\u001b[0m\n\u001b[0;32m    779\u001b[0m             \u001b[1;31m# called before we get here, causing self._jobs to\u001b[0m\u001b[1;33m\u001b[0m\u001b[1;33m\u001b[0m\u001b[1;33m\u001b[0m\u001b[0m\n",
      "\u001b[1;32m~\\anaconda3\\lib\\site-packages\\joblib\\_parallel_backends.py\u001b[0m in \u001b[0;36mapply_async\u001b[1;34m(self, func, callback)\u001b[0m\n\u001b[0;32m    206\u001b[0m     \u001b[1;32mdef\u001b[0m \u001b[0mapply_async\u001b[0m\u001b[1;33m(\u001b[0m\u001b[0mself\u001b[0m\u001b[1;33m,\u001b[0m \u001b[0mfunc\u001b[0m\u001b[1;33m,\u001b[0m \u001b[0mcallback\u001b[0m\u001b[1;33m=\u001b[0m\u001b[1;32mNone\u001b[0m\u001b[1;33m)\u001b[0m\u001b[1;33m:\u001b[0m\u001b[1;33m\u001b[0m\u001b[1;33m\u001b[0m\u001b[0m\n\u001b[0;32m    207\u001b[0m         \u001b[1;34m\"\"\"Schedule a func to be run\"\"\"\u001b[0m\u001b[1;33m\u001b[0m\u001b[1;33m\u001b[0m\u001b[0m\n\u001b[1;32m--> 208\u001b[1;33m         \u001b[0mresult\u001b[0m \u001b[1;33m=\u001b[0m \u001b[0mImmediateResult\u001b[0m\u001b[1;33m(\u001b[0m\u001b[0mfunc\u001b[0m\u001b[1;33m)\u001b[0m\u001b[1;33m\u001b[0m\u001b[1;33m\u001b[0m\u001b[0m\n\u001b[0m\u001b[0;32m    209\u001b[0m         \u001b[1;32mif\u001b[0m \u001b[0mcallback\u001b[0m\u001b[1;33m:\u001b[0m\u001b[1;33m\u001b[0m\u001b[1;33m\u001b[0m\u001b[0m\n\u001b[0;32m    210\u001b[0m             \u001b[0mcallback\u001b[0m\u001b[1;33m(\u001b[0m\u001b[0mresult\u001b[0m\u001b[1;33m)\u001b[0m\u001b[1;33m\u001b[0m\u001b[1;33m\u001b[0m\u001b[0m\n",
      "\u001b[1;32m~\\anaconda3\\lib\\site-packages\\joblib\\_parallel_backends.py\u001b[0m in \u001b[0;36m__init__\u001b[1;34m(self, batch)\u001b[0m\n\u001b[0;32m    570\u001b[0m         \u001b[1;31m# Don't delay the application, to avoid keeping the input\u001b[0m\u001b[1;33m\u001b[0m\u001b[1;33m\u001b[0m\u001b[1;33m\u001b[0m\u001b[0m\n\u001b[0;32m    571\u001b[0m         \u001b[1;31m# arguments in memory\u001b[0m\u001b[1;33m\u001b[0m\u001b[1;33m\u001b[0m\u001b[1;33m\u001b[0m\u001b[0m\n\u001b[1;32m--> 572\u001b[1;33m         \u001b[0mself\u001b[0m\u001b[1;33m.\u001b[0m\u001b[0mresults\u001b[0m \u001b[1;33m=\u001b[0m \u001b[0mbatch\u001b[0m\u001b[1;33m(\u001b[0m\u001b[1;33m)\u001b[0m\u001b[1;33m\u001b[0m\u001b[1;33m\u001b[0m\u001b[0m\n\u001b[0m\u001b[0;32m    573\u001b[0m \u001b[1;33m\u001b[0m\u001b[0m\n\u001b[0;32m    574\u001b[0m     \u001b[1;32mdef\u001b[0m \u001b[0mget\u001b[0m\u001b[1;33m(\u001b[0m\u001b[0mself\u001b[0m\u001b[1;33m)\u001b[0m\u001b[1;33m:\u001b[0m\u001b[1;33m\u001b[0m\u001b[1;33m\u001b[0m\u001b[0m\n",
      "\u001b[1;32m~\\anaconda3\\lib\\site-packages\\joblib\\parallel.py\u001b[0m in \u001b[0;36m__call__\u001b[1;34m(self)\u001b[0m\n\u001b[0;32m    260\u001b[0m         \u001b[1;31m# change the default number of processes to -1\u001b[0m\u001b[1;33m\u001b[0m\u001b[1;33m\u001b[0m\u001b[1;33m\u001b[0m\u001b[0m\n\u001b[0;32m    261\u001b[0m         \u001b[1;32mwith\u001b[0m \u001b[0mparallel_backend\u001b[0m\u001b[1;33m(\u001b[0m\u001b[0mself\u001b[0m\u001b[1;33m.\u001b[0m\u001b[0m_backend\u001b[0m\u001b[1;33m,\u001b[0m \u001b[0mn_jobs\u001b[0m\u001b[1;33m=\u001b[0m\u001b[0mself\u001b[0m\u001b[1;33m.\u001b[0m\u001b[0m_n_jobs\u001b[0m\u001b[1;33m)\u001b[0m\u001b[1;33m:\u001b[0m\u001b[1;33m\u001b[0m\u001b[1;33m\u001b[0m\u001b[0m\n\u001b[1;32m--> 262\u001b[1;33m             return [func(*args, **kwargs)\n\u001b[0m\u001b[0;32m    263\u001b[0m                     for func, args, kwargs in self.items]\n\u001b[0;32m    264\u001b[0m \u001b[1;33m\u001b[0m\u001b[0m\n",
      "\u001b[1;32m~\\anaconda3\\lib\\site-packages\\joblib\\parallel.py\u001b[0m in \u001b[0;36m<listcomp>\u001b[1;34m(.0)\u001b[0m\n\u001b[0;32m    260\u001b[0m         \u001b[1;31m# change the default number of processes to -1\u001b[0m\u001b[1;33m\u001b[0m\u001b[1;33m\u001b[0m\u001b[1;33m\u001b[0m\u001b[0m\n\u001b[0;32m    261\u001b[0m         \u001b[1;32mwith\u001b[0m \u001b[0mparallel_backend\u001b[0m\u001b[1;33m(\u001b[0m\u001b[0mself\u001b[0m\u001b[1;33m.\u001b[0m\u001b[0m_backend\u001b[0m\u001b[1;33m,\u001b[0m \u001b[0mn_jobs\u001b[0m\u001b[1;33m=\u001b[0m\u001b[0mself\u001b[0m\u001b[1;33m.\u001b[0m\u001b[0m_n_jobs\u001b[0m\u001b[1;33m)\u001b[0m\u001b[1;33m:\u001b[0m\u001b[1;33m\u001b[0m\u001b[1;33m\u001b[0m\u001b[0m\n\u001b[1;32m--> 262\u001b[1;33m             return [func(*args, **kwargs)\n\u001b[0m\u001b[0;32m    263\u001b[0m                     for func, args, kwargs in self.items]\n\u001b[0;32m    264\u001b[0m \u001b[1;33m\u001b[0m\u001b[0m\n",
      "\u001b[1;32m~\\anaconda3\\lib\\site-packages\\sklearn\\utils\\fixes.py\u001b[0m in \u001b[0;36m__call__\u001b[1;34m(self, *args, **kwargs)\u001b[0m\n\u001b[0;32m    207\u001b[0m     \u001b[1;32mdef\u001b[0m \u001b[0m__call__\u001b[0m\u001b[1;33m(\u001b[0m\u001b[0mself\u001b[0m\u001b[1;33m,\u001b[0m \u001b[1;33m*\u001b[0m\u001b[0margs\u001b[0m\u001b[1;33m,\u001b[0m \u001b[1;33m**\u001b[0m\u001b[0mkwargs\u001b[0m\u001b[1;33m)\u001b[0m\u001b[1;33m:\u001b[0m\u001b[1;33m\u001b[0m\u001b[1;33m\u001b[0m\u001b[0m\n\u001b[0;32m    208\u001b[0m         \u001b[1;32mwith\u001b[0m \u001b[0mconfig_context\u001b[0m\u001b[1;33m(\u001b[0m\u001b[1;33m**\u001b[0m\u001b[0mself\u001b[0m\u001b[1;33m.\u001b[0m\u001b[0mconfig\u001b[0m\u001b[1;33m)\u001b[0m\u001b[1;33m:\u001b[0m\u001b[1;33m\u001b[0m\u001b[1;33m\u001b[0m\u001b[0m\n\u001b[1;32m--> 209\u001b[1;33m             \u001b[1;32mreturn\u001b[0m \u001b[0mself\u001b[0m\u001b[1;33m.\u001b[0m\u001b[0mfunction\u001b[0m\u001b[1;33m(\u001b[0m\u001b[1;33m*\u001b[0m\u001b[0margs\u001b[0m\u001b[1;33m,\u001b[0m \u001b[1;33m**\u001b[0m\u001b[0mkwargs\u001b[0m\u001b[1;33m)\u001b[0m\u001b[1;33m\u001b[0m\u001b[1;33m\u001b[0m\u001b[0m\n\u001b[0m\u001b[0;32m    210\u001b[0m \u001b[1;33m\u001b[0m\u001b[0m\n\u001b[0;32m    211\u001b[0m \u001b[1;33m\u001b[0m\u001b[0m\n",
      "\u001b[1;32m~\\anaconda3\\lib\\site-packages\\sklearn\\model_selection\\_validation.py\u001b[0m in \u001b[0;36m_fit_and_score\u001b[1;34m(estimator, X, y, scorer, train, test, verbose, parameters, fit_params, return_train_score, return_parameters, return_n_test_samples, return_times, return_estimator, split_progress, candidate_progress, error_score)\u001b[0m\n\u001b[0;32m    701\u001b[0m \u001b[1;33m\u001b[0m\u001b[0m\n\u001b[0;32m    702\u001b[0m         \u001b[0mfit_time\u001b[0m \u001b[1;33m=\u001b[0m \u001b[0mtime\u001b[0m\u001b[1;33m.\u001b[0m\u001b[0mtime\u001b[0m\u001b[1;33m(\u001b[0m\u001b[1;33m)\u001b[0m \u001b[1;33m-\u001b[0m \u001b[0mstart_time\u001b[0m\u001b[1;33m\u001b[0m\u001b[1;33m\u001b[0m\u001b[0m\n\u001b[1;32m--> 703\u001b[1;33m         \u001b[0mtest_scores\u001b[0m \u001b[1;33m=\u001b[0m \u001b[0m_score\u001b[0m\u001b[1;33m(\u001b[0m\u001b[0mestimator\u001b[0m\u001b[1;33m,\u001b[0m \u001b[0mX_test\u001b[0m\u001b[1;33m,\u001b[0m \u001b[0my_test\u001b[0m\u001b[1;33m,\u001b[0m \u001b[0mscorer\u001b[0m\u001b[1;33m,\u001b[0m \u001b[0merror_score\u001b[0m\u001b[1;33m)\u001b[0m\u001b[1;33m\u001b[0m\u001b[1;33m\u001b[0m\u001b[0m\n\u001b[0m\u001b[0;32m    704\u001b[0m         \u001b[0mscore_time\u001b[0m \u001b[1;33m=\u001b[0m \u001b[0mtime\u001b[0m\u001b[1;33m.\u001b[0m\u001b[0mtime\u001b[0m\u001b[1;33m(\u001b[0m\u001b[1;33m)\u001b[0m \u001b[1;33m-\u001b[0m \u001b[0mstart_time\u001b[0m \u001b[1;33m-\u001b[0m \u001b[0mfit_time\u001b[0m\u001b[1;33m\u001b[0m\u001b[1;33m\u001b[0m\u001b[0m\n\u001b[0;32m    705\u001b[0m         \u001b[1;32mif\u001b[0m \u001b[0mreturn_train_score\u001b[0m\u001b[1;33m:\u001b[0m\u001b[1;33m\u001b[0m\u001b[1;33m\u001b[0m\u001b[0m\n",
      "\u001b[1;32m~\\anaconda3\\lib\\site-packages\\sklearn\\model_selection\\_validation.py\u001b[0m in \u001b[0;36m_score\u001b[1;34m(estimator, X_test, y_test, scorer, error_score)\u001b[0m\n\u001b[0;32m    760\u001b[0m             \u001b[0mscores\u001b[0m \u001b[1;33m=\u001b[0m \u001b[0mscorer\u001b[0m\u001b[1;33m(\u001b[0m\u001b[0mestimator\u001b[0m\u001b[1;33m,\u001b[0m \u001b[0mX_test\u001b[0m\u001b[1;33m)\u001b[0m\u001b[1;33m\u001b[0m\u001b[1;33m\u001b[0m\u001b[0m\n\u001b[0;32m    761\u001b[0m         \u001b[1;32melse\u001b[0m\u001b[1;33m:\u001b[0m\u001b[1;33m\u001b[0m\u001b[1;33m\u001b[0m\u001b[0m\n\u001b[1;32m--> 762\u001b[1;33m             \u001b[0mscores\u001b[0m \u001b[1;33m=\u001b[0m \u001b[0mscorer\u001b[0m\u001b[1;33m(\u001b[0m\u001b[0mestimator\u001b[0m\u001b[1;33m,\u001b[0m \u001b[0mX_test\u001b[0m\u001b[1;33m,\u001b[0m \u001b[0my_test\u001b[0m\u001b[1;33m)\u001b[0m\u001b[1;33m\u001b[0m\u001b[1;33m\u001b[0m\u001b[0m\n\u001b[0m\u001b[0;32m    763\u001b[0m     \u001b[1;32mexcept\u001b[0m \u001b[0mException\u001b[0m\u001b[1;33m:\u001b[0m\u001b[1;33m\u001b[0m\u001b[1;33m\u001b[0m\u001b[0m\n\u001b[0;32m    764\u001b[0m         \u001b[1;32mif\u001b[0m \u001b[0merror_score\u001b[0m \u001b[1;33m==\u001b[0m \u001b[1;34m\"raise\"\u001b[0m\u001b[1;33m:\u001b[0m\u001b[1;33m\u001b[0m\u001b[1;33m\u001b[0m\u001b[0m\n",
      "\u001b[1;32m~\\anaconda3\\lib\\site-packages\\sklearn\\metrics\\_scorer.py\u001b[0m in \u001b[0;36m_passthrough_scorer\u001b[1;34m(estimator, *args, **kwargs)\u001b[0m\n\u001b[0;32m    416\u001b[0m \u001b[1;32mdef\u001b[0m \u001b[0m_passthrough_scorer\u001b[0m\u001b[1;33m(\u001b[0m\u001b[0mestimator\u001b[0m\u001b[1;33m,\u001b[0m \u001b[1;33m*\u001b[0m\u001b[0margs\u001b[0m\u001b[1;33m,\u001b[0m \u001b[1;33m**\u001b[0m\u001b[0mkwargs\u001b[0m\u001b[1;33m)\u001b[0m\u001b[1;33m:\u001b[0m\u001b[1;33m\u001b[0m\u001b[1;33m\u001b[0m\u001b[0m\n\u001b[0;32m    417\u001b[0m     \u001b[1;34m\"\"\"Function that wraps estimator.score\"\"\"\u001b[0m\u001b[1;33m\u001b[0m\u001b[1;33m\u001b[0m\u001b[0m\n\u001b[1;32m--> 418\u001b[1;33m     \u001b[1;32mreturn\u001b[0m \u001b[0mestimator\u001b[0m\u001b[1;33m.\u001b[0m\u001b[0mscore\u001b[0m\u001b[1;33m(\u001b[0m\u001b[1;33m*\u001b[0m\u001b[0margs\u001b[0m\u001b[1;33m,\u001b[0m \u001b[1;33m**\u001b[0m\u001b[0mkwargs\u001b[0m\u001b[1;33m)\u001b[0m\u001b[1;33m\u001b[0m\u001b[1;33m\u001b[0m\u001b[0m\n\u001b[0m\u001b[0;32m    419\u001b[0m \u001b[1;33m\u001b[0m\u001b[0m\n\u001b[0;32m    420\u001b[0m \u001b[1;33m\u001b[0m\u001b[0m\n",
      "\u001b[1;32m~\\anaconda3\\lib\\site-packages\\sklearn\\base.py\u001b[0m in \u001b[0;36mscore\u001b[1;34m(self, X, y, sample_weight)\u001b[0m\n\u001b[0;32m    640\u001b[0m         \u001b[1;32mfrom\u001b[0m \u001b[1;33m.\u001b[0m\u001b[0mmetrics\u001b[0m \u001b[1;32mimport\u001b[0m \u001b[0maccuracy_score\u001b[0m\u001b[1;33m\u001b[0m\u001b[1;33m\u001b[0m\u001b[0m\n\u001b[0;32m    641\u001b[0m \u001b[1;33m\u001b[0m\u001b[0m\n\u001b[1;32m--> 642\u001b[1;33m         \u001b[1;32mreturn\u001b[0m \u001b[0maccuracy_score\u001b[0m\u001b[1;33m(\u001b[0m\u001b[0my\u001b[0m\u001b[1;33m,\u001b[0m \u001b[0mself\u001b[0m\u001b[1;33m.\u001b[0m\u001b[0mpredict\u001b[0m\u001b[1;33m(\u001b[0m\u001b[0mX\u001b[0m\u001b[1;33m)\u001b[0m\u001b[1;33m,\u001b[0m \u001b[0msample_weight\u001b[0m\u001b[1;33m=\u001b[0m\u001b[0msample_weight\u001b[0m\u001b[1;33m)\u001b[0m\u001b[1;33m\u001b[0m\u001b[1;33m\u001b[0m\u001b[0m\n\u001b[0m\u001b[0;32m    643\u001b[0m \u001b[1;33m\u001b[0m\u001b[0m\n\u001b[0;32m    644\u001b[0m     \u001b[1;32mdef\u001b[0m \u001b[0m_more_tags\u001b[0m\u001b[1;33m(\u001b[0m\u001b[0mself\u001b[0m\u001b[1;33m)\u001b[0m\u001b[1;33m:\u001b[0m\u001b[1;33m\u001b[0m\u001b[1;33m\u001b[0m\u001b[0m\n",
      "\u001b[1;32m~\\anaconda3\\lib\\site-packages\\sklearn\\neighbors\\_classification.py\u001b[0m in \u001b[0;36mpredict\u001b[1;34m(self, X)\u001b[0m\n\u001b[0;32m    214\u001b[0m         \u001b[0mX\u001b[0m \u001b[1;33m=\u001b[0m \u001b[0mself\u001b[0m\u001b[1;33m.\u001b[0m\u001b[0m_validate_data\u001b[0m\u001b[1;33m(\u001b[0m\u001b[0mX\u001b[0m\u001b[1;33m,\u001b[0m \u001b[0maccept_sparse\u001b[0m\u001b[1;33m=\u001b[0m\u001b[1;34m\"csr\"\u001b[0m\u001b[1;33m,\u001b[0m \u001b[0mreset\u001b[0m\u001b[1;33m=\u001b[0m\u001b[1;32mFalse\u001b[0m\u001b[1;33m)\u001b[0m\u001b[1;33m\u001b[0m\u001b[1;33m\u001b[0m\u001b[0m\n\u001b[0;32m    215\u001b[0m \u001b[1;33m\u001b[0m\u001b[0m\n\u001b[1;32m--> 216\u001b[1;33m         \u001b[0mneigh_dist\u001b[0m\u001b[1;33m,\u001b[0m \u001b[0mneigh_ind\u001b[0m \u001b[1;33m=\u001b[0m \u001b[0mself\u001b[0m\u001b[1;33m.\u001b[0m\u001b[0mkneighbors\u001b[0m\u001b[1;33m(\u001b[0m\u001b[0mX\u001b[0m\u001b[1;33m)\u001b[0m\u001b[1;33m\u001b[0m\u001b[1;33m\u001b[0m\u001b[0m\n\u001b[0m\u001b[0;32m    217\u001b[0m         \u001b[0mclasses_\u001b[0m \u001b[1;33m=\u001b[0m \u001b[0mself\u001b[0m\u001b[1;33m.\u001b[0m\u001b[0mclasses_\u001b[0m\u001b[1;33m\u001b[0m\u001b[1;33m\u001b[0m\u001b[0m\n\u001b[0;32m    218\u001b[0m         \u001b[0m_y\u001b[0m \u001b[1;33m=\u001b[0m \u001b[0mself\u001b[0m\u001b[1;33m.\u001b[0m\u001b[0m_y\u001b[0m\u001b[1;33m\u001b[0m\u001b[1;33m\u001b[0m\u001b[0m\n",
      "\u001b[1;32m~\\anaconda3\\lib\\site-packages\\sklearn\\neighbors\\_base.py\u001b[0m in \u001b[0;36mkneighbors\u001b[1;34m(self, X, n_neighbors, return_distance)\u001b[0m\n\u001b[0;32m    771\u001b[0m             \u001b[1;32melse\u001b[0m\u001b[1;33m:\u001b[0m\u001b[1;33m\u001b[0m\u001b[1;33m\u001b[0m\u001b[0m\n\u001b[0;32m    772\u001b[0m                 \u001b[0mparallel_kwargs\u001b[0m \u001b[1;33m=\u001b[0m \u001b[1;33m{\u001b[0m\u001b[1;34m\"prefer\"\u001b[0m\u001b[1;33m:\u001b[0m \u001b[1;34m\"threads\"\u001b[0m\u001b[1;33m}\u001b[0m\u001b[1;33m\u001b[0m\u001b[1;33m\u001b[0m\u001b[0m\n\u001b[1;32m--> 773\u001b[1;33m             chunked_results = Parallel(n_jobs, **parallel_kwargs)(\n\u001b[0m\u001b[0;32m    774\u001b[0m                 delayed(_tree_query_parallel_helper)(\n\u001b[0;32m    775\u001b[0m                     \u001b[0mself\u001b[0m\u001b[1;33m.\u001b[0m\u001b[0m_tree\u001b[0m\u001b[1;33m,\u001b[0m \u001b[0mX\u001b[0m\u001b[1;33m[\u001b[0m\u001b[0ms\u001b[0m\u001b[1;33m]\u001b[0m\u001b[1;33m,\u001b[0m \u001b[0mn_neighbors\u001b[0m\u001b[1;33m,\u001b[0m \u001b[0mreturn_distance\u001b[0m\u001b[1;33m\u001b[0m\u001b[1;33m\u001b[0m\u001b[0m\n",
      "\u001b[1;32m~\\anaconda3\\lib\\site-packages\\joblib\\parallel.py\u001b[0m in \u001b[0;36m__call__\u001b[1;34m(self, iterable)\u001b[0m\n\u001b[0;32m   1039\u001b[0m             \u001b[1;31m# remaining jobs.\u001b[0m\u001b[1;33m\u001b[0m\u001b[1;33m\u001b[0m\u001b[1;33m\u001b[0m\u001b[0m\n\u001b[0;32m   1040\u001b[0m             \u001b[0mself\u001b[0m\u001b[1;33m.\u001b[0m\u001b[0m_iterating\u001b[0m \u001b[1;33m=\u001b[0m \u001b[1;32mFalse\u001b[0m\u001b[1;33m\u001b[0m\u001b[1;33m\u001b[0m\u001b[0m\n\u001b[1;32m-> 1041\u001b[1;33m             \u001b[1;32mif\u001b[0m \u001b[0mself\u001b[0m\u001b[1;33m.\u001b[0m\u001b[0mdispatch_one_batch\u001b[0m\u001b[1;33m(\u001b[0m\u001b[0miterator\u001b[0m\u001b[1;33m)\u001b[0m\u001b[1;33m:\u001b[0m\u001b[1;33m\u001b[0m\u001b[1;33m\u001b[0m\u001b[0m\n\u001b[0m\u001b[0;32m   1042\u001b[0m                 \u001b[0mself\u001b[0m\u001b[1;33m.\u001b[0m\u001b[0m_iterating\u001b[0m \u001b[1;33m=\u001b[0m \u001b[0mself\u001b[0m\u001b[1;33m.\u001b[0m\u001b[0m_original_iterator\u001b[0m \u001b[1;32mis\u001b[0m \u001b[1;32mnot\u001b[0m \u001b[1;32mNone\u001b[0m\u001b[1;33m\u001b[0m\u001b[1;33m\u001b[0m\u001b[0m\n\u001b[0;32m   1043\u001b[0m \u001b[1;33m\u001b[0m\u001b[0m\n",
      "\u001b[1;32m~\\anaconda3\\lib\\site-packages\\joblib\\parallel.py\u001b[0m in \u001b[0;36mdispatch_one_batch\u001b[1;34m(self, iterator)\u001b[0m\n\u001b[0;32m    857\u001b[0m                 \u001b[1;32mreturn\u001b[0m \u001b[1;32mFalse\u001b[0m\u001b[1;33m\u001b[0m\u001b[1;33m\u001b[0m\u001b[0m\n\u001b[0;32m    858\u001b[0m             \u001b[1;32melse\u001b[0m\u001b[1;33m:\u001b[0m\u001b[1;33m\u001b[0m\u001b[1;33m\u001b[0m\u001b[0m\n\u001b[1;32m--> 859\u001b[1;33m                 \u001b[0mself\u001b[0m\u001b[1;33m.\u001b[0m\u001b[0m_dispatch\u001b[0m\u001b[1;33m(\u001b[0m\u001b[0mtasks\u001b[0m\u001b[1;33m)\u001b[0m\u001b[1;33m\u001b[0m\u001b[1;33m\u001b[0m\u001b[0m\n\u001b[0m\u001b[0;32m    860\u001b[0m                 \u001b[1;32mreturn\u001b[0m \u001b[1;32mTrue\u001b[0m\u001b[1;33m\u001b[0m\u001b[1;33m\u001b[0m\u001b[0m\n\u001b[0;32m    861\u001b[0m \u001b[1;33m\u001b[0m\u001b[0m\n",
      "\u001b[1;32m~\\anaconda3\\lib\\site-packages\\joblib\\parallel.py\u001b[0m in \u001b[0;36m_dispatch\u001b[1;34m(self, batch)\u001b[0m\n\u001b[0;32m    775\u001b[0m         \u001b[1;32mwith\u001b[0m \u001b[0mself\u001b[0m\u001b[1;33m.\u001b[0m\u001b[0m_lock\u001b[0m\u001b[1;33m:\u001b[0m\u001b[1;33m\u001b[0m\u001b[1;33m\u001b[0m\u001b[0m\n\u001b[0;32m    776\u001b[0m             \u001b[0mjob_idx\u001b[0m \u001b[1;33m=\u001b[0m \u001b[0mlen\u001b[0m\u001b[1;33m(\u001b[0m\u001b[0mself\u001b[0m\u001b[1;33m.\u001b[0m\u001b[0m_jobs\u001b[0m\u001b[1;33m)\u001b[0m\u001b[1;33m\u001b[0m\u001b[1;33m\u001b[0m\u001b[0m\n\u001b[1;32m--> 777\u001b[1;33m             \u001b[0mjob\u001b[0m \u001b[1;33m=\u001b[0m \u001b[0mself\u001b[0m\u001b[1;33m.\u001b[0m\u001b[0m_backend\u001b[0m\u001b[1;33m.\u001b[0m\u001b[0mapply_async\u001b[0m\u001b[1;33m(\u001b[0m\u001b[0mbatch\u001b[0m\u001b[1;33m,\u001b[0m \u001b[0mcallback\u001b[0m\u001b[1;33m=\u001b[0m\u001b[0mcb\u001b[0m\u001b[1;33m)\u001b[0m\u001b[1;33m\u001b[0m\u001b[1;33m\u001b[0m\u001b[0m\n\u001b[0m\u001b[0;32m    778\u001b[0m             \u001b[1;31m# A job can complete so quickly than its callback is\u001b[0m\u001b[1;33m\u001b[0m\u001b[1;33m\u001b[0m\u001b[1;33m\u001b[0m\u001b[0m\n\u001b[0;32m    779\u001b[0m             \u001b[1;31m# called before we get here, causing self._jobs to\u001b[0m\u001b[1;33m\u001b[0m\u001b[1;33m\u001b[0m\u001b[1;33m\u001b[0m\u001b[0m\n",
      "\u001b[1;32m~\\anaconda3\\lib\\site-packages\\joblib\\_parallel_backends.py\u001b[0m in \u001b[0;36mapply_async\u001b[1;34m(self, func, callback)\u001b[0m\n\u001b[0;32m    206\u001b[0m     \u001b[1;32mdef\u001b[0m \u001b[0mapply_async\u001b[0m\u001b[1;33m(\u001b[0m\u001b[0mself\u001b[0m\u001b[1;33m,\u001b[0m \u001b[0mfunc\u001b[0m\u001b[1;33m,\u001b[0m \u001b[0mcallback\u001b[0m\u001b[1;33m=\u001b[0m\u001b[1;32mNone\u001b[0m\u001b[1;33m)\u001b[0m\u001b[1;33m:\u001b[0m\u001b[1;33m\u001b[0m\u001b[1;33m\u001b[0m\u001b[0m\n\u001b[0;32m    207\u001b[0m         \u001b[1;34m\"\"\"Schedule a func to be run\"\"\"\u001b[0m\u001b[1;33m\u001b[0m\u001b[1;33m\u001b[0m\u001b[0m\n\u001b[1;32m--> 208\u001b[1;33m         \u001b[0mresult\u001b[0m \u001b[1;33m=\u001b[0m \u001b[0mImmediateResult\u001b[0m\u001b[1;33m(\u001b[0m\u001b[0mfunc\u001b[0m\u001b[1;33m)\u001b[0m\u001b[1;33m\u001b[0m\u001b[1;33m\u001b[0m\u001b[0m\n\u001b[0m\u001b[0;32m    209\u001b[0m         \u001b[1;32mif\u001b[0m \u001b[0mcallback\u001b[0m\u001b[1;33m:\u001b[0m\u001b[1;33m\u001b[0m\u001b[1;33m\u001b[0m\u001b[0m\n\u001b[0;32m    210\u001b[0m             \u001b[0mcallback\u001b[0m\u001b[1;33m(\u001b[0m\u001b[0mresult\u001b[0m\u001b[1;33m)\u001b[0m\u001b[1;33m\u001b[0m\u001b[1;33m\u001b[0m\u001b[0m\n",
      "\u001b[1;32m~\\anaconda3\\lib\\site-packages\\joblib\\_parallel_backends.py\u001b[0m in \u001b[0;36m__init__\u001b[1;34m(self, batch)\u001b[0m\n\u001b[0;32m    570\u001b[0m         \u001b[1;31m# Don't delay the application, to avoid keeping the input\u001b[0m\u001b[1;33m\u001b[0m\u001b[1;33m\u001b[0m\u001b[1;33m\u001b[0m\u001b[0m\n\u001b[0;32m    571\u001b[0m         \u001b[1;31m# arguments in memory\u001b[0m\u001b[1;33m\u001b[0m\u001b[1;33m\u001b[0m\u001b[1;33m\u001b[0m\u001b[0m\n\u001b[1;32m--> 572\u001b[1;33m         \u001b[0mself\u001b[0m\u001b[1;33m.\u001b[0m\u001b[0mresults\u001b[0m \u001b[1;33m=\u001b[0m \u001b[0mbatch\u001b[0m\u001b[1;33m(\u001b[0m\u001b[1;33m)\u001b[0m\u001b[1;33m\u001b[0m\u001b[1;33m\u001b[0m\u001b[0m\n\u001b[0m\u001b[0;32m    573\u001b[0m \u001b[1;33m\u001b[0m\u001b[0m\n\u001b[0;32m    574\u001b[0m     \u001b[1;32mdef\u001b[0m \u001b[0mget\u001b[0m\u001b[1;33m(\u001b[0m\u001b[0mself\u001b[0m\u001b[1;33m)\u001b[0m\u001b[1;33m:\u001b[0m\u001b[1;33m\u001b[0m\u001b[1;33m\u001b[0m\u001b[0m\n",
      "\u001b[1;32m~\\anaconda3\\lib\\site-packages\\joblib\\parallel.py\u001b[0m in \u001b[0;36m__call__\u001b[1;34m(self)\u001b[0m\n\u001b[0;32m    260\u001b[0m         \u001b[1;31m# change the default number of processes to -1\u001b[0m\u001b[1;33m\u001b[0m\u001b[1;33m\u001b[0m\u001b[1;33m\u001b[0m\u001b[0m\n\u001b[0;32m    261\u001b[0m         \u001b[1;32mwith\u001b[0m \u001b[0mparallel_backend\u001b[0m\u001b[1;33m(\u001b[0m\u001b[0mself\u001b[0m\u001b[1;33m.\u001b[0m\u001b[0m_backend\u001b[0m\u001b[1;33m,\u001b[0m \u001b[0mn_jobs\u001b[0m\u001b[1;33m=\u001b[0m\u001b[0mself\u001b[0m\u001b[1;33m.\u001b[0m\u001b[0m_n_jobs\u001b[0m\u001b[1;33m)\u001b[0m\u001b[1;33m:\u001b[0m\u001b[1;33m\u001b[0m\u001b[1;33m\u001b[0m\u001b[0m\n\u001b[1;32m--> 262\u001b[1;33m             return [func(*args, **kwargs)\n\u001b[0m\u001b[0;32m    263\u001b[0m                     for func, args, kwargs in self.items]\n\u001b[0;32m    264\u001b[0m \u001b[1;33m\u001b[0m\u001b[0m\n",
      "\u001b[1;32m~\\anaconda3\\lib\\site-packages\\joblib\\parallel.py\u001b[0m in \u001b[0;36m<listcomp>\u001b[1;34m(.0)\u001b[0m\n\u001b[0;32m    260\u001b[0m         \u001b[1;31m# change the default number of processes to -1\u001b[0m\u001b[1;33m\u001b[0m\u001b[1;33m\u001b[0m\u001b[1;33m\u001b[0m\u001b[0m\n\u001b[0;32m    261\u001b[0m         \u001b[1;32mwith\u001b[0m \u001b[0mparallel_backend\u001b[0m\u001b[1;33m(\u001b[0m\u001b[0mself\u001b[0m\u001b[1;33m.\u001b[0m\u001b[0m_backend\u001b[0m\u001b[1;33m,\u001b[0m \u001b[0mn_jobs\u001b[0m\u001b[1;33m=\u001b[0m\u001b[0mself\u001b[0m\u001b[1;33m.\u001b[0m\u001b[0m_n_jobs\u001b[0m\u001b[1;33m)\u001b[0m\u001b[1;33m:\u001b[0m\u001b[1;33m\u001b[0m\u001b[1;33m\u001b[0m\u001b[0m\n\u001b[1;32m--> 262\u001b[1;33m             return [func(*args, **kwargs)\n\u001b[0m\u001b[0;32m    263\u001b[0m                     for func, args, kwargs in self.items]\n\u001b[0;32m    264\u001b[0m \u001b[1;33m\u001b[0m\u001b[0m\n",
      "\u001b[1;32m~\\anaconda3\\lib\\site-packages\\sklearn\\utils\\fixes.py\u001b[0m in \u001b[0;36m__call__\u001b[1;34m(self, *args, **kwargs)\u001b[0m\n\u001b[0;32m    207\u001b[0m     \u001b[1;32mdef\u001b[0m \u001b[0m__call__\u001b[0m\u001b[1;33m(\u001b[0m\u001b[0mself\u001b[0m\u001b[1;33m,\u001b[0m \u001b[1;33m*\u001b[0m\u001b[0margs\u001b[0m\u001b[1;33m,\u001b[0m \u001b[1;33m**\u001b[0m\u001b[0mkwargs\u001b[0m\u001b[1;33m)\u001b[0m\u001b[1;33m:\u001b[0m\u001b[1;33m\u001b[0m\u001b[1;33m\u001b[0m\u001b[0m\n\u001b[0;32m    208\u001b[0m         \u001b[1;32mwith\u001b[0m \u001b[0mconfig_context\u001b[0m\u001b[1;33m(\u001b[0m\u001b[1;33m**\u001b[0m\u001b[0mself\u001b[0m\u001b[1;33m.\u001b[0m\u001b[0mconfig\u001b[0m\u001b[1;33m)\u001b[0m\u001b[1;33m:\u001b[0m\u001b[1;33m\u001b[0m\u001b[1;33m\u001b[0m\u001b[0m\n\u001b[1;32m--> 209\u001b[1;33m             \u001b[1;32mreturn\u001b[0m \u001b[0mself\u001b[0m\u001b[1;33m.\u001b[0m\u001b[0mfunction\u001b[0m\u001b[1;33m(\u001b[0m\u001b[1;33m*\u001b[0m\u001b[0margs\u001b[0m\u001b[1;33m,\u001b[0m \u001b[1;33m**\u001b[0m\u001b[0mkwargs\u001b[0m\u001b[1;33m)\u001b[0m\u001b[1;33m\u001b[0m\u001b[1;33m\u001b[0m\u001b[0m\n\u001b[0m\u001b[0;32m    210\u001b[0m \u001b[1;33m\u001b[0m\u001b[0m\n\u001b[0;32m    211\u001b[0m \u001b[1;33m\u001b[0m\u001b[0m\n",
      "\u001b[1;32m~\\anaconda3\\lib\\site-packages\\sklearn\\neighbors\\_base.py\u001b[0m in \u001b[0;36m_tree_query_parallel_helper\u001b[1;34m(tree, *args, **kwargs)\u001b[0m\n\u001b[0;32m    595\u001b[0m     \u001b[0munder\u001b[0m \u001b[0mPyPy\u001b[0m\u001b[1;33m.\u001b[0m\u001b[1;33m\u001b[0m\u001b[1;33m\u001b[0m\u001b[0m\n\u001b[0;32m    596\u001b[0m     \"\"\"\n\u001b[1;32m--> 597\u001b[1;33m     \u001b[1;32mreturn\u001b[0m \u001b[0mtree\u001b[0m\u001b[1;33m.\u001b[0m\u001b[0mquery\u001b[0m\u001b[1;33m(\u001b[0m\u001b[1;33m*\u001b[0m\u001b[0margs\u001b[0m\u001b[1;33m,\u001b[0m \u001b[1;33m**\u001b[0m\u001b[0mkwargs\u001b[0m\u001b[1;33m)\u001b[0m\u001b[1;33m\u001b[0m\u001b[1;33m\u001b[0m\u001b[0m\n\u001b[0m\u001b[0;32m    598\u001b[0m \u001b[1;33m\u001b[0m\u001b[0m\n\u001b[0;32m    599\u001b[0m \u001b[1;33m\u001b[0m\u001b[0m\n",
      "\u001b[1;31mKeyboardInterrupt\u001b[0m: "
     ]
    }
   ],
   "source": [
    "knn_grid.fit(x_train, y_train)"
   ]
  },
  {
   "cell_type": "code",
   "execution_count": null,
   "id": "a0b549ed",
   "metadata": {},
   "outputs": [],
   "source": [
    "#Best parameters for KNN model\n",
    "knn_grid.best_params_"
   ]
  },
  {
   "cell_type": "code",
   "execution_count": 30,
   "id": "a0a3f9d5",
   "metadata": {},
   "outputs": [],
   "source": [
    "#Using best parameters to build the model\n",
    "knn = KNeighborsClassifier(n_neighbors=3, p=1, weights='distance', leaf_size=10, algorithm='auto')"
   ]
  },
  {
   "cell_type": "code",
   "execution_count": 31,
   "id": "b4dd441f",
   "metadata": {},
   "outputs": [
    {
     "data": {
      "text/plain": [
       "KNeighborsClassifier(leaf_size=10, n_neighbors=3, p=1, weights='distance')"
      ]
     },
     "execution_count": 31,
     "metadata": {},
     "output_type": "execute_result"
    }
   ],
   "source": [
    "knn.fit(x_train, y_train)"
   ]
  },
  {
   "cell_type": "code",
   "execution_count": 32,
   "id": "3c2419d1",
   "metadata": {
    "scrolled": false
   },
   "outputs": [
    {
     "name": "stderr",
     "output_type": "stream",
     "text": [
      "C:\\Users\\Manu\\anaconda3\\lib\\site-packages\\sklearn\\base.py:441: UserWarning: X does not have valid feature names, but KNeighborsClassifier was fitted with feature names\n",
      "  warnings.warn(\n"
     ]
    },
    {
     "data": {
      "text/plain": [
       "0.9875549048316252"
      ]
     },
     "execution_count": 32,
     "metadata": {},
     "output_type": "execute_result"
    }
   ],
   "source": [
    "knn.score(x_test, y_test)"
   ]
  },
  {
   "cell_type": "markdown",
   "id": "277a50a7",
   "metadata": {},
   "source": [
    "_There is a slight improvement in the KNN model after using the best parameters._"
   ]
  },
  {
   "cell_type": "code",
   "execution_count": 33,
   "id": "0a02a900",
   "metadata": {
    "scrolled": true
   },
   "outputs": [
    {
     "name": "stderr",
     "output_type": "stream",
     "text": [
      "C:\\Users\\Manu\\anaconda3\\lib\\site-packages\\sklearn\\base.py:441: UserWarning: X does not have valid feature names, but KNeighborsClassifier was fitted with feature names\n",
      "  warnings.warn(\n"
     ]
    }
   ],
   "source": [
    "y_pred_knn = knn.predict(x_test)"
   ]
  },
  {
   "cell_type": "code",
   "execution_count": 34,
   "id": "7822722d",
   "metadata": {
    "scrolled": true
   },
   "outputs": [
    {
     "name": "stdout",
     "output_type": "stream",
     "text": [
      "              precision    recall  f1-score   support\n",
      "\n",
      "           1       0.98      0.98      0.98      3281\n",
      "           2       0.96      0.99      0.98       948\n",
      "           3       1.00      1.00      1.00     10333\n",
      "           4       0.93      0.77      0.84       464\n",
      "\n",
      "    accuracy                           0.99     15026\n",
      "   macro avg       0.96      0.94      0.95     15026\n",
      "weighted avg       0.99      0.99      0.99     15026\n",
      "\n"
     ]
    }
   ],
   "source": [
    "print(classification_report(y_test, y_pred_knn))"
   ]
  },
  {
   "cell_type": "markdown",
   "id": "ce09669b",
   "metadata": {},
   "source": [
    "### Decision Tree"
   ]
  },
  {
   "cell_type": "code",
   "execution_count": null,
   "id": "40576b75",
   "metadata": {},
   "outputs": [],
   "source": [
    "# Creating independent and dependent variables\n",
    "ydt = fdf_DT['Activity']\n",
    "xdt = fdf_DT.drop(columns=['Activity'])"
   ]
  },
  {
   "cell_type": "code",
   "execution_count": 27,
   "id": "50486b0e",
   "metadata": {},
   "outputs": [],
   "source": [
    "#Splitting the dataset into train and test sets\n",
    "xdt_train, xdt_test, ydt_train, ydt_test = train_test_split(xdt, ydt, test_size = .20 , random_state = 144)"
   ]
  },
  {
   "cell_type": "code",
   "execution_count": 28,
   "id": "dddbfeaf",
   "metadata": {},
   "outputs": [],
   "source": [
    "#Creating a model with default parameters\n",
    "dt_model = DecisionTreeClassifier()"
   ]
  },
  {
   "cell_type": "code",
   "execution_count": 29,
   "id": "e00756e6",
   "metadata": {},
   "outputs": [
    {
     "data": {
      "text/plain": [
       "DecisionTreeClassifier()"
      ]
     },
     "execution_count": 29,
     "metadata": {},
     "output_type": "execute_result"
    }
   ],
   "source": [
    "dt_model.fit(xdt_train, ydt_train)"
   ]
  },
  {
   "cell_type": "code",
   "execution_count": 30,
   "id": "dd44f946",
   "metadata": {},
   "outputs": [],
   "source": [
    "from sklearn import tree"
   ]
  },
  {
   "cell_type": "code",
   "execution_count": 31,
   "id": "f48fb663",
   "metadata": {},
   "outputs": [
    {
     "name": "stderr",
     "output_type": "stream",
     "text": [
      "Fontsize 0.16 < 1.0 pt not allowed by FreeType. Setting fontsize = 1 pt\n",
      "Fontsize 0.16 < 1.0 pt not allowed by FreeType. Setting fontsize = 1 pt\n",
      "Fontsize 0.16 < 1.0 pt not allowed by FreeType. Setting fontsize = 1 pt\n",
      "Fontsize 0.16 < 1.0 pt not allowed by FreeType. Setting fontsize = 1 pt\n",
      "Fontsize 0.16 < 1.0 pt not allowed by FreeType. Setting fontsize = 1 pt\n",
      "Fontsize 0.16 < 1.0 pt not allowed by FreeType. Setting fontsize = 1 pt\n",
      "Fontsize 0.16 < 1.0 pt not allowed by FreeType. Setting fontsize = 1 pt\n",
      "Fontsize 0.16 < 1.0 pt not allowed by FreeType. Setting fontsize = 1 pt\n",
      "Fontsize 0.16 < 1.0 pt not allowed by FreeType. Setting fontsize = 1 pt\n",
      "Fontsize 0.16 < 1.0 pt not allowed by FreeType. Setting fontsize = 1 pt\n",
      "Fontsize 0.16 < 1.0 pt not allowed by FreeType. Setting fontsize = 1 pt\n",
      "Fontsize 0.16 < 1.0 pt not allowed by FreeType. Setting fontsize = 1 pt\n",
      "Fontsize 0.16 < 1.0 pt not allowed by FreeType. Setting fontsize = 1 pt\n",
      "Fontsize 0.16 < 1.0 pt not allowed by FreeType. Setting fontsize = 1 pt\n",
      "Fontsize 0.16 < 1.0 pt not allowed by FreeType. Setting fontsize = 1 pt\n",
      "Fontsize 0.16 < 1.0 pt not allowed by FreeType. Setting fontsize = 1 pt\n",
      "Fontsize 0.16 < 1.0 pt not allowed by FreeType. Setting fontsize = 1 pt\n",
      "Fontsize 0.16 < 1.0 pt not allowed by FreeType. Setting fontsize = 1 pt\n",
      "Fontsize 0.16 < 1.0 pt not allowed by FreeType. Setting fontsize = 1 pt\n",
      "Fontsize 0.16 < 1.0 pt not allowed by FreeType. Setting fontsize = 1 pt\n",
      "Fontsize 0.16 < 1.0 pt not allowed by FreeType. Setting fontsize = 1 pt\n",
      "Fontsize 0.16 < 1.0 pt not allowed by FreeType. Setting fontsize = 1 pt\n",
      "Fontsize 0.16 < 1.0 pt not allowed by FreeType. Setting fontsize = 1 pt\n",
      "Fontsize 0.16 < 1.0 pt not allowed by FreeType. Setting fontsize = 1 pt\n",
      "Fontsize 0.16 < 1.0 pt not allowed by FreeType. Setting fontsize = 1 pt\n",
      "Fontsize 0.16 < 1.0 pt not allowed by FreeType. Setting fontsize = 1 pt\n",
      "Fontsize 0.16 < 1.0 pt not allowed by FreeType. Setting fontsize = 1 pt\n",
      "Fontsize 0.16 < 1.0 pt not allowed by FreeType. Setting fontsize = 1 pt\n",
      "Fontsize 0.16 < 1.0 pt not allowed by FreeType. Setting fontsize = 1 pt\n",
      "Fontsize 0.16 < 1.0 pt not allowed by FreeType. Setting fontsize = 1 pt\n",
      "Fontsize 0.16 < 1.0 pt not allowed by FreeType. Setting fontsize = 1 pt\n",
      "Fontsize 0.16 < 1.0 pt not allowed by FreeType. Setting fontsize = 1 pt\n",
      "Fontsize 0.16 < 1.0 pt not allowed by FreeType. Setting fontsize = 1 pt\n",
      "Fontsize 0.16 < 1.0 pt not allowed by FreeType. Setting fontsize = 1 pt\n",
      "Fontsize 0.16 < 1.0 pt not allowed by FreeType. Setting fontsize = 1 pt\n",
      "Fontsize 0.16 < 1.0 pt not allowed by FreeType. Setting fontsize = 1 pt\n",
      "Fontsize 0.16 < 1.0 pt not allowed by FreeType. Setting fontsize = 1 pt\n",
      "Fontsize 0.16 < 1.0 pt not allowed by FreeType. Setting fontsize = 1 pt\n",
      "Fontsize 0.16 < 1.0 pt not allowed by FreeType. Setting fontsize = 1 pt\n",
      "Fontsize 0.16 < 1.0 pt not allowed by FreeType. Setting fontsize = 1 pt\n",
      "Fontsize 0.16 < 1.0 pt not allowed by FreeType. Setting fontsize = 1 pt\n",
      "Fontsize 0.16 < 1.0 pt not allowed by FreeType. Setting fontsize = 1 pt\n",
      "Fontsize 0.16 < 1.0 pt not allowed by FreeType. Setting fontsize = 1 pt\n",
      "Fontsize 0.16 < 1.0 pt not allowed by FreeType. Setting fontsize = 1 pt\n",
      "Fontsize 0.16 < 1.0 pt not allowed by FreeType. Setting fontsize = 1 pt\n",
      "Fontsize 0.16 < 1.0 pt not allowed by FreeType. Setting fontsize = 1 pt\n",
      "Fontsize 0.16 < 1.0 pt not allowed by FreeType. Setting fontsize = 1 pt\n",
      "Fontsize 0.16 < 1.0 pt not allowed by FreeType. Setting fontsize = 1 pt\n",
      "Fontsize 0.16 < 1.0 pt not allowed by FreeType. Setting fontsize = 1 pt\n",
      "Fontsize 0.16 < 1.0 pt not allowed by FreeType. Setting fontsize = 1 pt\n",
      "Fontsize 0.16 < 1.0 pt not allowed by FreeType. Setting fontsize = 1 pt\n",
      "Fontsize 0.16 < 1.0 pt not allowed by FreeType. Setting fontsize = 1 pt\n",
      "Fontsize 0.16 < 1.0 pt not allowed by FreeType. Setting fontsize = 1 pt\n",
      "Fontsize 0.16 < 1.0 pt not allowed by FreeType. Setting fontsize = 1 pt\n",
      "Fontsize 0.16 < 1.0 pt not allowed by FreeType. Setting fontsize = 1 pt\n",
      "Fontsize 0.16 < 1.0 pt not allowed by FreeType. Setting fontsize = 1 pt\n",
      "Fontsize 0.16 < 1.0 pt not allowed by FreeType. Setting fontsize = 1 pt\n",
      "Fontsize 0.16 < 1.0 pt not allowed by FreeType. Setting fontsize = 1 pt\n",
      "Fontsize 0.16 < 1.0 pt not allowed by FreeType. Setting fontsize = 1 pt\n",
      "Fontsize 0.16 < 1.0 pt not allowed by FreeType. Setting fontsize = 1 pt\n",
      "Fontsize 0.16 < 1.0 pt not allowed by FreeType. Setting fontsize = 1 pt\n",
      "Fontsize 0.16 < 1.0 pt not allowed by FreeType. Setting fontsize = 1 pt\n",
      "Fontsize 0.16 < 1.0 pt not allowed by FreeType. Setting fontsize = 1 pt\n",
      "Fontsize 0.16 < 1.0 pt not allowed by FreeType. Setting fontsize = 1 pt\n",
      "Fontsize 0.16 < 1.0 pt not allowed by FreeType. Setting fontsize = 1 pt\n",
      "Fontsize 0.16 < 1.0 pt not allowed by FreeType. Setting fontsize = 1 pt\n",
      "Fontsize 0.16 < 1.0 pt not allowed by FreeType. Setting fontsize = 1 pt\n",
      "Fontsize 0.16 < 1.0 pt not allowed by FreeType. Setting fontsize = 1 pt\n",
      "Fontsize 0.16 < 1.0 pt not allowed by FreeType. Setting fontsize = 1 pt\n",
      "Fontsize 0.16 < 1.0 pt not allowed by FreeType. Setting fontsize = 1 pt\n",
      "Fontsize 0.16 < 1.0 pt not allowed by FreeType. Setting fontsize = 1 pt\n",
      "Fontsize 0.16 < 1.0 pt not allowed by FreeType. Setting fontsize = 1 pt\n",
      "Fontsize 0.16 < 1.0 pt not allowed by FreeType. Setting fontsize = 1 pt\n",
      "Fontsize 0.16 < 1.0 pt not allowed by FreeType. Setting fontsize = 1 pt\n",
      "Fontsize 0.16 < 1.0 pt not allowed by FreeType. Setting fontsize = 1 pt\n",
      "Fontsize 0.16 < 1.0 pt not allowed by FreeType. Setting fontsize = 1 pt\n",
      "Fontsize 0.16 < 1.0 pt not allowed by FreeType. Setting fontsize = 1 pt\n",
      "Fontsize 0.16 < 1.0 pt not allowed by FreeType. Setting fontsize = 1 pt\n",
      "Fontsize 0.16 < 1.0 pt not allowed by FreeType. Setting fontsize = 1 pt\n",
      "Fontsize 0.16 < 1.0 pt not allowed by FreeType. Setting fontsize = 1 pt\n",
      "Fontsize 0.16 < 1.0 pt not allowed by FreeType. Setting fontsize = 1 pt\n",
      "Fontsize 0.16 < 1.0 pt not allowed by FreeType. Setting fontsize = 1 pt\n",
      "Fontsize 0.16 < 1.0 pt not allowed by FreeType. Setting fontsize = 1 pt\n",
      "Fontsize 0.16 < 1.0 pt not allowed by FreeType. Setting fontsize = 1 pt\n",
      "Fontsize 0.16 < 1.0 pt not allowed by FreeType. Setting fontsize = 1 pt\n",
      "Fontsize 0.16 < 1.0 pt not allowed by FreeType. Setting fontsize = 1 pt\n",
      "Fontsize 0.16 < 1.0 pt not allowed by FreeType. Setting fontsize = 1 pt\n",
      "Fontsize 0.16 < 1.0 pt not allowed by FreeType. Setting fontsize = 1 pt\n",
      "Fontsize 0.16 < 1.0 pt not allowed by FreeType. Setting fontsize = 1 pt\n",
      "Fontsize 0.16 < 1.0 pt not allowed by FreeType. Setting fontsize = 1 pt\n",
      "Fontsize 0.16 < 1.0 pt not allowed by FreeType. Setting fontsize = 1 pt\n",
      "Fontsize 0.16 < 1.0 pt not allowed by FreeType. Setting fontsize = 1 pt\n",
      "Fontsize 0.16 < 1.0 pt not allowed by FreeType. Setting fontsize = 1 pt\n",
      "Fontsize 0.16 < 1.0 pt not allowed by FreeType. Setting fontsize = 1 pt\n",
      "Fontsize 0.16 < 1.0 pt not allowed by FreeType. Setting fontsize = 1 pt\n",
      "Fontsize 0.16 < 1.0 pt not allowed by FreeType. Setting fontsize = 1 pt\n",
      "Fontsize 0.16 < 1.0 pt not allowed by FreeType. Setting fontsize = 1 pt\n",
      "Fontsize 0.16 < 1.0 pt not allowed by FreeType. Setting fontsize = 1 pt\n",
      "Fontsize 0.16 < 1.0 pt not allowed by FreeType. Setting fontsize = 1 pt\n",
      "Fontsize 0.16 < 1.0 pt not allowed by FreeType. Setting fontsize = 1 pt\n",
      "Fontsize 0.16 < 1.0 pt not allowed by FreeType. Setting fontsize = 1 pt\n",
      "Fontsize 0.16 < 1.0 pt not allowed by FreeType. Setting fontsize = 1 pt\n",
      "Fontsize 0.16 < 1.0 pt not allowed by FreeType. Setting fontsize = 1 pt\n",
      "Fontsize 0.16 < 1.0 pt not allowed by FreeType. Setting fontsize = 1 pt\n",
      "Fontsize 0.16 < 1.0 pt not allowed by FreeType. Setting fontsize = 1 pt\n",
      "Fontsize 0.16 < 1.0 pt not allowed by FreeType. Setting fontsize = 1 pt\n",
      "Fontsize 0.16 < 1.0 pt not allowed by FreeType. Setting fontsize = 1 pt\n",
      "Fontsize 0.16 < 1.0 pt not allowed by FreeType. Setting fontsize = 1 pt\n",
      "Fontsize 0.16 < 1.0 pt not allowed by FreeType. Setting fontsize = 1 pt\n",
      "Fontsize 0.16 < 1.0 pt not allowed by FreeType. Setting fontsize = 1 pt\n",
      "Fontsize 0.16 < 1.0 pt not allowed by FreeType. Setting fontsize = 1 pt\n",
      "Fontsize 0.16 < 1.0 pt not allowed by FreeType. Setting fontsize = 1 pt\n",
      "Fontsize 0.16 < 1.0 pt not allowed by FreeType. Setting fontsize = 1 pt\n",
      "Fontsize 0.16 < 1.0 pt not allowed by FreeType. Setting fontsize = 1 pt\n"
     ]
    },
    {
     "name": "stderr",
     "output_type": "stream",
     "text": [
      "Fontsize 0.16 < 1.0 pt not allowed by FreeType. Setting fontsize = 1 pt\n",
      "Fontsize 0.16 < 1.0 pt not allowed by FreeType. Setting fontsize = 1 pt\n",
      "Fontsize 0.16 < 1.0 pt not allowed by FreeType. Setting fontsize = 1 pt\n",
      "Fontsize 0.16 < 1.0 pt not allowed by FreeType. Setting fontsize = 1 pt\n",
      "Fontsize 0.16 < 1.0 pt not allowed by FreeType. Setting fontsize = 1 pt\n",
      "Fontsize 0.16 < 1.0 pt not allowed by FreeType. Setting fontsize = 1 pt\n",
      "Fontsize 0.16 < 1.0 pt not allowed by FreeType. Setting fontsize = 1 pt\n",
      "Fontsize 0.16 < 1.0 pt not allowed by FreeType. Setting fontsize = 1 pt\n",
      "Fontsize 0.16 < 1.0 pt not allowed by FreeType. Setting fontsize = 1 pt\n",
      "Fontsize 0.16 < 1.0 pt not allowed by FreeType. Setting fontsize = 1 pt\n",
      "Fontsize 0.16 < 1.0 pt not allowed by FreeType. Setting fontsize = 1 pt\n",
      "Fontsize 0.16 < 1.0 pt not allowed by FreeType. Setting fontsize = 1 pt\n",
      "Fontsize 0.16 < 1.0 pt not allowed by FreeType. Setting fontsize = 1 pt\n",
      "Fontsize 0.16 < 1.0 pt not allowed by FreeType. Setting fontsize = 1 pt\n",
      "Fontsize 0.16 < 1.0 pt not allowed by FreeType. Setting fontsize = 1 pt\n",
      "Fontsize 0.16 < 1.0 pt not allowed by FreeType. Setting fontsize = 1 pt\n",
      "Fontsize 0.16 < 1.0 pt not allowed by FreeType. Setting fontsize = 1 pt\n",
      "Fontsize 0.16 < 1.0 pt not allowed by FreeType. Setting fontsize = 1 pt\n",
      "Fontsize 0.16 < 1.0 pt not allowed by FreeType. Setting fontsize = 1 pt\n",
      "Fontsize 0.16 < 1.0 pt not allowed by FreeType. Setting fontsize = 1 pt\n",
      "Fontsize 0.16 < 1.0 pt not allowed by FreeType. Setting fontsize = 1 pt\n",
      "Fontsize 0.16 < 1.0 pt not allowed by FreeType. Setting fontsize = 1 pt\n",
      "Fontsize 0.16 < 1.0 pt not allowed by FreeType. Setting fontsize = 1 pt\n",
      "Fontsize 0.16 < 1.0 pt not allowed by FreeType. Setting fontsize = 1 pt\n",
      "Fontsize 0.16 < 1.0 pt not allowed by FreeType. Setting fontsize = 1 pt\n",
      "Fontsize 0.16 < 1.0 pt not allowed by FreeType. Setting fontsize = 1 pt\n",
      "Fontsize 0.16 < 1.0 pt not allowed by FreeType. Setting fontsize = 1 pt\n",
      "Fontsize 0.16 < 1.0 pt not allowed by FreeType. Setting fontsize = 1 pt\n",
      "Fontsize 0.16 < 1.0 pt not allowed by FreeType. Setting fontsize = 1 pt\n",
      "Fontsize 0.16 < 1.0 pt not allowed by FreeType. Setting fontsize = 1 pt\n",
      "Fontsize 0.16 < 1.0 pt not allowed by FreeType. Setting fontsize = 1 pt\n",
      "Fontsize 0.16 < 1.0 pt not allowed by FreeType. Setting fontsize = 1 pt\n",
      "Fontsize 0.16 < 1.0 pt not allowed by FreeType. Setting fontsize = 1 pt\n",
      "Fontsize 0.16 < 1.0 pt not allowed by FreeType. Setting fontsize = 1 pt\n",
      "Fontsize 0.16 < 1.0 pt not allowed by FreeType. Setting fontsize = 1 pt\n",
      "Fontsize 0.16 < 1.0 pt not allowed by FreeType. Setting fontsize = 1 pt\n",
      "Fontsize 0.16 < 1.0 pt not allowed by FreeType. Setting fontsize = 1 pt\n",
      "Fontsize 0.16 < 1.0 pt not allowed by FreeType. Setting fontsize = 1 pt\n",
      "Fontsize 0.16 < 1.0 pt not allowed by FreeType. Setting fontsize = 1 pt\n",
      "Fontsize 0.16 < 1.0 pt not allowed by FreeType. Setting fontsize = 1 pt\n",
      "Fontsize 0.16 < 1.0 pt not allowed by FreeType. Setting fontsize = 1 pt\n",
      "Fontsize 0.16 < 1.0 pt not allowed by FreeType. Setting fontsize = 1 pt\n",
      "Fontsize 0.16 < 1.0 pt not allowed by FreeType. Setting fontsize = 1 pt\n",
      "Fontsize 0.16 < 1.0 pt not allowed by FreeType. Setting fontsize = 1 pt\n",
      "Fontsize 0.16 < 1.0 pt not allowed by FreeType. Setting fontsize = 1 pt\n",
      "Fontsize 0.16 < 1.0 pt not allowed by FreeType. Setting fontsize = 1 pt\n",
      "Fontsize 0.16 < 1.0 pt not allowed by FreeType. Setting fontsize = 1 pt\n",
      "Fontsize 0.16 < 1.0 pt not allowed by FreeType. Setting fontsize = 1 pt\n",
      "Fontsize 0.16 < 1.0 pt not allowed by FreeType. Setting fontsize = 1 pt\n",
      "Fontsize 0.16 < 1.0 pt not allowed by FreeType. Setting fontsize = 1 pt\n",
      "Fontsize 0.16 < 1.0 pt not allowed by FreeType. Setting fontsize = 1 pt\n",
      "Fontsize 0.16 < 1.0 pt not allowed by FreeType. Setting fontsize = 1 pt\n",
      "Fontsize 0.16 < 1.0 pt not allowed by FreeType. Setting fontsize = 1 pt\n",
      "Fontsize 0.16 < 1.0 pt not allowed by FreeType. Setting fontsize = 1 pt\n",
      "Fontsize 0.16 < 1.0 pt not allowed by FreeType. Setting fontsize = 1 pt\n",
      "Fontsize 0.16 < 1.0 pt not allowed by FreeType. Setting fontsize = 1 pt\n",
      "Fontsize 0.16 < 1.0 pt not allowed by FreeType. Setting fontsize = 1 pt\n",
      "Fontsize 0.16 < 1.0 pt not allowed by FreeType. Setting fontsize = 1 pt\n",
      "Fontsize 0.16 < 1.0 pt not allowed by FreeType. Setting fontsize = 1 pt\n",
      "Fontsize 0.16 < 1.0 pt not allowed by FreeType. Setting fontsize = 1 pt\n",
      "Fontsize 0.16 < 1.0 pt not allowed by FreeType. Setting fontsize = 1 pt\n",
      "Fontsize 0.16 < 1.0 pt not allowed by FreeType. Setting fontsize = 1 pt\n",
      "Fontsize 0.16 < 1.0 pt not allowed by FreeType. Setting fontsize = 1 pt\n",
      "Fontsize 0.16 < 1.0 pt not allowed by FreeType. Setting fontsize = 1 pt\n",
      "Fontsize 0.16 < 1.0 pt not allowed by FreeType. Setting fontsize = 1 pt\n",
      "Fontsize 0.16 < 1.0 pt not allowed by FreeType. Setting fontsize = 1 pt\n",
      "Fontsize 0.16 < 1.0 pt not allowed by FreeType. Setting fontsize = 1 pt\n",
      "Fontsize 0.16 < 1.0 pt not allowed by FreeType. Setting fontsize = 1 pt\n",
      "Fontsize 0.16 < 1.0 pt not allowed by FreeType. Setting fontsize = 1 pt\n",
      "Fontsize 0.16 < 1.0 pt not allowed by FreeType. Setting fontsize = 1 pt\n",
      "Fontsize 0.16 < 1.0 pt not allowed by FreeType. Setting fontsize = 1 pt\n",
      "Fontsize 0.16 < 1.0 pt not allowed by FreeType. Setting fontsize = 1 pt\n",
      "Fontsize 0.16 < 1.0 pt not allowed by FreeType. Setting fontsize = 1 pt\n",
      "Fontsize 0.16 < 1.0 pt not allowed by FreeType. Setting fontsize = 1 pt\n",
      "Fontsize 0.16 < 1.0 pt not allowed by FreeType. Setting fontsize = 1 pt\n",
      "Fontsize 0.16 < 1.0 pt not allowed by FreeType. Setting fontsize = 1 pt\n",
      "Fontsize 0.16 < 1.0 pt not allowed by FreeType. Setting fontsize = 1 pt\n",
      "Fontsize 0.16 < 1.0 pt not allowed by FreeType. Setting fontsize = 1 pt\n",
      "Fontsize 0.16 < 1.0 pt not allowed by FreeType. Setting fontsize = 1 pt\n",
      "Fontsize 0.16 < 1.0 pt not allowed by FreeType. Setting fontsize = 1 pt\n",
      "Fontsize 0.16 < 1.0 pt not allowed by FreeType. Setting fontsize = 1 pt\n",
      "Fontsize 0.16 < 1.0 pt not allowed by FreeType. Setting fontsize = 1 pt\n",
      "Fontsize 0.16 < 1.0 pt not allowed by FreeType. Setting fontsize = 1 pt\n",
      "Fontsize 0.16 < 1.0 pt not allowed by FreeType. Setting fontsize = 1 pt\n",
      "Fontsize 0.16 < 1.0 pt not allowed by FreeType. Setting fontsize = 1 pt\n",
      "Fontsize 0.16 < 1.0 pt not allowed by FreeType. Setting fontsize = 1 pt\n",
      "Fontsize 0.16 < 1.0 pt not allowed by FreeType. Setting fontsize = 1 pt\n",
      "Fontsize 0.16 < 1.0 pt not allowed by FreeType. Setting fontsize = 1 pt\n",
      "Fontsize 0.16 < 1.0 pt not allowed by FreeType. Setting fontsize = 1 pt\n",
      "Fontsize 0.16 < 1.0 pt not allowed by FreeType. Setting fontsize = 1 pt\n",
      "Fontsize 0.16 < 1.0 pt not allowed by FreeType. Setting fontsize = 1 pt\n",
      "Fontsize 0.16 < 1.0 pt not allowed by FreeType. Setting fontsize = 1 pt\n",
      "Fontsize 0.16 < 1.0 pt not allowed by FreeType. Setting fontsize = 1 pt\n",
      "Fontsize 0.16 < 1.0 pt not allowed by FreeType. Setting fontsize = 1 pt\n",
      "Fontsize 0.16 < 1.0 pt not allowed by FreeType. Setting fontsize = 1 pt\n",
      "Fontsize 0.16 < 1.0 pt not allowed by FreeType. Setting fontsize = 1 pt\n",
      "Fontsize 0.16 < 1.0 pt not allowed by FreeType. Setting fontsize = 1 pt\n",
      "Fontsize 0.16 < 1.0 pt not allowed by FreeType. Setting fontsize = 1 pt\n",
      "Fontsize 0.16 < 1.0 pt not allowed by FreeType. Setting fontsize = 1 pt\n",
      "Fontsize 0.16 < 1.0 pt not allowed by FreeType. Setting fontsize = 1 pt\n",
      "Fontsize 0.16 < 1.0 pt not allowed by FreeType. Setting fontsize = 1 pt\n",
      "Fontsize 0.16 < 1.0 pt not allowed by FreeType. Setting fontsize = 1 pt\n",
      "Fontsize 0.16 < 1.0 pt not allowed by FreeType. Setting fontsize = 1 pt\n",
      "Fontsize 0.16 < 1.0 pt not allowed by FreeType. Setting fontsize = 1 pt\n",
      "Fontsize 0.16 < 1.0 pt not allowed by FreeType. Setting fontsize = 1 pt\n",
      "Fontsize 0.16 < 1.0 pt not allowed by FreeType. Setting fontsize = 1 pt\n",
      "Fontsize 0.16 < 1.0 pt not allowed by FreeType. Setting fontsize = 1 pt\n",
      "Fontsize 0.16 < 1.0 pt not allowed by FreeType. Setting fontsize = 1 pt\n",
      "Fontsize 0.16 < 1.0 pt not allowed by FreeType. Setting fontsize = 1 pt\n",
      "Fontsize 0.16 < 1.0 pt not allowed by FreeType. Setting fontsize = 1 pt\n",
      "Fontsize 0.16 < 1.0 pt not allowed by FreeType. Setting fontsize = 1 pt\n",
      "Fontsize 0.16 < 1.0 pt not allowed by FreeType. Setting fontsize = 1 pt\n",
      "Fontsize 0.16 < 1.0 pt not allowed by FreeType. Setting fontsize = 1 pt\n",
      "Fontsize 0.16 < 1.0 pt not allowed by FreeType. Setting fontsize = 1 pt\n"
     ]
    },
    {
     "name": "stderr",
     "output_type": "stream",
     "text": [
      "Fontsize 0.16 < 1.0 pt not allowed by FreeType. Setting fontsize = 1 pt\n",
      "Fontsize 0.16 < 1.0 pt not allowed by FreeType. Setting fontsize = 1 pt\n",
      "Fontsize 0.16 < 1.0 pt not allowed by FreeType. Setting fontsize = 1 pt\n",
      "Fontsize 0.16 < 1.0 pt not allowed by FreeType. Setting fontsize = 1 pt\n",
      "Fontsize 0.16 < 1.0 pt not allowed by FreeType. Setting fontsize = 1 pt\n",
      "Fontsize 0.16 < 1.0 pt not allowed by FreeType. Setting fontsize = 1 pt\n",
      "Fontsize 0.16 < 1.0 pt not allowed by FreeType. Setting fontsize = 1 pt\n",
      "Fontsize 0.16 < 1.0 pt not allowed by FreeType. Setting fontsize = 1 pt\n",
      "Fontsize 0.16 < 1.0 pt not allowed by FreeType. Setting fontsize = 1 pt\n",
      "Fontsize 0.16 < 1.0 pt not allowed by FreeType. Setting fontsize = 1 pt\n",
      "Fontsize 0.16 < 1.0 pt not allowed by FreeType. Setting fontsize = 1 pt\n",
      "Fontsize 0.16 < 1.0 pt not allowed by FreeType. Setting fontsize = 1 pt\n",
      "Fontsize 0.16 < 1.0 pt not allowed by FreeType. Setting fontsize = 1 pt\n",
      "Fontsize 0.16 < 1.0 pt not allowed by FreeType. Setting fontsize = 1 pt\n",
      "Fontsize 0.16 < 1.0 pt not allowed by FreeType. Setting fontsize = 1 pt\n",
      "Fontsize 0.16 < 1.0 pt not allowed by FreeType. Setting fontsize = 1 pt\n",
      "Fontsize 0.16 < 1.0 pt not allowed by FreeType. Setting fontsize = 1 pt\n",
      "Fontsize 0.16 < 1.0 pt not allowed by FreeType. Setting fontsize = 1 pt\n",
      "Fontsize 0.16 < 1.0 pt not allowed by FreeType. Setting fontsize = 1 pt\n",
      "Fontsize 0.16 < 1.0 pt not allowed by FreeType. Setting fontsize = 1 pt\n",
      "Fontsize 0.16 < 1.0 pt not allowed by FreeType. Setting fontsize = 1 pt\n",
      "Fontsize 0.16 < 1.0 pt not allowed by FreeType. Setting fontsize = 1 pt\n",
      "Fontsize 0.16 < 1.0 pt not allowed by FreeType. Setting fontsize = 1 pt\n",
      "Fontsize 0.16 < 1.0 pt not allowed by FreeType. Setting fontsize = 1 pt\n",
      "Fontsize 0.16 < 1.0 pt not allowed by FreeType. Setting fontsize = 1 pt\n",
      "Fontsize 0.16 < 1.0 pt not allowed by FreeType. Setting fontsize = 1 pt\n",
      "Fontsize 0.16 < 1.0 pt not allowed by FreeType. Setting fontsize = 1 pt\n",
      "Fontsize 0.16 < 1.0 pt not allowed by FreeType. Setting fontsize = 1 pt\n",
      "Fontsize 0.16 < 1.0 pt not allowed by FreeType. Setting fontsize = 1 pt\n",
      "Fontsize 0.16 < 1.0 pt not allowed by FreeType. Setting fontsize = 1 pt\n",
      "Fontsize 0.16 < 1.0 pt not allowed by FreeType. Setting fontsize = 1 pt\n",
      "Fontsize 0.16 < 1.0 pt not allowed by FreeType. Setting fontsize = 1 pt\n",
      "Fontsize 0.16 < 1.0 pt not allowed by FreeType. Setting fontsize = 1 pt\n",
      "Fontsize 0.16 < 1.0 pt not allowed by FreeType. Setting fontsize = 1 pt\n",
      "Fontsize 0.16 < 1.0 pt not allowed by FreeType. Setting fontsize = 1 pt\n",
      "Fontsize 0.16 < 1.0 pt not allowed by FreeType. Setting fontsize = 1 pt\n",
      "Fontsize 0.16 < 1.0 pt not allowed by FreeType. Setting fontsize = 1 pt\n",
      "Fontsize 0.16 < 1.0 pt not allowed by FreeType. Setting fontsize = 1 pt\n",
      "Fontsize 0.16 < 1.0 pt not allowed by FreeType. Setting fontsize = 1 pt\n",
      "Fontsize 0.16 < 1.0 pt not allowed by FreeType. Setting fontsize = 1 pt\n",
      "Fontsize 0.16 < 1.0 pt not allowed by FreeType. Setting fontsize = 1 pt\n",
      "Fontsize 0.16 < 1.0 pt not allowed by FreeType. Setting fontsize = 1 pt\n",
      "Fontsize 0.16 < 1.0 pt not allowed by FreeType. Setting fontsize = 1 pt\n",
      "Fontsize 0.16 < 1.0 pt not allowed by FreeType. Setting fontsize = 1 pt\n",
      "Fontsize 0.16 < 1.0 pt not allowed by FreeType. Setting fontsize = 1 pt\n",
      "Fontsize 0.16 < 1.0 pt not allowed by FreeType. Setting fontsize = 1 pt\n",
      "Fontsize 0.16 < 1.0 pt not allowed by FreeType. Setting fontsize = 1 pt\n",
      "Fontsize 0.16 < 1.0 pt not allowed by FreeType. Setting fontsize = 1 pt\n",
      "Fontsize 0.16 < 1.0 pt not allowed by FreeType. Setting fontsize = 1 pt\n",
      "Fontsize 0.16 < 1.0 pt not allowed by FreeType. Setting fontsize = 1 pt\n",
      "Fontsize 0.16 < 1.0 pt not allowed by FreeType. Setting fontsize = 1 pt\n",
      "Fontsize 0.16 < 1.0 pt not allowed by FreeType. Setting fontsize = 1 pt\n",
      "Fontsize 0.16 < 1.0 pt not allowed by FreeType. Setting fontsize = 1 pt\n",
      "Fontsize 0.16 < 1.0 pt not allowed by FreeType. Setting fontsize = 1 pt\n",
      "Fontsize 0.16 < 1.0 pt not allowed by FreeType. Setting fontsize = 1 pt\n",
      "Fontsize 0.16 < 1.0 pt not allowed by FreeType. Setting fontsize = 1 pt\n",
      "Fontsize 0.16 < 1.0 pt not allowed by FreeType. Setting fontsize = 1 pt\n",
      "Fontsize 0.16 < 1.0 pt not allowed by FreeType. Setting fontsize = 1 pt\n",
      "Fontsize 0.16 < 1.0 pt not allowed by FreeType. Setting fontsize = 1 pt\n",
      "Fontsize 0.16 < 1.0 pt not allowed by FreeType. Setting fontsize = 1 pt\n",
      "Fontsize 0.16 < 1.0 pt not allowed by FreeType. Setting fontsize = 1 pt\n",
      "Fontsize 0.16 < 1.0 pt not allowed by FreeType. Setting fontsize = 1 pt\n",
      "Fontsize 0.16 < 1.0 pt not allowed by FreeType. Setting fontsize = 1 pt\n",
      "Fontsize 0.16 < 1.0 pt not allowed by FreeType. Setting fontsize = 1 pt\n",
      "Fontsize 0.16 < 1.0 pt not allowed by FreeType. Setting fontsize = 1 pt\n",
      "Fontsize 0.16 < 1.0 pt not allowed by FreeType. Setting fontsize = 1 pt\n",
      "Fontsize 0.16 < 1.0 pt not allowed by FreeType. Setting fontsize = 1 pt\n",
      "Fontsize 0.16 < 1.0 pt not allowed by FreeType. Setting fontsize = 1 pt\n",
      "Fontsize 0.16 < 1.0 pt not allowed by FreeType. Setting fontsize = 1 pt\n",
      "Fontsize 0.16 < 1.0 pt not allowed by FreeType. Setting fontsize = 1 pt\n",
      "Fontsize 0.16 < 1.0 pt not allowed by FreeType. Setting fontsize = 1 pt\n",
      "Fontsize 0.16 < 1.0 pt not allowed by FreeType. Setting fontsize = 1 pt\n",
      "Fontsize 0.16 < 1.0 pt not allowed by FreeType. Setting fontsize = 1 pt\n",
      "Fontsize 0.16 < 1.0 pt not allowed by FreeType. Setting fontsize = 1 pt\n",
      "Fontsize 0.16 < 1.0 pt not allowed by FreeType. Setting fontsize = 1 pt\n",
      "Fontsize 0.16 < 1.0 pt not allowed by FreeType. Setting fontsize = 1 pt\n",
      "Fontsize 0.16 < 1.0 pt not allowed by FreeType. Setting fontsize = 1 pt\n",
      "Fontsize 0.16 < 1.0 pt not allowed by FreeType. Setting fontsize = 1 pt\n",
      "Fontsize 0.16 < 1.0 pt not allowed by FreeType. Setting fontsize = 1 pt\n",
      "Fontsize 0.16 < 1.0 pt not allowed by FreeType. Setting fontsize = 1 pt\n",
      "Fontsize 0.16 < 1.0 pt not allowed by FreeType. Setting fontsize = 1 pt\n",
      "Fontsize 0.16 < 1.0 pt not allowed by FreeType. Setting fontsize = 1 pt\n",
      "Fontsize 0.16 < 1.0 pt not allowed by FreeType. Setting fontsize = 1 pt\n",
      "Fontsize 0.16 < 1.0 pt not allowed by FreeType. Setting fontsize = 1 pt\n",
      "Fontsize 0.16 < 1.0 pt not allowed by FreeType. Setting fontsize = 1 pt\n",
      "Fontsize 0.16 < 1.0 pt not allowed by FreeType. Setting fontsize = 1 pt\n",
      "Fontsize 0.16 < 1.0 pt not allowed by FreeType. Setting fontsize = 1 pt\n",
      "Fontsize 0.16 < 1.0 pt not allowed by FreeType. Setting fontsize = 1 pt\n",
      "Fontsize 0.16 < 1.0 pt not allowed by FreeType. Setting fontsize = 1 pt\n",
      "Fontsize 0.16 < 1.0 pt not allowed by FreeType. Setting fontsize = 1 pt\n",
      "Fontsize 0.16 < 1.0 pt not allowed by FreeType. Setting fontsize = 1 pt\n",
      "Fontsize 0.16 < 1.0 pt not allowed by FreeType. Setting fontsize = 1 pt\n",
      "Fontsize 0.16 < 1.0 pt not allowed by FreeType. Setting fontsize = 1 pt\n",
      "Fontsize 0.16 < 1.0 pt not allowed by FreeType. Setting fontsize = 1 pt\n",
      "Fontsize 0.16 < 1.0 pt not allowed by FreeType. Setting fontsize = 1 pt\n",
      "Fontsize 0.16 < 1.0 pt not allowed by FreeType. Setting fontsize = 1 pt\n",
      "Fontsize 0.16 < 1.0 pt not allowed by FreeType. Setting fontsize = 1 pt\n",
      "Fontsize 0.16 < 1.0 pt not allowed by FreeType. Setting fontsize = 1 pt\n",
      "Fontsize 0.16 < 1.0 pt not allowed by FreeType. Setting fontsize = 1 pt\n",
      "Fontsize 0.16 < 1.0 pt not allowed by FreeType. Setting fontsize = 1 pt\n",
      "Fontsize 0.16 < 1.0 pt not allowed by FreeType. Setting fontsize = 1 pt\n",
      "Fontsize 0.16 < 1.0 pt not allowed by FreeType. Setting fontsize = 1 pt\n",
      "Fontsize 0.16 < 1.0 pt not allowed by FreeType. Setting fontsize = 1 pt\n",
      "Fontsize 0.16 < 1.0 pt not allowed by FreeType. Setting fontsize = 1 pt\n",
      "Fontsize 0.16 < 1.0 pt not allowed by FreeType. Setting fontsize = 1 pt\n",
      "Fontsize 0.16 < 1.0 pt not allowed by FreeType. Setting fontsize = 1 pt\n",
      "Fontsize 0.16 < 1.0 pt not allowed by FreeType. Setting fontsize = 1 pt\n",
      "Fontsize 0.16 < 1.0 pt not allowed by FreeType. Setting fontsize = 1 pt\n",
      "Fontsize 0.16 < 1.0 pt not allowed by FreeType. Setting fontsize = 1 pt\n",
      "Fontsize 0.16 < 1.0 pt not allowed by FreeType. Setting fontsize = 1 pt\n",
      "Fontsize 0.16 < 1.0 pt not allowed by FreeType. Setting fontsize = 1 pt\n",
      "Fontsize 0.16 < 1.0 pt not allowed by FreeType. Setting fontsize = 1 pt\n",
      "Fontsize 0.16 < 1.0 pt not allowed by FreeType. Setting fontsize = 1 pt\n",
      "Fontsize 0.16 < 1.0 pt not allowed by FreeType. Setting fontsize = 1 pt\n"
     ]
    },
    {
     "name": "stderr",
     "output_type": "stream",
     "text": [
      "Fontsize 0.16 < 1.0 pt not allowed by FreeType. Setting fontsize = 1 pt\n",
      "Fontsize 0.16 < 1.0 pt not allowed by FreeType. Setting fontsize = 1 pt\n",
      "Fontsize 0.16 < 1.0 pt not allowed by FreeType. Setting fontsize = 1 pt\n",
      "Fontsize 0.16 < 1.0 pt not allowed by FreeType. Setting fontsize = 1 pt\n",
      "Fontsize 0.16 < 1.0 pt not allowed by FreeType. Setting fontsize = 1 pt\n",
      "Fontsize 0.16 < 1.0 pt not allowed by FreeType. Setting fontsize = 1 pt\n",
      "Fontsize 0.16 < 1.0 pt not allowed by FreeType. Setting fontsize = 1 pt\n",
      "Fontsize 0.16 < 1.0 pt not allowed by FreeType. Setting fontsize = 1 pt\n",
      "Fontsize 0.16 < 1.0 pt not allowed by FreeType. Setting fontsize = 1 pt\n",
      "Fontsize 0.16 < 1.0 pt not allowed by FreeType. Setting fontsize = 1 pt\n",
      "Fontsize 0.16 < 1.0 pt not allowed by FreeType. Setting fontsize = 1 pt\n",
      "Fontsize 0.16 < 1.0 pt not allowed by FreeType. Setting fontsize = 1 pt\n",
      "Fontsize 0.16 < 1.0 pt not allowed by FreeType. Setting fontsize = 1 pt\n",
      "Fontsize 0.16 < 1.0 pt not allowed by FreeType. Setting fontsize = 1 pt\n",
      "Fontsize 0.16 < 1.0 pt not allowed by FreeType. Setting fontsize = 1 pt\n",
      "Fontsize 0.16 < 1.0 pt not allowed by FreeType. Setting fontsize = 1 pt\n",
      "Fontsize 0.16 < 1.0 pt not allowed by FreeType. Setting fontsize = 1 pt\n",
      "Fontsize 0.16 < 1.0 pt not allowed by FreeType. Setting fontsize = 1 pt\n",
      "Fontsize 0.16 < 1.0 pt not allowed by FreeType. Setting fontsize = 1 pt\n",
      "Fontsize 0.16 < 1.0 pt not allowed by FreeType. Setting fontsize = 1 pt\n",
      "Fontsize 0.16 < 1.0 pt not allowed by FreeType. Setting fontsize = 1 pt\n",
      "Fontsize 0.16 < 1.0 pt not allowed by FreeType. Setting fontsize = 1 pt\n",
      "Fontsize 0.16 < 1.0 pt not allowed by FreeType. Setting fontsize = 1 pt\n",
      "Fontsize 0.16 < 1.0 pt not allowed by FreeType. Setting fontsize = 1 pt\n",
      "Fontsize 0.16 < 1.0 pt not allowed by FreeType. Setting fontsize = 1 pt\n",
      "Fontsize 0.16 < 1.0 pt not allowed by FreeType. Setting fontsize = 1 pt\n",
      "Fontsize 0.16 < 1.0 pt not allowed by FreeType. Setting fontsize = 1 pt\n",
      "Fontsize 0.16 < 1.0 pt not allowed by FreeType. Setting fontsize = 1 pt\n",
      "Fontsize 0.16 < 1.0 pt not allowed by FreeType. Setting fontsize = 1 pt\n",
      "Fontsize 0.16 < 1.0 pt not allowed by FreeType. Setting fontsize = 1 pt\n",
      "Fontsize 0.16 < 1.0 pt not allowed by FreeType. Setting fontsize = 1 pt\n",
      "Fontsize 0.16 < 1.0 pt not allowed by FreeType. Setting fontsize = 1 pt\n",
      "Fontsize 0.16 < 1.0 pt not allowed by FreeType. Setting fontsize = 1 pt\n",
      "Fontsize 0.16 < 1.0 pt not allowed by FreeType. Setting fontsize = 1 pt\n",
      "Fontsize 0.16 < 1.0 pt not allowed by FreeType. Setting fontsize = 1 pt\n",
      "Fontsize 0.16 < 1.0 pt not allowed by FreeType. Setting fontsize = 1 pt\n",
      "Fontsize 0.16 < 1.0 pt not allowed by FreeType. Setting fontsize = 1 pt\n",
      "Fontsize 0.16 < 1.0 pt not allowed by FreeType. Setting fontsize = 1 pt\n",
      "Fontsize 0.16 < 1.0 pt not allowed by FreeType. Setting fontsize = 1 pt\n",
      "Fontsize 0.16 < 1.0 pt not allowed by FreeType. Setting fontsize = 1 pt\n",
      "Fontsize 0.16 < 1.0 pt not allowed by FreeType. Setting fontsize = 1 pt\n",
      "Fontsize 0.16 < 1.0 pt not allowed by FreeType. Setting fontsize = 1 pt\n",
      "Fontsize 0.16 < 1.0 pt not allowed by FreeType. Setting fontsize = 1 pt\n",
      "Fontsize 0.16 < 1.0 pt not allowed by FreeType. Setting fontsize = 1 pt\n",
      "Fontsize 0.16 < 1.0 pt not allowed by FreeType. Setting fontsize = 1 pt\n",
      "Fontsize 0.16 < 1.0 pt not allowed by FreeType. Setting fontsize = 1 pt\n",
      "Fontsize 0.16 < 1.0 pt not allowed by FreeType. Setting fontsize = 1 pt\n",
      "Fontsize 0.16 < 1.0 pt not allowed by FreeType. Setting fontsize = 1 pt\n",
      "Fontsize 0.16 < 1.0 pt not allowed by FreeType. Setting fontsize = 1 pt\n",
      "Fontsize 0.16 < 1.0 pt not allowed by FreeType. Setting fontsize = 1 pt\n",
      "Fontsize 0.16 < 1.0 pt not allowed by FreeType. Setting fontsize = 1 pt\n",
      "Fontsize 0.16 < 1.0 pt not allowed by FreeType. Setting fontsize = 1 pt\n",
      "Fontsize 0.16 < 1.0 pt not allowed by FreeType. Setting fontsize = 1 pt\n",
      "Fontsize 0.16 < 1.0 pt not allowed by FreeType. Setting fontsize = 1 pt\n",
      "Fontsize 0.16 < 1.0 pt not allowed by FreeType. Setting fontsize = 1 pt\n",
      "Fontsize 0.16 < 1.0 pt not allowed by FreeType. Setting fontsize = 1 pt\n",
      "Fontsize 0.16 < 1.0 pt not allowed by FreeType. Setting fontsize = 1 pt\n",
      "Fontsize 0.16 < 1.0 pt not allowed by FreeType. Setting fontsize = 1 pt\n",
      "Fontsize 0.16 < 1.0 pt not allowed by FreeType. Setting fontsize = 1 pt\n",
      "Fontsize 0.16 < 1.0 pt not allowed by FreeType. Setting fontsize = 1 pt\n",
      "Fontsize 0.16 < 1.0 pt not allowed by FreeType. Setting fontsize = 1 pt\n",
      "Fontsize 0.16 < 1.0 pt not allowed by FreeType. Setting fontsize = 1 pt\n",
      "Fontsize 0.16 < 1.0 pt not allowed by FreeType. Setting fontsize = 1 pt\n",
      "Fontsize 0.16 < 1.0 pt not allowed by FreeType. Setting fontsize = 1 pt\n",
      "Fontsize 0.16 < 1.0 pt not allowed by FreeType. Setting fontsize = 1 pt\n",
      "Fontsize 0.16 < 1.0 pt not allowed by FreeType. Setting fontsize = 1 pt\n",
      "Fontsize 0.16 < 1.0 pt not allowed by FreeType. Setting fontsize = 1 pt\n",
      "Fontsize 0.16 < 1.0 pt not allowed by FreeType. Setting fontsize = 1 pt\n",
      "Fontsize 0.16 < 1.0 pt not allowed by FreeType. Setting fontsize = 1 pt\n",
      "Fontsize 0.16 < 1.0 pt not allowed by FreeType. Setting fontsize = 1 pt\n",
      "Fontsize 0.16 < 1.0 pt not allowed by FreeType. Setting fontsize = 1 pt\n",
      "Fontsize 0.16 < 1.0 pt not allowed by FreeType. Setting fontsize = 1 pt\n",
      "Fontsize 0.16 < 1.0 pt not allowed by FreeType. Setting fontsize = 1 pt\n",
      "Fontsize 0.16 < 1.0 pt not allowed by FreeType. Setting fontsize = 1 pt\n",
      "Fontsize 0.16 < 1.0 pt not allowed by FreeType. Setting fontsize = 1 pt\n",
      "Fontsize 0.16 < 1.0 pt not allowed by FreeType. Setting fontsize = 1 pt\n",
      "Fontsize 0.16 < 1.0 pt not allowed by FreeType. Setting fontsize = 1 pt\n",
      "Fontsize 0.16 < 1.0 pt not allowed by FreeType. Setting fontsize = 1 pt\n",
      "Fontsize 0.16 < 1.0 pt not allowed by FreeType. Setting fontsize = 1 pt\n",
      "Fontsize 0.16 < 1.0 pt not allowed by FreeType. Setting fontsize = 1 pt\n",
      "Fontsize 0.16 < 1.0 pt not allowed by FreeType. Setting fontsize = 1 pt\n",
      "Fontsize 0.16 < 1.0 pt not allowed by FreeType. Setting fontsize = 1 pt\n",
      "Fontsize 0.16 < 1.0 pt not allowed by FreeType. Setting fontsize = 1 pt\n",
      "Fontsize 0.16 < 1.0 pt not allowed by FreeType. Setting fontsize = 1 pt\n",
      "Fontsize 0.16 < 1.0 pt not allowed by FreeType. Setting fontsize = 1 pt\n",
      "Fontsize 0.16 < 1.0 pt not allowed by FreeType. Setting fontsize = 1 pt\n",
      "Fontsize 0.16 < 1.0 pt not allowed by FreeType. Setting fontsize = 1 pt\n",
      "Fontsize 0.16 < 1.0 pt not allowed by FreeType. Setting fontsize = 1 pt\n",
      "Fontsize 0.16 < 1.0 pt not allowed by FreeType. Setting fontsize = 1 pt\n",
      "Fontsize 0.16 < 1.0 pt not allowed by FreeType. Setting fontsize = 1 pt\n",
      "Fontsize 0.16 < 1.0 pt not allowed by FreeType. Setting fontsize = 1 pt\n",
      "Fontsize 0.16 < 1.0 pt not allowed by FreeType. Setting fontsize = 1 pt\n",
      "Fontsize 0.16 < 1.0 pt not allowed by FreeType. Setting fontsize = 1 pt\n",
      "Fontsize 0.16 < 1.0 pt not allowed by FreeType. Setting fontsize = 1 pt\n",
      "Fontsize 0.16 < 1.0 pt not allowed by FreeType. Setting fontsize = 1 pt\n",
      "Fontsize 0.16 < 1.0 pt not allowed by FreeType. Setting fontsize = 1 pt\n",
      "Fontsize 0.16 < 1.0 pt not allowed by FreeType. Setting fontsize = 1 pt\n",
      "Fontsize 0.16 < 1.0 pt not allowed by FreeType. Setting fontsize = 1 pt\n",
      "Fontsize 0.16 < 1.0 pt not allowed by FreeType. Setting fontsize = 1 pt\n",
      "Fontsize 0.16 < 1.0 pt not allowed by FreeType. Setting fontsize = 1 pt\n",
      "Fontsize 0.16 < 1.0 pt not allowed by FreeType. Setting fontsize = 1 pt\n",
      "Fontsize 0.16 < 1.0 pt not allowed by FreeType. Setting fontsize = 1 pt\n",
      "Fontsize 0.16 < 1.0 pt not allowed by FreeType. Setting fontsize = 1 pt\n",
      "Fontsize 0.16 < 1.0 pt not allowed by FreeType. Setting fontsize = 1 pt\n",
      "Fontsize 0.16 < 1.0 pt not allowed by FreeType. Setting fontsize = 1 pt\n",
      "Fontsize 0.16 < 1.0 pt not allowed by FreeType. Setting fontsize = 1 pt\n",
      "Fontsize 0.16 < 1.0 pt not allowed by FreeType. Setting fontsize = 1 pt\n",
      "Fontsize 0.16 < 1.0 pt not allowed by FreeType. Setting fontsize = 1 pt\n",
      "Fontsize 0.16 < 1.0 pt not allowed by FreeType. Setting fontsize = 1 pt\n",
      "Fontsize 0.16 < 1.0 pt not allowed by FreeType. Setting fontsize = 1 pt\n",
      "Fontsize 0.16 < 1.0 pt not allowed by FreeType. Setting fontsize = 1 pt\n",
      "Fontsize 0.16 < 1.0 pt not allowed by FreeType. Setting fontsize = 1 pt\n",
      "Fontsize 0.16 < 1.0 pt not allowed by FreeType. Setting fontsize = 1 pt\n",
      "Fontsize 0.16 < 1.0 pt not allowed by FreeType. Setting fontsize = 1 pt\n"
     ]
    },
    {
     "name": "stderr",
     "output_type": "stream",
     "text": [
      "Fontsize 0.16 < 1.0 pt not allowed by FreeType. Setting fontsize = 1 pt\n",
      "Fontsize 0.16 < 1.0 pt not allowed by FreeType. Setting fontsize = 1 pt\n",
      "Fontsize 0.16 < 1.0 pt not allowed by FreeType. Setting fontsize = 1 pt\n",
      "Fontsize 0.16 < 1.0 pt not allowed by FreeType. Setting fontsize = 1 pt\n",
      "Fontsize 0.16 < 1.0 pt not allowed by FreeType. Setting fontsize = 1 pt\n",
      "Fontsize 0.16 < 1.0 pt not allowed by FreeType. Setting fontsize = 1 pt\n",
      "Fontsize 0.16 < 1.0 pt not allowed by FreeType. Setting fontsize = 1 pt\n",
      "Fontsize 0.16 < 1.0 pt not allowed by FreeType. Setting fontsize = 1 pt\n",
      "Fontsize 0.16 < 1.0 pt not allowed by FreeType. Setting fontsize = 1 pt\n",
      "Fontsize 0.16 < 1.0 pt not allowed by FreeType. Setting fontsize = 1 pt\n",
      "Fontsize 0.16 < 1.0 pt not allowed by FreeType. Setting fontsize = 1 pt\n",
      "Fontsize 0.16 < 1.0 pt not allowed by FreeType. Setting fontsize = 1 pt\n",
      "Fontsize 0.16 < 1.0 pt not allowed by FreeType. Setting fontsize = 1 pt\n",
      "Fontsize 0.16 < 1.0 pt not allowed by FreeType. Setting fontsize = 1 pt\n",
      "Fontsize 0.16 < 1.0 pt not allowed by FreeType. Setting fontsize = 1 pt\n",
      "Fontsize 0.16 < 1.0 pt not allowed by FreeType. Setting fontsize = 1 pt\n",
      "Fontsize 0.16 < 1.0 pt not allowed by FreeType. Setting fontsize = 1 pt\n",
      "Fontsize 0.16 < 1.0 pt not allowed by FreeType. Setting fontsize = 1 pt\n",
      "Fontsize 0.16 < 1.0 pt not allowed by FreeType. Setting fontsize = 1 pt\n",
      "Fontsize 0.16 < 1.0 pt not allowed by FreeType. Setting fontsize = 1 pt\n",
      "Fontsize 0.16 < 1.0 pt not allowed by FreeType. Setting fontsize = 1 pt\n",
      "Fontsize 0.16 < 1.0 pt not allowed by FreeType. Setting fontsize = 1 pt\n",
      "Fontsize 0.16 < 1.0 pt not allowed by FreeType. Setting fontsize = 1 pt\n",
      "Fontsize 0.16 < 1.0 pt not allowed by FreeType. Setting fontsize = 1 pt\n",
      "Fontsize 0.16 < 1.0 pt not allowed by FreeType. Setting fontsize = 1 pt\n",
      "Fontsize 0.16 < 1.0 pt not allowed by FreeType. Setting fontsize = 1 pt\n",
      "Fontsize 0.16 < 1.0 pt not allowed by FreeType. Setting fontsize = 1 pt\n",
      "Fontsize 0.16 < 1.0 pt not allowed by FreeType. Setting fontsize = 1 pt\n",
      "Fontsize 0.16 < 1.0 pt not allowed by FreeType. Setting fontsize = 1 pt\n",
      "Fontsize 0.16 < 1.0 pt not allowed by FreeType. Setting fontsize = 1 pt\n",
      "Fontsize 0.16 < 1.0 pt not allowed by FreeType. Setting fontsize = 1 pt\n",
      "Fontsize 0.16 < 1.0 pt not allowed by FreeType. Setting fontsize = 1 pt\n",
      "Fontsize 0.16 < 1.0 pt not allowed by FreeType. Setting fontsize = 1 pt\n",
      "Fontsize 0.16 < 1.0 pt not allowed by FreeType. Setting fontsize = 1 pt\n",
      "Fontsize 0.16 < 1.0 pt not allowed by FreeType. Setting fontsize = 1 pt\n",
      "Fontsize 0.16 < 1.0 pt not allowed by FreeType. Setting fontsize = 1 pt\n",
      "Fontsize 0.16 < 1.0 pt not allowed by FreeType. Setting fontsize = 1 pt\n",
      "Fontsize 0.16 < 1.0 pt not allowed by FreeType. Setting fontsize = 1 pt\n",
      "Fontsize 0.16 < 1.0 pt not allowed by FreeType. Setting fontsize = 1 pt\n",
      "Fontsize 0.16 < 1.0 pt not allowed by FreeType. Setting fontsize = 1 pt\n",
      "Fontsize 0.16 < 1.0 pt not allowed by FreeType. Setting fontsize = 1 pt\n",
      "Fontsize 0.16 < 1.0 pt not allowed by FreeType. Setting fontsize = 1 pt\n",
      "Fontsize 0.16 < 1.0 pt not allowed by FreeType. Setting fontsize = 1 pt\n",
      "Fontsize 0.16 < 1.0 pt not allowed by FreeType. Setting fontsize = 1 pt\n",
      "Fontsize 0.16 < 1.0 pt not allowed by FreeType. Setting fontsize = 1 pt\n",
      "Fontsize 0.16 < 1.0 pt not allowed by FreeType. Setting fontsize = 1 pt\n",
      "Fontsize 0.16 < 1.0 pt not allowed by FreeType. Setting fontsize = 1 pt\n",
      "Fontsize 0.16 < 1.0 pt not allowed by FreeType. Setting fontsize = 1 pt\n",
      "Fontsize 0.16 < 1.0 pt not allowed by FreeType. Setting fontsize = 1 pt\n",
      "Fontsize 0.16 < 1.0 pt not allowed by FreeType. Setting fontsize = 1 pt\n",
      "Fontsize 0.16 < 1.0 pt not allowed by FreeType. Setting fontsize = 1 pt\n",
      "Fontsize 0.16 < 1.0 pt not allowed by FreeType. Setting fontsize = 1 pt\n",
      "Fontsize 0.16 < 1.0 pt not allowed by FreeType. Setting fontsize = 1 pt\n",
      "Fontsize 0.16 < 1.0 pt not allowed by FreeType. Setting fontsize = 1 pt\n",
      "Fontsize 0.16 < 1.0 pt not allowed by FreeType. Setting fontsize = 1 pt\n",
      "Fontsize 0.16 < 1.0 pt not allowed by FreeType. Setting fontsize = 1 pt\n",
      "Fontsize 0.16 < 1.0 pt not allowed by FreeType. Setting fontsize = 1 pt\n",
      "Fontsize 0.16 < 1.0 pt not allowed by FreeType. Setting fontsize = 1 pt\n",
      "Fontsize 0.16 < 1.0 pt not allowed by FreeType. Setting fontsize = 1 pt\n",
      "Fontsize 0.16 < 1.0 pt not allowed by FreeType. Setting fontsize = 1 pt\n",
      "Fontsize 0.16 < 1.0 pt not allowed by FreeType. Setting fontsize = 1 pt\n",
      "Fontsize 0.16 < 1.0 pt not allowed by FreeType. Setting fontsize = 1 pt\n",
      "Fontsize 0.16 < 1.0 pt not allowed by FreeType. Setting fontsize = 1 pt\n",
      "Fontsize 0.16 < 1.0 pt not allowed by FreeType. Setting fontsize = 1 pt\n",
      "Fontsize 0.16 < 1.0 pt not allowed by FreeType. Setting fontsize = 1 pt\n",
      "Fontsize 0.16 < 1.0 pt not allowed by FreeType. Setting fontsize = 1 pt\n",
      "Fontsize 0.16 < 1.0 pt not allowed by FreeType. Setting fontsize = 1 pt\n",
      "Fontsize 0.16 < 1.0 pt not allowed by FreeType. Setting fontsize = 1 pt\n",
      "Fontsize 0.16 < 1.0 pt not allowed by FreeType. Setting fontsize = 1 pt\n",
      "Fontsize 0.16 < 1.0 pt not allowed by FreeType. Setting fontsize = 1 pt\n",
      "Fontsize 0.16 < 1.0 pt not allowed by FreeType. Setting fontsize = 1 pt\n",
      "Fontsize 0.16 < 1.0 pt not allowed by FreeType. Setting fontsize = 1 pt\n",
      "Fontsize 0.16 < 1.0 pt not allowed by FreeType. Setting fontsize = 1 pt\n",
      "Fontsize 0.16 < 1.0 pt not allowed by FreeType. Setting fontsize = 1 pt\n",
      "Fontsize 0.16 < 1.0 pt not allowed by FreeType. Setting fontsize = 1 pt\n",
      "Fontsize 0.16 < 1.0 pt not allowed by FreeType. Setting fontsize = 1 pt\n",
      "Fontsize 0.16 < 1.0 pt not allowed by FreeType. Setting fontsize = 1 pt\n",
      "Fontsize 0.16 < 1.0 pt not allowed by FreeType. Setting fontsize = 1 pt\n",
      "Fontsize 0.16 < 1.0 pt not allowed by FreeType. Setting fontsize = 1 pt\n",
      "Fontsize 0.16 < 1.0 pt not allowed by FreeType. Setting fontsize = 1 pt\n",
      "Fontsize 0.16 < 1.0 pt not allowed by FreeType. Setting fontsize = 1 pt\n",
      "Fontsize 0.16 < 1.0 pt not allowed by FreeType. Setting fontsize = 1 pt\n",
      "Fontsize 0.16 < 1.0 pt not allowed by FreeType. Setting fontsize = 1 pt\n",
      "Fontsize 0.16 < 1.0 pt not allowed by FreeType. Setting fontsize = 1 pt\n",
      "Fontsize 0.16 < 1.0 pt not allowed by FreeType. Setting fontsize = 1 pt\n",
      "Fontsize 0.16 < 1.0 pt not allowed by FreeType. Setting fontsize = 1 pt\n",
      "Fontsize 0.16 < 1.0 pt not allowed by FreeType. Setting fontsize = 1 pt\n",
      "Fontsize 0.16 < 1.0 pt not allowed by FreeType. Setting fontsize = 1 pt\n",
      "Fontsize 0.16 < 1.0 pt not allowed by FreeType. Setting fontsize = 1 pt\n",
      "Fontsize 0.16 < 1.0 pt not allowed by FreeType. Setting fontsize = 1 pt\n",
      "Fontsize 0.16 < 1.0 pt not allowed by FreeType. Setting fontsize = 1 pt\n",
      "Fontsize 0.16 < 1.0 pt not allowed by FreeType. Setting fontsize = 1 pt\n",
      "Fontsize 0.16 < 1.0 pt not allowed by FreeType. Setting fontsize = 1 pt\n",
      "Fontsize 0.16 < 1.0 pt not allowed by FreeType. Setting fontsize = 1 pt\n",
      "Fontsize 0.16 < 1.0 pt not allowed by FreeType. Setting fontsize = 1 pt\n",
      "Fontsize 0.16 < 1.0 pt not allowed by FreeType. Setting fontsize = 1 pt\n",
      "Fontsize 0.16 < 1.0 pt not allowed by FreeType. Setting fontsize = 1 pt\n",
      "Fontsize 0.16 < 1.0 pt not allowed by FreeType. Setting fontsize = 1 pt\n",
      "Fontsize 0.16 < 1.0 pt not allowed by FreeType. Setting fontsize = 1 pt\n",
      "Fontsize 0.16 < 1.0 pt not allowed by FreeType. Setting fontsize = 1 pt\n",
      "Fontsize 0.16 < 1.0 pt not allowed by FreeType. Setting fontsize = 1 pt\n",
      "Fontsize 0.16 < 1.0 pt not allowed by FreeType. Setting fontsize = 1 pt\n",
      "Fontsize 0.16 < 1.0 pt not allowed by FreeType. Setting fontsize = 1 pt\n",
      "Fontsize 0.16 < 1.0 pt not allowed by FreeType. Setting fontsize = 1 pt\n",
      "Fontsize 0.16 < 1.0 pt not allowed by FreeType. Setting fontsize = 1 pt\n",
      "Fontsize 0.16 < 1.0 pt not allowed by FreeType. Setting fontsize = 1 pt\n",
      "Fontsize 0.16 < 1.0 pt not allowed by FreeType. Setting fontsize = 1 pt\n",
      "Fontsize 0.16 < 1.0 pt not allowed by FreeType. Setting fontsize = 1 pt\n",
      "Fontsize 0.16 < 1.0 pt not allowed by FreeType. Setting fontsize = 1 pt\n",
      "Fontsize 0.16 < 1.0 pt not allowed by FreeType. Setting fontsize = 1 pt\n",
      "Fontsize 0.16 < 1.0 pt not allowed by FreeType. Setting fontsize = 1 pt\n",
      "Fontsize 0.16 < 1.0 pt not allowed by FreeType. Setting fontsize = 1 pt\n",
      "Fontsize 0.16 < 1.0 pt not allowed by FreeType. Setting fontsize = 1 pt\n",
      "Fontsize 0.16 < 1.0 pt not allowed by FreeType. Setting fontsize = 1 pt\n"
     ]
    },
    {
     "name": "stderr",
     "output_type": "stream",
     "text": [
      "Fontsize 0.16 < 1.0 pt not allowed by FreeType. Setting fontsize = 1 pt\n",
      "Fontsize 0.16 < 1.0 pt not allowed by FreeType. Setting fontsize = 1 pt\n",
      "Fontsize 0.16 < 1.0 pt not allowed by FreeType. Setting fontsize = 1 pt\n",
      "Fontsize 0.16 < 1.0 pt not allowed by FreeType. Setting fontsize = 1 pt\n",
      "Fontsize 0.16 < 1.0 pt not allowed by FreeType. Setting fontsize = 1 pt\n",
      "Fontsize 0.16 < 1.0 pt not allowed by FreeType. Setting fontsize = 1 pt\n",
      "Fontsize 0.16 < 1.0 pt not allowed by FreeType. Setting fontsize = 1 pt\n",
      "Fontsize 0.16 < 1.0 pt not allowed by FreeType. Setting fontsize = 1 pt\n",
      "Fontsize 0.16 < 1.0 pt not allowed by FreeType. Setting fontsize = 1 pt\n",
      "Fontsize 0.16 < 1.0 pt not allowed by FreeType. Setting fontsize = 1 pt\n",
      "Fontsize 0.16 < 1.0 pt not allowed by FreeType. Setting fontsize = 1 pt\n",
      "Fontsize 0.16 < 1.0 pt not allowed by FreeType. Setting fontsize = 1 pt\n",
      "Fontsize 0.16 < 1.0 pt not allowed by FreeType. Setting fontsize = 1 pt\n",
      "Fontsize 0.16 < 1.0 pt not allowed by FreeType. Setting fontsize = 1 pt\n",
      "Fontsize 0.16 < 1.0 pt not allowed by FreeType. Setting fontsize = 1 pt\n",
      "Fontsize 0.16 < 1.0 pt not allowed by FreeType. Setting fontsize = 1 pt\n",
      "Fontsize 0.16 < 1.0 pt not allowed by FreeType. Setting fontsize = 1 pt\n",
      "Fontsize 0.16 < 1.0 pt not allowed by FreeType. Setting fontsize = 1 pt\n",
      "Fontsize 0.16 < 1.0 pt not allowed by FreeType. Setting fontsize = 1 pt\n",
      "Fontsize 0.16 < 1.0 pt not allowed by FreeType. Setting fontsize = 1 pt\n",
      "Fontsize 0.16 < 1.0 pt not allowed by FreeType. Setting fontsize = 1 pt\n",
      "Fontsize 0.16 < 1.0 pt not allowed by FreeType. Setting fontsize = 1 pt\n",
      "Fontsize 0.16 < 1.0 pt not allowed by FreeType. Setting fontsize = 1 pt\n",
      "Fontsize 0.16 < 1.0 pt not allowed by FreeType. Setting fontsize = 1 pt\n",
      "Fontsize 0.16 < 1.0 pt not allowed by FreeType. Setting fontsize = 1 pt\n",
      "Fontsize 0.16 < 1.0 pt not allowed by FreeType. Setting fontsize = 1 pt\n",
      "Fontsize 0.16 < 1.0 pt not allowed by FreeType. Setting fontsize = 1 pt\n",
      "Fontsize 0.16 < 1.0 pt not allowed by FreeType. Setting fontsize = 1 pt\n",
      "Fontsize 0.16 < 1.0 pt not allowed by FreeType. Setting fontsize = 1 pt\n",
      "Fontsize 0.16 < 1.0 pt not allowed by FreeType. Setting fontsize = 1 pt\n",
      "Fontsize 0.16 < 1.0 pt not allowed by FreeType. Setting fontsize = 1 pt\n",
      "Fontsize 0.16 < 1.0 pt not allowed by FreeType. Setting fontsize = 1 pt\n",
      "Fontsize 0.16 < 1.0 pt not allowed by FreeType. Setting fontsize = 1 pt\n",
      "Fontsize 0.16 < 1.0 pt not allowed by FreeType. Setting fontsize = 1 pt\n",
      "Fontsize 0.16 < 1.0 pt not allowed by FreeType. Setting fontsize = 1 pt\n",
      "Fontsize 0.16 < 1.0 pt not allowed by FreeType. Setting fontsize = 1 pt\n",
      "Fontsize 0.16 < 1.0 pt not allowed by FreeType. Setting fontsize = 1 pt\n",
      "Fontsize 0.16 < 1.0 pt not allowed by FreeType. Setting fontsize = 1 pt\n",
      "Fontsize 0.16 < 1.0 pt not allowed by FreeType. Setting fontsize = 1 pt\n",
      "Fontsize 0.16 < 1.0 pt not allowed by FreeType. Setting fontsize = 1 pt\n",
      "Fontsize 0.16 < 1.0 pt not allowed by FreeType. Setting fontsize = 1 pt\n",
      "Fontsize 0.16 < 1.0 pt not allowed by FreeType. Setting fontsize = 1 pt\n",
      "Fontsize 0.16 < 1.0 pt not allowed by FreeType. Setting fontsize = 1 pt\n",
      "Fontsize 0.16 < 1.0 pt not allowed by FreeType. Setting fontsize = 1 pt\n",
      "Fontsize 0.16 < 1.0 pt not allowed by FreeType. Setting fontsize = 1 pt\n",
      "Fontsize 0.16 < 1.0 pt not allowed by FreeType. Setting fontsize = 1 pt\n",
      "Fontsize 0.16 < 1.0 pt not allowed by FreeType. Setting fontsize = 1 pt\n",
      "Fontsize 0.16 < 1.0 pt not allowed by FreeType. Setting fontsize = 1 pt\n",
      "Fontsize 0.16 < 1.0 pt not allowed by FreeType. Setting fontsize = 1 pt\n",
      "Fontsize 0.16 < 1.0 pt not allowed by FreeType. Setting fontsize = 1 pt\n",
      "Fontsize 0.16 < 1.0 pt not allowed by FreeType. Setting fontsize = 1 pt\n",
      "Fontsize 0.16 < 1.0 pt not allowed by FreeType. Setting fontsize = 1 pt\n",
      "Fontsize 0.16 < 1.0 pt not allowed by FreeType. Setting fontsize = 1 pt\n",
      "Fontsize 0.16 < 1.0 pt not allowed by FreeType. Setting fontsize = 1 pt\n",
      "Fontsize 0.16 < 1.0 pt not allowed by FreeType. Setting fontsize = 1 pt\n",
      "Fontsize 0.16 < 1.0 pt not allowed by FreeType. Setting fontsize = 1 pt\n",
      "Fontsize 0.16 < 1.0 pt not allowed by FreeType. Setting fontsize = 1 pt\n",
      "Fontsize 0.16 < 1.0 pt not allowed by FreeType. Setting fontsize = 1 pt\n",
      "Fontsize 0.16 < 1.0 pt not allowed by FreeType. Setting fontsize = 1 pt\n",
      "Fontsize 0.16 < 1.0 pt not allowed by FreeType. Setting fontsize = 1 pt\n",
      "Fontsize 0.16 < 1.0 pt not allowed by FreeType. Setting fontsize = 1 pt\n",
      "Fontsize 0.16 < 1.0 pt not allowed by FreeType. Setting fontsize = 1 pt\n",
      "Fontsize 0.16 < 1.0 pt not allowed by FreeType. Setting fontsize = 1 pt\n",
      "Fontsize 0.16 < 1.0 pt not allowed by FreeType. Setting fontsize = 1 pt\n",
      "Fontsize 0.16 < 1.0 pt not allowed by FreeType. Setting fontsize = 1 pt\n",
      "Fontsize 0.16 < 1.0 pt not allowed by FreeType. Setting fontsize = 1 pt\n",
      "Fontsize 0.16 < 1.0 pt not allowed by FreeType. Setting fontsize = 1 pt\n",
      "Fontsize 0.16 < 1.0 pt not allowed by FreeType. Setting fontsize = 1 pt\n",
      "Fontsize 0.16 < 1.0 pt not allowed by FreeType. Setting fontsize = 1 pt\n",
      "Fontsize 0.16 < 1.0 pt not allowed by FreeType. Setting fontsize = 1 pt\n",
      "Fontsize 0.16 < 1.0 pt not allowed by FreeType. Setting fontsize = 1 pt\n",
      "Fontsize 0.16 < 1.0 pt not allowed by FreeType. Setting fontsize = 1 pt\n",
      "Fontsize 0.16 < 1.0 pt not allowed by FreeType. Setting fontsize = 1 pt\n",
      "Fontsize 0.16 < 1.0 pt not allowed by FreeType. Setting fontsize = 1 pt\n",
      "Fontsize 0.16 < 1.0 pt not allowed by FreeType. Setting fontsize = 1 pt\n",
      "Fontsize 0.16 < 1.0 pt not allowed by FreeType. Setting fontsize = 1 pt\n",
      "Fontsize 0.16 < 1.0 pt not allowed by FreeType. Setting fontsize = 1 pt\n",
      "Fontsize 0.16 < 1.0 pt not allowed by FreeType. Setting fontsize = 1 pt\n",
      "Fontsize 0.16 < 1.0 pt not allowed by FreeType. Setting fontsize = 1 pt\n",
      "Fontsize 0.16 < 1.0 pt not allowed by FreeType. Setting fontsize = 1 pt\n",
      "Fontsize 0.16 < 1.0 pt not allowed by FreeType. Setting fontsize = 1 pt\n",
      "Fontsize 0.16 < 1.0 pt not allowed by FreeType. Setting fontsize = 1 pt\n",
      "Fontsize 0.16 < 1.0 pt not allowed by FreeType. Setting fontsize = 1 pt\n",
      "Fontsize 0.16 < 1.0 pt not allowed by FreeType. Setting fontsize = 1 pt\n",
      "Fontsize 0.16 < 1.0 pt not allowed by FreeType. Setting fontsize = 1 pt\n",
      "Fontsize 0.16 < 1.0 pt not allowed by FreeType. Setting fontsize = 1 pt\n",
      "Fontsize 0.16 < 1.0 pt not allowed by FreeType. Setting fontsize = 1 pt\n",
      "Fontsize 0.16 < 1.0 pt not allowed by FreeType. Setting fontsize = 1 pt\n",
      "Fontsize 0.16 < 1.0 pt not allowed by FreeType. Setting fontsize = 1 pt\n",
      "Fontsize 0.16 < 1.0 pt not allowed by FreeType. Setting fontsize = 1 pt\n",
      "Fontsize 0.16 < 1.0 pt not allowed by FreeType. Setting fontsize = 1 pt\n",
      "Fontsize 0.16 < 1.0 pt not allowed by FreeType. Setting fontsize = 1 pt\n",
      "Fontsize 0.16 < 1.0 pt not allowed by FreeType. Setting fontsize = 1 pt\n",
      "Fontsize 0.16 < 1.0 pt not allowed by FreeType. Setting fontsize = 1 pt\n",
      "Fontsize 0.16 < 1.0 pt not allowed by FreeType. Setting fontsize = 1 pt\n",
      "Fontsize 0.16 < 1.0 pt not allowed by FreeType. Setting fontsize = 1 pt\n",
      "Fontsize 0.16 < 1.0 pt not allowed by FreeType. Setting fontsize = 1 pt\n",
      "Fontsize 0.16 < 1.0 pt not allowed by FreeType. Setting fontsize = 1 pt\n",
      "Fontsize 0.16 < 1.0 pt not allowed by FreeType. Setting fontsize = 1 pt\n",
      "Fontsize 0.16 < 1.0 pt not allowed by FreeType. Setting fontsize = 1 pt\n",
      "Fontsize 0.16 < 1.0 pt not allowed by FreeType. Setting fontsize = 1 pt\n",
      "Fontsize 0.16 < 1.0 pt not allowed by FreeType. Setting fontsize = 1 pt\n",
      "Fontsize 0.16 < 1.0 pt not allowed by FreeType. Setting fontsize = 1 pt\n",
      "Fontsize 0.16 < 1.0 pt not allowed by FreeType. Setting fontsize = 1 pt\n",
      "Fontsize 0.16 < 1.0 pt not allowed by FreeType. Setting fontsize = 1 pt\n",
      "Fontsize 0.16 < 1.0 pt not allowed by FreeType. Setting fontsize = 1 pt\n",
      "Fontsize 0.16 < 1.0 pt not allowed by FreeType. Setting fontsize = 1 pt\n",
      "Fontsize 0.16 < 1.0 pt not allowed by FreeType. Setting fontsize = 1 pt\n",
      "Fontsize 0.16 < 1.0 pt not allowed by FreeType. Setting fontsize = 1 pt\n",
      "Fontsize 0.16 < 1.0 pt not allowed by FreeType. Setting fontsize = 1 pt\n",
      "Fontsize 0.16 < 1.0 pt not allowed by FreeType. Setting fontsize = 1 pt\n",
      "Fontsize 0.16 < 1.0 pt not allowed by FreeType. Setting fontsize = 1 pt\n",
      "Fontsize 0.16 < 1.0 pt not allowed by FreeType. Setting fontsize = 1 pt\n",
      "Fontsize 0.16 < 1.0 pt not allowed by FreeType. Setting fontsize = 1 pt\n"
     ]
    },
    {
     "name": "stderr",
     "output_type": "stream",
     "text": [
      "Fontsize 0.16 < 1.0 pt not allowed by FreeType. Setting fontsize = 1 pt\n",
      "Fontsize 0.16 < 1.0 pt not allowed by FreeType. Setting fontsize = 1 pt\n",
      "Fontsize 0.16 < 1.0 pt not allowed by FreeType. Setting fontsize = 1 pt\n",
      "Fontsize 0.16 < 1.0 pt not allowed by FreeType. Setting fontsize = 1 pt\n",
      "Fontsize 0.16 < 1.0 pt not allowed by FreeType. Setting fontsize = 1 pt\n",
      "Fontsize 0.16 < 1.0 pt not allowed by FreeType. Setting fontsize = 1 pt\n",
      "Fontsize 0.16 < 1.0 pt not allowed by FreeType. Setting fontsize = 1 pt\n",
      "Fontsize 0.16 < 1.0 pt not allowed by FreeType. Setting fontsize = 1 pt\n",
      "Fontsize 0.16 < 1.0 pt not allowed by FreeType. Setting fontsize = 1 pt\n",
      "Fontsize 0.16 < 1.0 pt not allowed by FreeType. Setting fontsize = 1 pt\n",
      "Fontsize 0.16 < 1.0 pt not allowed by FreeType. Setting fontsize = 1 pt\n",
      "Fontsize 0.16 < 1.0 pt not allowed by FreeType. Setting fontsize = 1 pt\n",
      "Fontsize 0.16 < 1.0 pt not allowed by FreeType. Setting fontsize = 1 pt\n",
      "Fontsize 0.16 < 1.0 pt not allowed by FreeType. Setting fontsize = 1 pt\n",
      "Fontsize 0.16 < 1.0 pt not allowed by FreeType. Setting fontsize = 1 pt\n",
      "Fontsize 0.16 < 1.0 pt not allowed by FreeType. Setting fontsize = 1 pt\n",
      "Fontsize 0.16 < 1.0 pt not allowed by FreeType. Setting fontsize = 1 pt\n",
      "Fontsize 0.16 < 1.0 pt not allowed by FreeType. Setting fontsize = 1 pt\n",
      "Fontsize 0.16 < 1.0 pt not allowed by FreeType. Setting fontsize = 1 pt\n",
      "Fontsize 0.16 < 1.0 pt not allowed by FreeType. Setting fontsize = 1 pt\n",
      "Fontsize 0.16 < 1.0 pt not allowed by FreeType. Setting fontsize = 1 pt\n",
      "Fontsize 0.16 < 1.0 pt not allowed by FreeType. Setting fontsize = 1 pt\n",
      "Fontsize 0.16 < 1.0 pt not allowed by FreeType. Setting fontsize = 1 pt\n",
      "Fontsize 0.16 < 1.0 pt not allowed by FreeType. Setting fontsize = 1 pt\n",
      "Fontsize 0.16 < 1.0 pt not allowed by FreeType. Setting fontsize = 1 pt\n",
      "Fontsize 0.16 < 1.0 pt not allowed by FreeType. Setting fontsize = 1 pt\n",
      "Fontsize 0.16 < 1.0 pt not allowed by FreeType. Setting fontsize = 1 pt\n",
      "Fontsize 0.16 < 1.0 pt not allowed by FreeType. Setting fontsize = 1 pt\n",
      "Fontsize 0.16 < 1.0 pt not allowed by FreeType. Setting fontsize = 1 pt\n",
      "Fontsize 0.16 < 1.0 pt not allowed by FreeType. Setting fontsize = 1 pt\n",
      "Fontsize 0.16 < 1.0 pt not allowed by FreeType. Setting fontsize = 1 pt\n",
      "Fontsize 0.16 < 1.0 pt not allowed by FreeType. Setting fontsize = 1 pt\n",
      "Fontsize 0.16 < 1.0 pt not allowed by FreeType. Setting fontsize = 1 pt\n",
      "Fontsize 0.16 < 1.0 pt not allowed by FreeType. Setting fontsize = 1 pt\n",
      "Fontsize 0.16 < 1.0 pt not allowed by FreeType. Setting fontsize = 1 pt\n",
      "Fontsize 0.16 < 1.0 pt not allowed by FreeType. Setting fontsize = 1 pt\n",
      "Fontsize 0.16 < 1.0 pt not allowed by FreeType. Setting fontsize = 1 pt\n",
      "Fontsize 0.16 < 1.0 pt not allowed by FreeType. Setting fontsize = 1 pt\n",
      "Fontsize 0.16 < 1.0 pt not allowed by FreeType. Setting fontsize = 1 pt\n",
      "Fontsize 0.16 < 1.0 pt not allowed by FreeType. Setting fontsize = 1 pt\n",
      "Fontsize 0.16 < 1.0 pt not allowed by FreeType. Setting fontsize = 1 pt\n",
      "Fontsize 0.16 < 1.0 pt not allowed by FreeType. Setting fontsize = 1 pt\n",
      "Fontsize 0.16 < 1.0 pt not allowed by FreeType. Setting fontsize = 1 pt\n",
      "Fontsize 0.16 < 1.0 pt not allowed by FreeType. Setting fontsize = 1 pt\n",
      "Fontsize 0.16 < 1.0 pt not allowed by FreeType. Setting fontsize = 1 pt\n",
      "Fontsize 0.16 < 1.0 pt not allowed by FreeType. Setting fontsize = 1 pt\n",
      "Fontsize 0.16 < 1.0 pt not allowed by FreeType. Setting fontsize = 1 pt\n",
      "Fontsize 0.16 < 1.0 pt not allowed by FreeType. Setting fontsize = 1 pt\n",
      "Fontsize 0.16 < 1.0 pt not allowed by FreeType. Setting fontsize = 1 pt\n",
      "Fontsize 0.16 < 1.0 pt not allowed by FreeType. Setting fontsize = 1 pt\n",
      "Fontsize 0.16 < 1.0 pt not allowed by FreeType. Setting fontsize = 1 pt\n",
      "Fontsize 0.16 < 1.0 pt not allowed by FreeType. Setting fontsize = 1 pt\n",
      "Fontsize 0.16 < 1.0 pt not allowed by FreeType. Setting fontsize = 1 pt\n",
      "Fontsize 0.16 < 1.0 pt not allowed by FreeType. Setting fontsize = 1 pt\n",
      "Fontsize 0.16 < 1.0 pt not allowed by FreeType. Setting fontsize = 1 pt\n",
      "Fontsize 0.16 < 1.0 pt not allowed by FreeType. Setting fontsize = 1 pt\n",
      "Fontsize 0.16 < 1.0 pt not allowed by FreeType. Setting fontsize = 1 pt\n",
      "Fontsize 0.16 < 1.0 pt not allowed by FreeType. Setting fontsize = 1 pt\n",
      "Fontsize 0.16 < 1.0 pt not allowed by FreeType. Setting fontsize = 1 pt\n",
      "Fontsize 0.16 < 1.0 pt not allowed by FreeType. Setting fontsize = 1 pt\n",
      "Fontsize 0.16 < 1.0 pt not allowed by FreeType. Setting fontsize = 1 pt\n",
      "Fontsize 0.16 < 1.0 pt not allowed by FreeType. Setting fontsize = 1 pt\n",
      "Fontsize 0.16 < 1.0 pt not allowed by FreeType. Setting fontsize = 1 pt\n",
      "Fontsize 0.16 < 1.0 pt not allowed by FreeType. Setting fontsize = 1 pt\n",
      "Fontsize 0.16 < 1.0 pt not allowed by FreeType. Setting fontsize = 1 pt\n",
      "Fontsize 0.16 < 1.0 pt not allowed by FreeType. Setting fontsize = 1 pt\n",
      "Fontsize 0.16 < 1.0 pt not allowed by FreeType. Setting fontsize = 1 pt\n",
      "Fontsize 0.16 < 1.0 pt not allowed by FreeType. Setting fontsize = 1 pt\n",
      "Fontsize 0.16 < 1.0 pt not allowed by FreeType. Setting fontsize = 1 pt\n",
      "Fontsize 0.16 < 1.0 pt not allowed by FreeType. Setting fontsize = 1 pt\n",
      "Fontsize 0.16 < 1.0 pt not allowed by FreeType. Setting fontsize = 1 pt\n",
      "Fontsize 0.16 < 1.0 pt not allowed by FreeType. Setting fontsize = 1 pt\n",
      "Fontsize 0.16 < 1.0 pt not allowed by FreeType. Setting fontsize = 1 pt\n",
      "Fontsize 0.16 < 1.0 pt not allowed by FreeType. Setting fontsize = 1 pt\n",
      "Fontsize 0.16 < 1.0 pt not allowed by FreeType. Setting fontsize = 1 pt\n",
      "Fontsize 0.16 < 1.0 pt not allowed by FreeType. Setting fontsize = 1 pt\n",
      "Fontsize 0.16 < 1.0 pt not allowed by FreeType. Setting fontsize = 1 pt\n",
      "Fontsize 0.16 < 1.0 pt not allowed by FreeType. Setting fontsize = 1 pt\n",
      "Fontsize 0.16 < 1.0 pt not allowed by FreeType. Setting fontsize = 1 pt\n",
      "Fontsize 0.16 < 1.0 pt not allowed by FreeType. Setting fontsize = 1 pt\n",
      "Fontsize 0.16 < 1.0 pt not allowed by FreeType. Setting fontsize = 1 pt\n",
      "Fontsize 0.16 < 1.0 pt not allowed by FreeType. Setting fontsize = 1 pt\n",
      "Fontsize 0.16 < 1.0 pt not allowed by FreeType. Setting fontsize = 1 pt\n",
      "Fontsize 0.16 < 1.0 pt not allowed by FreeType. Setting fontsize = 1 pt\n",
      "Fontsize 0.16 < 1.0 pt not allowed by FreeType. Setting fontsize = 1 pt\n",
      "Fontsize 0.16 < 1.0 pt not allowed by FreeType. Setting fontsize = 1 pt\n",
      "Fontsize 0.16 < 1.0 pt not allowed by FreeType. Setting fontsize = 1 pt\n",
      "Fontsize 0.16 < 1.0 pt not allowed by FreeType. Setting fontsize = 1 pt\n",
      "Fontsize 0.16 < 1.0 pt not allowed by FreeType. Setting fontsize = 1 pt\n",
      "Fontsize 0.16 < 1.0 pt not allowed by FreeType. Setting fontsize = 1 pt\n",
      "Fontsize 0.16 < 1.0 pt not allowed by FreeType. Setting fontsize = 1 pt\n",
      "Fontsize 0.16 < 1.0 pt not allowed by FreeType. Setting fontsize = 1 pt\n",
      "Fontsize 0.16 < 1.0 pt not allowed by FreeType. Setting fontsize = 1 pt\n",
      "Fontsize 0.16 < 1.0 pt not allowed by FreeType. Setting fontsize = 1 pt\n",
      "Fontsize 0.16 < 1.0 pt not allowed by FreeType. Setting fontsize = 1 pt\n",
      "Fontsize 0.16 < 1.0 pt not allowed by FreeType. Setting fontsize = 1 pt\n",
      "Fontsize 0.16 < 1.0 pt not allowed by FreeType. Setting fontsize = 1 pt\n",
      "Fontsize 0.16 < 1.0 pt not allowed by FreeType. Setting fontsize = 1 pt\n",
      "Fontsize 0.16 < 1.0 pt not allowed by FreeType. Setting fontsize = 1 pt\n",
      "Fontsize 0.16 < 1.0 pt not allowed by FreeType. Setting fontsize = 1 pt\n",
      "Fontsize 0.16 < 1.0 pt not allowed by FreeType. Setting fontsize = 1 pt\n",
      "Fontsize 0.16 < 1.0 pt not allowed by FreeType. Setting fontsize = 1 pt\n",
      "Fontsize 0.16 < 1.0 pt not allowed by FreeType. Setting fontsize = 1 pt\n",
      "Fontsize 0.16 < 1.0 pt not allowed by FreeType. Setting fontsize = 1 pt\n",
      "Fontsize 0.16 < 1.0 pt not allowed by FreeType. Setting fontsize = 1 pt\n",
      "Fontsize 0.16 < 1.0 pt not allowed by FreeType. Setting fontsize = 1 pt\n",
      "Fontsize 0.16 < 1.0 pt not allowed by FreeType. Setting fontsize = 1 pt\n",
      "Fontsize 0.16 < 1.0 pt not allowed by FreeType. Setting fontsize = 1 pt\n",
      "Fontsize 0.16 < 1.0 pt not allowed by FreeType. Setting fontsize = 1 pt\n",
      "Fontsize 0.16 < 1.0 pt not allowed by FreeType. Setting fontsize = 1 pt\n",
      "Fontsize 0.16 < 1.0 pt not allowed by FreeType. Setting fontsize = 1 pt\n",
      "Fontsize 0.16 < 1.0 pt not allowed by FreeType. Setting fontsize = 1 pt\n",
      "Fontsize 0.16 < 1.0 pt not allowed by FreeType. Setting fontsize = 1 pt\n",
      "Fontsize 0.16 < 1.0 pt not allowed by FreeType. Setting fontsize = 1 pt\n"
     ]
    },
    {
     "name": "stderr",
     "output_type": "stream",
     "text": [
      "Fontsize 0.16 < 1.0 pt not allowed by FreeType. Setting fontsize = 1 pt\n",
      "Fontsize 0.16 < 1.0 pt not allowed by FreeType. Setting fontsize = 1 pt\n",
      "Fontsize 0.16 < 1.0 pt not allowed by FreeType. Setting fontsize = 1 pt\n",
      "Fontsize 0.16 < 1.0 pt not allowed by FreeType. Setting fontsize = 1 pt\n",
      "Fontsize 0.16 < 1.0 pt not allowed by FreeType. Setting fontsize = 1 pt\n",
      "Fontsize 0.16 < 1.0 pt not allowed by FreeType. Setting fontsize = 1 pt\n",
      "Fontsize 0.16 < 1.0 pt not allowed by FreeType. Setting fontsize = 1 pt\n",
      "Fontsize 0.16 < 1.0 pt not allowed by FreeType. Setting fontsize = 1 pt\n",
      "Fontsize 0.16 < 1.0 pt not allowed by FreeType. Setting fontsize = 1 pt\n",
      "Fontsize 0.16 < 1.0 pt not allowed by FreeType. Setting fontsize = 1 pt\n",
      "Fontsize 0.16 < 1.0 pt not allowed by FreeType. Setting fontsize = 1 pt\n",
      "Fontsize 0.16 < 1.0 pt not allowed by FreeType. Setting fontsize = 1 pt\n",
      "Fontsize 0.16 < 1.0 pt not allowed by FreeType. Setting fontsize = 1 pt\n",
      "Fontsize 0.16 < 1.0 pt not allowed by FreeType. Setting fontsize = 1 pt\n",
      "Fontsize 0.16 < 1.0 pt not allowed by FreeType. Setting fontsize = 1 pt\n",
      "Fontsize 0.16 < 1.0 pt not allowed by FreeType. Setting fontsize = 1 pt\n",
      "Fontsize 0.16 < 1.0 pt not allowed by FreeType. Setting fontsize = 1 pt\n",
      "Fontsize 0.16 < 1.0 pt not allowed by FreeType. Setting fontsize = 1 pt\n",
      "Fontsize 0.16 < 1.0 pt not allowed by FreeType. Setting fontsize = 1 pt\n",
      "Fontsize 0.16 < 1.0 pt not allowed by FreeType. Setting fontsize = 1 pt\n",
      "Fontsize 0.16 < 1.0 pt not allowed by FreeType. Setting fontsize = 1 pt\n",
      "Fontsize 0.16 < 1.0 pt not allowed by FreeType. Setting fontsize = 1 pt\n",
      "Fontsize 0.16 < 1.0 pt not allowed by FreeType. Setting fontsize = 1 pt\n",
      "Fontsize 0.16 < 1.0 pt not allowed by FreeType. Setting fontsize = 1 pt\n",
      "Fontsize 0.16 < 1.0 pt not allowed by FreeType. Setting fontsize = 1 pt\n",
      "Fontsize 0.16 < 1.0 pt not allowed by FreeType. Setting fontsize = 1 pt\n",
      "Fontsize 0.16 < 1.0 pt not allowed by FreeType. Setting fontsize = 1 pt\n",
      "Fontsize 0.16 < 1.0 pt not allowed by FreeType. Setting fontsize = 1 pt\n",
      "Fontsize 0.16 < 1.0 pt not allowed by FreeType. Setting fontsize = 1 pt\n",
      "Fontsize 0.16 < 1.0 pt not allowed by FreeType. Setting fontsize = 1 pt\n",
      "Fontsize 0.16 < 1.0 pt not allowed by FreeType. Setting fontsize = 1 pt\n",
      "Fontsize 0.16 < 1.0 pt not allowed by FreeType. Setting fontsize = 1 pt\n",
      "Fontsize 0.16 < 1.0 pt not allowed by FreeType. Setting fontsize = 1 pt\n",
      "Fontsize 0.16 < 1.0 pt not allowed by FreeType. Setting fontsize = 1 pt\n",
      "Fontsize 0.16 < 1.0 pt not allowed by FreeType. Setting fontsize = 1 pt\n",
      "Fontsize 0.16 < 1.0 pt not allowed by FreeType. Setting fontsize = 1 pt\n",
      "Fontsize 0.16 < 1.0 pt not allowed by FreeType. Setting fontsize = 1 pt\n",
      "Fontsize 0.16 < 1.0 pt not allowed by FreeType. Setting fontsize = 1 pt\n",
      "Fontsize 0.16 < 1.0 pt not allowed by FreeType. Setting fontsize = 1 pt\n",
      "Fontsize 0.16 < 1.0 pt not allowed by FreeType. Setting fontsize = 1 pt\n",
      "Fontsize 0.16 < 1.0 pt not allowed by FreeType. Setting fontsize = 1 pt\n",
      "Fontsize 0.16 < 1.0 pt not allowed by FreeType. Setting fontsize = 1 pt\n",
      "Fontsize 0.16 < 1.0 pt not allowed by FreeType. Setting fontsize = 1 pt\n",
      "Fontsize 0.16 < 1.0 pt not allowed by FreeType. Setting fontsize = 1 pt\n",
      "Fontsize 0.16 < 1.0 pt not allowed by FreeType. Setting fontsize = 1 pt\n",
      "Fontsize 0.16 < 1.0 pt not allowed by FreeType. Setting fontsize = 1 pt\n",
      "Fontsize 0.16 < 1.0 pt not allowed by FreeType. Setting fontsize = 1 pt\n",
      "Fontsize 0.16 < 1.0 pt not allowed by FreeType. Setting fontsize = 1 pt\n",
      "Fontsize 0.16 < 1.0 pt not allowed by FreeType. Setting fontsize = 1 pt\n",
      "Fontsize 0.16 < 1.0 pt not allowed by FreeType. Setting fontsize = 1 pt\n",
      "Fontsize 0.16 < 1.0 pt not allowed by FreeType. Setting fontsize = 1 pt\n",
      "Fontsize 0.16 < 1.0 pt not allowed by FreeType. Setting fontsize = 1 pt\n",
      "Fontsize 0.16 < 1.0 pt not allowed by FreeType. Setting fontsize = 1 pt\n",
      "Fontsize 0.16 < 1.0 pt not allowed by FreeType. Setting fontsize = 1 pt\n",
      "Fontsize 0.16 < 1.0 pt not allowed by FreeType. Setting fontsize = 1 pt\n",
      "Fontsize 0.16 < 1.0 pt not allowed by FreeType. Setting fontsize = 1 pt\n",
      "Fontsize 0.16 < 1.0 pt not allowed by FreeType. Setting fontsize = 1 pt\n",
      "Fontsize 0.16 < 1.0 pt not allowed by FreeType. Setting fontsize = 1 pt\n",
      "Fontsize 0.16 < 1.0 pt not allowed by FreeType. Setting fontsize = 1 pt\n",
      "Fontsize 0.16 < 1.0 pt not allowed by FreeType. Setting fontsize = 1 pt\n",
      "Fontsize 0.16 < 1.0 pt not allowed by FreeType. Setting fontsize = 1 pt\n",
      "Fontsize 0.16 < 1.0 pt not allowed by FreeType. Setting fontsize = 1 pt\n",
      "Fontsize 0.16 < 1.0 pt not allowed by FreeType. Setting fontsize = 1 pt\n",
      "Fontsize 0.16 < 1.0 pt not allowed by FreeType. Setting fontsize = 1 pt\n",
      "Fontsize 0.16 < 1.0 pt not allowed by FreeType. Setting fontsize = 1 pt\n",
      "Fontsize 0.16 < 1.0 pt not allowed by FreeType. Setting fontsize = 1 pt\n",
      "Fontsize 0.16 < 1.0 pt not allowed by FreeType. Setting fontsize = 1 pt\n",
      "Fontsize 0.16 < 1.0 pt not allowed by FreeType. Setting fontsize = 1 pt\n",
      "Fontsize 0.16 < 1.0 pt not allowed by FreeType. Setting fontsize = 1 pt\n",
      "Fontsize 0.16 < 1.0 pt not allowed by FreeType. Setting fontsize = 1 pt\n",
      "Fontsize 0.16 < 1.0 pt not allowed by FreeType. Setting fontsize = 1 pt\n",
      "Fontsize 0.16 < 1.0 pt not allowed by FreeType. Setting fontsize = 1 pt\n",
      "Fontsize 0.16 < 1.0 pt not allowed by FreeType. Setting fontsize = 1 pt\n",
      "Fontsize 0.16 < 1.0 pt not allowed by FreeType. Setting fontsize = 1 pt\n",
      "Fontsize 0.16 < 1.0 pt not allowed by FreeType. Setting fontsize = 1 pt\n",
      "Fontsize 0.16 < 1.0 pt not allowed by FreeType. Setting fontsize = 1 pt\n",
      "Fontsize 0.16 < 1.0 pt not allowed by FreeType. Setting fontsize = 1 pt\n",
      "Fontsize 0.16 < 1.0 pt not allowed by FreeType. Setting fontsize = 1 pt\n",
      "Fontsize 0.16 < 1.0 pt not allowed by FreeType. Setting fontsize = 1 pt\n",
      "Fontsize 0.16 < 1.0 pt not allowed by FreeType. Setting fontsize = 1 pt\n",
      "Fontsize 0.16 < 1.0 pt not allowed by FreeType. Setting fontsize = 1 pt\n",
      "Fontsize 0.16 < 1.0 pt not allowed by FreeType. Setting fontsize = 1 pt\n",
      "Fontsize 0.16 < 1.0 pt not allowed by FreeType. Setting fontsize = 1 pt\n",
      "Fontsize 0.16 < 1.0 pt not allowed by FreeType. Setting fontsize = 1 pt\n",
      "Fontsize 0.16 < 1.0 pt not allowed by FreeType. Setting fontsize = 1 pt\n",
      "Fontsize 0.16 < 1.0 pt not allowed by FreeType. Setting fontsize = 1 pt\n",
      "Fontsize 0.16 < 1.0 pt not allowed by FreeType. Setting fontsize = 1 pt\n",
      "Fontsize 0.16 < 1.0 pt not allowed by FreeType. Setting fontsize = 1 pt\n",
      "Fontsize 0.16 < 1.0 pt not allowed by FreeType. Setting fontsize = 1 pt\n",
      "Fontsize 0.16 < 1.0 pt not allowed by FreeType. Setting fontsize = 1 pt\n",
      "Fontsize 0.16 < 1.0 pt not allowed by FreeType. Setting fontsize = 1 pt\n",
      "Fontsize 0.16 < 1.0 pt not allowed by FreeType. Setting fontsize = 1 pt\n",
      "Fontsize 0.16 < 1.0 pt not allowed by FreeType. Setting fontsize = 1 pt\n",
      "Fontsize 0.16 < 1.0 pt not allowed by FreeType. Setting fontsize = 1 pt\n",
      "Fontsize 0.16 < 1.0 pt not allowed by FreeType. Setting fontsize = 1 pt\n",
      "Fontsize 0.16 < 1.0 pt not allowed by FreeType. Setting fontsize = 1 pt\n",
      "Fontsize 0.16 < 1.0 pt not allowed by FreeType. Setting fontsize = 1 pt\n",
      "Fontsize 0.16 < 1.0 pt not allowed by FreeType. Setting fontsize = 1 pt\n",
      "Fontsize 0.16 < 1.0 pt not allowed by FreeType. Setting fontsize = 1 pt\n",
      "Fontsize 0.16 < 1.0 pt not allowed by FreeType. Setting fontsize = 1 pt\n",
      "Fontsize 0.16 < 1.0 pt not allowed by FreeType. Setting fontsize = 1 pt\n",
      "Fontsize 0.16 < 1.0 pt not allowed by FreeType. Setting fontsize = 1 pt\n",
      "Fontsize 0.16 < 1.0 pt not allowed by FreeType. Setting fontsize = 1 pt\n",
      "Fontsize 0.16 < 1.0 pt not allowed by FreeType. Setting fontsize = 1 pt\n",
      "Fontsize 0.16 < 1.0 pt not allowed by FreeType. Setting fontsize = 1 pt\n",
      "Fontsize 0.16 < 1.0 pt not allowed by FreeType. Setting fontsize = 1 pt\n",
      "Fontsize 0.16 < 1.0 pt not allowed by FreeType. Setting fontsize = 1 pt\n",
      "Fontsize 0.16 < 1.0 pt not allowed by FreeType. Setting fontsize = 1 pt\n",
      "Fontsize 0.16 < 1.0 pt not allowed by FreeType. Setting fontsize = 1 pt\n",
      "Fontsize 0.16 < 1.0 pt not allowed by FreeType. Setting fontsize = 1 pt\n",
      "Fontsize 0.16 < 1.0 pt not allowed by FreeType. Setting fontsize = 1 pt\n",
      "Fontsize 0.16 < 1.0 pt not allowed by FreeType. Setting fontsize = 1 pt\n",
      "Fontsize 0.16 < 1.0 pt not allowed by FreeType. Setting fontsize = 1 pt\n",
      "Fontsize 0.16 < 1.0 pt not allowed by FreeType. Setting fontsize = 1 pt\n"
     ]
    },
    {
     "name": "stderr",
     "output_type": "stream",
     "text": [
      "Fontsize 0.16 < 1.0 pt not allowed by FreeType. Setting fontsize = 1 pt\n",
      "Fontsize 0.16 < 1.0 pt not allowed by FreeType. Setting fontsize = 1 pt\n",
      "Fontsize 0.16 < 1.0 pt not allowed by FreeType. Setting fontsize = 1 pt\n",
      "Fontsize 0.16 < 1.0 pt not allowed by FreeType. Setting fontsize = 1 pt\n",
      "Fontsize 0.16 < 1.0 pt not allowed by FreeType. Setting fontsize = 1 pt\n",
      "Fontsize 0.16 < 1.0 pt not allowed by FreeType. Setting fontsize = 1 pt\n",
      "Fontsize 0.16 < 1.0 pt not allowed by FreeType. Setting fontsize = 1 pt\n",
      "Fontsize 0.16 < 1.0 pt not allowed by FreeType. Setting fontsize = 1 pt\n",
      "Fontsize 0.16 < 1.0 pt not allowed by FreeType. Setting fontsize = 1 pt\n",
      "Fontsize 0.16 < 1.0 pt not allowed by FreeType. Setting fontsize = 1 pt\n",
      "Fontsize 0.16 < 1.0 pt not allowed by FreeType. Setting fontsize = 1 pt\n",
      "Fontsize 0.16 < 1.0 pt not allowed by FreeType. Setting fontsize = 1 pt\n",
      "Fontsize 0.16 < 1.0 pt not allowed by FreeType. Setting fontsize = 1 pt\n",
      "Fontsize 0.16 < 1.0 pt not allowed by FreeType. Setting fontsize = 1 pt\n",
      "Fontsize 0.16 < 1.0 pt not allowed by FreeType. Setting fontsize = 1 pt\n",
      "Fontsize 0.16 < 1.0 pt not allowed by FreeType. Setting fontsize = 1 pt\n",
      "Fontsize 0.16 < 1.0 pt not allowed by FreeType. Setting fontsize = 1 pt\n",
      "Fontsize 0.16 < 1.0 pt not allowed by FreeType. Setting fontsize = 1 pt\n",
      "Fontsize 0.16 < 1.0 pt not allowed by FreeType. Setting fontsize = 1 pt\n",
      "Fontsize 0.16 < 1.0 pt not allowed by FreeType. Setting fontsize = 1 pt\n",
      "Fontsize 0.16 < 1.0 pt not allowed by FreeType. Setting fontsize = 1 pt\n",
      "Fontsize 0.16 < 1.0 pt not allowed by FreeType. Setting fontsize = 1 pt\n",
      "Fontsize 0.16 < 1.0 pt not allowed by FreeType. Setting fontsize = 1 pt\n",
      "Fontsize 0.16 < 1.0 pt not allowed by FreeType. Setting fontsize = 1 pt\n",
      "Fontsize 0.16 < 1.0 pt not allowed by FreeType. Setting fontsize = 1 pt\n",
      "Fontsize 0.16 < 1.0 pt not allowed by FreeType. Setting fontsize = 1 pt\n",
      "Fontsize 0.16 < 1.0 pt not allowed by FreeType. Setting fontsize = 1 pt\n",
      "Fontsize 0.16 < 1.0 pt not allowed by FreeType. Setting fontsize = 1 pt\n",
      "Fontsize 0.16 < 1.0 pt not allowed by FreeType. Setting fontsize = 1 pt\n",
      "Fontsize 0.16 < 1.0 pt not allowed by FreeType. Setting fontsize = 1 pt\n",
      "Fontsize 0.16 < 1.0 pt not allowed by FreeType. Setting fontsize = 1 pt\n",
      "Fontsize 0.16 < 1.0 pt not allowed by FreeType. Setting fontsize = 1 pt\n",
      "Fontsize 0.16 < 1.0 pt not allowed by FreeType. Setting fontsize = 1 pt\n",
      "Fontsize 0.16 < 1.0 pt not allowed by FreeType. Setting fontsize = 1 pt\n",
      "Fontsize 0.16 < 1.0 pt not allowed by FreeType. Setting fontsize = 1 pt\n",
      "Fontsize 0.16 < 1.0 pt not allowed by FreeType. Setting fontsize = 1 pt\n",
      "Fontsize 0.16 < 1.0 pt not allowed by FreeType. Setting fontsize = 1 pt\n",
      "Fontsize 0.16 < 1.0 pt not allowed by FreeType. Setting fontsize = 1 pt\n",
      "Fontsize 0.16 < 1.0 pt not allowed by FreeType. Setting fontsize = 1 pt\n",
      "Fontsize 0.16 < 1.0 pt not allowed by FreeType. Setting fontsize = 1 pt\n",
      "Fontsize 0.16 < 1.0 pt not allowed by FreeType. Setting fontsize = 1 pt\n",
      "Fontsize 0.16 < 1.0 pt not allowed by FreeType. Setting fontsize = 1 pt\n",
      "Fontsize 0.16 < 1.0 pt not allowed by FreeType. Setting fontsize = 1 pt\n",
      "Fontsize 0.16 < 1.0 pt not allowed by FreeType. Setting fontsize = 1 pt\n",
      "Fontsize 0.16 < 1.0 pt not allowed by FreeType. Setting fontsize = 1 pt\n",
      "Fontsize 0.16 < 1.0 pt not allowed by FreeType. Setting fontsize = 1 pt\n",
      "Fontsize 0.16 < 1.0 pt not allowed by FreeType. Setting fontsize = 1 pt\n",
      "Fontsize 0.16 < 1.0 pt not allowed by FreeType. Setting fontsize = 1 pt\n",
      "Fontsize 0.16 < 1.0 pt not allowed by FreeType. Setting fontsize = 1 pt\n",
      "Fontsize 0.16 < 1.0 pt not allowed by FreeType. Setting fontsize = 1 pt\n",
      "Fontsize 0.16 < 1.0 pt not allowed by FreeType. Setting fontsize = 1 pt\n",
      "Fontsize 0.16 < 1.0 pt not allowed by FreeType. Setting fontsize = 1 pt\n",
      "Fontsize 0.16 < 1.0 pt not allowed by FreeType. Setting fontsize = 1 pt\n",
      "Fontsize 0.16 < 1.0 pt not allowed by FreeType. Setting fontsize = 1 pt\n",
      "Fontsize 0.16 < 1.0 pt not allowed by FreeType. Setting fontsize = 1 pt\n",
      "Fontsize 0.16 < 1.0 pt not allowed by FreeType. Setting fontsize = 1 pt\n",
      "Fontsize 0.16 < 1.0 pt not allowed by FreeType. Setting fontsize = 1 pt\n",
      "Fontsize 0.16 < 1.0 pt not allowed by FreeType. Setting fontsize = 1 pt\n",
      "Fontsize 0.16 < 1.0 pt not allowed by FreeType. Setting fontsize = 1 pt\n",
      "Fontsize 0.16 < 1.0 pt not allowed by FreeType. Setting fontsize = 1 pt\n",
      "Fontsize 0.16 < 1.0 pt not allowed by FreeType. Setting fontsize = 1 pt\n",
      "Fontsize 0.16 < 1.0 pt not allowed by FreeType. Setting fontsize = 1 pt\n",
      "Fontsize 0.16 < 1.0 pt not allowed by FreeType. Setting fontsize = 1 pt\n",
      "Fontsize 0.16 < 1.0 pt not allowed by FreeType. Setting fontsize = 1 pt\n",
      "Fontsize 0.16 < 1.0 pt not allowed by FreeType. Setting fontsize = 1 pt\n",
      "Fontsize 0.16 < 1.0 pt not allowed by FreeType. Setting fontsize = 1 pt\n",
      "Fontsize 0.16 < 1.0 pt not allowed by FreeType. Setting fontsize = 1 pt\n",
      "Fontsize 0.16 < 1.0 pt not allowed by FreeType. Setting fontsize = 1 pt\n",
      "Fontsize 0.16 < 1.0 pt not allowed by FreeType. Setting fontsize = 1 pt\n",
      "Fontsize 0.16 < 1.0 pt not allowed by FreeType. Setting fontsize = 1 pt\n",
      "Fontsize 0.16 < 1.0 pt not allowed by FreeType. Setting fontsize = 1 pt\n",
      "Fontsize 0.16 < 1.0 pt not allowed by FreeType. Setting fontsize = 1 pt\n",
      "Fontsize 0.16 < 1.0 pt not allowed by FreeType. Setting fontsize = 1 pt\n",
      "Fontsize 0.16 < 1.0 pt not allowed by FreeType. Setting fontsize = 1 pt\n",
      "Fontsize 0.16 < 1.0 pt not allowed by FreeType. Setting fontsize = 1 pt\n",
      "Fontsize 0.16 < 1.0 pt not allowed by FreeType. Setting fontsize = 1 pt\n",
      "Fontsize 0.16 < 1.0 pt not allowed by FreeType. Setting fontsize = 1 pt\n",
      "Fontsize 0.16 < 1.0 pt not allowed by FreeType. Setting fontsize = 1 pt\n",
      "Fontsize 0.16 < 1.0 pt not allowed by FreeType. Setting fontsize = 1 pt\n",
      "Fontsize 0.16 < 1.0 pt not allowed by FreeType. Setting fontsize = 1 pt\n",
      "Fontsize 0.16 < 1.0 pt not allowed by FreeType. Setting fontsize = 1 pt\n",
      "Fontsize 0.16 < 1.0 pt not allowed by FreeType. Setting fontsize = 1 pt\n",
      "Fontsize 0.16 < 1.0 pt not allowed by FreeType. Setting fontsize = 1 pt\n",
      "Fontsize 0.16 < 1.0 pt not allowed by FreeType. Setting fontsize = 1 pt\n",
      "Fontsize 0.16 < 1.0 pt not allowed by FreeType. Setting fontsize = 1 pt\n",
      "Fontsize 0.16 < 1.0 pt not allowed by FreeType. Setting fontsize = 1 pt\n",
      "Fontsize 0.16 < 1.0 pt not allowed by FreeType. Setting fontsize = 1 pt\n",
      "Fontsize 0.16 < 1.0 pt not allowed by FreeType. Setting fontsize = 1 pt\n",
      "Fontsize 0.16 < 1.0 pt not allowed by FreeType. Setting fontsize = 1 pt\n",
      "Fontsize 0.16 < 1.0 pt not allowed by FreeType. Setting fontsize = 1 pt\n",
      "Fontsize 0.16 < 1.0 pt not allowed by FreeType. Setting fontsize = 1 pt\n",
      "Fontsize 0.16 < 1.0 pt not allowed by FreeType. Setting fontsize = 1 pt\n",
      "Fontsize 0.16 < 1.0 pt not allowed by FreeType. Setting fontsize = 1 pt\n",
      "Fontsize 0.16 < 1.0 pt not allowed by FreeType. Setting fontsize = 1 pt\n",
      "Fontsize 0.16 < 1.0 pt not allowed by FreeType. Setting fontsize = 1 pt\n",
      "Fontsize 0.16 < 1.0 pt not allowed by FreeType. Setting fontsize = 1 pt\n",
      "Fontsize 0.16 < 1.0 pt not allowed by FreeType. Setting fontsize = 1 pt\n",
      "Fontsize 0.16 < 1.0 pt not allowed by FreeType. Setting fontsize = 1 pt\n",
      "Fontsize 0.16 < 1.0 pt not allowed by FreeType. Setting fontsize = 1 pt\n",
      "Fontsize 0.16 < 1.0 pt not allowed by FreeType. Setting fontsize = 1 pt\n",
      "Fontsize 0.16 < 1.0 pt not allowed by FreeType. Setting fontsize = 1 pt\n",
      "Fontsize 0.16 < 1.0 pt not allowed by FreeType. Setting fontsize = 1 pt\n",
      "Fontsize 0.16 < 1.0 pt not allowed by FreeType. Setting fontsize = 1 pt\n",
      "Fontsize 0.16 < 1.0 pt not allowed by FreeType. Setting fontsize = 1 pt\n",
      "Fontsize 0.16 < 1.0 pt not allowed by FreeType. Setting fontsize = 1 pt\n",
      "Fontsize 0.16 < 1.0 pt not allowed by FreeType. Setting fontsize = 1 pt\n",
      "Fontsize 0.16 < 1.0 pt not allowed by FreeType. Setting fontsize = 1 pt\n",
      "Fontsize 0.16 < 1.0 pt not allowed by FreeType. Setting fontsize = 1 pt\n",
      "Fontsize 0.16 < 1.0 pt not allowed by FreeType. Setting fontsize = 1 pt\n",
      "Fontsize 0.16 < 1.0 pt not allowed by FreeType. Setting fontsize = 1 pt\n",
      "Fontsize 0.16 < 1.0 pt not allowed by FreeType. Setting fontsize = 1 pt\n",
      "Fontsize 0.16 < 1.0 pt not allowed by FreeType. Setting fontsize = 1 pt\n",
      "Fontsize 0.16 < 1.0 pt not allowed by FreeType. Setting fontsize = 1 pt\n",
      "Fontsize 0.16 < 1.0 pt not allowed by FreeType. Setting fontsize = 1 pt\n"
     ]
    },
    {
     "name": "stderr",
     "output_type": "stream",
     "text": [
      "Fontsize 0.16 < 1.0 pt not allowed by FreeType. Setting fontsize = 1 pt\n",
      "Fontsize 0.16 < 1.0 pt not allowed by FreeType. Setting fontsize = 1 pt\n",
      "Fontsize 0.16 < 1.0 pt not allowed by FreeType. Setting fontsize = 1 pt\n",
      "Fontsize 0.16 < 1.0 pt not allowed by FreeType. Setting fontsize = 1 pt\n",
      "Fontsize 0.16 < 1.0 pt not allowed by FreeType. Setting fontsize = 1 pt\n",
      "Fontsize 0.16 < 1.0 pt not allowed by FreeType. Setting fontsize = 1 pt\n",
      "Fontsize 0.16 < 1.0 pt not allowed by FreeType. Setting fontsize = 1 pt\n",
      "Fontsize 0.16 < 1.0 pt not allowed by FreeType. Setting fontsize = 1 pt\n",
      "Fontsize 0.16 < 1.0 pt not allowed by FreeType. Setting fontsize = 1 pt\n",
      "Fontsize 0.16 < 1.0 pt not allowed by FreeType. Setting fontsize = 1 pt\n",
      "Fontsize 0.16 < 1.0 pt not allowed by FreeType. Setting fontsize = 1 pt\n",
      "Fontsize 0.16 < 1.0 pt not allowed by FreeType. Setting fontsize = 1 pt\n",
      "Fontsize 0.16 < 1.0 pt not allowed by FreeType. Setting fontsize = 1 pt\n",
      "Fontsize 0.16 < 1.0 pt not allowed by FreeType. Setting fontsize = 1 pt\n",
      "Fontsize 0.16 < 1.0 pt not allowed by FreeType. Setting fontsize = 1 pt\n",
      "Fontsize 0.16 < 1.0 pt not allowed by FreeType. Setting fontsize = 1 pt\n",
      "Fontsize 0.16 < 1.0 pt not allowed by FreeType. Setting fontsize = 1 pt\n",
      "Fontsize 0.16 < 1.0 pt not allowed by FreeType. Setting fontsize = 1 pt\n",
      "Fontsize 0.16 < 1.0 pt not allowed by FreeType. Setting fontsize = 1 pt\n",
      "Fontsize 0.16 < 1.0 pt not allowed by FreeType. Setting fontsize = 1 pt\n",
      "Fontsize 0.16 < 1.0 pt not allowed by FreeType. Setting fontsize = 1 pt\n",
      "Fontsize 0.16 < 1.0 pt not allowed by FreeType. Setting fontsize = 1 pt\n",
      "Fontsize 0.16 < 1.0 pt not allowed by FreeType. Setting fontsize = 1 pt\n",
      "Fontsize 0.16 < 1.0 pt not allowed by FreeType. Setting fontsize = 1 pt\n",
      "Fontsize 0.16 < 1.0 pt not allowed by FreeType. Setting fontsize = 1 pt\n",
      "Fontsize 0.16 < 1.0 pt not allowed by FreeType. Setting fontsize = 1 pt\n",
      "Fontsize 0.16 < 1.0 pt not allowed by FreeType. Setting fontsize = 1 pt\n",
      "Fontsize 0.16 < 1.0 pt not allowed by FreeType. Setting fontsize = 1 pt\n",
      "Fontsize 0.16 < 1.0 pt not allowed by FreeType. Setting fontsize = 1 pt\n",
      "Fontsize 0.16 < 1.0 pt not allowed by FreeType. Setting fontsize = 1 pt\n",
      "Fontsize 0.16 < 1.0 pt not allowed by FreeType. Setting fontsize = 1 pt\n",
      "Fontsize 0.16 < 1.0 pt not allowed by FreeType. Setting fontsize = 1 pt\n",
      "Fontsize 0.16 < 1.0 pt not allowed by FreeType. Setting fontsize = 1 pt\n",
      "Fontsize 0.16 < 1.0 pt not allowed by FreeType. Setting fontsize = 1 pt\n",
      "Fontsize 0.16 < 1.0 pt not allowed by FreeType. Setting fontsize = 1 pt\n",
      "Fontsize 0.16 < 1.0 pt not allowed by FreeType. Setting fontsize = 1 pt\n",
      "Fontsize 0.16 < 1.0 pt not allowed by FreeType. Setting fontsize = 1 pt\n",
      "Fontsize 0.16 < 1.0 pt not allowed by FreeType. Setting fontsize = 1 pt\n",
      "Fontsize 0.16 < 1.0 pt not allowed by FreeType. Setting fontsize = 1 pt\n",
      "Fontsize 0.16 < 1.0 pt not allowed by FreeType. Setting fontsize = 1 pt\n",
      "Fontsize 0.16 < 1.0 pt not allowed by FreeType. Setting fontsize = 1 pt\n",
      "Fontsize 0.16 < 1.0 pt not allowed by FreeType. Setting fontsize = 1 pt\n",
      "Fontsize 0.16 < 1.0 pt not allowed by FreeType. Setting fontsize = 1 pt\n",
      "Fontsize 0.16 < 1.0 pt not allowed by FreeType. Setting fontsize = 1 pt\n",
      "Fontsize 0.16 < 1.0 pt not allowed by FreeType. Setting fontsize = 1 pt\n",
      "Fontsize 0.16 < 1.0 pt not allowed by FreeType. Setting fontsize = 1 pt\n",
      "Fontsize 0.16 < 1.0 pt not allowed by FreeType. Setting fontsize = 1 pt\n",
      "Fontsize 0.16 < 1.0 pt not allowed by FreeType. Setting fontsize = 1 pt\n",
      "Fontsize 0.16 < 1.0 pt not allowed by FreeType. Setting fontsize = 1 pt\n",
      "Fontsize 0.16 < 1.0 pt not allowed by FreeType. Setting fontsize = 1 pt\n",
      "Fontsize 0.16 < 1.0 pt not allowed by FreeType. Setting fontsize = 1 pt\n",
      "Fontsize 0.16 < 1.0 pt not allowed by FreeType. Setting fontsize = 1 pt\n",
      "Fontsize 0.16 < 1.0 pt not allowed by FreeType. Setting fontsize = 1 pt\n",
      "Fontsize 0.16 < 1.0 pt not allowed by FreeType. Setting fontsize = 1 pt\n",
      "Fontsize 0.16 < 1.0 pt not allowed by FreeType. Setting fontsize = 1 pt\n",
      "Fontsize 0.16 < 1.0 pt not allowed by FreeType. Setting fontsize = 1 pt\n",
      "Fontsize 0.16 < 1.0 pt not allowed by FreeType. Setting fontsize = 1 pt\n",
      "Fontsize 0.16 < 1.0 pt not allowed by FreeType. Setting fontsize = 1 pt\n",
      "Fontsize 0.16 < 1.0 pt not allowed by FreeType. Setting fontsize = 1 pt\n",
      "Fontsize 0.16 < 1.0 pt not allowed by FreeType. Setting fontsize = 1 pt\n",
      "Fontsize 0.16 < 1.0 pt not allowed by FreeType. Setting fontsize = 1 pt\n",
      "Fontsize 0.16 < 1.0 pt not allowed by FreeType. Setting fontsize = 1 pt\n",
      "Fontsize 0.16 < 1.0 pt not allowed by FreeType. Setting fontsize = 1 pt\n",
      "Fontsize 0.16 < 1.0 pt not allowed by FreeType. Setting fontsize = 1 pt\n",
      "Fontsize 0.16 < 1.0 pt not allowed by FreeType. Setting fontsize = 1 pt\n",
      "Fontsize 0.16 < 1.0 pt not allowed by FreeType. Setting fontsize = 1 pt\n",
      "Fontsize 0.16 < 1.0 pt not allowed by FreeType. Setting fontsize = 1 pt\n",
      "Fontsize 0.16 < 1.0 pt not allowed by FreeType. Setting fontsize = 1 pt\n",
      "Fontsize 0.16 < 1.0 pt not allowed by FreeType. Setting fontsize = 1 pt\n",
      "Fontsize 0.16 < 1.0 pt not allowed by FreeType. Setting fontsize = 1 pt\n",
      "Fontsize 0.16 < 1.0 pt not allowed by FreeType. Setting fontsize = 1 pt\n",
      "Fontsize 0.16 < 1.0 pt not allowed by FreeType. Setting fontsize = 1 pt\n",
      "Fontsize 0.16 < 1.0 pt not allowed by FreeType. Setting fontsize = 1 pt\n",
      "Fontsize 0.16 < 1.0 pt not allowed by FreeType. Setting fontsize = 1 pt\n",
      "Fontsize 0.16 < 1.0 pt not allowed by FreeType. Setting fontsize = 1 pt\n",
      "Fontsize 0.16 < 1.0 pt not allowed by FreeType. Setting fontsize = 1 pt\n",
      "Fontsize 0.16 < 1.0 pt not allowed by FreeType. Setting fontsize = 1 pt\n",
      "Fontsize 0.16 < 1.0 pt not allowed by FreeType. Setting fontsize = 1 pt\n",
      "Fontsize 0.16 < 1.0 pt not allowed by FreeType. Setting fontsize = 1 pt\n",
      "Fontsize 0.16 < 1.0 pt not allowed by FreeType. Setting fontsize = 1 pt\n",
      "Fontsize 0.16 < 1.0 pt not allowed by FreeType. Setting fontsize = 1 pt\n",
      "Fontsize 0.16 < 1.0 pt not allowed by FreeType. Setting fontsize = 1 pt\n",
      "Fontsize 0.16 < 1.0 pt not allowed by FreeType. Setting fontsize = 1 pt\n",
      "Fontsize 0.16 < 1.0 pt not allowed by FreeType. Setting fontsize = 1 pt\n",
      "Fontsize 0.16 < 1.0 pt not allowed by FreeType. Setting fontsize = 1 pt\n",
      "Fontsize 0.16 < 1.0 pt not allowed by FreeType. Setting fontsize = 1 pt\n",
      "Fontsize 0.16 < 1.0 pt not allowed by FreeType. Setting fontsize = 1 pt\n",
      "Fontsize 0.16 < 1.0 pt not allowed by FreeType. Setting fontsize = 1 pt\n",
      "Fontsize 0.16 < 1.0 pt not allowed by FreeType. Setting fontsize = 1 pt\n",
      "Fontsize 0.16 < 1.0 pt not allowed by FreeType. Setting fontsize = 1 pt\n",
      "Fontsize 0.16 < 1.0 pt not allowed by FreeType. Setting fontsize = 1 pt\n",
      "Fontsize 0.16 < 1.0 pt not allowed by FreeType. Setting fontsize = 1 pt\n",
      "Fontsize 0.16 < 1.0 pt not allowed by FreeType. Setting fontsize = 1 pt\n",
      "Fontsize 0.16 < 1.0 pt not allowed by FreeType. Setting fontsize = 1 pt\n",
      "Fontsize 0.16 < 1.0 pt not allowed by FreeType. Setting fontsize = 1 pt\n",
      "Fontsize 0.16 < 1.0 pt not allowed by FreeType. Setting fontsize = 1 pt\n",
      "Fontsize 0.16 < 1.0 pt not allowed by FreeType. Setting fontsize = 1 pt\n",
      "Fontsize 0.16 < 1.0 pt not allowed by FreeType. Setting fontsize = 1 pt\n",
      "Fontsize 0.16 < 1.0 pt not allowed by FreeType. Setting fontsize = 1 pt\n",
      "Fontsize 0.16 < 1.0 pt not allowed by FreeType. Setting fontsize = 1 pt\n",
      "Fontsize 0.16 < 1.0 pt not allowed by FreeType. Setting fontsize = 1 pt\n",
      "Fontsize 0.16 < 1.0 pt not allowed by FreeType. Setting fontsize = 1 pt\n",
      "Fontsize 0.16 < 1.0 pt not allowed by FreeType. Setting fontsize = 1 pt\n",
      "Fontsize 0.16 < 1.0 pt not allowed by FreeType. Setting fontsize = 1 pt\n",
      "Fontsize 0.16 < 1.0 pt not allowed by FreeType. Setting fontsize = 1 pt\n",
      "Fontsize 0.16 < 1.0 pt not allowed by FreeType. Setting fontsize = 1 pt\n",
      "Fontsize 0.16 < 1.0 pt not allowed by FreeType. Setting fontsize = 1 pt\n",
      "Fontsize 0.16 < 1.0 pt not allowed by FreeType. Setting fontsize = 1 pt\n",
      "Fontsize 0.16 < 1.0 pt not allowed by FreeType. Setting fontsize = 1 pt\n",
      "Fontsize 0.16 < 1.0 pt not allowed by FreeType. Setting fontsize = 1 pt\n",
      "Fontsize 0.16 < 1.0 pt not allowed by FreeType. Setting fontsize = 1 pt\n",
      "Fontsize 0.16 < 1.0 pt not allowed by FreeType. Setting fontsize = 1 pt\n",
      "Fontsize 0.16 < 1.0 pt not allowed by FreeType. Setting fontsize = 1 pt\n",
      "Fontsize 0.16 < 1.0 pt not allowed by FreeType. Setting fontsize = 1 pt\n"
     ]
    },
    {
     "name": "stderr",
     "output_type": "stream",
     "text": [
      "Fontsize 0.16 < 1.0 pt not allowed by FreeType. Setting fontsize = 1 pt\n",
      "Fontsize 0.16 < 1.0 pt not allowed by FreeType. Setting fontsize = 1 pt\n",
      "Fontsize 0.16 < 1.0 pt not allowed by FreeType. Setting fontsize = 1 pt\n",
      "Fontsize 0.16 < 1.0 pt not allowed by FreeType. Setting fontsize = 1 pt\n",
      "Fontsize 0.16 < 1.0 pt not allowed by FreeType. Setting fontsize = 1 pt\n",
      "Fontsize 0.16 < 1.0 pt not allowed by FreeType. Setting fontsize = 1 pt\n",
      "Fontsize 0.16 < 1.0 pt not allowed by FreeType. Setting fontsize = 1 pt\n",
      "Fontsize 0.16 < 1.0 pt not allowed by FreeType. Setting fontsize = 1 pt\n",
      "Fontsize 0.16 < 1.0 pt not allowed by FreeType. Setting fontsize = 1 pt\n",
      "Fontsize 0.16 < 1.0 pt not allowed by FreeType. Setting fontsize = 1 pt\n",
      "Fontsize 0.16 < 1.0 pt not allowed by FreeType. Setting fontsize = 1 pt\n",
      "Fontsize 0.16 < 1.0 pt not allowed by FreeType. Setting fontsize = 1 pt\n",
      "Fontsize 0.16 < 1.0 pt not allowed by FreeType. Setting fontsize = 1 pt\n",
      "Fontsize 0.16 < 1.0 pt not allowed by FreeType. Setting fontsize = 1 pt\n",
      "Fontsize 0.16 < 1.0 pt not allowed by FreeType. Setting fontsize = 1 pt\n",
      "Fontsize 0.16 < 1.0 pt not allowed by FreeType. Setting fontsize = 1 pt\n",
      "Fontsize 0.16 < 1.0 pt not allowed by FreeType. Setting fontsize = 1 pt\n",
      "Fontsize 0.16 < 1.0 pt not allowed by FreeType. Setting fontsize = 1 pt\n",
      "Fontsize 0.16 < 1.0 pt not allowed by FreeType. Setting fontsize = 1 pt\n",
      "Fontsize 0.16 < 1.0 pt not allowed by FreeType. Setting fontsize = 1 pt\n",
      "Fontsize 0.16 < 1.0 pt not allowed by FreeType. Setting fontsize = 1 pt\n",
      "Fontsize 0.16 < 1.0 pt not allowed by FreeType. Setting fontsize = 1 pt\n",
      "Fontsize 0.16 < 1.0 pt not allowed by FreeType. Setting fontsize = 1 pt\n",
      "Fontsize 0.16 < 1.0 pt not allowed by FreeType. Setting fontsize = 1 pt\n",
      "Fontsize 0.16 < 1.0 pt not allowed by FreeType. Setting fontsize = 1 pt\n",
      "Fontsize 0.16 < 1.0 pt not allowed by FreeType. Setting fontsize = 1 pt\n",
      "Fontsize 0.16 < 1.0 pt not allowed by FreeType. Setting fontsize = 1 pt\n",
      "Fontsize 0.16 < 1.0 pt not allowed by FreeType. Setting fontsize = 1 pt\n",
      "Fontsize 0.16 < 1.0 pt not allowed by FreeType. Setting fontsize = 1 pt\n",
      "Fontsize 0.16 < 1.0 pt not allowed by FreeType. Setting fontsize = 1 pt\n",
      "Fontsize 0.16 < 1.0 pt not allowed by FreeType. Setting fontsize = 1 pt\n",
      "Fontsize 0.16 < 1.0 pt not allowed by FreeType. Setting fontsize = 1 pt\n",
      "Fontsize 0.16 < 1.0 pt not allowed by FreeType. Setting fontsize = 1 pt\n",
      "Fontsize 0.16 < 1.0 pt not allowed by FreeType. Setting fontsize = 1 pt\n",
      "Fontsize 0.16 < 1.0 pt not allowed by FreeType. Setting fontsize = 1 pt\n",
      "Fontsize 0.16 < 1.0 pt not allowed by FreeType. Setting fontsize = 1 pt\n",
      "Fontsize 0.16 < 1.0 pt not allowed by FreeType. Setting fontsize = 1 pt\n",
      "Fontsize 0.16 < 1.0 pt not allowed by FreeType. Setting fontsize = 1 pt\n",
      "Fontsize 0.16 < 1.0 pt not allowed by FreeType. Setting fontsize = 1 pt\n",
      "Fontsize 0.16 < 1.0 pt not allowed by FreeType. Setting fontsize = 1 pt\n",
      "Fontsize 0.16 < 1.0 pt not allowed by FreeType. Setting fontsize = 1 pt\n",
      "Fontsize 0.16 < 1.0 pt not allowed by FreeType. Setting fontsize = 1 pt\n",
      "Fontsize 0.16 < 1.0 pt not allowed by FreeType. Setting fontsize = 1 pt\n",
      "Fontsize 0.16 < 1.0 pt not allowed by FreeType. Setting fontsize = 1 pt\n",
      "Fontsize 0.16 < 1.0 pt not allowed by FreeType. Setting fontsize = 1 pt\n",
      "Fontsize 0.16 < 1.0 pt not allowed by FreeType. Setting fontsize = 1 pt\n",
      "Fontsize 0.16 < 1.0 pt not allowed by FreeType. Setting fontsize = 1 pt\n",
      "Fontsize 0.16 < 1.0 pt not allowed by FreeType. Setting fontsize = 1 pt\n",
      "Fontsize 0.16 < 1.0 pt not allowed by FreeType. Setting fontsize = 1 pt\n",
      "Fontsize 0.16 < 1.0 pt not allowed by FreeType. Setting fontsize = 1 pt\n",
      "Fontsize 0.16 < 1.0 pt not allowed by FreeType. Setting fontsize = 1 pt\n",
      "Fontsize 0.16 < 1.0 pt not allowed by FreeType. Setting fontsize = 1 pt\n",
      "Fontsize 0.16 < 1.0 pt not allowed by FreeType. Setting fontsize = 1 pt\n",
      "Fontsize 0.16 < 1.0 pt not allowed by FreeType. Setting fontsize = 1 pt\n",
      "Fontsize 0.16 < 1.0 pt not allowed by FreeType. Setting fontsize = 1 pt\n",
      "Fontsize 0.16 < 1.0 pt not allowed by FreeType. Setting fontsize = 1 pt\n",
      "Fontsize 0.16 < 1.0 pt not allowed by FreeType. Setting fontsize = 1 pt\n",
      "Fontsize 0.16 < 1.0 pt not allowed by FreeType. Setting fontsize = 1 pt\n",
      "Fontsize 0.16 < 1.0 pt not allowed by FreeType. Setting fontsize = 1 pt\n",
      "Fontsize 0.16 < 1.0 pt not allowed by FreeType. Setting fontsize = 1 pt\n",
      "Fontsize 0.16 < 1.0 pt not allowed by FreeType. Setting fontsize = 1 pt\n",
      "Fontsize 0.16 < 1.0 pt not allowed by FreeType. Setting fontsize = 1 pt\n",
      "Fontsize 0.16 < 1.0 pt not allowed by FreeType. Setting fontsize = 1 pt\n",
      "Fontsize 0.16 < 1.0 pt not allowed by FreeType. Setting fontsize = 1 pt\n",
      "Fontsize 0.16 < 1.0 pt not allowed by FreeType. Setting fontsize = 1 pt\n",
      "Fontsize 0.16 < 1.0 pt not allowed by FreeType. Setting fontsize = 1 pt\n",
      "Fontsize 0.16 < 1.0 pt not allowed by FreeType. Setting fontsize = 1 pt\n",
      "Fontsize 0.16 < 1.0 pt not allowed by FreeType. Setting fontsize = 1 pt\n",
      "Fontsize 0.16 < 1.0 pt not allowed by FreeType. Setting fontsize = 1 pt\n",
      "Fontsize 0.16 < 1.0 pt not allowed by FreeType. Setting fontsize = 1 pt\n",
      "Fontsize 0.16 < 1.0 pt not allowed by FreeType. Setting fontsize = 1 pt\n",
      "Fontsize 0.16 < 1.0 pt not allowed by FreeType. Setting fontsize = 1 pt\n",
      "Fontsize 0.16 < 1.0 pt not allowed by FreeType. Setting fontsize = 1 pt\n",
      "Fontsize 0.16 < 1.0 pt not allowed by FreeType. Setting fontsize = 1 pt\n",
      "Fontsize 0.16 < 1.0 pt not allowed by FreeType. Setting fontsize = 1 pt\n",
      "Fontsize 0.16 < 1.0 pt not allowed by FreeType. Setting fontsize = 1 pt\n",
      "Fontsize 0.16 < 1.0 pt not allowed by FreeType. Setting fontsize = 1 pt\n",
      "Fontsize 0.16 < 1.0 pt not allowed by FreeType. Setting fontsize = 1 pt\n",
      "Fontsize 0.16 < 1.0 pt not allowed by FreeType. Setting fontsize = 1 pt\n",
      "Fontsize 0.16 < 1.0 pt not allowed by FreeType. Setting fontsize = 1 pt\n",
      "Fontsize 0.16 < 1.0 pt not allowed by FreeType. Setting fontsize = 1 pt\n",
      "Fontsize 0.16 < 1.0 pt not allowed by FreeType. Setting fontsize = 1 pt\n",
      "Fontsize 0.16 < 1.0 pt not allowed by FreeType. Setting fontsize = 1 pt\n",
      "Fontsize 0.16 < 1.0 pt not allowed by FreeType. Setting fontsize = 1 pt\n",
      "Fontsize 0.16 < 1.0 pt not allowed by FreeType. Setting fontsize = 1 pt\n",
      "Fontsize 0.16 < 1.0 pt not allowed by FreeType. Setting fontsize = 1 pt\n",
      "Fontsize 0.16 < 1.0 pt not allowed by FreeType. Setting fontsize = 1 pt\n",
      "Fontsize 0.16 < 1.0 pt not allowed by FreeType. Setting fontsize = 1 pt\n",
      "Fontsize 0.16 < 1.0 pt not allowed by FreeType. Setting fontsize = 1 pt\n",
      "Fontsize 0.16 < 1.0 pt not allowed by FreeType. Setting fontsize = 1 pt\n",
      "Fontsize 0.16 < 1.0 pt not allowed by FreeType. Setting fontsize = 1 pt\n",
      "Fontsize 0.16 < 1.0 pt not allowed by FreeType. Setting fontsize = 1 pt\n",
      "Fontsize 0.16 < 1.0 pt not allowed by FreeType. Setting fontsize = 1 pt\n",
      "Fontsize 0.16 < 1.0 pt not allowed by FreeType. Setting fontsize = 1 pt\n",
      "Fontsize 0.16 < 1.0 pt not allowed by FreeType. Setting fontsize = 1 pt\n",
      "Fontsize 0.16 < 1.0 pt not allowed by FreeType. Setting fontsize = 1 pt\n",
      "Fontsize 0.16 < 1.0 pt not allowed by FreeType. Setting fontsize = 1 pt\n",
      "Fontsize 0.16 < 1.0 pt not allowed by FreeType. Setting fontsize = 1 pt\n",
      "Fontsize 0.16 < 1.0 pt not allowed by FreeType. Setting fontsize = 1 pt\n",
      "Fontsize 0.16 < 1.0 pt not allowed by FreeType. Setting fontsize = 1 pt\n",
      "Fontsize 0.16 < 1.0 pt not allowed by FreeType. Setting fontsize = 1 pt\n",
      "Fontsize 0.16 < 1.0 pt not allowed by FreeType. Setting fontsize = 1 pt\n",
      "Fontsize 0.16 < 1.0 pt not allowed by FreeType. Setting fontsize = 1 pt\n",
      "Fontsize 0.16 < 1.0 pt not allowed by FreeType. Setting fontsize = 1 pt\n",
      "Fontsize 0.16 < 1.0 pt not allowed by FreeType. Setting fontsize = 1 pt\n",
      "Fontsize 0.16 < 1.0 pt not allowed by FreeType. Setting fontsize = 1 pt\n",
      "Fontsize 0.16 < 1.0 pt not allowed by FreeType. Setting fontsize = 1 pt\n",
      "Fontsize 0.16 < 1.0 pt not allowed by FreeType. Setting fontsize = 1 pt\n",
      "Fontsize 0.16 < 1.0 pt not allowed by FreeType. Setting fontsize = 1 pt\n",
      "Fontsize 0.16 < 1.0 pt not allowed by FreeType. Setting fontsize = 1 pt\n",
      "Fontsize 0.16 < 1.0 pt not allowed by FreeType. Setting fontsize = 1 pt\n",
      "Fontsize 0.16 < 1.0 pt not allowed by FreeType. Setting fontsize = 1 pt\n",
      "Fontsize 0.16 < 1.0 pt not allowed by FreeType. Setting fontsize = 1 pt\n",
      "Fontsize 0.16 < 1.0 pt not allowed by FreeType. Setting fontsize = 1 pt\n"
     ]
    },
    {
     "name": "stderr",
     "output_type": "stream",
     "text": [
      "Fontsize 0.16 < 1.0 pt not allowed by FreeType. Setting fontsize = 1 pt\n",
      "Fontsize 0.16 < 1.0 pt not allowed by FreeType. Setting fontsize = 1 pt\n",
      "Fontsize 0.16 < 1.0 pt not allowed by FreeType. Setting fontsize = 1 pt\n",
      "Fontsize 0.16 < 1.0 pt not allowed by FreeType. Setting fontsize = 1 pt\n",
      "Fontsize 0.16 < 1.0 pt not allowed by FreeType. Setting fontsize = 1 pt\n",
      "Fontsize 0.16 < 1.0 pt not allowed by FreeType. Setting fontsize = 1 pt\n",
      "Fontsize 0.16 < 1.0 pt not allowed by FreeType. Setting fontsize = 1 pt\n",
      "Fontsize 0.16 < 1.0 pt not allowed by FreeType. Setting fontsize = 1 pt\n",
      "Fontsize 0.16 < 1.0 pt not allowed by FreeType. Setting fontsize = 1 pt\n",
      "Fontsize 0.16 < 1.0 pt not allowed by FreeType. Setting fontsize = 1 pt\n",
      "Fontsize 0.16 < 1.0 pt not allowed by FreeType. Setting fontsize = 1 pt\n",
      "Fontsize 0.16 < 1.0 pt not allowed by FreeType. Setting fontsize = 1 pt\n",
      "Fontsize 0.16 < 1.0 pt not allowed by FreeType. Setting fontsize = 1 pt\n",
      "Fontsize 0.16 < 1.0 pt not allowed by FreeType. Setting fontsize = 1 pt\n",
      "Fontsize 0.16 < 1.0 pt not allowed by FreeType. Setting fontsize = 1 pt\n",
      "Fontsize 0.16 < 1.0 pt not allowed by FreeType. Setting fontsize = 1 pt\n",
      "Fontsize 0.16 < 1.0 pt not allowed by FreeType. Setting fontsize = 1 pt\n",
      "Fontsize 0.16 < 1.0 pt not allowed by FreeType. Setting fontsize = 1 pt\n",
      "Fontsize 0.16 < 1.0 pt not allowed by FreeType. Setting fontsize = 1 pt\n",
      "Fontsize 0.16 < 1.0 pt not allowed by FreeType. Setting fontsize = 1 pt\n",
      "Fontsize 0.16 < 1.0 pt not allowed by FreeType. Setting fontsize = 1 pt\n",
      "Fontsize 0.16 < 1.0 pt not allowed by FreeType. Setting fontsize = 1 pt\n",
      "Fontsize 0.16 < 1.0 pt not allowed by FreeType. Setting fontsize = 1 pt\n",
      "Fontsize 0.16 < 1.0 pt not allowed by FreeType. Setting fontsize = 1 pt\n",
      "Fontsize 0.16 < 1.0 pt not allowed by FreeType. Setting fontsize = 1 pt\n",
      "Fontsize 0.16 < 1.0 pt not allowed by FreeType. Setting fontsize = 1 pt\n",
      "Fontsize 0.16 < 1.0 pt not allowed by FreeType. Setting fontsize = 1 pt\n",
      "Fontsize 0.16 < 1.0 pt not allowed by FreeType. Setting fontsize = 1 pt\n",
      "Fontsize 0.16 < 1.0 pt not allowed by FreeType. Setting fontsize = 1 pt\n",
      "Fontsize 0.16 < 1.0 pt not allowed by FreeType. Setting fontsize = 1 pt\n",
      "Fontsize 0.16 < 1.0 pt not allowed by FreeType. Setting fontsize = 1 pt\n",
      "Fontsize 0.16 < 1.0 pt not allowed by FreeType. Setting fontsize = 1 pt\n",
      "Fontsize 0.16 < 1.0 pt not allowed by FreeType. Setting fontsize = 1 pt\n",
      "Fontsize 0.16 < 1.0 pt not allowed by FreeType. Setting fontsize = 1 pt\n",
      "Fontsize 0.16 < 1.0 pt not allowed by FreeType. Setting fontsize = 1 pt\n",
      "Fontsize 0.16 < 1.0 pt not allowed by FreeType. Setting fontsize = 1 pt\n",
      "Fontsize 0.16 < 1.0 pt not allowed by FreeType. Setting fontsize = 1 pt\n",
      "Fontsize 0.16 < 1.0 pt not allowed by FreeType. Setting fontsize = 1 pt\n",
      "Fontsize 0.16 < 1.0 pt not allowed by FreeType. Setting fontsize = 1 pt\n",
      "Fontsize 0.16 < 1.0 pt not allowed by FreeType. Setting fontsize = 1 pt\n",
      "Fontsize 0.16 < 1.0 pt not allowed by FreeType. Setting fontsize = 1 pt\n",
      "Fontsize 0.16 < 1.0 pt not allowed by FreeType. Setting fontsize = 1 pt\n",
      "Fontsize 0.16 < 1.0 pt not allowed by FreeType. Setting fontsize = 1 pt\n",
      "Fontsize 0.16 < 1.0 pt not allowed by FreeType. Setting fontsize = 1 pt\n",
      "Fontsize 0.16 < 1.0 pt not allowed by FreeType. Setting fontsize = 1 pt\n",
      "Fontsize 0.16 < 1.0 pt not allowed by FreeType. Setting fontsize = 1 pt\n",
      "Fontsize 0.16 < 1.0 pt not allowed by FreeType. Setting fontsize = 1 pt\n",
      "Fontsize 0.16 < 1.0 pt not allowed by FreeType. Setting fontsize = 1 pt\n",
      "Fontsize 0.16 < 1.0 pt not allowed by FreeType. Setting fontsize = 1 pt\n",
      "Fontsize 0.16 < 1.0 pt not allowed by FreeType. Setting fontsize = 1 pt\n",
      "Fontsize 0.16 < 1.0 pt not allowed by FreeType. Setting fontsize = 1 pt\n",
      "Fontsize 0.16 < 1.0 pt not allowed by FreeType. Setting fontsize = 1 pt\n",
      "Fontsize 0.16 < 1.0 pt not allowed by FreeType. Setting fontsize = 1 pt\n",
      "Fontsize 0.16 < 1.0 pt not allowed by FreeType. Setting fontsize = 1 pt\n",
      "Fontsize 0.16 < 1.0 pt not allowed by FreeType. Setting fontsize = 1 pt\n",
      "Fontsize 0.16 < 1.0 pt not allowed by FreeType. Setting fontsize = 1 pt\n",
      "Fontsize 0.16 < 1.0 pt not allowed by FreeType. Setting fontsize = 1 pt\n",
      "Fontsize 0.16 < 1.0 pt not allowed by FreeType. Setting fontsize = 1 pt\n",
      "Fontsize 0.16 < 1.0 pt not allowed by FreeType. Setting fontsize = 1 pt\n",
      "Fontsize 0.16 < 1.0 pt not allowed by FreeType. Setting fontsize = 1 pt\n",
      "Fontsize 0.16 < 1.0 pt not allowed by FreeType. Setting fontsize = 1 pt\n",
      "Fontsize 0.16 < 1.0 pt not allowed by FreeType. Setting fontsize = 1 pt\n",
      "Fontsize 0.16 < 1.0 pt not allowed by FreeType. Setting fontsize = 1 pt\n",
      "Fontsize 0.16 < 1.0 pt not allowed by FreeType. Setting fontsize = 1 pt\n",
      "Fontsize 0.16 < 1.0 pt not allowed by FreeType. Setting fontsize = 1 pt\n",
      "Fontsize 0.16 < 1.0 pt not allowed by FreeType. Setting fontsize = 1 pt\n",
      "Fontsize 0.16 < 1.0 pt not allowed by FreeType. Setting fontsize = 1 pt\n",
      "Fontsize 0.16 < 1.0 pt not allowed by FreeType. Setting fontsize = 1 pt\n",
      "Fontsize 0.16 < 1.0 pt not allowed by FreeType. Setting fontsize = 1 pt\n",
      "Fontsize 0.16 < 1.0 pt not allowed by FreeType. Setting fontsize = 1 pt\n",
      "Fontsize 0.16 < 1.0 pt not allowed by FreeType. Setting fontsize = 1 pt\n",
      "Fontsize 0.16 < 1.0 pt not allowed by FreeType. Setting fontsize = 1 pt\n",
      "Fontsize 0.16 < 1.0 pt not allowed by FreeType. Setting fontsize = 1 pt\n",
      "Fontsize 0.16 < 1.0 pt not allowed by FreeType. Setting fontsize = 1 pt\n",
      "Fontsize 0.16 < 1.0 pt not allowed by FreeType. Setting fontsize = 1 pt\n",
      "Fontsize 0.16 < 1.0 pt not allowed by FreeType. Setting fontsize = 1 pt\n",
      "Fontsize 0.16 < 1.0 pt not allowed by FreeType. Setting fontsize = 1 pt\n",
      "Fontsize 0.16 < 1.0 pt not allowed by FreeType. Setting fontsize = 1 pt\n",
      "Fontsize 0.16 < 1.0 pt not allowed by FreeType. Setting fontsize = 1 pt\n",
      "Fontsize 0.16 < 1.0 pt not allowed by FreeType. Setting fontsize = 1 pt\n",
      "Fontsize 0.16 < 1.0 pt not allowed by FreeType. Setting fontsize = 1 pt\n",
      "Fontsize 0.16 < 1.0 pt not allowed by FreeType. Setting fontsize = 1 pt\n",
      "Fontsize 0.16 < 1.0 pt not allowed by FreeType. Setting fontsize = 1 pt\n",
      "Fontsize 0.16 < 1.0 pt not allowed by FreeType. Setting fontsize = 1 pt\n",
      "Fontsize 0.16 < 1.0 pt not allowed by FreeType. Setting fontsize = 1 pt\n",
      "Fontsize 0.16 < 1.0 pt not allowed by FreeType. Setting fontsize = 1 pt\n",
      "Fontsize 0.16 < 1.0 pt not allowed by FreeType. Setting fontsize = 1 pt\n",
      "Fontsize 0.16 < 1.0 pt not allowed by FreeType. Setting fontsize = 1 pt\n",
      "Fontsize 0.16 < 1.0 pt not allowed by FreeType. Setting fontsize = 1 pt\n",
      "Fontsize 0.16 < 1.0 pt not allowed by FreeType. Setting fontsize = 1 pt\n",
      "Fontsize 0.16 < 1.0 pt not allowed by FreeType. Setting fontsize = 1 pt\n",
      "Fontsize 0.16 < 1.0 pt not allowed by FreeType. Setting fontsize = 1 pt\n",
      "Fontsize 0.16 < 1.0 pt not allowed by FreeType. Setting fontsize = 1 pt\n",
      "Fontsize 0.16 < 1.0 pt not allowed by FreeType. Setting fontsize = 1 pt\n",
      "Fontsize 0.16 < 1.0 pt not allowed by FreeType. Setting fontsize = 1 pt\n",
      "Fontsize 0.16 < 1.0 pt not allowed by FreeType. Setting fontsize = 1 pt\n",
      "Fontsize 0.16 < 1.0 pt not allowed by FreeType. Setting fontsize = 1 pt\n",
      "Fontsize 0.16 < 1.0 pt not allowed by FreeType. Setting fontsize = 1 pt\n",
      "Fontsize 0.16 < 1.0 pt not allowed by FreeType. Setting fontsize = 1 pt\n",
      "Fontsize 0.16 < 1.0 pt not allowed by FreeType. Setting fontsize = 1 pt\n",
      "Fontsize 0.16 < 1.0 pt not allowed by FreeType. Setting fontsize = 1 pt\n",
      "Fontsize 0.16 < 1.0 pt not allowed by FreeType. Setting fontsize = 1 pt\n",
      "Fontsize 0.16 < 1.0 pt not allowed by FreeType. Setting fontsize = 1 pt\n",
      "Fontsize 0.16 < 1.0 pt not allowed by FreeType. Setting fontsize = 1 pt\n",
      "Fontsize 0.16 < 1.0 pt not allowed by FreeType. Setting fontsize = 1 pt\n",
      "Fontsize 0.16 < 1.0 pt not allowed by FreeType. Setting fontsize = 1 pt\n",
      "Fontsize 0.16 < 1.0 pt not allowed by FreeType. Setting fontsize = 1 pt\n",
      "Fontsize 0.16 < 1.0 pt not allowed by FreeType. Setting fontsize = 1 pt\n",
      "Fontsize 0.16 < 1.0 pt not allowed by FreeType. Setting fontsize = 1 pt\n",
      "Fontsize 0.16 < 1.0 pt not allowed by FreeType. Setting fontsize = 1 pt\n",
      "Fontsize 0.16 < 1.0 pt not allowed by FreeType. Setting fontsize = 1 pt\n",
      "Fontsize 0.16 < 1.0 pt not allowed by FreeType. Setting fontsize = 1 pt\n",
      "Fontsize 0.16 < 1.0 pt not allowed by FreeType. Setting fontsize = 1 pt\n",
      "Fontsize 0.16 < 1.0 pt not allowed by FreeType. Setting fontsize = 1 pt\n"
     ]
    },
    {
     "name": "stderr",
     "output_type": "stream",
     "text": [
      "Fontsize 0.16 < 1.0 pt not allowed by FreeType. Setting fontsize = 1 pt\n",
      "Fontsize 0.16 < 1.0 pt not allowed by FreeType. Setting fontsize = 1 pt\n",
      "Fontsize 0.16 < 1.0 pt not allowed by FreeType. Setting fontsize = 1 pt\n",
      "Fontsize 0.16 < 1.0 pt not allowed by FreeType. Setting fontsize = 1 pt\n",
      "Fontsize 0.16 < 1.0 pt not allowed by FreeType. Setting fontsize = 1 pt\n",
      "Fontsize 0.16 < 1.0 pt not allowed by FreeType. Setting fontsize = 1 pt\n",
      "Fontsize 0.16 < 1.0 pt not allowed by FreeType. Setting fontsize = 1 pt\n",
      "Fontsize 0.16 < 1.0 pt not allowed by FreeType. Setting fontsize = 1 pt\n",
      "Fontsize 0.16 < 1.0 pt not allowed by FreeType. Setting fontsize = 1 pt\n",
      "Fontsize 0.16 < 1.0 pt not allowed by FreeType. Setting fontsize = 1 pt\n",
      "Fontsize 0.16 < 1.0 pt not allowed by FreeType. Setting fontsize = 1 pt\n",
      "Fontsize 0.16 < 1.0 pt not allowed by FreeType. Setting fontsize = 1 pt\n",
      "Fontsize 0.16 < 1.0 pt not allowed by FreeType. Setting fontsize = 1 pt\n",
      "Fontsize 0.16 < 1.0 pt not allowed by FreeType. Setting fontsize = 1 pt\n",
      "Fontsize 0.16 < 1.0 pt not allowed by FreeType. Setting fontsize = 1 pt\n",
      "Fontsize 0.16 < 1.0 pt not allowed by FreeType. Setting fontsize = 1 pt\n",
      "Fontsize 0.16 < 1.0 pt not allowed by FreeType. Setting fontsize = 1 pt\n",
      "Fontsize 0.16 < 1.0 pt not allowed by FreeType. Setting fontsize = 1 pt\n",
      "Fontsize 0.16 < 1.0 pt not allowed by FreeType. Setting fontsize = 1 pt\n",
      "Fontsize 0.16 < 1.0 pt not allowed by FreeType. Setting fontsize = 1 pt\n",
      "Fontsize 0.16 < 1.0 pt not allowed by FreeType. Setting fontsize = 1 pt\n",
      "Fontsize 0.16 < 1.0 pt not allowed by FreeType. Setting fontsize = 1 pt\n",
      "Fontsize 0.16 < 1.0 pt not allowed by FreeType. Setting fontsize = 1 pt\n",
      "Fontsize 0.16 < 1.0 pt not allowed by FreeType. Setting fontsize = 1 pt\n",
      "Fontsize 0.16 < 1.0 pt not allowed by FreeType. Setting fontsize = 1 pt\n",
      "Fontsize 0.16 < 1.0 pt not allowed by FreeType. Setting fontsize = 1 pt\n",
      "Fontsize 0.16 < 1.0 pt not allowed by FreeType. Setting fontsize = 1 pt\n",
      "Fontsize 0.16 < 1.0 pt not allowed by FreeType. Setting fontsize = 1 pt\n",
      "Fontsize 0.16 < 1.0 pt not allowed by FreeType. Setting fontsize = 1 pt\n",
      "Fontsize 0.16 < 1.0 pt not allowed by FreeType. Setting fontsize = 1 pt\n",
      "Fontsize 0.16 < 1.0 pt not allowed by FreeType. Setting fontsize = 1 pt\n",
      "Fontsize 0.16 < 1.0 pt not allowed by FreeType. Setting fontsize = 1 pt\n",
      "Fontsize 0.16 < 1.0 pt not allowed by FreeType. Setting fontsize = 1 pt\n",
      "Fontsize 0.16 < 1.0 pt not allowed by FreeType. Setting fontsize = 1 pt\n",
      "Fontsize 0.16 < 1.0 pt not allowed by FreeType. Setting fontsize = 1 pt\n",
      "Fontsize 0.16 < 1.0 pt not allowed by FreeType. Setting fontsize = 1 pt\n",
      "Fontsize 0.16 < 1.0 pt not allowed by FreeType. Setting fontsize = 1 pt\n",
      "Fontsize 0.16 < 1.0 pt not allowed by FreeType. Setting fontsize = 1 pt\n",
      "Fontsize 0.16 < 1.0 pt not allowed by FreeType. Setting fontsize = 1 pt\n",
      "Fontsize 0.16 < 1.0 pt not allowed by FreeType. Setting fontsize = 1 pt\n",
      "Fontsize 0.16 < 1.0 pt not allowed by FreeType. Setting fontsize = 1 pt\n",
      "Fontsize 0.16 < 1.0 pt not allowed by FreeType. Setting fontsize = 1 pt\n",
      "Fontsize 0.16 < 1.0 pt not allowed by FreeType. Setting fontsize = 1 pt\n",
      "Fontsize 0.16 < 1.0 pt not allowed by FreeType. Setting fontsize = 1 pt\n",
      "Fontsize 0.16 < 1.0 pt not allowed by FreeType. Setting fontsize = 1 pt\n",
      "Fontsize 0.16 < 1.0 pt not allowed by FreeType. Setting fontsize = 1 pt\n",
      "Fontsize 0.16 < 1.0 pt not allowed by FreeType. Setting fontsize = 1 pt\n",
      "Fontsize 0.16 < 1.0 pt not allowed by FreeType. Setting fontsize = 1 pt\n",
      "Fontsize 0.16 < 1.0 pt not allowed by FreeType. Setting fontsize = 1 pt\n",
      "Fontsize 0.16 < 1.0 pt not allowed by FreeType. Setting fontsize = 1 pt\n",
      "Fontsize 0.16 < 1.0 pt not allowed by FreeType. Setting fontsize = 1 pt\n",
      "Fontsize 0.16 < 1.0 pt not allowed by FreeType. Setting fontsize = 1 pt\n",
      "Fontsize 0.16 < 1.0 pt not allowed by FreeType. Setting fontsize = 1 pt\n",
      "Fontsize 0.16 < 1.0 pt not allowed by FreeType. Setting fontsize = 1 pt\n",
      "Fontsize 0.16 < 1.0 pt not allowed by FreeType. Setting fontsize = 1 pt\n",
      "Fontsize 0.16 < 1.0 pt not allowed by FreeType. Setting fontsize = 1 pt\n",
      "Fontsize 0.16 < 1.0 pt not allowed by FreeType. Setting fontsize = 1 pt\n",
      "Fontsize 0.16 < 1.0 pt not allowed by FreeType. Setting fontsize = 1 pt\n",
      "Fontsize 0.16 < 1.0 pt not allowed by FreeType. Setting fontsize = 1 pt\n",
      "Fontsize 0.16 < 1.0 pt not allowed by FreeType. Setting fontsize = 1 pt\n",
      "Fontsize 0.16 < 1.0 pt not allowed by FreeType. Setting fontsize = 1 pt\n",
      "Fontsize 0.16 < 1.0 pt not allowed by FreeType. Setting fontsize = 1 pt\n",
      "Fontsize 0.16 < 1.0 pt not allowed by FreeType. Setting fontsize = 1 pt\n",
      "Fontsize 0.16 < 1.0 pt not allowed by FreeType. Setting fontsize = 1 pt\n",
      "Fontsize 0.16 < 1.0 pt not allowed by FreeType. Setting fontsize = 1 pt\n",
      "Fontsize 0.16 < 1.0 pt not allowed by FreeType. Setting fontsize = 1 pt\n",
      "Fontsize 0.16 < 1.0 pt not allowed by FreeType. Setting fontsize = 1 pt\n",
      "Fontsize 0.16 < 1.0 pt not allowed by FreeType. Setting fontsize = 1 pt\n",
      "Fontsize 0.16 < 1.0 pt not allowed by FreeType. Setting fontsize = 1 pt\n",
      "Fontsize 0.16 < 1.0 pt not allowed by FreeType. Setting fontsize = 1 pt\n",
      "Fontsize 0.16 < 1.0 pt not allowed by FreeType. Setting fontsize = 1 pt\n",
      "Fontsize 0.16 < 1.0 pt not allowed by FreeType. Setting fontsize = 1 pt\n",
      "Fontsize 0.16 < 1.0 pt not allowed by FreeType. Setting fontsize = 1 pt\n",
      "Fontsize 0.16 < 1.0 pt not allowed by FreeType. Setting fontsize = 1 pt\n",
      "Fontsize 0.16 < 1.0 pt not allowed by FreeType. Setting fontsize = 1 pt\n",
      "Fontsize 0.16 < 1.0 pt not allowed by FreeType. Setting fontsize = 1 pt\n",
      "Fontsize 0.16 < 1.0 pt not allowed by FreeType. Setting fontsize = 1 pt\n",
      "Fontsize 0.16 < 1.0 pt not allowed by FreeType. Setting fontsize = 1 pt\n",
      "Fontsize 0.16 < 1.0 pt not allowed by FreeType. Setting fontsize = 1 pt\n",
      "Fontsize 0.16 < 1.0 pt not allowed by FreeType. Setting fontsize = 1 pt\n",
      "Fontsize 0.16 < 1.0 pt not allowed by FreeType. Setting fontsize = 1 pt\n",
      "Fontsize 0.16 < 1.0 pt not allowed by FreeType. Setting fontsize = 1 pt\n",
      "Fontsize 0.16 < 1.0 pt not allowed by FreeType. Setting fontsize = 1 pt\n",
      "Fontsize 0.16 < 1.0 pt not allowed by FreeType. Setting fontsize = 1 pt\n",
      "Fontsize 0.16 < 1.0 pt not allowed by FreeType. Setting fontsize = 1 pt\n",
      "Fontsize 0.16 < 1.0 pt not allowed by FreeType. Setting fontsize = 1 pt\n",
      "Fontsize 0.16 < 1.0 pt not allowed by FreeType. Setting fontsize = 1 pt\n",
      "Fontsize 0.16 < 1.0 pt not allowed by FreeType. Setting fontsize = 1 pt\n",
      "Fontsize 0.16 < 1.0 pt not allowed by FreeType. Setting fontsize = 1 pt\n",
      "Fontsize 0.16 < 1.0 pt not allowed by FreeType. Setting fontsize = 1 pt\n",
      "Fontsize 0.16 < 1.0 pt not allowed by FreeType. Setting fontsize = 1 pt\n",
      "Fontsize 0.16 < 1.0 pt not allowed by FreeType. Setting fontsize = 1 pt\n",
      "Fontsize 0.16 < 1.0 pt not allowed by FreeType. Setting fontsize = 1 pt\n",
      "Fontsize 0.16 < 1.0 pt not allowed by FreeType. Setting fontsize = 1 pt\n",
      "Fontsize 0.16 < 1.0 pt not allowed by FreeType. Setting fontsize = 1 pt\n",
      "Fontsize 0.16 < 1.0 pt not allowed by FreeType. Setting fontsize = 1 pt\n",
      "Fontsize 0.16 < 1.0 pt not allowed by FreeType. Setting fontsize = 1 pt\n",
      "Fontsize 0.16 < 1.0 pt not allowed by FreeType. Setting fontsize = 1 pt\n",
      "Fontsize 0.16 < 1.0 pt not allowed by FreeType. Setting fontsize = 1 pt\n",
      "Fontsize 0.16 < 1.0 pt not allowed by FreeType. Setting fontsize = 1 pt\n",
      "Fontsize 0.16 < 1.0 pt not allowed by FreeType. Setting fontsize = 1 pt\n",
      "Fontsize 0.16 < 1.0 pt not allowed by FreeType. Setting fontsize = 1 pt\n",
      "Fontsize 0.16 < 1.0 pt not allowed by FreeType. Setting fontsize = 1 pt\n",
      "Fontsize 0.16 < 1.0 pt not allowed by FreeType. Setting fontsize = 1 pt\n",
      "Fontsize 0.16 < 1.0 pt not allowed by FreeType. Setting fontsize = 1 pt\n",
      "Fontsize 0.16 < 1.0 pt not allowed by FreeType. Setting fontsize = 1 pt\n",
      "Fontsize 0.16 < 1.0 pt not allowed by FreeType. Setting fontsize = 1 pt\n",
      "Fontsize 0.16 < 1.0 pt not allowed by FreeType. Setting fontsize = 1 pt\n",
      "Fontsize 0.16 < 1.0 pt not allowed by FreeType. Setting fontsize = 1 pt\n",
      "Fontsize 0.16 < 1.0 pt not allowed by FreeType. Setting fontsize = 1 pt\n",
      "Fontsize 0.16 < 1.0 pt not allowed by FreeType. Setting fontsize = 1 pt\n",
      "Fontsize 0.16 < 1.0 pt not allowed by FreeType. Setting fontsize = 1 pt\n",
      "Fontsize 0.16 < 1.0 pt not allowed by FreeType. Setting fontsize = 1 pt\n",
      "Fontsize 0.16 < 1.0 pt not allowed by FreeType. Setting fontsize = 1 pt\n"
     ]
    },
    {
     "name": "stderr",
     "output_type": "stream",
     "text": [
      "Fontsize 0.16 < 1.0 pt not allowed by FreeType. Setting fontsize = 1 pt\n",
      "Fontsize 0.16 < 1.0 pt not allowed by FreeType. Setting fontsize = 1 pt\n",
      "Fontsize 0.16 < 1.0 pt not allowed by FreeType. Setting fontsize = 1 pt\n",
      "Fontsize 0.16 < 1.0 pt not allowed by FreeType. Setting fontsize = 1 pt\n",
      "Fontsize 0.16 < 1.0 pt not allowed by FreeType. Setting fontsize = 1 pt\n",
      "Fontsize 0.16 < 1.0 pt not allowed by FreeType. Setting fontsize = 1 pt\n",
      "Fontsize 0.16 < 1.0 pt not allowed by FreeType. Setting fontsize = 1 pt\n",
      "Fontsize 0.16 < 1.0 pt not allowed by FreeType. Setting fontsize = 1 pt\n",
      "Fontsize 0.16 < 1.0 pt not allowed by FreeType. Setting fontsize = 1 pt\n",
      "Fontsize 0.16 < 1.0 pt not allowed by FreeType. Setting fontsize = 1 pt\n",
      "Fontsize 0.16 < 1.0 pt not allowed by FreeType. Setting fontsize = 1 pt\n",
      "Fontsize 0.16 < 1.0 pt not allowed by FreeType. Setting fontsize = 1 pt\n",
      "Fontsize 0.16 < 1.0 pt not allowed by FreeType. Setting fontsize = 1 pt\n",
      "Fontsize 0.16 < 1.0 pt not allowed by FreeType. Setting fontsize = 1 pt\n",
      "Fontsize 0.16 < 1.0 pt not allowed by FreeType. Setting fontsize = 1 pt\n",
      "Fontsize 0.16 < 1.0 pt not allowed by FreeType. Setting fontsize = 1 pt\n",
      "Fontsize 0.16 < 1.0 pt not allowed by FreeType. Setting fontsize = 1 pt\n",
      "Fontsize 0.16 < 1.0 pt not allowed by FreeType. Setting fontsize = 1 pt\n",
      "Fontsize 0.16 < 1.0 pt not allowed by FreeType. Setting fontsize = 1 pt\n",
      "Fontsize 0.16 < 1.0 pt not allowed by FreeType. Setting fontsize = 1 pt\n",
      "Fontsize 0.16 < 1.0 pt not allowed by FreeType. Setting fontsize = 1 pt\n",
      "Fontsize 0.16 < 1.0 pt not allowed by FreeType. Setting fontsize = 1 pt\n",
      "Fontsize 0.16 < 1.0 pt not allowed by FreeType. Setting fontsize = 1 pt\n",
      "Fontsize 0.16 < 1.0 pt not allowed by FreeType. Setting fontsize = 1 pt\n",
      "Fontsize 0.16 < 1.0 pt not allowed by FreeType. Setting fontsize = 1 pt\n",
      "Fontsize 0.16 < 1.0 pt not allowed by FreeType. Setting fontsize = 1 pt\n",
      "Fontsize 0.16 < 1.0 pt not allowed by FreeType. Setting fontsize = 1 pt\n",
      "Fontsize 0.16 < 1.0 pt not allowed by FreeType. Setting fontsize = 1 pt\n",
      "Fontsize 0.16 < 1.0 pt not allowed by FreeType. Setting fontsize = 1 pt\n",
      "Fontsize 0.16 < 1.0 pt not allowed by FreeType. Setting fontsize = 1 pt\n",
      "Fontsize 0.16 < 1.0 pt not allowed by FreeType. Setting fontsize = 1 pt\n",
      "Fontsize 0.16 < 1.0 pt not allowed by FreeType. Setting fontsize = 1 pt\n",
      "Fontsize 0.16 < 1.0 pt not allowed by FreeType. Setting fontsize = 1 pt\n",
      "Fontsize 0.16 < 1.0 pt not allowed by FreeType. Setting fontsize = 1 pt\n",
      "Fontsize 0.16 < 1.0 pt not allowed by FreeType. Setting fontsize = 1 pt\n",
      "Fontsize 0.16 < 1.0 pt not allowed by FreeType. Setting fontsize = 1 pt\n",
      "Fontsize 0.16 < 1.0 pt not allowed by FreeType. Setting fontsize = 1 pt\n",
      "Fontsize 0.16 < 1.0 pt not allowed by FreeType. Setting fontsize = 1 pt\n",
      "Fontsize 0.16 < 1.0 pt not allowed by FreeType. Setting fontsize = 1 pt\n",
      "Fontsize 0.16 < 1.0 pt not allowed by FreeType. Setting fontsize = 1 pt\n",
      "Fontsize 0.16 < 1.0 pt not allowed by FreeType. Setting fontsize = 1 pt\n",
      "Fontsize 0.16 < 1.0 pt not allowed by FreeType. Setting fontsize = 1 pt\n",
      "Fontsize 0.16 < 1.0 pt not allowed by FreeType. Setting fontsize = 1 pt\n",
      "Fontsize 0.16 < 1.0 pt not allowed by FreeType. Setting fontsize = 1 pt\n",
      "Fontsize 0.16 < 1.0 pt not allowed by FreeType. Setting fontsize = 1 pt\n",
      "Fontsize 0.16 < 1.0 pt not allowed by FreeType. Setting fontsize = 1 pt\n",
      "Fontsize 0.16 < 1.0 pt not allowed by FreeType. Setting fontsize = 1 pt\n",
      "Fontsize 0.16 < 1.0 pt not allowed by FreeType. Setting fontsize = 1 pt\n",
      "Fontsize 0.16 < 1.0 pt not allowed by FreeType. Setting fontsize = 1 pt\n"
     ]
    },
    {
     "data": {
      "image/png": "[encoded data removed]",
      "text/plain": [
       "<Figure size 1440x1440 with 1 Axes>"
      ]
     },
     "metadata": {
      "needs_background": "light"
     },
     "output_type": "display_data"
    }
   ],
   "source": [
    "# Printing the Decision tree structure of the model\n",
    "plt.figure(figsize=(20,20))\n",
    "tree.plot_tree(dt_model,filled=True, class_names=[str(i) for i in set(y)] ,feature_names=xdt.columns)\n",
    "plt.savefig('dt_model')"
   ]
  },
  {
   "cell_type": "code",
   "execution_count": 33,
   "id": "38fe5486",
   "metadata": {},
   "outputs": [
    {
     "data": {
      "text/plain": [
       "0.9888193797417809"
      ]
     },
     "execution_count": 33,
     "metadata": {},
     "output_type": "execute_result"
    }
   ],
   "source": [
    "dt_model.score(xdt_test, ydt_test)"
   ]
  },
  {
   "cell_type": "code",
   "execution_count": 34,
   "id": "5c7057af",
   "metadata": {},
   "outputs": [],
   "source": [
    "#Cost Complexity Pruning Path\n",
    "path = dt_model.cost_complexity_pruning_path(xdt_train,ydt_train)\n",
    "ccp_alpha = path.ccp_alphas"
   ]
  },
  {
   "cell_type": "code",
   "execution_count": 35,
   "id": "2dc7e63a",
   "metadata": {},
   "outputs": [
    {
     "data": {
      "text/plain": [
       "{'ccp_alphas': array([0.00000000e+00, 8.30171342e-06, 9.47440301e-06, 9.49892391e-06,\n",
       "        1.05640517e-05, 1.09463036e-05, 1.10042205e-05, 1.10112889e-05,\n",
       "        1.10540051e-05, 1.10555250e-05, 1.10665778e-05, 1.10714823e-05,\n",
       "        1.10799841e-05, 1.10800516e-05, 1.10822302e-05, 1.10874875e-05,\n",
       "        1.11443034e-05, 1.32848611e-05, 1.32875561e-05, 1.33163435e-05,\n",
       "        1.38653178e-05, 1.42094206e-05, 1.45585837e-05, 1.45585837e-05,\n",
       "        1.47896724e-05, 1.51258013e-05, 1.52518496e-05, 1.52518496e-05,\n",
       "        1.57140269e-05, 1.57626771e-05, 1.57626771e-05, 1.58064623e-05,\n",
       "        1.58460775e-05, 1.58460775e-05, 1.58460775e-05, 1.59149735e-05,\n",
       "        1.59451155e-05, 1.59984437e-05, 1.60221451e-05, 1.60441535e-05,\n",
       "        1.60743685e-05, 1.60837687e-05, 1.61016594e-05, 1.61016594e-05,\n",
       "        1.61629991e-05, 1.61762042e-05, 1.61762042e-05, 1.62325672e-05,\n",
       "        1.62602364e-05, 1.62843733e-05, 1.63184125e-05, 1.63824063e-05,\n",
       "        1.63824063e-05, 1.63960749e-05, 1.64202707e-05, 1.64379190e-05,\n",
       "        1.64585070e-05, 1.64668517e-05, 1.64703170e-05, 1.64712913e-05,\n",
       "        1.64799206e-05, 1.64936998e-05, 1.65028756e-05, 1.65190546e-05,\n",
       "        1.65238996e-05, 1.65330752e-05, 1.65506111e-05, 1.65543492e-05,\n",
       "        1.65560132e-05, 1.65572186e-05, 1.65727533e-05, 1.65795886e-05,\n",
       "        1.65948254e-05, 1.66012422e-05, 1.66170656e-05, 1.66383814e-05,\n",
       "        1.66383814e-05, 1.66383814e-05, 1.68674949e-05, 1.70101548e-05,\n",
       "        1.89248563e-05, 1.90152930e-05, 1.91996838e-05, 2.15122507e-05,\n",
       "        2.16625201e-05, 2.19047572e-05, 2.21845086e-05, 2.21845086e-05,\n",
       "        2.21845086e-05, 2.21845086e-05, 2.21845086e-05, 2.21845086e-05,\n",
       "        2.21845086e-05, 2.21845086e-05, 2.21845086e-05, 2.21845086e-05,\n",
       "        2.21845086e-05, 2.21845086e-05, 2.21845086e-05, 2.21845086e-05,\n",
       "        2.21845086e-05, 2.21845086e-05, 2.21845086e-05, 2.21948928e-05,\n",
       "        2.26466858e-05, 2.26887019e-05, 2.33850113e-05, 2.41347950e-05,\n",
       "        2.43860247e-05, 2.45614202e-05, 2.49575721e-05, 2.49575721e-05,\n",
       "        2.49575721e-05, 2.49575721e-05, 2.53537241e-05, 2.54052131e-05,\n",
       "        2.58108225e-05, 2.63842485e-05, 2.65723536e-05, 2.66214103e-05,\n",
       "        2.66214103e-05, 2.66214103e-05, 2.66214103e-05, 2.66214103e-05,\n",
       "        2.66214103e-05, 2.68773854e-05, 2.70373698e-05, 2.70373698e-05,\n",
       "        2.72998532e-05, 2.75583957e-05, 2.77306357e-05, 2.77306357e-05,\n",
       "        2.77306357e-05, 2.77306357e-05, 2.77306357e-05, 2.77306357e-05,\n",
       "        2.77306357e-05, 2.83728188e-05, 2.85229396e-05, 2.85229396e-05,\n",
       "        2.85229396e-05, 2.85229396e-05, 2.85229396e-05, 2.85229396e-05,\n",
       "        2.87390224e-05, 2.88110501e-05, 2.91171675e-05, 2.91171675e-05,\n",
       "        2.91171675e-05, 2.91171675e-05, 2.91171675e-05, 2.95793447e-05,\n",
       "        2.95793447e-05, 2.95793447e-05, 2.96024407e-05, 2.97554123e-05,\n",
       "        2.98753203e-05, 3.01867777e-05, 3.05036993e-05, 3.05036993e-05,\n",
       "        3.05036993e-05, 3.05036993e-05, 3.05186020e-05, 3.05301094e-05,\n",
       "        3.06036295e-05, 3.07170118e-05, 3.08998512e-05, 3.08998512e-05,\n",
       "        3.10583120e-05, 3.10583120e-05, 3.10583120e-05, 3.11969652e-05,\n",
       "        3.11969652e-05, 3.11969652e-05, 3.12117155e-05, 3.12414205e-05,\n",
       "        3.13193062e-05, 3.13935175e-05, 3.14280538e-05, 3.14381485e-05,\n",
       "        3.15253543e-05, 3.16129247e-05, 3.16129247e-05, 3.18447862e-05,\n",
       "        3.19456923e-05, 3.19456923e-05, 3.20038770e-05, 3.20442901e-05,\n",
       "        3.21675374e-05, 3.22571639e-05, 3.22956713e-05, 3.23259982e-05,\n",
       "        3.24186514e-05, 3.25204728e-05, 3.25289704e-05, 3.26011458e-05,\n",
       "        3.26067367e-05, 3.26368251e-05, 3.26717308e-05, 3.26929600e-05,\n",
       "        3.27857995e-05, 3.27996766e-05, 3.28103881e-05, 3.29337034e-05,\n",
       "        3.29406339e-05, 3.29686447e-05, 3.30914392e-05, 3.31342434e-05,\n",
       "        3.31901299e-05, 3.32767628e-05, 3.49406010e-05, 3.51905400e-05,\n",
       "        3.54952137e-05, 3.60313301e-05, 3.71086325e-05, 3.77136645e-05,\n",
       "        3.80305861e-05, 3.87618187e-05, 3.90464231e-05, 4.00923867e-05,\n",
       "        4.10158456e-05, 4.13582624e-05, 4.15959535e-05, 4.23522436e-05,\n",
       "        4.27844094e-05, 4.30245014e-05, 4.30767156e-05, 4.33087035e-05,\n",
       "        4.34316435e-05, 4.43690171e-05, 4.43690171e-05, 4.43690171e-05,\n",
       "        4.45750788e-05, 4.66621274e-05, 4.72285588e-05, 4.73269516e-05,\n",
       "        4.73269516e-05, 4.74193870e-05, 4.75382326e-05, 4.76462741e-05,\n",
       "        4.77213429e-05, 4.84601862e-05, 4.94623957e-05, 4.99151443e-05,\n",
       "        4.99151443e-05, 5.08605657e-05, 5.16373030e-05, 5.32428205e-05,\n",
       "        5.32428205e-05, 5.43520460e-05, 5.50948606e-05, 5.54612714e-05,\n",
       "        5.54685798e-05, 5.55873197e-05, 5.61810659e-05, 5.63145217e-05,\n",
       "        5.63436098e-05, 5.72556066e-05, 5.76461094e-05, 5.76797222e-05,\n",
       "        5.77589526e-05, 5.84407870e-05, 5.87236991e-05, 5.97536763e-05,\n",
       "        6.05032052e-05, 6.07662626e-05, 6.10073985e-05, 6.10140565e-05,\n",
       "        6.16473363e-05, 6.22406225e-05, 6.23939303e-05, 6.23939303e-05,\n",
       "        6.40325979e-05, 6.41286607e-05, 6.44847322e-05, 6.54027986e-05,\n",
       "        6.54036124e-05, 6.57468163e-05, 6.58743569e-05, 6.65535257e-05,\n",
       "        7.01599563e-05, 7.03152467e-05, 7.22216185e-05, 7.33233794e-05,\n",
       "        7.40556040e-05, 7.44710981e-05, 7.48727164e-05, 7.56761031e-05,\n",
       "        7.75573134e-05, 7.76109790e-05, 7.83923740e-05, 7.89301462e-05,\n",
       "        7.98642308e-05, 7.99858844e-05, 8.02994835e-05, 8.12826637e-05,\n",
       "        8.13371892e-05, 8.17084150e-05, 8.21460660e-05, 8.27562399e-05,\n",
       "        8.30103975e-05, 8.35047401e-05, 8.44862229e-05, 8.46870612e-05,\n",
       "        8.68089465e-05, 8.98472597e-05, 9.17082922e-05, 9.18728017e-05,\n",
       "        9.22832748e-05, 9.31749359e-05, 9.31788144e-05, 9.32108374e-05,\n",
       "        9.46539032e-05, 9.46779105e-05, 9.52729150e-05, 9.57041060e-05,\n",
       "        9.82343975e-05, 9.88330986e-05, 1.01543608e-04, 1.06358915e-04,\n",
       "        1.06870909e-04, 1.06961023e-04, 1.10175147e-04, 1.11846897e-04,\n",
       "        1.13387488e-04, 1.14388872e-04, 1.15131657e-04, 1.16541169e-04,\n",
       "        1.17176579e-04, 1.17821169e-04, 1.27064658e-04, 1.29858578e-04,\n",
       "        1.32070554e-04, 1.32399288e-04, 1.33199842e-04, 1.34391632e-04,\n",
       "        1.41365445e-04, 1.42350597e-04, 1.42670064e-04, 1.44068215e-04,\n",
       "        1.45724056e-04, 1.46261327e-04, 1.47395379e-04, 1.47645626e-04,\n",
       "        1.57524416e-04, 1.57765986e-04, 1.60428838e-04, 1.61572916e-04,\n",
       "        1.72605624e-04, 1.76922181e-04, 1.77641347e-04, 1.80340178e-04,\n",
       "        1.84498020e-04, 1.90574773e-04, 2.04290599e-04, 2.07203354e-04,\n",
       "        2.07586450e-04, 2.11157591e-04, 2.17811539e-04, 2.28935554e-04,\n",
       "        2.29035483e-04, 2.33313473e-04, 2.44301016e-04, 2.44763181e-04,\n",
       "        2.52790441e-04, 2.56528807e-04, 2.83021212e-04, 3.06536669e-04,\n",
       "        3.10781393e-04, 3.21013805e-04, 3.47898726e-04, 3.58709367e-04,\n",
       "        3.72668308e-04, 3.85743920e-04, 3.89173255e-04, 3.92305573e-04,\n",
       "        4.13158461e-04, 5.91049577e-04, 6.63446141e-04, 7.28336843e-04,\n",
       "        7.32171410e-04, 7.78705441e-04, 8.49997580e-04, 1.09225104e-03,\n",
       "        1.33964942e-03, 1.39799802e-03, 1.95774374e-03, 2.32819247e-03,\n",
       "        2.55559085e-03, 2.58905671e-03, 7.48096672e-03, 9.82812902e-03,\n",
       "        1.76628216e-02, 3.20055627e-01]),\n",
       " 'impurities': array([0.00000000e+00, 3.32068537e-05, 9.95276747e-05, 1.66020142e-04,\n",
       "        1.97712297e-04, 2.30551208e-04, 2.63563869e-04, 2.96597736e-04,\n",
       "        3.62921767e-04, 3.96088342e-04, 4.29288075e-04, 4.62502522e-04,\n",
       "        4.95742474e-04, 5.28982629e-04, 5.62229319e-04, 5.95491782e-04,\n",
       "        6.28924692e-04, 6.95348998e-04, 7.61786778e-04, 8.28368495e-04,\n",
       "        8.56099131e-04, 9.55565075e-04, 9.84682243e-04, 1.01379941e-03,\n",
       "        1.04337876e-03, 1.07363036e-03, 1.10413406e-03, 1.13463776e-03,\n",
       "        1.16606581e-03, 1.19759116e-03, 1.22911652e-03, 1.26072944e-03,\n",
       "        1.29242160e-03, 1.32411375e-03, 1.35580591e-03, 1.38763586e-03,\n",
       "        1.41952609e-03, 1.45152297e-03, 1.48356726e-03, 1.51565557e-03,\n",
       "        1.64425052e-03, 1.67641806e-03, 1.70862138e-03, 1.74082469e-03,\n",
       "        1.77315069e-03, 1.80550310e-03, 1.83785551e-03, 1.87032064e-03,\n",
       "        1.90284112e-03, 1.93540986e-03, 1.96804669e-03, 2.00081150e-03,\n",
       "        2.03357631e-03, 2.13195276e-03, 2.16479330e-03, 2.19766914e-03,\n",
       "        2.26350317e-03, 2.29643687e-03, 2.32937751e-03, 2.39526267e-03,\n",
       "        2.42822251e-03, 2.46120991e-03, 2.49421566e-03, 2.56029188e-03,\n",
       "        2.59333968e-03, 2.65947198e-03, 2.72567443e-03, 2.75878313e-03,\n",
       "        2.79189515e-03, 2.82500959e-03, 2.85815510e-03, 2.89131427e-03,\n",
       "        2.92450392e-03, 2.99090889e-03, 3.02414302e-03, 3.04078141e-03,\n",
       "        3.05741979e-03, 3.07405817e-03, 3.10779316e-03, 3.14181347e-03,\n",
       "        3.27428746e-03, 3.33133334e-03, 3.38893239e-03, 3.45346914e-03,\n",
       "        3.58344427e-03, 3.64915854e-03, 3.67134305e-03, 3.71571206e-03,\n",
       "        3.73789657e-03, 3.76008108e-03, 3.78226559e-03, 3.80445010e-03,\n",
       "        3.82663461e-03, 3.84881911e-03, 3.87100362e-03, 3.91537264e-03,\n",
       "        3.93755715e-03, 3.95974166e-03, 3.98192617e-03, 4.02629518e-03,\n",
       "        4.04847969e-03, 4.09284871e-03, 4.11503322e-03, 4.18161789e-03,\n",
       "        4.20426458e-03, 4.29501939e-03, 4.45871447e-03, 4.55525365e-03,\n",
       "        4.65279775e-03, 4.67735917e-03, 4.70231674e-03, 4.72727431e-03,\n",
       "        4.75223188e-03, 4.77718946e-03, 4.80254318e-03, 4.90416403e-03,\n",
       "        4.92997485e-03, 5.06189610e-03, 5.11504080e-03, 5.14166221e-03,\n",
       "        5.16828362e-03, 5.19490503e-03, 5.22152645e-03, 5.24814786e-03,\n",
       "        5.27476927e-03, 5.30164665e-03, 5.35572139e-03, 5.40979613e-03,\n",
       "        5.51899554e-03, 5.57411233e-03, 5.60184297e-03, 5.62957361e-03,\n",
       "        5.65730424e-03, 5.68503488e-03, 5.71276551e-03, 5.74049615e-03,\n",
       "        5.76822678e-03, 5.79659960e-03, 5.82512254e-03, 5.85364548e-03,\n",
       "        5.88216842e-03, 5.91069136e-03, 5.93921430e-03, 5.96773724e-03,\n",
       "        6.02521529e-03, 6.05402634e-03, 6.08314350e-03, 6.11226067e-03,\n",
       "        6.14137784e-03, 6.17049501e-03, 6.19961217e-03, 6.22919152e-03,\n",
       "        6.25877086e-03, 6.28835021e-03, 6.55477217e-03, 6.58452759e-03,\n",
       "        6.61440291e-03, 6.64458968e-03, 6.67509338e-03, 6.70559708e-03,\n",
       "        6.73610078e-03, 6.76660448e-03, 6.88867889e-03, 6.91920900e-03,\n",
       "        6.94981263e-03, 6.98052964e-03, 7.01142949e-03, 7.04232934e-03,\n",
       "        7.07338765e-03, 7.13550428e-03, 7.19762090e-03, 7.22881787e-03,\n",
       "        7.32240876e-03, 7.35360573e-03, 7.38481744e-03, 7.60350739e-03,\n",
       "        7.63482669e-03, 7.69761373e-03, 7.72904178e-03, 7.94910882e-03,\n",
       "        7.98063418e-03, 8.01224710e-03, 8.04386002e-03, 8.10754960e-03,\n",
       "        8.13949529e-03, 8.17144098e-03, 8.23544874e-03, 8.26749303e-03,\n",
       "        8.29966056e-03, 8.36417489e-03, 8.42876623e-03, 8.46109223e-03,\n",
       "        8.49351088e-03, 8.52603136e-03, 8.59108930e-03, 8.62369044e-03,\n",
       "        8.72151065e-03, 8.75414748e-03, 8.78681921e-03, 8.81951217e-03,\n",
       "        8.85229797e-03, 8.91789732e-03, 8.95070771e-03, 9.04950882e-03,\n",
       "        9.08244945e-03, 9.14838674e-03, 9.18147818e-03, 9.21461243e-03,\n",
       "        9.24780256e-03, 9.28107932e-03, 9.35096052e-03, 9.49172268e-03,\n",
       "        9.52721789e-03, 9.59928055e-03, 9.63638919e-03, 9.67410285e-03,\n",
       "        9.71213344e-03, 9.75089526e-03, 9.82898810e-03, 9.94926526e-03,\n",
       "        9.99028111e-03, 1.00729976e-02, 1.01145936e-02, 1.01569458e-02,\n",
       "        1.01997302e-02, 1.02427547e-02, 1.02858315e-02, 1.04157576e-02,\n",
       "        1.04591892e-02, 1.05479272e-02, 1.05922963e-02, 1.06366653e-02,\n",
       "        1.07703905e-02, 1.09570390e-02, 1.10042676e-02, 1.10515945e-02,\n",
       "        1.10989215e-02, 1.11463409e-02, 1.11938791e-02, 1.12415254e-02,\n",
       "        1.12892467e-02, 1.13377069e-02, 1.14366317e-02, 1.14865468e-02,\n",
       "        1.15364620e-02, 1.17907648e-02, 1.18940394e-02, 1.19472822e-02,\n",
       "        1.20005251e-02, 1.20548771e-02, 1.22201617e-02, 1.22756230e-02,\n",
       "        1.24974973e-02, 1.25530846e-02, 1.27778089e-02, 1.28341234e-02,\n",
       "        1.29468106e-02, 1.30040662e-02, 1.30617123e-02, 1.31193920e-02,\n",
       "        1.31771510e-02, 1.32940326e-02, 1.33527563e-02, 1.34125099e-02,\n",
       "        1.34730132e-02, 1.35337794e-02, 1.35947868e-02, 1.37778290e-02,\n",
       "        1.38394763e-02, 1.41506794e-02, 1.42130734e-02, 1.42754673e-02,\n",
       "        1.46596629e-02, 1.47237915e-02, 1.47882763e-02, 1.49190819e-02,\n",
       "        1.51152927e-02, 1.51810395e-02, 1.53786626e-02, 1.54452161e-02,\n",
       "        1.56556960e-02, 1.57260112e-02, 1.57982329e-02, 1.58715562e-02,\n",
       "        1.59456118e-02, 1.60200829e-02, 1.61698284e-02, 1.63968567e-02,\n",
       "        1.65519713e-02, 1.67071933e-02, 1.67855856e-02, 1.68645158e-02,\n",
       "        1.69443800e-02, 1.71043518e-02, 1.72649507e-02, 1.74275161e-02,\n",
       "        1.79155392e-02, 1.79972476e-02, 1.80793937e-02, 1.81621499e-02,\n",
       "        1.82451603e-02, 1.89967030e-02, 1.95036203e-02, 1.95883074e-02,\n",
       "        1.96751163e-02, 1.97649636e-02, 2.17825460e-02, 2.18744188e-02,\n",
       "        2.19667021e-02, 2.20598770e-02, 2.21530559e-02, 2.24326884e-02,\n",
       "        2.25273423e-02, 2.26220202e-02, 2.27172931e-02, 2.28129972e-02,\n",
       "        2.29112316e-02, 2.30100647e-02, 2.31116083e-02, 2.32179672e-02,\n",
       "        2.33248381e-02, 2.34317992e-02, 2.35419743e-02, 2.36538212e-02,\n",
       "        2.37672087e-02, 2.38815976e-02, 2.39967292e-02, 2.44628939e-02,\n",
       "        2.45800705e-02, 2.49335340e-02, 2.50605986e-02, 2.51904572e-02,\n",
       "        2.53225278e-02, 2.62493228e-02, 2.66489223e-02, 2.67833139e-02,\n",
       "        2.70660448e-02, 2.72083954e-02, 2.74937356e-02, 2.76378038e-02,\n",
       "        2.77835278e-02, 2.79297891e-02, 2.80771845e-02, 2.82248302e-02,\n",
       "        2.83823546e-02, 2.85401206e-02, 2.87005494e-02, 2.88621223e-02,\n",
       "        2.93799392e-02, 2.95568614e-02, 2.99121441e-02, 3.00924842e-02,\n",
       "        3.02769823e-02, 3.08487066e-02, 3.10529972e-02, 3.12602005e-02,\n",
       "        3.16753734e-02, 3.18865310e-02, 3.21043426e-02, 3.23332781e-02,\n",
       "        3.25623136e-02, 3.27956271e-02, 3.30399281e-02, 3.32846913e-02,\n",
       "        3.35374817e-02, 3.37940105e-02, 3.40770317e-02, 3.43835684e-02,\n",
       "        3.46943498e-02, 3.59784050e-02, 3.63263037e-02, 3.66850131e-02,\n",
       "        3.70576814e-02, 3.78291692e-02, 3.86075158e-02, 3.89998213e-02,\n",
       "        3.94129798e-02, 4.00040294e-02, 4.26578139e-02, 4.33861508e-02,\n",
       "        4.41183222e-02, 4.48970276e-02, 4.57470252e-02, 4.68392762e-02,\n",
       "        4.95185751e-02, 5.09165731e-02, 5.67898043e-02, 5.91179968e-02,\n",
       "        6.42291785e-02, 6.94072919e-02, 7.68882586e-02, 8.67163877e-02,\n",
       "        1.57367674e-01, 4.77423301e-01])}"
      ]
     },
     "execution_count": 35,
     "metadata": {},
     "output_type": "execute_result"
    }
   ],
   "source": [
    "path"
   ]
  },
  {
   "cell_type": "code",
   "execution_count": 36,
   "id": "7ada01bc",
   "metadata": {},
   "outputs": [],
   "source": [
    "#Plotting the score of Decision Tree models with varying CCP alpha values. This is to check which CCP alpha value gives us th ebeest score\n",
    "dt_models = []\n",
    "score = []\n",
    "for i in ccp_alpha:\n",
    "    dt_m = DecisionTreeClassifier(ccp_alpha = i)\n",
    "    dt_m.fit(xdt_train,ydt_train)\n",
    "    dt_models.append(dt_m)\n",
    "    score.append(dt_m.score(xdt_test, ydt_test))"
   ]
  },
  {
   "cell_type": "code",
   "execution_count": 37,
   "id": "2aafda2a",
   "metadata": {},
   "outputs": [
    {
     "data": {
      "text/plain": [
       "Text(0, 0.5, 'score')"
      ]
     },
     "execution_count": 37,
     "metadata": {},
     "output_type": "execute_result"
    },
    {
     "data": {
      "image/png": "[encoded data removed]",
      "text/plain": [
       "<Figure size 1440x360 with 1 Axes>"
      ]
     },
     "metadata": {
      "needs_background": "light"
     },
     "output_type": "display_data"
    }
   ],
   "source": [
    "plt.figure(figsize=(20,5))    \n",
    "plt.plot(score, 'r-+')\n",
    "plt.xlabel('iteration')\n",
    "plt.ylabel('score')"
   ]
  },
  {
   "cell_type": "code",
   "execution_count": 38,
   "id": "2de34d95",
   "metadata": {},
   "outputs": [],
   "source": [
    "train_score = [i.score(xdt_train,ydt_train) for i in dt_models]"
   ]
  },
  {
   "cell_type": "code",
   "execution_count": 39,
   "id": "c6e63ac3",
   "metadata": {},
   "outputs": [],
   "source": [
    "test_score = [i.score(xdt_test, ydt_test) for i in dt_models]"
   ]
  },
  {
   "cell_type": "code",
   "execution_count": 40,
   "id": "fc95565d",
   "metadata": {},
   "outputs": [
    {
     "data": {
      "image/png": "[encoded data removed]",
      "text/plain": [
       "<Figure size 432x288 with 1 Axes>"
      ]
     },
     "metadata": {
      "needs_background": "light"
     },
     "output_type": "display_data"
    },
    {
     "data": {
      "text/plain": [
       "<Figure size 1440x360 with 0 Axes>"
      ]
     },
     "metadata": {},
     "output_type": "display_data"
    }
   ],
   "source": [
    "#Plotting the ccp aplha values with accuracy of train and test sets\n",
    "fig, ax = plt.subplots()\n",
    "plt.figure(figsize=(20,5))\n",
    "ax.set_xlabel(\"alpha\")\n",
    "ax.set_ylabel(\"accuracy\")\n",
    "ax.set_title(\"Accuracy vs alpha for training and testing sets\")\n",
    "ax.plot(ccp_alpha, train_score, marker='o', label=\"train\",\n",
    "        drawstyle=\"steps-post\")\n",
    "ax.plot(ccp_alpha, test_score, marker='o', label=\"test\",\n",
    "        drawstyle=\"steps-post\")\n",
    "ax.legend()\n",
    "plt.show()"
   ]
  },
  {
   "cell_type": "markdown",
   "id": "c92f9f3b",
   "metadata": {},
   "source": [
    "_Here we see that the default paramter of ccp_alpha, i.e. 0, is giving us the best accuracy for the model. Hence we use the Decision Tree model with default parameters in this dataset._"
   ]
  },
  {
   "cell_type": "markdown",
   "id": "6a43a9cf",
   "metadata": {},
   "source": [
    "### Bagging"
   ]
  },
  {
   "cell_type": "code",
   "execution_count": 52,
   "id": "c08f4db2",
   "metadata": {},
   "outputs": [],
   "source": [
    "from sklearn.ensemble import BaggingClassifier"
   ]
  },
  {
   "cell_type": "code",
   "execution_count": 53,
   "id": "50749372",
   "metadata": {},
   "outputs": [],
   "source": [
    "#Using Decision Tree as the Bagging Classifier\n",
    "bag_dt = BaggingClassifier(DecisionTreeClassifier() , n_estimators=100)"
   ]
  },
  {
   "cell_type": "code",
   "execution_count": 54,
   "id": "59b8dcd0",
   "metadata": {},
   "outputs": [
    {
     "data": {
      "text/plain": [
       "BaggingClassifier(base_estimator=DecisionTreeClassifier(), n_estimators=100)"
      ]
     },
     "execution_count": 54,
     "metadata": {},
     "output_type": "execute_result"
    }
   ],
   "source": [
    "bag_dt.fit(xdt_train, ydt_train)"
   ]
  },
  {
   "cell_type": "code",
   "execution_count": 55,
   "id": "383fc60c",
   "metadata": {},
   "outputs": [
    {
     "data": {
      "text/plain": [
       "0.9915479834952748"
      ]
     },
     "execution_count": 55,
     "metadata": {},
     "output_type": "execute_result"
    }
   ],
   "source": [
    "bag_dt.score(xdt_test, ydt_test)"
   ]
  },
  {
   "cell_type": "code",
   "execution_count": 56,
   "id": "0ce0fdf1",
   "metadata": {},
   "outputs": [],
   "source": [
    "from sklearn.neighbors import KNeighborsClassifier"
   ]
  },
  {
   "cell_type": "code",
   "execution_count": 57,
   "id": "784611ae",
   "metadata": {},
   "outputs": [],
   "source": [
    "#Using KNN as the Bagging Classifier\n",
    "bag_knn = BaggingClassifier(KNeighborsClassifier(6) , n_estimators=10)"
   ]
  },
  {
   "cell_type": "code",
   "execution_count": 58,
   "id": "6c04e082",
   "metadata": {},
   "outputs": [
    {
     "data": {
      "text/plain": [
       "BaggingClassifier(base_estimator=KNeighborsClassifier(n_neighbors=6))"
      ]
     },
     "execution_count": 58,
     "metadata": {},
     "output_type": "execute_result"
    }
   ],
   "source": [
    "bag_knn.fit(x_train,y_train)"
   ]
  },
  {
   "cell_type": "code",
   "execution_count": 59,
   "id": "7320cc1a",
   "metadata": {},
   "outputs": [
    {
     "data": {
      "text/plain": [
       "0.9841607879675229"
      ]
     },
     "execution_count": 59,
     "metadata": {},
     "output_type": "execute_result"
    }
   ],
   "source": [
    "bag_knn.score(x_test, y_test)"
   ]
  },
  {
   "cell_type": "code",
   "execution_count": 86,
   "id": "44a6024f",
   "metadata": {},
   "outputs": [],
   "source": [
    "from sklearn.ensemble import RandomForestClassifier"
   ]
  },
  {
   "cell_type": "code",
   "execution_count": 62,
   "id": "d5d11eb4",
   "metadata": {},
   "outputs": [],
   "source": [
    "#Using Random Forest as the Bagging Classifier\n",
    "rf = RandomForestClassifier(n_estimators=5)"
   ]
  },
  {
   "cell_type": "code",
   "execution_count": 63,
   "id": "66827ba5",
   "metadata": {},
   "outputs": [
    {
     "data": {
      "text/plain": [
       "RandomForestClassifier(n_estimators=5)"
      ]
     },
     "execution_count": 63,
     "metadata": {},
     "output_type": "execute_result"
    }
   ],
   "source": [
    "rf.fit(xdt_train, ydt_train)"
   ]
  },
  {
   "cell_type": "code",
   "execution_count": 64,
   "id": "85b97a73",
   "metadata": {},
   "outputs": [
    {
     "data": {
      "text/plain": [
       "0.9898842007187542"
      ]
     },
     "execution_count": 64,
     "metadata": {},
     "output_type": "execute_result"
    }
   ],
   "source": [
    "rf.score(xdt_test,ydt_test)"
   ]
  },
  {
   "cell_type": "markdown",
   "id": "1a9b9a5d",
   "metadata": {},
   "source": [
    "__Here we see that using Decision Tree as a bagging classifier has given us the best score uptill now. Therefore we will use it as a final model.__ "
   ]
  },
  {
   "cell_type": "markdown",
   "id": "b1d665a4",
   "metadata": {},
   "source": [
    "## Stacking"
   ]
  },
  {
   "cell_type": "markdown",
   "id": "f8414822",
   "metadata": {},
   "source": [
    "___We will use KNN, SVC and Random Forest models for creating a stacking model. KNN and SVC outputs will be used as inputs for Random Forest model.___"
   ]
  },
  {
   "cell_type": "code",
   "execution_count": 75,
   "id": "6df9d3ef",
   "metadata": {},
   "outputs": [],
   "source": [
    "#Splitting the dataset into train and validation sets.\n",
    "train , val_train , test , val_test  = train_test_split(x,y,test_size = .50 , random_state = 30)"
   ]
  },
  {
   "cell_type": "code",
   "execution_count": 76,
   "id": "1c6c4a19",
   "metadata": {},
   "outputs": [],
   "source": [
    "#Now splitting the train set into x and y train and test sets.\n",
    "x_train , x_test , y_train, y_test = train_test_split(train ,test,random_state = 30 , test_size = .20)"
   ]
  },
  {
   "cell_type": "code",
   "execution_count": 77,
   "id": "81da9f3d",
   "metadata": {},
   "outputs": [
    {
     "data": {
      "text/plain": [
       "KNeighborsClassifier()"
      ]
     },
     "execution_count": 77,
     "metadata": {},
     "output_type": "execute_result"
    }
   ],
   "source": [
    "knn = KNeighborsClassifier()\n",
    "knn.fit(x_train,y_train)"
   ]
  },
  {
   "cell_type": "code",
   "execution_count": 78,
   "id": "6ff2ebfb",
   "metadata": {},
   "outputs": [
    {
     "name": "stderr",
     "output_type": "stream",
     "text": [
      "C:\\Users\\Manu\\anaconda3\\lib\\site-packages\\sklearn\\base.py:441: UserWarning: X does not have valid feature names, but KNeighborsClassifier was fitted with feature names\n",
      "  warnings.warn(\n"
     ]
    },
    {
     "data": {
      "text/plain": [
       "0.9801677093038733"
      ]
     },
     "execution_count": 78,
     "metadata": {},
     "output_type": "execute_result"
    }
   ],
   "source": [
    "knn.score(x_test,y_test)"
   ]
  },
  {
   "cell_type": "code",
   "execution_count": 79,
   "id": "26c60ca7",
   "metadata": {},
   "outputs": [
    {
     "data": {
      "text/plain": [
       "SVC()"
      ]
     },
     "execution_count": 79,
     "metadata": {},
     "output_type": "execute_result"
    }
   ],
   "source": [
    "svc = SVC()\n",
    "svc.fit(x_train,y_train)"
   ]
  },
  {
   "cell_type": "code",
   "execution_count": 80,
   "id": "a1a56b57",
   "metadata": {},
   "outputs": [
    {
     "data": {
      "text/plain": [
       "0.9791028883269001"
      ]
     },
     "execution_count": 80,
     "metadata": {},
     "output_type": "execute_result"
    }
   ],
   "source": [
    "svc.score(x_test,y_test)"
   ]
  },
  {
   "cell_type": "code",
   "execution_count": 90,
   "id": "ad309399",
   "metadata": {},
   "outputs": [
    {
     "name": "stderr",
     "output_type": "stream",
     "text": [
      "C:\\Users\\Manu\\anaconda3\\lib\\site-packages\\sklearn\\base.py:441: UserWarning: X does not have valid feature names, but KNeighborsClassifier was fitted with feature names\n",
      "  warnings.warn(\n"
     ]
    }
   ],
   "source": [
    "#Predicting on the validation train sets using KNN and SVC models.\n",
    "predcition_knn = knn.predict(val_train)\n",
    "prediction_svc = svc.predict(val_train)"
   ]
  },
  {
   "cell_type": "code",
   "execution_count": 91,
   "id": "ded4df7d",
   "metadata": {},
   "outputs": [],
   "source": [
    "#Putting together the KNN and SVC model outputs on validation dataset as an input for Random Forest model.\n",
    "input3 = np.column_stack((predcition_knn,prediction_svc))"
   ]
  },
  {
   "cell_type": "code",
   "execution_count": 92,
   "id": "f561d858",
   "metadata": {},
   "outputs": [],
   "source": [
    "#Using test set of validation data as dependent variable for random forest model.\n",
    "output = val_test"
   ]
  },
  {
   "cell_type": "code",
   "execution_count": 93,
   "id": "6d7e7e84",
   "metadata": {},
   "outputs": [],
   "source": [
    "rf = RandomForestClassifier()"
   ]
  },
  {
   "cell_type": "code",
   "execution_count": 94,
   "id": "794bb56a",
   "metadata": {},
   "outputs": [
    {
     "data": {
      "text/plain": [
       "RandomForestClassifier()"
      ]
     },
     "execution_count": 94,
     "metadata": {},
     "output_type": "execute_result"
    }
   ],
   "source": [
    "rf.fit(input3,output)"
   ]
  },
  {
   "cell_type": "code",
   "execution_count": 83,
   "id": "eac97642",
   "metadata": {},
   "outputs": [
    {
     "data": {
      "text/plain": [
       "array([1, 3, 3, ..., 3, 3, 3], dtype=int64)"
      ]
     },
     "execution_count": 83,
     "metadata": {},
     "output_type": "execute_result"
    }
   ],
   "source": [
    "rf.predict(input3)"
   ]
  },
  {
   "cell_type": "code",
   "execution_count": 95,
   "id": "868d740a",
   "metadata": {},
   "outputs": [
    {
     "name": "stderr",
     "output_type": "stream",
     "text": [
      "C:\\Users\\Manu\\anaconda3\\lib\\site-packages\\sklearn\\base.py:441: UserWarning: X does not have valid feature names, but KNeighborsClassifier was fitted with feature names\n",
      "  warnings.warn(\n"
     ]
    }
   ],
   "source": [
    "#We will use the prediction of knn and svc models on the test sets of training data to provide as independent variables for testing random forest model\n",
    "knn_output = knn.predict(x_test)\n",
    "svc_output = svc.predict(x_test)"
   ]
  },
  {
   "cell_type": "code",
   "execution_count": 96,
   "id": "1a1df927",
   "metadata": {},
   "outputs": [],
   "source": [
    "output_stack1 = np.column_stack ((knn_output,svc_output))"
   ]
  },
  {
   "cell_type": "code",
   "execution_count": 97,
   "id": "a671dbf3",
   "metadata": {},
   "outputs": [
    {
     "data": {
      "text/plain": [
       "array([1, 3, 3, ..., 3, 3, 3], dtype=int64)"
      ]
     },
     "execution_count": 97,
     "metadata": {},
     "output_type": "execute_result"
    }
   ],
   "source": [
    "rf.predict(output_stack1)"
   ]
  },
  {
   "cell_type": "code",
   "execution_count": 98,
   "id": "ac616417",
   "metadata": {},
   "outputs": [
    {
     "data": {
      "text/plain": [
       "0.9829628643684281"
      ]
     },
     "execution_count": 98,
     "metadata": {},
     "output_type": "execute_result"
    }
   ],
   "source": [
    "rf.score(output_stack1 , y_test)"
   ]
  },
  {
   "cell_type": "markdown",
   "id": "d754ffd0",
   "metadata": {},
   "source": [
    "___After using all the approaches, we find that Bagging Classifier of Decision Tree is the performing model. Hence we will be using it as the final model.___"
   ]
  },
  {
   "cell_type": "code",
   "execution_count": 87,
   "id": "9f8f3cda",
   "metadata": {},
   "outputs": [],
   "source": [
    "import pickle\n",
    "pickle.dump(bag_dt,open('DT_Bagging.pkl' , 'wb'))"
   ]
  }
 ],
 "metadata": {
  "kernelspec": {
   "display_name": "Python 3",
   "language": "python",
   "name": "python3"
  },
  "language_info": {
   "codemirror_mode": {
    "name": "ipython",
    "version": 3
   },
   "file_extension": ".py",
   "mimetype": "text/x-python",
   "name": "python",
   "nbconvert_exporter": "python",
   "pygments_lexer": "ipython3",
   "version": "3.8.8"
  }
 },
 "nbformat": 4,
 "nbformat_minor": 5
}
